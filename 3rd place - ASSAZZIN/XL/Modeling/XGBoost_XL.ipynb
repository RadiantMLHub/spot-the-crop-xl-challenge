{
  "nbformat": 4,
  "nbformat_minor": 5,
  "metadata": {
    "kernelspec": {
      "display_name": "Python 3",
      "language": "python",
      "name": "python3"
    },
    "language_info": {
      "codemirror_mode": {
        "name": "ipython",
        "version": 3
      },
      "file_extension": ".py",
      "mimetype": "text/x-python",
      "name": "python",
      "nbconvert_exporter": "python",
      "pygments_lexer": "ipython3",
      "version": "3.7.10"
    },
    "papermill": {
      "default_parameters": {},
      "duration": 6115.512058,
      "end_time": "2021-09-29T07:42:56.388877",
      "environment_variables": {},
      "exception": null,
      "input_path": "__notebook__.ipynb",
      "output_path": "__notebook__.ipynb",
      "parameters": {},
      "start_time": "2021-09-29T06:01:00.876819",
      "version": "2.3.3"
    },
    "colab": {
      "name": "XGBoost_XL.ipynb",
      "provenance": []
    }
  },
  "cells": [
    {
      "cell_type": "markdown",
      "metadata": {
        "id": "cb292290",
        "papermill": {
          "duration": 0.044567,
          "end_time": "2021-09-29T06:01:07.532451",
          "exception": false,
          "start_time": "2021-09-29T06:01:07.487884",
          "status": "completed"
        },
        "tags": []
      },
      "source": [
        "# SETUP"
      ],
      "id": "cb292290"
    },
    {
      "cell_type": "markdown",
      "metadata": {
        "id": "uHY3mABioICE"
      },
      "source": [
        "# NOTE: Please Run this on  Tesla P100-PCIE [ 16280 Mib ]"
      ],
      "id": "uHY3mABioICE"
    },
    {
      "cell_type": "code",
      "metadata": {
        "execution": {
          "iopub.execute_input": "2021-09-29T06:01:07.625173Z",
          "iopub.status.busy": "2021-09-29T06:01:07.623719Z",
          "iopub.status.idle": "2021-09-29T06:01:08.372375Z",
          "shell.execute_reply": "2021-09-29T06:01:08.371382Z",
          "shell.execute_reply.started": "2021-09-29T05:50:31.215009Z"
        },
        "id": "b9e622ea",
        "papermill": {
          "duration": 0.795434,
          "end_time": "2021-09-29T06:01:08.372544",
          "exception": false,
          "start_time": "2021-09-29T06:01:07.577110",
          "status": "completed"
        },
        "tags": [],
        "outputId": "f401e1db-1cc1-4e3a-e6d6-adb0a80c2272"
      },
      "source": [
        "!nvidia-smi"
      ],
      "id": "b9e622ea",
      "execution_count": null,
      "outputs": [
        {
          "name": "stdout",
          "output_type": "stream",
          "text": [
            "Wed Sep 29 06:01:08 2021       \r\n",
            "+-----------------------------------------------------------------------------+\r\n",
            "| NVIDIA-SMI 450.119.04   Driver Version: 450.119.04   CUDA Version: 11.0     |\r\n",
            "|-------------------------------+----------------------+----------------------+\r\n",
            "| GPU  Name        Persistence-M| Bus-Id        Disp.A | Volatile Uncorr. ECC |\r\n",
            "| Fan  Temp  Perf  Pwr:Usage/Cap|         Memory-Usage | GPU-Util  Compute M. |\r\n",
            "|                               |                      |               MIG M. |\r\n",
            "|===============================+======================+======================|\r\n",
            "|   0  Tesla P100-PCIE...  Off  | 00000000:00:04.0 Off |                    0 |\r\n",
            "| N/A   35C    P0    26W / 250W |      0MiB / 16280MiB |      0%      Default |\r\n",
            "|                               |                      |                  N/A |\r\n",
            "+-------------------------------+----------------------+----------------------+\r\n",
            "                                                                               \r\n",
            "+-----------------------------------------------------------------------------+\r\n",
            "| Processes:                                                                  |\r\n",
            "|  GPU   GI   CI        PID   Type   Process name                  GPU Memory |\r\n",
            "|        ID   ID                                                   Usage      |\r\n",
            "|=============================================================================|\r\n",
            "|  No running processes found                                                 |\r\n",
            "+-----------------------------------------------------------------------------+\r\n"
          ]
        }
      ]
    },
    {
      "cell_type": "code",
      "metadata": {
        "execution": {
          "iopub.execute_input": "2021-09-29T06:01:08.465051Z",
          "iopub.status.busy": "2021-09-29T06:01:08.464224Z",
          "iopub.status.idle": "2021-09-29T06:01:09.382089Z",
          "shell.execute_reply": "2021-09-29T06:01:09.380943Z",
          "shell.execute_reply.started": "2021-09-29T05:50:36.526805Z"
        },
        "id": "5e3e7223",
        "papermill": {
          "duration": 0.965063,
          "end_time": "2021-09-29T06:01:09.382269",
          "exception": false,
          "start_time": "2021-09-29T06:01:08.417206",
          "status": "completed"
        },
        "tags": [],
        "outputId": "fb4755c6-a59b-44fe-c320-816a6e5795ad"
      },
      "source": [
        "!pip install -r requirements_kaggle.txt -q"
      ],
      "id": "5e3e7223",
      "execution_count": null,
      "outputs": [
        {
          "name": "stdout",
          "output_type": "stream",
          "text": [
            "1.4.2\n"
          ]
        }
      ]
    },
    {
      "cell_type": "markdown",
      "metadata": {
        "id": "Gn1iifLDHi8e"
      },
      "source": [
        "# DATA"
      ],
      "id": "Gn1iifLDHi8e"
    },
    {
      "cell_type": "markdown",
      "metadata": {
        "id": "YMEeRKS39dRJ"
      },
      "source": [
        "> To speed up the review process , i provided the ***drive id*** of the data i've created from the Train creation folder noteboooks .\n",
        "---\n",
        "> I  also add each data drive link in the Readme Pdf file attached with this solution"
      ],
      "id": "YMEeRKS39dRJ"
    },
    {
      "cell_type": "code",
      "metadata": {
        "id": "p-tf1mzo9aYR"
      },
      "source": [
        "!pip install gdown -q"
      ],
      "id": "p-tf1mzo9aYR",
      "execution_count": null,
      "outputs": []
    },
    {
      "cell_type": "code",
      "metadata": {
        "colab": {
          "base_uri": "https://localhost:8080/"
        },
        "id": "0O4QdYxuTrtS",
        "outputId": "68a35e86-46cb-42d6-fd28-71d668d18ed0"
      },
      "source": [
        "!gdown --id 1-Q7vaYnSEMwQ3jOrm3KwkcqWNI8iEzXn\n",
        "!gdown --id 1-cl7HvhPuIywmu8lPaK6B1Qb4M6RCIxb\n",
        "!gdown --id 1hNRbtcqd9F6stMOK1xAZApDITwAjiSDJ\n",
        "!gdown --id 1-QCmWsNGREXuWArifN0nD_Sp4hJxf0tu"
      ],
      "id": "0O4QdYxuTrtS",
      "execution_count": null,
      "outputs": [
        {
          "output_type": "stream",
          "name": "stdout",
          "text": [
            "Downloading...\n",
            "From: https://drive.google.com/uc?id=1-Q7vaYnSEMwQ3jOrm3KwkcqWNI8iEzXn\n",
            "To: /content/S1TrainObs1.csv\n",
            "11.1MB [00:00, 52.0MB/s]\n",
            "Downloading...\n",
            "From: https://drive.google.com/uc?id=1-cl7HvhPuIywmu8lPaK6B1Qb4M6RCIxb\n",
            "To: /content/S1TestObs1.csv\n",
            "4.38MB [00:00, 40.8MB/s]\n",
            "Downloading...\n",
            "From: https://drive.google.com/uc?id=1hNRbtcqd9F6stMOK1xAZApDITwAjiSDJ\n",
            "To: /content/S2TrainObs1.csv\n",
            "50.0MB [00:00, 54.5MB/s]\n",
            "Downloading...\n",
            "From: https://drive.google.com/uc?id=1-QCmWsNGREXuWArifN0nD_Sp4hJxf0tu\n",
            "To: /content/S2TestObs1.csv\n",
            "20.1MB [00:00, 30.3MB/s]\n"
          ]
        }
      ]
    },
    {
      "cell_type": "code",
      "metadata": {
        "colab": {
          "base_uri": "https://localhost:8080/"
        },
        "id": "DUfWVUYeTrqw",
        "outputId": "88071906-bf0d-4df2-c9f8-43e3350ce6b6"
      },
      "source": [
        "!gdown --id 10-rLRxkX5Lyf92oM0xtUz1yaTXN3FBGO\n",
        "!gdown --id 1-9IVDUWu6lhY-DJnfzrjrJgQkafxKS8f\n",
        "!gdown --id 1-47L_1NKLeVgW1vWmqXXXCuWZ3gwZWsS\n",
        "!gdown --id 1-aO4FEtv5CF-ZOcxDSO3jGEzPcIFdxgP"
      ],
      "id": "DUfWVUYeTrqw",
      "execution_count": null,
      "outputs": [
        {
          "output_type": "stream",
          "name": "stdout",
          "text": [
            "Downloading...\n",
            "From: https://drive.google.com/uc?id=10-rLRxkX5Lyf92oM0xtUz1yaTXN3FBGO\n",
            "To: /content/S1TestObs2.csv\n",
            "4.37MB [00:00, 40.8MB/s]\n",
            "Downloading...\n",
            "From: https://drive.google.com/uc?id=1-9IVDUWu6lhY-DJnfzrjrJgQkafxKS8f\n",
            "To: /content/S1TrainObs2.csv\n",
            "11.1MB [00:00, 51.9MB/s]\n",
            "Downloading...\n",
            "From: https://drive.google.com/uc?id=1-47L_1NKLeVgW1vWmqXXXCuWZ3gwZWsS\n",
            "To: /content/S2TrainObs2.csv\n",
            "50.0MB [00:00, 107MB/s] \n",
            "Downloading...\n",
            "From: https://drive.google.com/uc?id=1-aO4FEtv5CF-ZOcxDSO3jGEzPcIFdxgP\n",
            "To: /content/S2TestObs2.csv\n",
            "20.1MB [00:00, 76.1MB/s]\n"
          ]
        }
      ]
    },
    {
      "cell_type": "code",
      "metadata": {
        "colab": {
          "base_uri": "https://localhost:8080/"
        },
        "id": "T3jQOvBbTroX",
        "outputId": "0dd34703-975b-4ef0-d3bc-1e873d47aa37"
      },
      "source": [
        "!gdown --id 1-zEJ24ORxrK-RXxxoj770VNHOnGpB0dv\n",
        "!gdown --id 1-_GnYjOVN8qUB8k1alLBnf3p8_8-GCJj\n",
        "!gdown --id 1-8J_xFgI0WKT5UXFnfH4q1KUw_KgNY37\n",
        "!gdown --id 1-a55a7N6a4SoqolPF_wI4C6Q70u_d7Hj"
      ],
      "id": "T3jQOvBbTroX",
      "execution_count": null,
      "outputs": [
        {
          "output_type": "stream",
          "name": "stdout",
          "text": [
            "Downloading...\n",
            "From: https://drive.google.com/uc?id=1-zEJ24ORxrK-RXxxoj770VNHOnGpB0dv\n",
            "To: /content/S1TestObs3.csv\n",
            "3.97MB [00:00, 62.7MB/s]\n",
            "Downloading...\n",
            "From: https://drive.google.com/uc?id=1-_GnYjOVN8qUB8k1alLBnf3p8_8-GCJj\n",
            "To: /content/S1TrainObs3.csv\n",
            "10.1MB [00:00, 47.3MB/s]\n",
            "Downloading...\n",
            "From: https://drive.google.com/uc?id=1-8J_xFgI0WKT5UXFnfH4q1KUw_KgNY37\n",
            "To: /content/S2TrainObs3.csv\n",
            "49.9MB [00:00, 95.0MB/s]\n",
            "Downloading...\n",
            "From: https://drive.google.com/uc?id=1-a55a7N6a4SoqolPF_wI4C6Q70u_d7Hj\n",
            "To: /content/S2TestObs3.csv\n",
            "20.1MB [00:00, 32.7MB/s]\n"
          ]
        }
      ]
    },
    {
      "cell_type": "code",
      "metadata": {
        "colab": {
          "base_uri": "https://localhost:8080/"
        },
        "id": "bv-t0agPTrlx",
        "outputId": "42ff1394-bb68-4c25-ba40-5068bc2c5887"
      },
      "source": [
        "!gdown --id 1-kzjYxxLepIC8slA9WryJe3ahShANXzt\n",
        "!gdown --id 1-_-Ps0FoxEWEVCrdYSrCUTLPAFK5CFcs\n",
        "!gdown --id 1-BgXQwmXqBuk_P8VtvLfdLqy83dv56Kz\n",
        "!gdown --id 1-hQGF2TNBbsy3jsGNtndmK55egbdFDjs"
      ],
      "id": "bv-t0agPTrlx",
      "execution_count": null,
      "outputs": [
        {
          "output_type": "stream",
          "name": "stdout",
          "text": [
            "Downloading...\n",
            "From: https://drive.google.com/uc?id=1-kzjYxxLepIC8slA9WryJe3ahShANXzt\n",
            "To: /content/S1TestObs4.csv\n",
            "3.28MB [00:00, 96.7MB/s]\n",
            "Downloading...\n",
            "From: https://drive.google.com/uc?id=1-_-Ps0FoxEWEVCrdYSrCUTLPAFK5CFcs\n",
            "To: /content/S1TrainObs4.csv\n",
            "8.29MB [00:00, 13.5MB/s]\n",
            "Downloading...\n",
            "From: https://drive.google.com/uc?id=1-BgXQwmXqBuk_P8VtvLfdLqy83dv56Kz\n",
            "To: /content/S2TrainObs4.csv\n",
            "46.9MB [00:00, 82.9MB/s]\n",
            "Downloading...\n",
            "From: https://drive.google.com/uc?id=1-hQGF2TNBbsy3jsGNtndmK55egbdFDjs\n",
            "To: /content/S2TestObs4.csv\n",
            "18.9MB [00:00, 88.2MB/s]\n"
          ]
        }
      ]
    },
    {
      "cell_type": "markdown",
      "metadata": {
        "id": "xTeSHzh_jypq"
      },
      "source": [
        "## LIBRARIES"
      ],
      "id": "xTeSHzh_jypq"
    },
    {
      "cell_type": "code",
      "metadata": {
        "id": "f7bnNTPzjb_s"
      },
      "source": [
        "#import necessary dependecies\n",
        "import os\n",
        "import numpy as np  \n",
        "import pandas as pd\n",
        "\n",
        "import random\n",
        "from tqdm import tqdm \n",
        "import copy\n",
        "\n",
        "\n",
        "import xgboost as xgb\n",
        "from sklearn.model_selection import StratifiedKFold\n",
        "from sklearn.metrics import log_loss\n",
        "from sklearn.preprocessing import QuantileTransformer\n",
        "\n",
        "import warnings\n",
        "warnings.filterwarnings('ignore') \n",
        "\n",
        "# fix seed\n",
        "np.random.seed(111)\n",
        "random.seed(111)"
      ],
      "id": "f7bnNTPzjb_s",
      "execution_count": null,
      "outputs": []
    },
    {
      "cell_type": "markdown",
      "metadata": {
        "id": "uftWiLyuj9Na"
      },
      "source": [
        "## Train Creation"
      ],
      "id": "uftWiLyuj9Na"
    },
    {
      "cell_type": "code",
      "metadata": {
        "id": "Qtbt64vOkTOy"
      },
      "source": [
        "def create_train():\n",
        "  train =pd.read_csv(\"S2TrainObs1.csv\" )\n",
        "  trainS1 =pd.read_csv(\"S1TrainObs1.csv\" )\n",
        "\n",
        "  train = pd.merge(train,trainS1.drop('label',axis=1),on='field_id',how='left')\n",
        "  train = train.groupby('field_id').median().reset_index().sort_values('field_id')\n",
        "  train.label = train.label.astype('int')\n",
        "  return train"
      ],
      "id": "Qtbt64vOkTOy",
      "execution_count": null,
      "outputs": []
    },
    {
      "cell_type": "code",
      "metadata": {
        "id": "PvJMVAkO-fFs"
      },
      "source": [
        "def create_test():\n",
        "  test =pd.read_csv(\"S2TestObs1.csv\" )\n",
        "  testS1 =pd.read_csv(\"S1TestObs1.csv\" )\n",
        "  return  pd.merge(test,testS1,on='field_id',how='left')"
      ],
      "id": "PvJMVAkO-fFs",
      "execution_count": null,
      "outputs": []
    },
    {
      "cell_type": "code",
      "metadata": {
        "id": "_3g9cwRp8_SF"
      },
      "source": [
        "def createObs2_train():\n",
        "  train =pd.read_csv(\"S2TrainObs2.csv\" )\n",
        "  trainS1 =pd.read_csv(\"S1TrainObs2.csv\" )\n",
        "\n",
        "  train = pd.merge(train,trainS1.drop('label',axis=1),on='field_id',how='left')\n",
        "  train = train.groupby('field_id').median().reset_index().sort_values('field_id')\n",
        "  train.label = train.label.astype('int')\n",
        "  return train"
      ],
      "id": "_3g9cwRp8_SF",
      "execution_count": null,
      "outputs": []
    },
    {
      "cell_type": "code",
      "metadata": {
        "id": "Re8kWJQWC8jK"
      },
      "source": [
        "def createObs2_test():\n",
        "  test =pd.read_csv(\"S2TestObs2.csv\" )\n",
        "  testS1 =pd.read_csv(\"S1TestObs2.csv\" )\n",
        "  return pd.merge(test,testS1,on='field_id',how='left')"
      ],
      "id": "Re8kWJQWC8jK",
      "execution_count": null,
      "outputs": []
    },
    {
      "cell_type": "code",
      "metadata": {
        "id": "OsFgaYj7Z85k"
      },
      "source": [
        "def createObs3_train():\n",
        "  train =pd.read_csv(\"S2TrainObs3.csv\" )\n",
        "  trainS1 =pd.read_csv(\"S1TrainObs3.csv\" )\n",
        "\n",
        "  train = pd.merge(train,trainS1.drop('label',axis=1),on='field_id',how='left')\n",
        "  train = train.groupby('field_id').median().reset_index().sort_values('field_id')\n",
        "  train.label = train.label.astype('int')\n",
        "  return train"
      ],
      "id": "OsFgaYj7Z85k",
      "execution_count": null,
      "outputs": []
    },
    {
      "cell_type": "code",
      "metadata": {
        "id": "D6qjVNLtZ83D"
      },
      "source": [
        "def createObs3_test():\n",
        "  test =pd.read_csv(\"S2TestObs3.csv\" )\n",
        "  testS1 =pd.read_csv(\"S1TestObs3.csv\" )\n",
        "  return pd.merge(test,testS1,on='field_id',how='left')"
      ],
      "id": "D6qjVNLtZ83D",
      "execution_count": null,
      "outputs": []
    },
    {
      "cell_type": "code",
      "metadata": {
        "id": "XGwIJQOjJnZh"
      },
      "source": [
        "def createObs4_train():\n",
        "  train =pd.read_csv(\"S2TrainObs4.csv\" )\n",
        "  trainS1 =pd.read_csv(\"S1TrainObs4.csv\" )\n",
        "\n",
        "  train = pd.merge(train,trainS1.drop('label',axis=1),on='field_id',how='left')\n",
        "  train = train.groupby('field_id').median().reset_index().sort_values('field_id')\n",
        "  train.label = train.label.astype('int')\n",
        "  return train"
      ],
      "id": "XGwIJQOjJnZh",
      "execution_count": null,
      "outputs": []
    },
    {
      "cell_type": "code",
      "metadata": {
        "id": "5LKqH411JnWz"
      },
      "source": [
        "def createObs4_test():\n",
        "  test =pd.read_csv(\"S2TestObs4.csv\" )\n",
        "  testS1 =pd.read_csv(\"S1TestObs4.csv\" )\n",
        "  return pd.merge(test,testS1,on='field_id',how='left')"
      ],
      "id": "5LKqH411JnWz",
      "execution_count": null,
      "outputs": []
    },
    {
      "cell_type": "markdown",
      "metadata": {
        "id": "-Q1U-feUYOWR"
      },
      "source": [
        "## Feature Engineering"
      ],
      "id": "-Q1U-feUYOWR"
    },
    {
      "cell_type": "code",
      "metadata": {
        "id": "9XBrmdIgYR1x"
      },
      "source": [
        "def process(T) :\n",
        "\n",
        "  # process bands\n",
        "  Bcols = T.filter(like='B').columns.tolist()\n",
        "  Vcols = T.filter(like='V').columns.tolist()\n",
        "  Obs1 = T.filter(like='Month4').columns.tolist()\n",
        "  Obs2 = T.filter(like='Month5').columns.tolist()\n",
        "  Obs3 = T.filter(like='Month6').columns.tolist()\n",
        "  Obs4 = T.filter(like='Month7').columns.tolist()\n",
        "  Obs5 = T.filter(like='Month8').columns.tolist()\n",
        "  Obs6 = T.filter(like='Month9').columns.tolist()\n",
        "  Obs7 = T.filter(like='Month10').columns.tolist()\n",
        "  Obs8 = T.filter(like='Month11').columns.tolist()\n",
        "\n",
        "\n",
        "  # vegetation indexes \n",
        "  B8cols = T.filter(like='B8_').columns.tolist()\n",
        "  B8cols = [x for x in B8cols if 'std' not in x]\n",
        "  \n",
        "  B4cols = T.filter(like='B4_').columns.tolist()\n",
        "  B4cols = [x for x in B4cols if 'std' not in x]\n",
        "\n",
        "  B3cols = T.filter(like='B3_').columns.tolist()\n",
        "  B3cols = [x for x in B3cols if 'std' not in x]\n",
        "\n",
        "  B5cols = T.filter(like='B5_').columns.tolist()\n",
        "  B5cols = [x for x in B5cols if 'std' not in x]\n",
        "\n",
        "  B3cols = T.filter(like='B3_').columns.tolist()\n",
        "  B3cols = [x for x in B3cols if 'std' not in x]\n",
        "\n",
        "  B2cols = T.filter(like='B2_').columns.tolist()\n",
        "  B2cols = [x for x in B2cols if 'std' not in x]\n",
        "\n",
        "  B7cols = T.filter(like='B7_').columns.tolist()\n",
        "  B7cols = [x for x in B7cols if 'std' not in x]\n",
        "\n",
        "  B8Acols = T.filter(like='B8A_').columns.tolist()\n",
        "  B8Acols = [x for x in B8Acols if 'std' not in x]\n",
        "\n",
        "  B6cols = T.filter(like='B6_').columns.tolist()\n",
        "  B6cols = [x for x in B6cols if 'std' not in x]\n",
        "\n",
        "  B12cols = T.filter(like='B12_').columns.tolist()\n",
        "  B12cols = [x for x in B12cols if 'std' not in x]\n",
        "\n",
        "  B11cols = T.filter(like='B11_').columns.tolist()\n",
        "  B11cols = [x for x in B11cols if 'std' not in x]\n",
        "\n",
        "  B1cols = T.filter(like='B1_').columns.tolist()\n",
        "  B1cols = [x for x in B1cols if 'std' not in x]\n",
        "\n",
        "  B9cols = T.filter(like='B9_').columns.tolist()\n",
        "  B9cols = [x for x in B9cols if 'std' not in x]\n",
        "\n",
        "  L = 0.725\n",
        "  for b1,b2 ,b3 ,b4, b5 , b6, b7, b8 ,b8a ,b9,b11,b12 in zip(B1cols,B2cols,B3cols,B4cols,B5cols,B6cols,B7cols,B8cols,B8Acols,B9cols,B11cols,B12cols) :\n",
        "    T[f'NDVI_{b8.split(\"_\")[1]}']   = ((T[b8] - T[b4]) /  (T[b8] + T[b4]))\n",
        "    T[f'SAVI_{b8.split(\"_\")[1]}']   = ((T[b8] - T[b4]) /  (T[b8] + T[b4]+L) * (1.0 + L))\n",
        "    T[f'GRNDVI_{b8.split(\"_\")[1]}'] = ((T[b8] - (T[b3]+T[b4])) /  (T[b8] + (T[b3]+T[b4])))\n",
        "    T[f'GNDVI_{b8.split(\"_\")[1]}']  = ((T[b8] - T[b3] ) /  (T[b8] + T[b3]))\n",
        "    T[f'NDRE_{b8.split(\"_\")[1]}']   = ((T[b5] - T[b4])/ (T[b5] + T[b4]))\n",
        "    T[f'EVI_{b8.split(\"_\")[1]}']    = (2.5 * (T[b8]  - T[b4] ) / ((T[b8]  + 6.0 * T[b4]  - 7.5 * T[b2]) + 1.0)).values.clip(min=-5,max=5)\n",
        "    T[f'WDRVI_{b8.split(\"_\")[1]}']  = (((8 * T[b8]) - T[b4])/ ((8* T[b8]) + T[b4]))\n",
        "    T[f'ExBlue_{b8.split(\"_\")[1]}']  = ((2 * T[b2]) - (T[b3]+T[b4]))\n",
        "    T[f'ExGreen_{b8.split(\"_\")[1]}']  = ((2 * T[b3]) - (T[b2]+T[b4]) )\n",
        "    T[f'NDRE7_{b8.split(\"_\")[1]}']   = ((T[b7] - T[b4])/ (T[b7] + T[b4]))\n",
        "    T[f'MTCI_{b8.split(\"_\")[1]}']   = ((T[b8a] - T[b6])/ (T[b7] + T[b6]))\n",
        "    T[f'VARI_{b8.split(\"_\")[1]}']   = ((T[b3] - T[b4])/ (T[b3] + T[b4] - T[b2]))\n",
        "    T[f'ARVI_{b8.split(\"_\")[1]}']   = ( ((T[b8] - T[b4])-(T[b4] - T[b2])) /  ((T[b8] + T[b4])-(T[b4] - T[b2])) )\n",
        "\n",
        "    # Bands Relations\n",
        "    T[f'b7b5_{b8.split(\"_\")[1]}']  = (T[b7] - T[b5])/ (T[b7] + T[b5])    # B7  / B5\n",
        "    T[f'b7b6_{b8.split(\"_\")[1]}']  = (T[b7] - T[b6])/ (T[b7] + T[b6])    # B7  / B6\n",
        "    T[f'b8ab5_{b8.split(\"_\")[1]}'] = (T[b8a] - T[b5])/ (T[b8a]  + T[b5]) # B8A / B5\n",
        "    T[f'b6b5_{b8.split(\"_\")[1]}']  = (T[b6] - T[b5])/ (T[b6] + T[b5])    # B6  / B5 \n",
        "    \n",
        "    # ASSAZZIN bands relations \n",
        "    T[f'b3b1_{b8.split(\"_\")[1]}']  = (T[b3] - T[b1])/ (T[b3] + T[b1])    \n",
        "    T[f'b11b8_{b8.split(\"_\")[1]}']  = (T[b11] - T[b8])/ (T[b11] + T[b8])    \n",
        "    T[f'b12b11_{b8.split(\"_\")[1]}']  = (T[b12] - T[b11])/ (T[b12] + T[b11])    \n",
        "    T[f'b3b4_{b8.split(\"_\")[1]}']  = (T[b3] - T[b4])/ (T[b3] + T[b4])    \n",
        "    T[f'b9b4_{b8.split(\"_\")[1]}']  = (T[b9] - T[b4])/ (T[b9] + T[b4])    \n",
        "    T[f'b5b3_{b8.split(\"_\")[1]}']  = (T[b5] - T[b3])/ (T[b5] + T[b3])    \n",
        "    T[f'b12b3_{b8.split(\"_\")[1]}']  = (T[b12] - T[b3])/ (T[b12] + T[b3])    \n",
        "\n",
        "    T[f'b2b1_{b8.split(\"_\")[1]}']  = (T[b2] - T[b1])/ (T[b2] + T[b1])    \n",
        "    T[f'b4b1_{b8.split(\"_\")[1]}']  = (T[b4] - T[b1])/ (T[b4] + T[b1])    \n",
        "    T[f'b11b3_{b8.split(\"_\")[1]}']  = (T[b11] - T[b3])/ (T[b11] + T[b3])    \n",
        "    \n",
        "    T[f'b12b8_{b8.split(\"_\")[1]}']  = (T[b12] - T[b8])/ (T[b12] + T[b8])    \n",
        "    T[f'b3b2_{b8.split(\"_\")[1]}']  = (T[b3] - T[b2])/ (T[b3] + T[b2])    \n",
        "    T[f'b8ab3_{b8.split(\"_\")[1]}'] = (T[b8a] - T[b3])/ (T[b8a]  + T[b3]) \n",
        "    T[f'b8ab2_{b8.split(\"_\")[1]}'] = (T[b8a] - T[b2])/ (T[b8a]  + T[b2]) \n",
        "\n",
        "    T[f'b8b1_{b8.split(\"_\")[1]}']  = (T[b8] - T[b1])/ (T[b8] + T[b1])    \n",
        "    T[f'ARVI2_{b8.split(\"_\")[1]}']   = ( ((T[b3] - T[b4])-(T[b4] - T[b2])) /  ((T[b3] + T[b4])+(T[b4] + T[b2])) )\n",
        "    T[f'ARVI3_{b8.split(\"_\")[1]}']   = ( ((T[b5] - T[b3])-(T[b3] - T[b2])) /  ((T[b5] + T[b3])+(T[b3] + T[b2])) )\n",
        "    T[f'b8b9_{b8.split(\"_\")[1]}']  = (T[b8] - T[b9])/ (T[b8] + T[b9])    \n",
        "    T[f'b3b9_{b8.split(\"_\")[1]}']  = (T[b3] - T[b9])/ (T[b3] + T[b9])    \n",
        "    T[f'b2b9_{b8.split(\"_\")[1]}']  = (T[b2] - T[b9])/ (T[b2] + T[b9])    \n",
        "\n",
        "    T[f'b12b9_{b8.split(\"_\")[1]}']  = (T[b12] - T[b9])/ (T[b12] + T[b9])    \n",
        "    T[f'b12b8_{b8.split(\"_\")[1]}']  = (T[b12] - T[b8])/ (T[b12] + T[b8])    \n",
        "\n",
        "  for col in Bcols :\n",
        "    T[col] = np.sqrt(T[col])\n",
        "  for b2 ,b3 ,b4 in zip(B2cols,B3cols,B4cols) :\n",
        "    T[f'RGB_STD_{b3.split(\"_\")[1]}'] = T[[b2,b3,b4]].std(axis=1)\n",
        "    T[f'RGB_MEAN_{b3.split(\"_\")[1]}'] = T[[b2,b3,b4]].mean(axis=1)\n",
        "\n",
        "  for col in Vcols :\n",
        "    T[col] = np.sqrt(T[col])\n",
        "\n",
        "  for col1,col2,col3,col4,col5,col6,col7,col8 in zip(Obs1,Obs2,Obs3,Obs4,Obs5,Obs6,Obs7,Obs8) :\n",
        "    T[f'{col1.split(\"_\")[0]}_std'] = T[[col1,col2,col3,col4,col5,col6,col7,col8]].std(axis=1)\n",
        "  \n",
        "  # process Vegetation indexes\n",
        "  ObsN   = T.filter(like='NDVI_').columns.tolist()\n",
        "  ObsSA  = T.filter(like='SAVI_').columns.tolist()\n",
        "  ObsCC  = T.filter(like='CCCI_').columns.tolist()\n",
        "  ObsWDR = T.filter(like='WDRVI_').columns.tolist()\n",
        "  ObsNDRE7 = T.filter(like='NDRE7_').columns.tolist()\n",
        "\n",
        "  T['NDVI_max']    = T[ObsN].max(axis=1)\n",
        "  T['NDVI_min']    = T[ObsN].min(axis=1)\n",
        "  \n",
        "  T['SAVI_max']    = T[ObsSA].max(axis=1)\n",
        "  T['SAVI_mmin']   = T[ObsSA].min(axis=1)\n",
        "\n",
        "  T['WDRVI_max']  = T[ObsWDR].max(axis=1)\n",
        "  T['WDRVI_min']  = T[ObsWDR].min(axis=1)\n",
        "\n",
        "  T['NDRE7_max']   = T[ObsNDRE7].max(axis=1)\n",
        "  T['NDRE7_min']   = T[ObsNDRE7].min(axis=1)\n",
        "\n",
        "  return T"
      ],
      "id": "9XBrmdIgYR1x",
      "execution_count": null,
      "outputs": []
    },
    {
      "cell_type": "code",
      "metadata": {
        "id": "32Lfy6wgYSJy"
      },
      "source": [
        "Train = create_train()\n",
        "Test = create_test()"
      ],
      "id": "32Lfy6wgYSJy",
      "execution_count": null,
      "outputs": []
    },
    {
      "cell_type": "code",
      "metadata": {
        "id": "HDHKr2aX-AEl"
      },
      "source": [
        "Train2 = createObs2_train()\n",
        "Test2 = createObs2_test()"
      ],
      "id": "HDHKr2aX-AEl",
      "execution_count": null,
      "outputs": []
    },
    {
      "cell_type": "code",
      "metadata": {
        "id": "bNVzQtpUaErq"
      },
      "source": [
        "Train3 = createObs3_train()\n",
        "Test3 = createObs3_test()"
      ],
      "id": "bNVzQtpUaErq",
      "execution_count": null,
      "outputs": []
    },
    {
      "cell_type": "code",
      "metadata": {
        "id": "ipVXaLYAn_jx"
      },
      "source": [
        "Train4 = createObs4_train()\n",
        "Test4 = createObs4_test()"
      ],
      "id": "ipVXaLYAn_jx",
      "execution_count": null,
      "outputs": []
    },
    {
      "cell_type": "code",
      "metadata": {
        "colab": {
          "base_uri": "https://localhost:8080/"
        },
        "id": "L_xk9xI8bKkm",
        "outputId": "ab440dc6-0298-4556-9570-f5efa2a0c712"
      },
      "source": [
        "Train.shape , Test.shape"
      ],
      "id": "L_xk9xI8bKkm",
      "execution_count": null,
      "outputs": [
        {
          "output_type": "execute_result",
          "data": {
            "text/plain": [
              "((87114, 114), (35295, 113))"
            ]
          },
          "metadata": {},
          "execution_count": 22
        }
      ]
    },
    {
      "cell_type": "code",
      "metadata": {
        "colab": {
          "base_uri": "https://localhost:8080/"
        },
        "id": "v5WuSISW-FbN",
        "outputId": "8ac7b1d0-02ea-40aa-9d58-b1fcf7dac97a"
      },
      "source": [
        "Train2.shape , Test2.shape"
      ],
      "id": "v5WuSISW-FbN",
      "execution_count": null,
      "outputs": [
        {
          "output_type": "execute_result",
          "data": {
            "text/plain": [
              "((87114, 114), (35295, 113))"
            ]
          },
          "metadata": {},
          "execution_count": 23
        }
      ]
    },
    {
      "cell_type": "code",
      "metadata": {
        "colab": {
          "base_uri": "https://localhost:8080/"
        },
        "id": "c6H1mFB-aKSi",
        "outputId": "176dbb32-3ee9-4036-9d63-cfe07945b5ac"
      },
      "source": [
        "Train3.shape , Test3.shape"
      ],
      "id": "c6H1mFB-aKSi",
      "execution_count": null,
      "outputs": [
        {
          "output_type": "execute_result",
          "data": {
            "text/plain": [
              "((87114, 114), (35295, 113))"
            ]
          },
          "metadata": {},
          "execution_count": 24
        }
      ]
    },
    {
      "cell_type": "code",
      "metadata": {
        "colab": {
          "base_uri": "https://localhost:8080/"
        },
        "id": "CNuG1YsdoCw5",
        "outputId": "85437a09-12f4-481b-f0fb-03a2909f9b1f"
      },
      "source": [
        "Train4.shape , Test4.shape"
      ],
      "id": "CNuG1YsdoCw5",
      "execution_count": null,
      "outputs": [
        {
          "output_type": "execute_result",
          "data": {
            "text/plain": [
              "((87114, 114), (35295, 113))"
            ]
          },
          "metadata": {},
          "execution_count": 25
        }
      ]
    },
    {
      "cell_type": "code",
      "metadata": {
        "id": "m1gbIDDNaWLP"
      },
      "source": [
        "Train = process(Train)\n",
        "Test = process(Test)"
      ],
      "id": "m1gbIDDNaWLP",
      "execution_count": null,
      "outputs": []
    },
    {
      "cell_type": "code",
      "metadata": {
        "id": "52M26PAW-K_c"
      },
      "source": [
        "Train2 = process(Train2)\n",
        "Test2 = process(Test2)"
      ],
      "id": "52M26PAW-K_c",
      "execution_count": null,
      "outputs": []
    },
    {
      "cell_type": "code",
      "metadata": {
        "id": "lEFdUw2IaPBW"
      },
      "source": [
        "Train3 = process(Train3)\n",
        "Test3 = process(Test3)"
      ],
      "id": "lEFdUw2IaPBW",
      "execution_count": null,
      "outputs": []
    },
    {
      "cell_type": "code",
      "metadata": {
        "id": "fMCxj5F2oNWB"
      },
      "source": [
        "Train4 = process(Train4)\n",
        "Test4 = process(Test4)"
      ],
      "id": "fMCxj5F2oNWB",
      "execution_count": null,
      "outputs": []
    },
    {
      "cell_type": "code",
      "metadata": {
        "colab": {
          "base_uri": "https://localhost:8080/"
        },
        "id": "bdLvq2V8ZWRw",
        "outputId": "ed3a80d0-0da2-4fc9-a549-a23f71d9c8ba"
      },
      "source": [
        "Train.shape , Test.shape"
      ],
      "id": "bdLvq2V8ZWRw",
      "execution_count": null,
      "outputs": [
        {
          "output_type": "execute_result",
          "data": {
            "text/plain": [
              "((87114, 456), (35295, 455))"
            ]
          },
          "metadata": {},
          "execution_count": 30
        }
      ]
    },
    {
      "cell_type": "code",
      "metadata": {
        "colab": {
          "base_uri": "https://localhost:8080/"
        },
        "id": "9wpX4WZ4-OXs",
        "outputId": "c22b4586-7aef-4519-f61e-1e84d57f48a1"
      },
      "source": [
        "Train2.shape , Test2.shape"
      ],
      "id": "9wpX4WZ4-OXs",
      "execution_count": null,
      "outputs": [
        {
          "output_type": "execute_result",
          "data": {
            "text/plain": [
              "((87114, 456), (35295, 455))"
            ]
          },
          "metadata": {},
          "execution_count": 31
        }
      ]
    },
    {
      "cell_type": "code",
      "metadata": {
        "colab": {
          "base_uri": "https://localhost:8080/"
        },
        "id": "xRcs1ov5aTfx",
        "outputId": "77720b8d-65ab-4fa4-9d92-91ab3a37607e"
      },
      "source": [
        "Train3.shape , Test3.shape"
      ],
      "id": "xRcs1ov5aTfx",
      "execution_count": null,
      "outputs": [
        {
          "output_type": "execute_result",
          "data": {
            "text/plain": [
              "((87114, 456), (35295, 455))"
            ]
          },
          "metadata": {},
          "execution_count": 32
        }
      ]
    },
    {
      "cell_type": "code",
      "metadata": {
        "colab": {
          "base_uri": "https://localhost:8080/"
        },
        "id": "mh3E288CoQqQ",
        "outputId": "c9907c9a-e8be-4fa6-a043-be7038a66908"
      },
      "source": [
        "Train4.shape , Test4.shape"
      ],
      "id": "mh3E288CoQqQ",
      "execution_count": null,
      "outputs": [
        {
          "output_type": "execute_result",
          "data": {
            "text/plain": [
              "((87114, 456), (35295, 455))"
            ]
          },
          "metadata": {},
          "execution_count": 33
        }
      ]
    },
    {
      "cell_type": "code",
      "metadata": {
        "colab": {
          "base_uri": "https://localhost:8080/"
        },
        "id": "p7buqaSQ-XFb",
        "outputId": "2fce1cef-9d80-4cad-ba66-7b3db28f398c"
      },
      "source": [
        "Train = pd.concat([Train,Train2.drop(columns=['field_id','label']),Train3.drop(columns=['field_id','label']),Train4.drop(columns=['field_id','label'])],axis=1)\n",
        "Train.shape"
      ],
      "id": "p7buqaSQ-XFb",
      "execution_count": null,
      "outputs": [
        {
          "output_type": "execute_result",
          "data": {
            "text/plain": [
              "(87114, 1818)"
            ]
          },
          "metadata": {},
          "execution_count": 34
        }
      ]
    },
    {
      "cell_type": "code",
      "metadata": {
        "id": "meCUhBwLFxU_",
        "colab": {
          "base_uri": "https://localhost:8080/"
        },
        "outputId": "d73cdb72-6384-4b7f-db41-5c14311e442c"
      },
      "source": [
        "Test = pd.concat([Test,Test2.drop(columns=['field_id']),Test3.drop(columns=['field_id'])],axis=1)\n",
        "Test = pd.merge(Test,Test4,on='field_id',how='left')\n",
        "Test.shape"
      ],
      "id": "meCUhBwLFxU_",
      "execution_count": null,
      "outputs": [
        {
          "output_type": "execute_result",
          "data": {
            "text/plain": [
              "(35295, 1817)"
            ]
          },
          "metadata": {},
          "execution_count": 35
        }
      ]
    },
    {
      "cell_type": "code",
      "metadata": {
        "colab": {
          "base_uri": "https://localhost:8080/"
        },
        "id": "gl0JVLix3oqW",
        "outputId": "0e812f48-589f-4aa1-9df8-25c9b2da3e7d"
      },
      "source": [
        "import gc ; gc.collect()"
      ],
      "id": "gl0JVLix3oqW",
      "execution_count": null,
      "outputs": [
        {
          "output_type": "execute_result",
          "data": {
            "text/plain": [
              "204"
            ]
          },
          "metadata": {},
          "execution_count": 36
        }
      ]
    },
    {
      "cell_type": "markdown",
      "metadata": {
        "id": "5f7c3852",
        "papermill": {
          "duration": 0.072491,
          "end_time": "2021-09-29T06:05:21.692965",
          "exception": false,
          "start_time": "2021-09-29T06:05:21.620474",
          "status": "completed"
        },
        "tags": []
      },
      "source": [
        "# MODELING"
      ],
      "id": "5f7c3852"
    },
    {
      "cell_type": "code",
      "metadata": {
        "execution": {
          "iopub.execute_input": "2021-09-29T06:05:21.997382Z",
          "iopub.status.busy": "2021-09-29T06:05:21.996205Z",
          "iopub.status.idle": "2021-09-29T06:05:25.424808Z",
          "shell.execute_reply": "2021-09-29T06:05:25.424265Z",
          "shell.execute_reply.started": "2021-09-29T05:55:48.193435Z"
        },
        "id": "3e7ef224",
        "papermill": {
          "duration": 3.506769,
          "end_time": "2021-09-29T06:05:25.424944",
          "exception": false,
          "start_time": "2021-09-29T06:05:21.918175",
          "status": "completed"
        },
        "tags": []
      },
      "source": [
        "X    = Train.replace(np.inf,50).drop(['field_id','label'], axis=1)\n",
        "y    = Train.label\n",
        "TEST = Test.replace(np.inf,50).drop(['field_id'], axis=1)"
      ],
      "id": "3e7ef224",
      "execution_count": null,
      "outputs": []
    },
    {
      "cell_type": "code",
      "metadata": {
        "execution": {
          "iopub.execute_input": "2021-09-29T06:05:25.573753Z",
          "iopub.status.busy": "2021-09-29T06:05:25.572923Z",
          "iopub.status.idle": "2021-09-29T06:05:25.574968Z",
          "shell.execute_reply": "2021-09-29T06:05:25.575455Z",
          "shell.execute_reply.started": "2021-09-29T05:55:51.519462Z"
        },
        "id": "f9fdfd39",
        "papermill": {
          "duration": 0.078431,
          "end_time": "2021-09-29T06:05:25.575581",
          "exception": false,
          "start_time": "2021-09-29T06:05:25.497150",
          "status": "completed"
        },
        "tags": []
      },
      "source": [
        "TEST.columns = X.columns.tolist()"
      ],
      "id": "f9fdfd39",
      "execution_count": null,
      "outputs": []
    },
    {
      "cell_type": "code",
      "metadata": {
        "execution": {
          "iopub.execute_input": "2021-09-29T06:05:25.725675Z",
          "iopub.status.busy": "2021-09-29T06:05:25.724674Z",
          "iopub.status.idle": "2021-09-29T06:06:31.522007Z",
          "shell.execute_reply": "2021-09-29T06:06:31.521343Z",
          "shell.execute_reply.started": "2021-09-29T05:55:51.527288Z"
        },
        "id": "c381b35b",
        "papermill": {
          "duration": 65.875684,
          "end_time": "2021-09-29T06:06:31.522143",
          "exception": false,
          "start_time": "2021-09-29T06:05:25.646459",
          "status": "completed"
        },
        "tags": []
      },
      "source": [
        "data = pd.concat([X,TEST])\n",
        "qt=QuantileTransformer(output_distribution=\"normal\",random_state=42)\n",
        "data= pd.DataFrame(qt.fit_transform(data),columns=X.columns)"
      ],
      "id": "c381b35b",
      "execution_count": null,
      "outputs": []
    },
    {
      "cell_type": "code",
      "metadata": {
        "execution": {
          "iopub.execute_input": "2021-09-29T06:06:31.674313Z",
          "iopub.status.busy": "2021-09-29T06:06:31.673768Z",
          "iopub.status.idle": "2021-09-29T06:06:31.676986Z",
          "shell.execute_reply": "2021-09-29T06:06:31.677366Z",
          "shell.execute_reply.started": "2021-09-29T05:56:57.322869Z"
        },
        "id": "8e824bc9",
        "papermill": {
          "duration": 0.083411,
          "end_time": "2021-09-29T06:06:31.677499",
          "exception": false,
          "start_time": "2021-09-29T06:06:31.594088",
          "status": "completed"
        },
        "tags": []
      },
      "source": [
        "X = data[:X.shape[0]].values\n",
        "TEST = data[X.shape[0]:].values"
      ],
      "id": "8e824bc9",
      "execution_count": null,
      "outputs": []
    },
    {
      "cell_type": "code",
      "metadata": {
        "execution": {
          "iopub.execute_input": "2021-09-29T06:06:31.825605Z",
          "iopub.status.busy": "2021-09-29T06:06:31.824975Z",
          "iopub.status.idle": "2021-09-29T06:06:31.827547Z",
          "shell.execute_reply": "2021-09-29T06:06:31.827949Z",
          "shell.execute_reply.started": "2021-09-29T05:56:57.333571Z"
        },
        "id": "2ff5e09d",
        "papermill": {
          "duration": 0.078449,
          "end_time": "2021-09-29T06:06:31.828070",
          "exception": false,
          "start_time": "2021-09-29T06:06:31.749621",
          "status": "completed"
        },
        "tags": [],
        "outputId": "2cf7d8ca-1fc6-4b0c-8f5b-bf2254de48c2"
      },
      "source": [
        "X.shape , TEST.shape"
      ],
      "id": "2ff5e09d",
      "execution_count": null,
      "outputs": [
        {
          "data": {
            "text/plain": [
              "((87114, 1816), (35295, 1816))"
            ]
          },
          "execution_count": 50,
          "metadata": {},
          "output_type": "execute_result"
        }
      ]
    },
    {
      "cell_type": "code",
      "metadata": {
        "execution": {
          "iopub.execute_input": "2021-09-29T06:06:31.976326Z",
          "iopub.status.busy": "2021-09-29T06:06:31.975453Z",
          "iopub.status.idle": "2021-09-29T06:06:31.977310Z",
          "shell.execute_reply": "2021-09-29T06:06:31.977757Z",
          "shell.execute_reply.started": "2021-09-29T05:56:57.345637Z"
        },
        "id": "c16e2fbd",
        "papermill": {
          "duration": 0.078367,
          "end_time": "2021-09-29T06:06:31.977886",
          "exception": false,
          "start_time": "2021-09-29T06:06:31.899519",
          "status": "completed"
        },
        "tags": []
      },
      "source": [
        "##############################################################################################################################################################################"
      ],
      "id": "c16e2fbd",
      "execution_count": null,
      "outputs": []
    },
    {
      "cell_type": "markdown",
      "metadata": {
        "id": "fb832cdd",
        "papermill": {
          "duration": 0.073515,
          "end_time": "2021-09-29T06:06:34.125976",
          "exception": false,
          "start_time": "2021-09-29T06:06:34.052461",
          "status": "completed"
        },
        "tags": []
      },
      "source": [
        "### Cross Validation"
      ],
      "id": "fb832cdd"
    },
    {
      "cell_type": "code",
      "metadata": {
        "execution": {
          "iopub.execute_input": "2021-09-29T06:06:34.285533Z",
          "iopub.status.busy": "2021-09-29T06:06:34.284640Z",
          "iopub.status.idle": "2021-09-29T06:06:34.287128Z",
          "shell.execute_reply": "2021-09-29T06:06:34.286734Z",
          "shell.execute_reply.started": "2021-09-29T05:56:59.248691Z"
        },
        "id": "15c34ac0",
        "papermill": {
          "duration": 0.088584,
          "end_time": "2021-09-29T06:06:34.287246",
          "exception": false,
          "start_time": "2021-09-29T06:06:34.198662",
          "status": "completed"
        },
        "tags": []
      },
      "source": [
        "seed = 47\n",
        "sk = StratifiedKFold(n_splits= 10,random_state=seed,shuffle=True)\n",
        "\n",
        "def DefineModel(name='lgbm') :\n",
        "  if name =='lgbm':\n",
        "    return lgb.LGBMClassifier(learning_rate = 0.1,n_estimators = 3000,\n",
        "                            objective ='multiclass',random_state = 111,\n",
        "                            num_leaves = 80,max_depth = 6,\n",
        "                            metric = 'multi_logloss',\n",
        "                            colsample_bytree = 0.5 ,\n",
        "                            bagging_freq= 5, bagging_fraction= 0.75,\n",
        "                            lambda_l2 = 100\n",
        "                            )\n",
        "  elif name =='catboost' :\n",
        "    cat_params = {\"loss_function\": \"MultiClass\",\"eval_metric\": \"MultiClass\",\"learning_rate\": 0.1,\n",
        "              \"random_seed\": 42,\"l2_leaf_reg\": 3,\"bagging_temperature\": 1, \n",
        "              \"depth\": 6,\"od_type\": \"Iter\",\"od_wait\": 50,\"thread_count\": 16,\"iterations\": 50000,\n",
        "              \"use_best_model\": True,'task_type':\"GPU\",'devices':'0:1'}\n",
        "    return CatBoostClassifier(**cat_params\n",
        "                              )\n",
        "  else :\n",
        "    return xgb.XGBClassifier(objective = 'multi:softmax',\n",
        "                             base_score = np.mean(y),eval_metric =\"mlogloss\",\n",
        "                             n_estimators = 2000,\n",
        "                             subsample= 0.75,\n",
        "                             seed=seed,random_state = seed,num_class = 9,\n",
        "                             colsample_bytree = 0.5 ,\n",
        "                             reg_lambda =100,\n",
        "                             reg_alpha = 0.5,\n",
        "                             tree_method = 'gpu_hist', grow_policy = 'lossguide',gpu_id = 0,\n",
        "                             ) \n",
        "\n",
        "def Run5fold(name,X,y,TEST) :\n",
        "  print(f'TRAINING {name}')\n",
        "  cv_score_ = 0\n",
        "  oof_preds = np.zeros((Train.shape[0],9))\n",
        "  final_predictions = np.zeros((Test.shape[0],9))\n",
        "\n",
        "  for fold, (train_idx, test_idx) in enumerate(sk.split(X,y)):\n",
        "    print()\n",
        "    print(f'######### FOLD {fold+1} / {sk.n_splits} ')\n",
        "    \n",
        "    X_train,y_train = X[train_idx,:],y[train_idx]\n",
        "    X_test,y_test   = X[test_idx,:] ,y[test_idx]\n",
        "\n",
        "    model = DefineModel(name=name)\n",
        "    model.fit(X_train,y_train,\n",
        "        eval_set = [(X_test,y_test)],\n",
        "        early_stopping_rounds  = 100,\n",
        "        verbose = 100\n",
        "    )\n",
        "    oof_prediction = model.predict_proba(X_test)\n",
        "    cv_score_ += log_loss(y_test,oof_prediction) / sk.n_splits\n",
        "    print(f'Log Loss Fold {fold} : {log_loss(y_test,oof_prediction) }')\n",
        "    oof_preds[test_idx] = oof_prediction\n",
        "\n",
        "    test_prediction = model.predict_proba(TEST)\n",
        "    final_predictions += test_prediction / sk.n_splits\n",
        "\n",
        "  return oof_preds , final_predictions"
      ],
      "id": "15c34ac0",
      "execution_count": null,
      "outputs": []
    },
    {
      "cell_type": "code",
      "metadata": {
        "execution": {
          "iopub.execute_input": "2021-09-29T06:06:34.436542Z",
          "iopub.status.busy": "2021-09-29T06:06:34.435668Z",
          "iopub.status.idle": "2021-09-29T07:42:52.456923Z",
          "shell.execute_reply": "2021-09-29T07:42:52.457829Z",
          "shell.execute_reply.started": "2021-09-29T05:56:59.264062Z"
        },
        "id": "4cedc8bb",
        "papermill": {
          "duration": 5778.098775,
          "end_time": "2021-09-29T07:42:52.458017",
          "exception": false,
          "start_time": "2021-09-29T06:06:34.359242",
          "status": "completed"
        },
        "tags": [],
        "outputId": "658a12c0-5f8d-4970-ed0a-01f371162642"
      },
      "source": [
        "oof_xgb , predictions_xgb = Run5fold(name='xgb',X=X,y=y,TEST=TEST) #9144 seconde"
      ],
      "id": "4cedc8bb",
      "execution_count": null,
      "outputs": [
        {
          "name": "stdout",
          "output_type": "stream",
          "text": [
            "TRAINING xgb\n",
            "\n",
            "######### FOLD 1 / 10 \n",
            "[0]\tvalidation_0-mlogloss:1.76960\n",
            "[100]\tvalidation_0-mlogloss:0.69505\n",
            "[200]\tvalidation_0-mlogloss:0.63739\n",
            "[300]\tvalidation_0-mlogloss:0.61574\n",
            "[400]\tvalidation_0-mlogloss:0.60633\n",
            "[500]\tvalidation_0-mlogloss:0.60425\n",
            "[600]\tvalidation_0-mlogloss:0.60487\n",
            "[617]\tvalidation_0-mlogloss:0.60526\n",
            "Log Loss Fold 0 : 0.6040012386847219\n",
            "\n",
            "######### FOLD 2 / 10 \n",
            "[0]\tvalidation_0-mlogloss:1.76870\n",
            "[100]\tvalidation_0-mlogloss:0.68322\n",
            "[200]\tvalidation_0-mlogloss:0.62315\n",
            "[300]\tvalidation_0-mlogloss:0.60031\n",
            "[400]\tvalidation_0-mlogloss:0.58999\n",
            "[500]\tvalidation_0-mlogloss:0.58653\n",
            "[600]\tvalidation_0-mlogloss:0.58600\n",
            "[639]\tvalidation_0-mlogloss:0.58642\n",
            "Log Loss Fold 1 : 0.5853966660668605\n",
            "\n",
            "######### FOLD 3 / 10 \n",
            "[0]\tvalidation_0-mlogloss:1.76148\n",
            "[100]\tvalidation_0-mlogloss:0.67218\n",
            "[200]\tvalidation_0-mlogloss:0.61483\n",
            "[300]\tvalidation_0-mlogloss:0.59153\n",
            "[400]\tvalidation_0-mlogloss:0.58117\n",
            "[500]\tvalidation_0-mlogloss:0.57657\n",
            "[600]\tvalidation_0-mlogloss:0.57655\n",
            "[664]\tvalidation_0-mlogloss:0.57690\n",
            "Log Loss Fold 2 : 0.5761176401254988\n",
            "\n",
            "######### FOLD 4 / 10 \n",
            "[0]\tvalidation_0-mlogloss:1.76488\n",
            "[100]\tvalidation_0-mlogloss:0.69398\n",
            "[200]\tvalidation_0-mlogloss:0.63804\n",
            "[300]\tvalidation_0-mlogloss:0.61865\n",
            "[400]\tvalidation_0-mlogloss:0.61077\n",
            "[500]\tvalidation_0-mlogloss:0.60788\n",
            "[600]\tvalidation_0-mlogloss:0.60897\n",
            "[613]\tvalidation_0-mlogloss:0.60928\n",
            "Log Loss Fold 3 : 0.6077533690032245\n",
            "\n",
            "######### FOLD 5 / 10 \n",
            "[0]\tvalidation_0-mlogloss:1.77220\n",
            "[100]\tvalidation_0-mlogloss:0.69262\n",
            "[200]\tvalidation_0-mlogloss:0.63188\n",
            "[300]\tvalidation_0-mlogloss:0.60543\n",
            "[400]\tvalidation_0-mlogloss:0.59256\n",
            "[500]\tvalidation_0-mlogloss:0.58786\n",
            "[600]\tvalidation_0-mlogloss:0.58734\n",
            "[657]\tvalidation_0-mlogloss:0.58811\n",
            "Log Loss Fold 4 : 0.5868613891048178\n",
            "\n",
            "######### FOLD 6 / 10 \n",
            "[0]\tvalidation_0-mlogloss:1.76650\n",
            "[100]\tvalidation_0-mlogloss:0.68405\n",
            "[200]\tvalidation_0-mlogloss:0.62346\n",
            "[300]\tvalidation_0-mlogloss:0.60004\n",
            "[400]\tvalidation_0-mlogloss:0.58966\n",
            "[500]\tvalidation_0-mlogloss:0.58544\n",
            "[600]\tvalidation_0-mlogloss:0.58452\n",
            "[673]\tvalidation_0-mlogloss:0.58540\n",
            "Log Loss Fold 5 : 0.5842998198142539\n",
            "\n",
            "######### FOLD 7 / 10 \n",
            "[0]\tvalidation_0-mlogloss:1.76828\n",
            "[100]\tvalidation_0-mlogloss:0.69272\n",
            "[200]\tvalidation_0-mlogloss:0.63292\n",
            "[300]\tvalidation_0-mlogloss:0.60935\n",
            "[400]\tvalidation_0-mlogloss:0.60052\n",
            "[500]\tvalidation_0-mlogloss:0.59782\n",
            "[591]\tvalidation_0-mlogloss:0.59990\n",
            "Log Loss Fold 6 : 0.5976912955353509\n",
            "\n",
            "######### FOLD 8 / 10 \n",
            "[0]\tvalidation_0-mlogloss:1.76463\n",
            "[100]\tvalidation_0-mlogloss:0.68558\n",
            "[200]\tvalidation_0-mlogloss:0.62800\n",
            "[300]\tvalidation_0-mlogloss:0.60589\n",
            "[400]\tvalidation_0-mlogloss:0.59756\n",
            "[500]\tvalidation_0-mlogloss:0.59491\n",
            "[600]\tvalidation_0-mlogloss:0.59510\n",
            "[631]\tvalidation_0-mlogloss:0.59600\n",
            "Log Loss Fold 7 : 0.5943410221443283\n",
            "\n",
            "######### FOLD 9 / 10 \n",
            "[0]\tvalidation_0-mlogloss:1.76421\n",
            "[100]\tvalidation_0-mlogloss:0.67425\n",
            "[200]\tvalidation_0-mlogloss:0.61561\n",
            "[300]\tvalidation_0-mlogloss:0.58946\n",
            "[400]\tvalidation_0-mlogloss:0.57864\n",
            "[500]\tvalidation_0-mlogloss:0.57425\n",
            "[600]\tvalidation_0-mlogloss:0.57425\n",
            "[650]\tvalidation_0-mlogloss:0.57545\n",
            "Log Loss Fold 8 : 0.5734040211369581\n",
            "\n",
            "######### FOLD 10 / 10 \n",
            "[0]\tvalidation_0-mlogloss:1.76916\n",
            "[100]\tvalidation_0-mlogloss:0.68762\n",
            "[200]\tvalidation_0-mlogloss:0.63084\n",
            "[300]\tvalidation_0-mlogloss:0.60553\n",
            "[400]\tvalidation_0-mlogloss:0.59702\n",
            "[500]\tvalidation_0-mlogloss:0.59523\n",
            "[581]\tvalidation_0-mlogloss:0.59602\n",
            "Log Loss Fold 9 : 0.5947218262683247\n"
          ]
        }
      ]
    },
    {
      "cell_type": "code",
      "metadata": {
        "execution": {
          "iopub.execute_input": "2021-09-29T07:42:52.660176Z",
          "iopub.status.busy": "2021-09-29T07:42:52.659243Z",
          "iopub.status.idle": "2021-09-29T07:42:52.702855Z",
          "shell.execute_reply": "2021-09-29T07:42:52.703265Z",
          "shell.execute_reply.started": "2021-09-29T06:00:06.195223Z"
        },
        "id": "8a5b0520",
        "papermill": {
          "duration": 0.147497,
          "end_time": "2021-09-29T07:42:52.703448",
          "exception": false,
          "start_time": "2021-09-29T07:42:52.555951",
          "status": "completed"
        },
        "tags": [],
        "outputId": "d551b270-ff18-498f-e123-8f385c223c17"
      },
      "source": [
        "print('XGBOOST LOG LOSS :',log_loss(y,oof_xgb)) "
      ],
      "id": "8a5b0520",
      "execution_count": null,
      "outputs": [
        {
          "name": "stdout",
          "output_type": "stream",
          "text": [
            "XGBOOST LOG LOSS : 0.5904589665469892\n"
          ]
        }
      ]
    },
    {
      "cell_type": "code",
      "metadata": {
        "execution": {
          "iopub.execute_input": "2021-09-29T07:42:53.116984Z",
          "iopub.status.busy": "2021-09-29T07:42:53.116089Z",
          "iopub.status.idle": "2021-09-29T07:42:53.134974Z",
          "shell.execute_reply": "2021-09-29T07:42:53.135517Z"
        },
        "id": "92257005",
        "papermill": {
          "duration": 0.124185,
          "end_time": "2021-09-29T07:42:53.135674",
          "exception": false,
          "start_time": "2021-09-29T07:42:53.011489",
          "status": "completed"
        },
        "tags": [],
        "outputId": "d8c5cd43-4e4c-4f24-dcbb-0bfabae58fd0"
      },
      "source": [
        "# In this part we format the DataFrame to have column names and order similar to the sample submission file. \n",
        "pred_df = pd.DataFrame(predictions_xgb) #*0.5+predictions_cat*0.5)\n",
        "pred_df = pred_df.rename(columns={\n",
        "    0:'Crop_ID_1',\n",
        "    1:'Crop_ID_2', \n",
        "    2:'Crop_ID_3',\n",
        "    3:'Crop_ID_4',\n",
        "    4:'Crop_ID_5',\n",
        "    5:'Crop_ID_6',\n",
        "    6:'Crop_ID_7',\n",
        "    7:'Crop_ID_8',\n",
        "    8:'Crop_ID_9'\n",
        "})\n",
        "pred_df['field_id'] = Test['field_id'].astype('int').values\n",
        "pred_df = pred_df[['field_id', 'Crop_ID_1', 'Crop_ID_2', 'Crop_ID_3', 'Crop_ID_4', 'Crop_ID_5', 'Crop_ID_6', 'Crop_ID_7', 'Crop_ID_8', 'Crop_ID_9']]\n",
        "pred_df.head()"
      ],
      "id": "92257005",
      "execution_count": null,
      "outputs": [
        {
          "data": {
            "text/html": [
              "<div>\n",
              "<style scoped>\n",
              "    .dataframe tbody tr th:only-of-type {\n",
              "        vertical-align: middle;\n",
              "    }\n",
              "\n",
              "    .dataframe tbody tr th {\n",
              "        vertical-align: top;\n",
              "    }\n",
              "\n",
              "    .dataframe thead th {\n",
              "        text-align: right;\n",
              "    }\n",
              "</style>\n",
              "<table border=\"1\" class=\"dataframe\">\n",
              "  <thead>\n",
              "    <tr style=\"text-align: right;\">\n",
              "      <th></th>\n",
              "      <th>field_id</th>\n",
              "      <th>Crop_ID_1</th>\n",
              "      <th>Crop_ID_2</th>\n",
              "      <th>Crop_ID_3</th>\n",
              "      <th>Crop_ID_4</th>\n",
              "      <th>Crop_ID_5</th>\n",
              "      <th>Crop_ID_6</th>\n",
              "      <th>Crop_ID_7</th>\n",
              "      <th>Crop_ID_8</th>\n",
              "      <th>Crop_ID_9</th>\n",
              "    </tr>\n",
              "  </thead>\n",
              "  <tbody>\n",
              "    <tr>\n",
              "      <th>0</th>\n",
              "      <td>30</td>\n",
              "      <td>0.047739</td>\n",
              "      <td>0.353477</td>\n",
              "      <td>0.003346</td>\n",
              "      <td>0.000026</td>\n",
              "      <td>0.109481</td>\n",
              "      <td>3.543548e-01</td>\n",
              "      <td>1.301281e-01</td>\n",
              "      <td>1.056439e-03</td>\n",
              "      <td>3.920414e-04</td>\n",
              "    </tr>\n",
              "    <tr>\n",
              "      <th>1</th>\n",
              "      <td>39</td>\n",
              "      <td>0.866878</td>\n",
              "      <td>0.092401</td>\n",
              "      <td>0.022187</td>\n",
              "      <td>0.006570</td>\n",
              "      <td>0.010279</td>\n",
              "      <td>1.566196e-03</td>\n",
              "      <td>6.935475e-05</td>\n",
              "      <td>4.368999e-05</td>\n",
              "      <td>5.865245e-06</td>\n",
              "    </tr>\n",
              "    <tr>\n",
              "      <th>2</th>\n",
              "      <td>49</td>\n",
              "      <td>0.023400</td>\n",
              "      <td>0.453448</td>\n",
              "      <td>0.001105</td>\n",
              "      <td>0.001306</td>\n",
              "      <td>0.001472</td>\n",
              "      <td>4.703945e-01</td>\n",
              "      <td>4.291718e-02</td>\n",
              "      <td>3.531716e-03</td>\n",
              "      <td>2.426325e-03</td>\n",
              "    </tr>\n",
              "    <tr>\n",
              "      <th>3</th>\n",
              "      <td>54</td>\n",
              "      <td>0.000001</td>\n",
              "      <td>0.000002</td>\n",
              "      <td>0.000013</td>\n",
              "      <td>0.999973</td>\n",
              "      <td>0.000010</td>\n",
              "      <td>4.285208e-07</td>\n",
              "      <td>4.458813e-08</td>\n",
              "      <td>2.719496e-08</td>\n",
              "      <td>3.654770e-07</td>\n",
              "    </tr>\n",
              "    <tr>\n",
              "      <th>4</th>\n",
              "      <td>56</td>\n",
              "      <td>0.754780</td>\n",
              "      <td>0.026490</td>\n",
              "      <td>0.000713</td>\n",
              "      <td>0.000304</td>\n",
              "      <td>0.001035</td>\n",
              "      <td>4.905277e-02</td>\n",
              "      <td>1.660818e-01</td>\n",
              "      <td>1.509052e-03</td>\n",
              "      <td>3.413886e-05</td>\n",
              "    </tr>\n",
              "  </tbody>\n",
              "</table>\n",
              "</div>"
            ],
            "text/plain": [
              "   field_id  Crop_ID_1  Crop_ID_2  Crop_ID_3  Crop_ID_4  Crop_ID_5  \\\n",
              "0        30   0.047739   0.353477   0.003346   0.000026   0.109481   \n",
              "1        39   0.866878   0.092401   0.022187   0.006570   0.010279   \n",
              "2        49   0.023400   0.453448   0.001105   0.001306   0.001472   \n",
              "3        54   0.000001   0.000002   0.000013   0.999973   0.000010   \n",
              "4        56   0.754780   0.026490   0.000713   0.000304   0.001035   \n",
              "\n",
              "      Crop_ID_6     Crop_ID_7     Crop_ID_8     Crop_ID_9  \n",
              "0  3.543548e-01  1.301281e-01  1.056439e-03  3.920414e-04  \n",
              "1  1.566196e-03  6.935475e-05  4.368999e-05  5.865245e-06  \n",
              "2  4.703945e-01  4.291718e-02  3.531716e-03  2.426325e-03  \n",
              "3  4.285208e-07  4.458813e-08  2.719496e-08  3.654770e-07  \n",
              "4  4.905277e-02  1.660818e-01  1.509052e-03  3.413886e-05  "
            ]
          },
          "execution_count": 57,
          "metadata": {},
          "output_type": "execute_result"
        }
      ]
    },
    {
      "cell_type": "code",
      "metadata": {
        "execution": {
          "iopub.execute_input": "2021-09-29T07:42:53.343232Z",
          "iopub.status.busy": "2021-09-29T07:42:53.342369Z",
          "iopub.status.idle": "2021-09-29T07:42:54.004630Z",
          "shell.execute_reply": "2021-09-29T07:42:54.000396Z"
        },
        "id": "a903afa6",
        "papermill": {
          "duration": 0.766006,
          "end_time": "2021-09-29T07:42:54.004805",
          "exception": false,
          "start_time": "2021-09-29T07:42:53.238799",
          "status": "completed"
        },
        "tags": []
      },
      "source": [
        "# Write the predicted probabilites to a csv for submission\n",
        "pred_df.to_csv('S1_XGBOOST.csv', index=False)"
      ],
      "id": "a903afa6",
      "execution_count": null,
      "outputs": []
    },
    {
      "cell_type": "code",
      "metadata": {
        "execution": {
          "iopub.execute_input": "2021-09-29T07:42:52.902994Z",
          "iopub.status.busy": "2021-09-29T07:42:52.902434Z",
          "iopub.status.idle": "2021-09-29T07:42:52.911666Z",
          "shell.execute_reply": "2021-09-29T07:42:52.910661Z"
        },
        "id": "b540c313",
        "papermill": {
          "duration": 0.11107,
          "end_time": "2021-09-29T07:42:52.911799",
          "exception": false,
          "start_time": "2021-09-29T07:42:52.800729",
          "status": "completed"
        },
        "tags": []
      },
      "source": [
        "np.save('S1_oof_XGBOOST.npy',oof_xgb)"
      ],
      "id": "b540c313",
      "execution_count": null,
      "outputs": []
    }
  ]
}
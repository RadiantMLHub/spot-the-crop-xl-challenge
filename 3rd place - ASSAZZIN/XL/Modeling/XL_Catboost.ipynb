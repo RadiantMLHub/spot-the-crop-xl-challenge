{
  "nbformat": 4,
  "nbformat_minor": 0,
  "metadata": {
    "colab": {
      "name": "XL_Catboost.ipynb",
      "provenance": [],
      "collapsed_sections": [],
      "machine_shape": "hm"
    },
    "kernelspec": {
      "name": "python3",
      "display_name": "Python 3"
    },
    "accelerator": "GPU"
  },
  "cells": [
    {
      "cell_type": "markdown",
      "metadata": {
        "id": "pH-5yAckjZ_c"
      },
      "source": [
        "# SETUP"
      ]
    },
    {
      "cell_type": "code",
      "metadata": {
        "id": "ziu559pP76d4",
        "colab": {
          "base_uri": "https://localhost:8080/"
        },
        "outputId": "68293f29-0d11-4771-9514-e4ea088f894b"
      },
      "source": [
        "!nvidia-smi"
      ],
      "execution_count": null,
      "outputs": [
        {
          "output_type": "stream",
          "name": "stdout",
          "text": [
            "Tue Oct  5 07:22:18 2021       \n",
            "+-----------------------------------------------------------------------------+\n",
            "| NVIDIA-SMI 470.74       Driver Version: 460.32.03    CUDA Version: 11.2     |\n",
            "|-------------------------------+----------------------+----------------------+\n",
            "| GPU  Name        Persistence-M| Bus-Id        Disp.A | Volatile Uncorr. ECC |\n",
            "| Fan  Temp  Perf  Pwr:Usage/Cap|         Memory-Usage | GPU-Util  Compute M. |\n",
            "|                               |                      |               MIG M. |\n",
            "|===============================+======================+======================|\n",
            "|   0  Tesla K80           Off  | 00000000:00:04.0 Off |                    0 |\n",
            "| N/A   46C    P8    31W / 149W |      0MiB / 11441MiB |      0%      Default |\n",
            "|                               |                      |                  N/A |\n",
            "+-------------------------------+----------------------+----------------------+\n",
            "                                                                               \n",
            "+-----------------------------------------------------------------------------+\n",
            "| Processes:                                                                  |\n",
            "|  GPU   GI   CI        PID   Type   Process name                  GPU Memory |\n",
            "|        ID   ID                                                   Usage      |\n",
            "|=============================================================================|\n",
            "|  No running processes found                                                 |\n",
            "+-----------------------------------------------------------------------------+\n"
          ]
        }
      ]
    },
    {
      "cell_type": "code",
      "metadata": {
        "id": "YwniecdJF4TT"
      },
      "source": [
        "!pip install -r requirements_colab.txt -q"
      ],
      "execution_count": null,
      "outputs": []
    },
    {
      "cell_type": "markdown",
      "metadata": {
        "id": "Gn1iifLDHi8e"
      },
      "source": [
        "# DATA"
      ]
    },
    {
      "cell_type": "markdown",
      "metadata": {
        "id": "Id4GKotB8nA5"
      },
      "source": [
        "> To speed up the review process , i provided the ***drive id*** of the data i've created from the Train creation folder noteboooks .\n",
        "---\n",
        "> I  also add each data drive link in the Readme Pdf file attached with this solution"
      ]
    },
    {
      "cell_type": "code",
      "metadata": {
        "colab": {
          "base_uri": "https://localhost:8080/"
        },
        "id": "0O4QdYxuTrtS",
        "outputId": "68a35e86-46cb-42d6-fd28-71d668d18ed0"
      },
      "source": [
        "!gdown --id 1-Q7vaYnSEMwQ3jOrm3KwkcqWNI8iEzXn\n",
        "!gdown --id 1-cl7HvhPuIywmu8lPaK6B1Qb4M6RCIxb\n",
        "!gdown --id 1hNRbtcqd9F6stMOK1xAZApDITwAjiSDJ\n",
        "!gdown --id 1-QCmWsNGREXuWArifN0nD_Sp4hJxf0tu"
      ],
      "execution_count": null,
      "outputs": [
        {
          "output_type": "stream",
          "name": "stdout",
          "text": [
            "Downloading...\n",
            "From: https://drive.google.com/uc?id=1-Q7vaYnSEMwQ3jOrm3KwkcqWNI8iEzXn\n",
            "To: /content/S1TrainObs1.csv\n",
            "11.1MB [00:00, 52.0MB/s]\n",
            "Downloading...\n",
            "From: https://drive.google.com/uc?id=1-cl7HvhPuIywmu8lPaK6B1Qb4M6RCIxb\n",
            "To: /content/S1TestObs1.csv\n",
            "4.38MB [00:00, 40.8MB/s]\n",
            "Downloading...\n",
            "From: https://drive.google.com/uc?id=1hNRbtcqd9F6stMOK1xAZApDITwAjiSDJ\n",
            "To: /content/S2TrainObs1.csv\n",
            "50.0MB [00:00, 54.5MB/s]\n",
            "Downloading...\n",
            "From: https://drive.google.com/uc?id=1-QCmWsNGREXuWArifN0nD_Sp4hJxf0tu\n",
            "To: /content/S2TestObs1.csv\n",
            "20.1MB [00:00, 30.3MB/s]\n"
          ]
        }
      ]
    },
    {
      "cell_type": "code",
      "metadata": {
        "colab": {
          "base_uri": "https://localhost:8080/"
        },
        "id": "DUfWVUYeTrqw",
        "outputId": "88071906-bf0d-4df2-c9f8-43e3350ce6b6"
      },
      "source": [
        "!gdown --id 10-rLRxkX5Lyf92oM0xtUz1yaTXN3FBGO\n",
        "!gdown --id 1-9IVDUWu6lhY-DJnfzrjrJgQkafxKS8f\n",
        "!gdown --id 1-47L_1NKLeVgW1vWmqXXXCuWZ3gwZWsS\n",
        "!gdown --id 1-aO4FEtv5CF-ZOcxDSO3jGEzPcIFdxgP"
      ],
      "execution_count": null,
      "outputs": [
        {
          "output_type": "stream",
          "name": "stdout",
          "text": [
            "Downloading...\n",
            "From: https://drive.google.com/uc?id=10-rLRxkX5Lyf92oM0xtUz1yaTXN3FBGO\n",
            "To: /content/S1TestObs2.csv\n",
            "4.37MB [00:00, 40.8MB/s]\n",
            "Downloading...\n",
            "From: https://drive.google.com/uc?id=1-9IVDUWu6lhY-DJnfzrjrJgQkafxKS8f\n",
            "To: /content/S1TrainObs2.csv\n",
            "11.1MB [00:00, 51.9MB/s]\n",
            "Downloading...\n",
            "From: https://drive.google.com/uc?id=1-47L_1NKLeVgW1vWmqXXXCuWZ3gwZWsS\n",
            "To: /content/S2TrainObs2.csv\n",
            "50.0MB [00:00, 107MB/s] \n",
            "Downloading...\n",
            "From: https://drive.google.com/uc?id=1-aO4FEtv5CF-ZOcxDSO3jGEzPcIFdxgP\n",
            "To: /content/S2TestObs2.csv\n",
            "20.1MB [00:00, 76.1MB/s]\n"
          ]
        }
      ]
    },
    {
      "cell_type": "code",
      "metadata": {
        "colab": {
          "base_uri": "https://localhost:8080/"
        },
        "id": "T3jQOvBbTroX",
        "outputId": "0dd34703-975b-4ef0-d3bc-1e873d47aa37"
      },
      "source": [
        "!gdown --id 1-zEJ24ORxrK-RXxxoj770VNHOnGpB0dv\n",
        "!gdown --id 1-_GnYjOVN8qUB8k1alLBnf3p8_8-GCJj\n",
        "!gdown --id 1-8J_xFgI0WKT5UXFnfH4q1KUw_KgNY37\n",
        "!gdown --id 1-a55a7N6a4SoqolPF_wI4C6Q70u_d7Hj"
      ],
      "execution_count": null,
      "outputs": [
        {
          "output_type": "stream",
          "name": "stdout",
          "text": [
            "Downloading...\n",
            "From: https://drive.google.com/uc?id=1-zEJ24ORxrK-RXxxoj770VNHOnGpB0dv\n",
            "To: /content/S1TestObs3.csv\n",
            "3.97MB [00:00, 62.7MB/s]\n",
            "Downloading...\n",
            "From: https://drive.google.com/uc?id=1-_GnYjOVN8qUB8k1alLBnf3p8_8-GCJj\n",
            "To: /content/S1TrainObs3.csv\n",
            "10.1MB [00:00, 47.3MB/s]\n",
            "Downloading...\n",
            "From: https://drive.google.com/uc?id=1-8J_xFgI0WKT5UXFnfH4q1KUw_KgNY37\n",
            "To: /content/S2TrainObs3.csv\n",
            "49.9MB [00:00, 95.0MB/s]\n",
            "Downloading...\n",
            "From: https://drive.google.com/uc?id=1-a55a7N6a4SoqolPF_wI4C6Q70u_d7Hj\n",
            "To: /content/S2TestObs3.csv\n",
            "20.1MB [00:00, 32.7MB/s]\n"
          ]
        }
      ]
    },
    {
      "cell_type": "code",
      "metadata": {
        "colab": {
          "base_uri": "https://localhost:8080/"
        },
        "id": "bv-t0agPTrlx",
        "outputId": "42ff1394-bb68-4c25-ba40-5068bc2c5887"
      },
      "source": [
        "!gdown --id 1-kzjYxxLepIC8slA9WryJe3ahShANXzt\n",
        "!gdown --id 1-_-Ps0FoxEWEVCrdYSrCUTLPAFK5CFcs\n",
        "!gdown --id 1-BgXQwmXqBuk_P8VtvLfdLqy83dv56Kz\n",
        "!gdown --id 1-hQGF2TNBbsy3jsGNtndmK55egbdFDjs"
      ],
      "execution_count": null,
      "outputs": [
        {
          "output_type": "stream",
          "name": "stdout",
          "text": [
            "Downloading...\n",
            "From: https://drive.google.com/uc?id=1-kzjYxxLepIC8slA9WryJe3ahShANXzt\n",
            "To: /content/S1TestObs4.csv\n",
            "3.28MB [00:00, 96.7MB/s]\n",
            "Downloading...\n",
            "From: https://drive.google.com/uc?id=1-_-Ps0FoxEWEVCrdYSrCUTLPAFK5CFcs\n",
            "To: /content/S1TrainObs4.csv\n",
            "8.29MB [00:00, 13.5MB/s]\n",
            "Downloading...\n",
            "From: https://drive.google.com/uc?id=1-BgXQwmXqBuk_P8VtvLfdLqy83dv56Kz\n",
            "To: /content/S2TrainObs4.csv\n",
            "46.9MB [00:00, 82.9MB/s]\n",
            "Downloading...\n",
            "From: https://drive.google.com/uc?id=1-hQGF2TNBbsy3jsGNtndmK55egbdFDjs\n",
            "To: /content/S2TestObs4.csv\n",
            "18.9MB [00:00, 88.2MB/s]\n"
          ]
        }
      ]
    },
    {
      "cell_type": "markdown",
      "metadata": {
        "id": "xTeSHzh_jypq"
      },
      "source": [
        "## LIBRARIES"
      ]
    },
    {
      "cell_type": "code",
      "metadata": {
        "id": "f7bnNTPzjb_s"
      },
      "source": [
        "#import necessary dependecies\n",
        "import os\n",
        "import numpy as np  \n",
        "import pandas as pd\n",
        "\n",
        "import random\n",
        "from tqdm import tqdm \n",
        "import copy\n",
        "\n",
        "\n",
        "from catboost import CatBoostClassifier\n",
        "from sklearn.model_selection import StratifiedKFold\n",
        "from sklearn.metrics import log_loss\n",
        "from sklearn.preprocessing import QuantileTransformer\n",
        "\n",
        "import warnings\n",
        "warnings.filterwarnings('ignore') \n",
        "\n",
        "# fix seed\n",
        "np.random.seed(111)\n",
        "random.seed(111)"
      ],
      "execution_count": null,
      "outputs": []
    },
    {
      "cell_type": "markdown",
      "metadata": {
        "id": "uftWiLyuj9Na"
      },
      "source": [
        "## Train Creation"
      ]
    },
    {
      "cell_type": "code",
      "metadata": {
        "id": "Qtbt64vOkTOy"
      },
      "source": [
        "def create_train():\n",
        "  train =pd.read_csv(\"S2TrainObs1.csv\" )\n",
        "  trainS1 =pd.read_csv(\"S1TrainObs1.csv\" )\n",
        "\n",
        "  train = pd.merge(train,trainS1.drop('label',axis=1),on='field_id',how='left')\n",
        "  train = train.groupby('field_id').median().reset_index().sort_values('field_id')\n",
        "  train.label = train.label.astype('int')\n",
        "  return train"
      ],
      "execution_count": null,
      "outputs": []
    },
    {
      "cell_type": "code",
      "metadata": {
        "id": "PvJMVAkO-fFs"
      },
      "source": [
        "def create_test():\n",
        "  test =pd.read_csv(\"S2TestObs1.csv\" )\n",
        "  testS1 =pd.read_csv(\"S1TestObs1.csv\" )\n",
        "  return  pd.merge(test,testS1,on='field_id',how='left')"
      ],
      "execution_count": null,
      "outputs": []
    },
    {
      "cell_type": "code",
      "metadata": {
        "id": "_3g9cwRp8_SF"
      },
      "source": [
        "def createObs2_train():\n",
        "  train =pd.read_csv(\"S2TrainObs2.csv\" )\n",
        "  trainS1 =pd.read_csv(\"S1TrainObs2.csv\" )\n",
        "\n",
        "  train = pd.merge(train,trainS1.drop('label',axis=1),on='field_id',how='left')\n",
        "  train = train.groupby('field_id').median().reset_index().sort_values('field_id')\n",
        "  train.label = train.label.astype('int')\n",
        "  return train"
      ],
      "execution_count": null,
      "outputs": []
    },
    {
      "cell_type": "code",
      "metadata": {
        "id": "Re8kWJQWC8jK"
      },
      "source": [
        "def createObs2_test():\n",
        "  test =pd.read_csv(\"S2TestObs2.csv\" )\n",
        "  testS1 =pd.read_csv(\"S1TestObs2.csv\" )\n",
        "  return pd.merge(test,testS1,on='field_id',how='left')"
      ],
      "execution_count": null,
      "outputs": []
    },
    {
      "cell_type": "code",
      "metadata": {
        "id": "OsFgaYj7Z85k"
      },
      "source": [
        "def createObs3_train():\n",
        "  train =pd.read_csv(\"S2TrainObs3.csv\" )\n",
        "  trainS1 =pd.read_csv(\"S1TrainObs3.csv\" )\n",
        "\n",
        "  train = pd.merge(train,trainS1.drop('label',axis=1),on='field_id',how='left')\n",
        "  train = train.groupby('field_id').median().reset_index().sort_values('field_id')\n",
        "  train.label = train.label.astype('int')\n",
        "  return train"
      ],
      "execution_count": null,
      "outputs": []
    },
    {
      "cell_type": "code",
      "metadata": {
        "id": "D6qjVNLtZ83D"
      },
      "source": [
        "def createObs3_test():\n",
        "  test =pd.read_csv(\"S2TestObs3.csv\" )\n",
        "  testS1 =pd.read_csv(\"S1TestObs3.csv\" )\n",
        "  return pd.merge(test,testS1,on='field_id',how='left')"
      ],
      "execution_count": null,
      "outputs": []
    },
    {
      "cell_type": "code",
      "metadata": {
        "id": "XGwIJQOjJnZh"
      },
      "source": [
        "def createObs4_train():\n",
        "  train =pd.read_csv(\"S2TrainObs4.csv\" )\n",
        "  trainS1 =pd.read_csv(\"S1TrainObs4.csv\" )\n",
        "\n",
        "  train = pd.merge(train,trainS1.drop('label',axis=1),on='field_id',how='left')\n",
        "  train = train.groupby('field_id').median().reset_index().sort_values('field_id')\n",
        "  train.label = train.label.astype('int')\n",
        "  return train"
      ],
      "execution_count": null,
      "outputs": []
    },
    {
      "cell_type": "code",
      "metadata": {
        "id": "5LKqH411JnWz"
      },
      "source": [
        "def createObs4_test():\n",
        "  test =pd.read_csv(\"S2TestObs4.csv\" )\n",
        "  testS1 =pd.read_csv(\"S1TestObs4.csv\" )\n",
        "  return pd.merge(test,testS1,on='field_id',how='left')"
      ],
      "execution_count": null,
      "outputs": []
    },
    {
      "cell_type": "markdown",
      "metadata": {
        "id": "-Q1U-feUYOWR"
      },
      "source": [
        "## Feature Engineering"
      ]
    },
    {
      "cell_type": "code",
      "metadata": {
        "id": "9XBrmdIgYR1x"
      },
      "source": [
        "def process(T) :\n",
        "\n",
        "  # process bands\n",
        "  Bcols = T.filter(like='B').columns.tolist()\n",
        "  Vcols = T.filter(like='V').columns.tolist()\n",
        "  Obs1 = T.filter(like='Month4').columns.tolist()\n",
        "  Obs2 = T.filter(like='Month5').columns.tolist()\n",
        "  Obs3 = T.filter(like='Month6').columns.tolist()\n",
        "  Obs4 = T.filter(like='Month7').columns.tolist()\n",
        "  Obs5 = T.filter(like='Month8').columns.tolist()\n",
        "  Obs6 = T.filter(like='Month9').columns.tolist()\n",
        "  Obs7 = T.filter(like='Month10').columns.tolist()\n",
        "  Obs8 = T.filter(like='Month11').columns.tolist()\n",
        "\n",
        "\n",
        "  # vegetation indexes \n",
        "  B8cols = T.filter(like='B8_').columns.tolist()\n",
        "  B8cols = [x for x in B8cols if 'std' not in x]\n",
        "  \n",
        "  B4cols = T.filter(like='B4_').columns.tolist()\n",
        "  B4cols = [x for x in B4cols if 'std' not in x]\n",
        "\n",
        "  B3cols = T.filter(like='B3_').columns.tolist()\n",
        "  B3cols = [x for x in B3cols if 'std' not in x]\n",
        "\n",
        "  B5cols = T.filter(like='B5_').columns.tolist()\n",
        "  B5cols = [x for x in B5cols if 'std' not in x]\n",
        "\n",
        "  B3cols = T.filter(like='B3_').columns.tolist()\n",
        "  B3cols = [x for x in B3cols if 'std' not in x]\n",
        "\n",
        "  B2cols = T.filter(like='B2_').columns.tolist()\n",
        "  B2cols = [x for x in B2cols if 'std' not in x]\n",
        "\n",
        "  B7cols = T.filter(like='B7_').columns.tolist()\n",
        "  B7cols = [x for x in B7cols if 'std' not in x]\n",
        "\n",
        "  B8Acols = T.filter(like='B8A_').columns.tolist()\n",
        "  B8Acols = [x for x in B8Acols if 'std' not in x]\n",
        "\n",
        "  B6cols = T.filter(like='B6_').columns.tolist()\n",
        "  B6cols = [x for x in B6cols if 'std' not in x]\n",
        "\n",
        "  B12cols = T.filter(like='B12_').columns.tolist()\n",
        "  B12cols = [x for x in B12cols if 'std' not in x]\n",
        "\n",
        "  B11cols = T.filter(like='B11_').columns.tolist()\n",
        "  B11cols = [x for x in B11cols if 'std' not in x]\n",
        "\n",
        "  B1cols = T.filter(like='B1_').columns.tolist()\n",
        "  B1cols = [x for x in B1cols if 'std' not in x]\n",
        "\n",
        "  B9cols = T.filter(like='B9_').columns.tolist()\n",
        "  B9cols = [x for x in B9cols if 'std' not in x]\n",
        "\n",
        "  L = 0.725\n",
        "  for b1,b2 ,b3 ,b4, b5 , b6, b7, b8 ,b8a ,b9,b11,b12 in zip(B1cols,B2cols,B3cols,B4cols,B5cols,B6cols,B7cols,B8cols,B8Acols,B9cols,B11cols,B12cols) :\n",
        "    T[f'NDVI_{b8.split(\"_\")[1]}']   = ((T[b8] - T[b4]) /  (T[b8] + T[b4]))\n",
        "    T[f'SAVI_{b8.split(\"_\")[1]}']   = ((T[b8] - T[b4]) /  (T[b8] + T[b4]+L) * (1.0 + L))\n",
        "    T[f'GRNDVI_{b8.split(\"_\")[1]}'] = ((T[b8] - (T[b3]+T[b4])) /  (T[b8] + (T[b3]+T[b4])))\n",
        "    T[f'GNDVI_{b8.split(\"_\")[1]}']  = ((T[b8] - T[b3] ) /  (T[b8] + T[b3]))\n",
        "    T[f'NDRE_{b8.split(\"_\")[1]}']   = ((T[b5] - T[b4])/ (T[b5] + T[b4]))\n",
        "    T[f'EVI_{b8.split(\"_\")[1]}']    = (2.5 * (T[b8]  - T[b4] ) / ((T[b8]  + 6.0 * T[b4]  - 7.5 * T[b2]) + 1.0)).values.clip(min=-5,max=5)\n",
        "    T[f'WDRVI_{b8.split(\"_\")[1]}']  = (((8 * T[b8]) - T[b4])/ ((8* T[b8]) + T[b4]))\n",
        "    T[f'ExBlue_{b8.split(\"_\")[1]}']  = ((2 * T[b2]) - (T[b3]+T[b4]))\n",
        "    T[f'ExGreen_{b8.split(\"_\")[1]}']  = ((2 * T[b3]) - (T[b2]+T[b4]) )\n",
        "    T[f'NDRE7_{b8.split(\"_\")[1]}']   = ((T[b7] - T[b4])/ (T[b7] + T[b4]))\n",
        "    T[f'MTCI_{b8.split(\"_\")[1]}']   = ((T[b8a] - T[b6])/ (T[b7] + T[b6]))\n",
        "    T[f'VARI_{b8.split(\"_\")[1]}']   = ((T[b3] - T[b4])/ (T[b3] + T[b4] - T[b2]))\n",
        "    T[f'ARVI_{b8.split(\"_\")[1]}']   = ( ((T[b8] - T[b4])-(T[b4] - T[b2])) /  ((T[b8] + T[b4])-(T[b4] - T[b2])) )\n",
        "\n",
        "    # Bands Relations\n",
        "    T[f'b7b5_{b8.split(\"_\")[1]}']  = (T[b7] - T[b5])/ (T[b7] + T[b5])    # B7  / B5\n",
        "    T[f'b7b6_{b8.split(\"_\")[1]}']  = (T[b7] - T[b6])/ (T[b7] + T[b6])    # B7  / B6\n",
        "    T[f'b8ab5_{b8.split(\"_\")[1]}'] = (T[b8a] - T[b5])/ (T[b8a]  + T[b5]) # B8A / B5\n",
        "    T[f'b6b5_{b8.split(\"_\")[1]}']  = (T[b6] - T[b5])/ (T[b6] + T[b5])    # B6  / B5 \n",
        "    \n",
        "    # ASSAZZIN bands relations \n",
        "    T[f'b3b1_{b8.split(\"_\")[1]}']  = (T[b3] - T[b1])/ (T[b3] + T[b1])    \n",
        "    T[f'b11b8_{b8.split(\"_\")[1]}']  = (T[b11] - T[b8])/ (T[b11] + T[b8])    \n",
        "    T[f'b12b11_{b8.split(\"_\")[1]}']  = (T[b12] - T[b11])/ (T[b12] + T[b11])    \n",
        "    T[f'b3b4_{b8.split(\"_\")[1]}']  = (T[b3] - T[b4])/ (T[b3] + T[b4])    \n",
        "    T[f'b9b4_{b8.split(\"_\")[1]}']  = (T[b9] - T[b4])/ (T[b9] + T[b4])    \n",
        "    T[f'b5b3_{b8.split(\"_\")[1]}']  = (T[b5] - T[b3])/ (T[b5] + T[b3])    \n",
        "    T[f'b12b3_{b8.split(\"_\")[1]}']  = (T[b12] - T[b3])/ (T[b12] + T[b3])    \n",
        "\n",
        "    T[f'b2b1_{b8.split(\"_\")[1]}']  = (T[b2] - T[b1])/ (T[b2] + T[b1])    \n",
        "    T[f'b4b1_{b8.split(\"_\")[1]}']  = (T[b4] - T[b1])/ (T[b4] + T[b1])    \n",
        "    T[f'b11b3_{b8.split(\"_\")[1]}']  = (T[b11] - T[b3])/ (T[b11] + T[b3])    \n",
        "    \n",
        "    T[f'b12b8_{b8.split(\"_\")[1]}']  = (T[b12] - T[b8])/ (T[b12] + T[b8])    \n",
        "    T[f'b3b2_{b8.split(\"_\")[1]}']  = (T[b3] - T[b2])/ (T[b3] + T[b2])    \n",
        "    T[f'b8ab3_{b8.split(\"_\")[1]}'] = (T[b8a] - T[b3])/ (T[b8a]  + T[b3]) \n",
        "    T[f'b8ab2_{b8.split(\"_\")[1]}'] = (T[b8a] - T[b2])/ (T[b8a]  + T[b2]) \n",
        "\n",
        "    T[f'b8b1_{b8.split(\"_\")[1]}']  = (T[b8] - T[b1])/ (T[b8] + T[b1])    \n",
        "    T[f'ARVI2_{b8.split(\"_\")[1]}']   = ( ((T[b3] - T[b4])-(T[b4] - T[b2])) /  ((T[b3] + T[b4])+(T[b4] + T[b2])) )\n",
        "    T[f'ARVI3_{b8.split(\"_\")[1]}']   = ( ((T[b5] - T[b3])-(T[b3] - T[b2])) /  ((T[b5] + T[b3])+(T[b3] + T[b2])) )\n",
        "    T[f'b8b9_{b8.split(\"_\")[1]}']  = (T[b8] - T[b9])/ (T[b8] + T[b9])    \n",
        "    T[f'b3b9_{b8.split(\"_\")[1]}']  = (T[b3] - T[b9])/ (T[b3] + T[b9])    \n",
        "    T[f'b2b9_{b8.split(\"_\")[1]}']  = (T[b2] - T[b9])/ (T[b2] + T[b9])    \n",
        "\n",
        "    T[f'b12b9_{b8.split(\"_\")[1]}']  = (T[b12] - T[b9])/ (T[b12] + T[b9])    \n",
        "    T[f'b12b8_{b8.split(\"_\")[1]}']  = (T[b12] - T[b8])/ (T[b12] + T[b8])    \n",
        "\n",
        "  for col in Bcols :\n",
        "    T[col] = np.sqrt(T[col])\n",
        "  for b2 ,b3 ,b4 in zip(B2cols,B3cols,B4cols) :\n",
        "    T[f'RGB_STD_{b3.split(\"_\")[1]}'] = T[[b2,b3,b4]].std(axis=1)\n",
        "    T[f'RGB_MEAN_{b3.split(\"_\")[1]}'] = T[[b2,b3,b4]].mean(axis=1)\n",
        "\n",
        "  for col in Vcols :\n",
        "    T[col] = np.sqrt(T[col])\n",
        "\n",
        "  for col1,col2,col3,col4,col5,col6,col7,col8 in zip(Obs1,Obs2,Obs3,Obs4,Obs5,Obs6,Obs7,Obs8) :\n",
        "    T[f'{col1.split(\"_\")[0]}_std'] = T[[col1,col2,col3,col4,col5,col6,col7,col8]].std(axis=1)\n",
        "  \n",
        "  # process Vegetation indexes\n",
        "  ObsN   = T.filter(like='NDVI_').columns.tolist()\n",
        "  ObsSA  = T.filter(like='SAVI_').columns.tolist()\n",
        "  ObsCC  = T.filter(like='CCCI_').columns.tolist()\n",
        "  ObsWDR = T.filter(like='WDRVI_').columns.tolist()\n",
        "  ObsNDRE7 = T.filter(like='NDRE7_').columns.tolist()\n",
        "\n",
        "  T['NDVI_max']    = T[ObsN].max(axis=1)\n",
        "  T['NDVI_min']    = T[ObsN].min(axis=1)\n",
        "  \n",
        "  T['SAVI_max']    = T[ObsSA].max(axis=1)\n",
        "  T['SAVI_mmin']   = T[ObsSA].min(axis=1)\n",
        "\n",
        "  T['WDRVI_max']  = T[ObsWDR].max(axis=1)\n",
        "  T['WDRVI_min']  = T[ObsWDR].min(axis=1)\n",
        "\n",
        "  T['NDRE7_max']   = T[ObsNDRE7].max(axis=1)\n",
        "  T['NDRE7_min']   = T[ObsNDRE7].min(axis=1)\n",
        "\n",
        "  return T"
      ],
      "execution_count": null,
      "outputs": []
    },
    {
      "cell_type": "code",
      "metadata": {
        "id": "32Lfy6wgYSJy"
      },
      "source": [
        "Train = create_train()\n",
        "Test = create_test()"
      ],
      "execution_count": null,
      "outputs": []
    },
    {
      "cell_type": "code",
      "metadata": {
        "id": "HDHKr2aX-AEl"
      },
      "source": [
        "Train2 = createObs2_train()\n",
        "Test2 = createObs2_test()"
      ],
      "execution_count": null,
      "outputs": []
    },
    {
      "cell_type": "code",
      "metadata": {
        "id": "bNVzQtpUaErq"
      },
      "source": [
        "Train3 = createObs3_train()\n",
        "Test3 = createObs3_test()"
      ],
      "execution_count": null,
      "outputs": []
    },
    {
      "cell_type": "code",
      "metadata": {
        "id": "ipVXaLYAn_jx"
      },
      "source": [
        "Train4 = createObs4_train()\n",
        "Test4 = createObs4_test()"
      ],
      "execution_count": null,
      "outputs": []
    },
    {
      "cell_type": "code",
      "metadata": {
        "colab": {
          "base_uri": "https://localhost:8080/"
        },
        "id": "L_xk9xI8bKkm",
        "outputId": "ab440dc6-0298-4556-9570-f5efa2a0c712"
      },
      "source": [
        "Train.shape , Test.shape"
      ],
      "execution_count": null,
      "outputs": [
        {
          "output_type": "execute_result",
          "data": {
            "text/plain": [
              "((87114, 114), (35295, 113))"
            ]
          },
          "metadata": {},
          "execution_count": 22
        }
      ]
    },
    {
      "cell_type": "code",
      "metadata": {
        "colab": {
          "base_uri": "https://localhost:8080/"
        },
        "id": "v5WuSISW-FbN",
        "outputId": "8ac7b1d0-02ea-40aa-9d58-b1fcf7dac97a"
      },
      "source": [
        "Train2.shape , Test2.shape"
      ],
      "execution_count": null,
      "outputs": [
        {
          "output_type": "execute_result",
          "data": {
            "text/plain": [
              "((87114, 114), (35295, 113))"
            ]
          },
          "metadata": {},
          "execution_count": 23
        }
      ]
    },
    {
      "cell_type": "code",
      "metadata": {
        "colab": {
          "base_uri": "https://localhost:8080/"
        },
        "id": "c6H1mFB-aKSi",
        "outputId": "176dbb32-3ee9-4036-9d63-cfe07945b5ac"
      },
      "source": [
        "Train3.shape , Test3.shape"
      ],
      "execution_count": null,
      "outputs": [
        {
          "output_type": "execute_result",
          "data": {
            "text/plain": [
              "((87114, 114), (35295, 113))"
            ]
          },
          "metadata": {},
          "execution_count": 24
        }
      ]
    },
    {
      "cell_type": "code",
      "metadata": {
        "colab": {
          "base_uri": "https://localhost:8080/"
        },
        "id": "CNuG1YsdoCw5",
        "outputId": "85437a09-12f4-481b-f0fb-03a2909f9b1f"
      },
      "source": [
        "Train4.shape , Test4.shape"
      ],
      "execution_count": null,
      "outputs": [
        {
          "output_type": "execute_result",
          "data": {
            "text/plain": [
              "((87114, 114), (35295, 113))"
            ]
          },
          "metadata": {},
          "execution_count": 25
        }
      ]
    },
    {
      "cell_type": "code",
      "metadata": {
        "id": "m1gbIDDNaWLP"
      },
      "source": [
        "Train = process(Train)\n",
        "Test = process(Test)"
      ],
      "execution_count": null,
      "outputs": []
    },
    {
      "cell_type": "code",
      "metadata": {
        "id": "52M26PAW-K_c"
      },
      "source": [
        "Train2 = process(Train2)\n",
        "Test2 = process(Test2)"
      ],
      "execution_count": null,
      "outputs": []
    },
    {
      "cell_type": "code",
      "metadata": {
        "id": "lEFdUw2IaPBW"
      },
      "source": [
        "Train3 = process(Train3)\n",
        "Test3 = process(Test3)"
      ],
      "execution_count": null,
      "outputs": []
    },
    {
      "cell_type": "code",
      "metadata": {
        "id": "fMCxj5F2oNWB"
      },
      "source": [
        "Train4 = process(Train4)\n",
        "Test4 = process(Test4)"
      ],
      "execution_count": null,
      "outputs": []
    },
    {
      "cell_type": "code",
      "metadata": {
        "colab": {
          "base_uri": "https://localhost:8080/"
        },
        "id": "bdLvq2V8ZWRw",
        "outputId": "ed3a80d0-0da2-4fc9-a549-a23f71d9c8ba"
      },
      "source": [
        "Train.shape , Test.shape"
      ],
      "execution_count": null,
      "outputs": [
        {
          "output_type": "execute_result",
          "data": {
            "text/plain": [
              "((87114, 456), (35295, 455))"
            ]
          },
          "metadata": {},
          "execution_count": 30
        }
      ]
    },
    {
      "cell_type": "code",
      "metadata": {
        "colab": {
          "base_uri": "https://localhost:8080/"
        },
        "id": "9wpX4WZ4-OXs",
        "outputId": "c22b4586-7aef-4519-f61e-1e84d57f48a1"
      },
      "source": [
        "Train2.shape , Test2.shape"
      ],
      "execution_count": null,
      "outputs": [
        {
          "output_type": "execute_result",
          "data": {
            "text/plain": [
              "((87114, 456), (35295, 455))"
            ]
          },
          "metadata": {},
          "execution_count": 31
        }
      ]
    },
    {
      "cell_type": "code",
      "metadata": {
        "colab": {
          "base_uri": "https://localhost:8080/"
        },
        "id": "xRcs1ov5aTfx",
        "outputId": "77720b8d-65ab-4fa4-9d92-91ab3a37607e"
      },
      "source": [
        "Train3.shape , Test3.shape"
      ],
      "execution_count": null,
      "outputs": [
        {
          "output_type": "execute_result",
          "data": {
            "text/plain": [
              "((87114, 456), (35295, 455))"
            ]
          },
          "metadata": {},
          "execution_count": 32
        }
      ]
    },
    {
      "cell_type": "code",
      "metadata": {
        "colab": {
          "base_uri": "https://localhost:8080/"
        },
        "id": "mh3E288CoQqQ",
        "outputId": "c9907c9a-e8be-4fa6-a043-be7038a66908"
      },
      "source": [
        "Train4.shape , Test4.shape"
      ],
      "execution_count": null,
      "outputs": [
        {
          "output_type": "execute_result",
          "data": {
            "text/plain": [
              "((87114, 456), (35295, 455))"
            ]
          },
          "metadata": {},
          "execution_count": 33
        }
      ]
    },
    {
      "cell_type": "code",
      "metadata": {
        "colab": {
          "base_uri": "https://localhost:8080/"
        },
        "id": "p7buqaSQ-XFb",
        "outputId": "2fce1cef-9d80-4cad-ba66-7b3db28f398c"
      },
      "source": [
        "Train = pd.concat([Train,Train2.drop(columns=['field_id','label']),Train3.drop(columns=['field_id','label']),Train4.drop(columns=['field_id','label'])],axis=1)\n",
        "Train.shape"
      ],
      "execution_count": null,
      "outputs": [
        {
          "output_type": "execute_result",
          "data": {
            "text/plain": [
              "(87114, 1818)"
            ]
          },
          "metadata": {},
          "execution_count": 34
        }
      ]
    },
    {
      "cell_type": "code",
      "metadata": {
        "id": "meCUhBwLFxU_",
        "colab": {
          "base_uri": "https://localhost:8080/"
        },
        "outputId": "d73cdb72-6384-4b7f-db41-5c14311e442c"
      },
      "source": [
        "Test = pd.concat([Test,Test2.drop(columns=['field_id']),Test3.drop(columns=['field_id'])],axis=1)\n",
        "Test = pd.merge(Test,Test4,on='field_id',how='left')\n",
        "Test.shape"
      ],
      "execution_count": null,
      "outputs": [
        {
          "output_type": "execute_result",
          "data": {
            "text/plain": [
              "(35295, 1817)"
            ]
          },
          "metadata": {},
          "execution_count": 35
        }
      ]
    },
    {
      "cell_type": "code",
      "metadata": {
        "colab": {
          "base_uri": "https://localhost:8080/"
        },
        "id": "gl0JVLix3oqW",
        "outputId": "0e812f48-589f-4aa1-9df8-25c9b2da3e7d"
      },
      "source": [
        "import gc ; gc.collect()"
      ],
      "execution_count": null,
      "outputs": [
        {
          "output_type": "execute_result",
          "data": {
            "text/plain": [
              "204"
            ]
          },
          "metadata": {},
          "execution_count": 36
        }
      ]
    },
    {
      "cell_type": "markdown",
      "metadata": {
        "id": "vY3pUT7fmECJ"
      },
      "source": [
        "# MODELING"
      ]
    },
    {
      "cell_type": "code",
      "metadata": {
        "id": "texiz981mlyZ"
      },
      "source": [
        "X    = Train.replace(np.inf,50).drop(['field_id','label'], axis=1)\n",
        "y    = Train.label\n",
        "TEST = Test.replace(np.inf,50).drop(['field_id'], axis=1)"
      ],
      "execution_count": null,
      "outputs": []
    },
    {
      "cell_type": "code",
      "metadata": {
        "id": "2v14KQIN3dT-"
      },
      "source": [
        "TEST.columns = X.columns.tolist()"
      ],
      "execution_count": null,
      "outputs": []
    },
    {
      "cell_type": "code",
      "metadata": {
        "colab": {
          "base_uri": "https://localhost:8080/"
        },
        "id": "pTKbKMW-3p6G",
        "outputId": "fa08b0e8-b096-47e9-eb36-478795cd4a12"
      },
      "source": [
        "import gc ; gc.collect()"
      ],
      "execution_count": null,
      "outputs": [
        {
          "output_type": "execute_result",
          "data": {
            "text/plain": [
              "147"
            ]
          },
          "metadata": {},
          "execution_count": 40
        }
      ]
    },
    {
      "cell_type": "code",
      "metadata": {
        "id": "l0hEhXSdh_l4"
      },
      "source": [
        "data = pd.concat([X,TEST])\n",
        "qt=QuantileTransformer(output_distribution=\"normal\",random_state=42)\n",
        "data= pd.DataFrame(qt.fit_transform(data),columns=X.columns)"
      ],
      "execution_count": null,
      "outputs": []
    },
    {
      "cell_type": "code",
      "metadata": {
        "id": "FKt1Nm9Dh_jg"
      },
      "source": [
        "X = data[:X.shape[0]].values\n",
        "TEST = data[X.shape[0]:].values"
      ],
      "execution_count": null,
      "outputs": []
    },
    {
      "cell_type": "code",
      "metadata": {
        "colab": {
          "base_uri": "https://localhost:8080/"
        },
        "id": "kpdksJiVvT0c",
        "outputId": "2e27a4e7-5940-4889-c7ea-c7c9187d4142"
      },
      "source": [
        "X.shape  , TEST.shape"
      ],
      "execution_count": null,
      "outputs": [
        {
          "output_type": "execute_result",
          "data": {
            "text/plain": [
              "((87114, 1816), (35295, 1816))"
            ]
          },
          "metadata": {},
          "execution_count": 43
        }
      ]
    },
    {
      "cell_type": "code",
      "metadata": {
        "id": "uztMxGrr4EdZ",
        "colab": {
          "base_uri": "https://localhost:8080/"
        },
        "outputId": "c342f866-2a22-42a0-9dea-73f0dad434a2"
      },
      "source": [
        "del data\n",
        "import gc ; gc.collect()"
      ],
      "execution_count": null,
      "outputs": [
        {
          "output_type": "execute_result",
          "data": {
            "text/plain": [
              "202"
            ]
          },
          "metadata": {},
          "execution_count": 44
        }
      ]
    },
    {
      "cell_type": "code",
      "metadata": {
        "id": "z0ymGuAkiBpI"
      },
      "source": [
        "##############################################################################################################################################################################"
      ],
      "execution_count": null,
      "outputs": []
    },
    {
      "cell_type": "markdown",
      "metadata": {
        "id": "hvDtMepz_qp2"
      },
      "source": [
        "### Cross Validation"
      ]
    },
    {
      "cell_type": "code",
      "metadata": {
        "id": "a6I4IjUb_2Sa"
      },
      "source": [
        "seed = 47\n",
        "sk = StratifiedKFold(n_splits= 10,random_state=seed,shuffle=True)\n",
        "\n",
        "def DefineModel(name='lgbm') :\n",
        "  if name =='lgbm':\n",
        "    return lgb.LGBMClassifier(learning_rate = 0.1,n_estimators = 3000,\n",
        "                            objective ='multiclass',random_state = 111,\n",
        "                            num_leaves = 80,max_depth = 6,\n",
        "                            metric = 'multi_logloss',\n",
        "                            colsample_bytree = 0.5 ,\n",
        "                            bagging_freq= 5, bagging_fraction= 0.75,\n",
        "                            lambda_l2 = 100\n",
        "                            )\n",
        "  elif name =='catboost' :\n",
        "    cat_params = {\"loss_function\": \"MultiClass\",\"eval_metric\": \"MultiClass\",\"learning_rate\": 0.1,\n",
        "              \"random_seed\": 42,\"l2_leaf_reg\": 3,\"bagging_temperature\": 1, \n",
        "              \"depth\": 6,\"od_type\": \"Iter\",\"od_wait\": 50,\"thread_count\": 16,\"iterations\": 50000,\n",
        "              \"use_best_model\": True,'task_type':\"GPU\",'devices':'0:1'}\n",
        "    return CatBoostClassifier(**cat_params\n",
        "                              )\n",
        "  else :\n",
        "    return xgb.XGBClassifier(objective = 'multi:softmax',\n",
        "                             base_score = np.mean(y),eval_metric =\"mlogloss\",\n",
        "                             subsample= 0.8,n_estimators = 2000,\n",
        "                             seed=seed,random_state = seed,num_class = 9,\n",
        "                             ) \n",
        "\n",
        "def Run5fold(name,X,y,TEST) :\n",
        "  print(f'TRAINING {name}')\n",
        "  cv_score_ = 0\n",
        "  oof_preds = np.zeros((Train.shape[0],9))\n",
        "  final_predictions = np.zeros((Test.shape[0],9))\n",
        "\n",
        "  for fold, (train_idx, test_idx) in enumerate(sk.split(X,y)):\n",
        "    print()\n",
        "    print(f'######### FOLD {fold+1} / {sk.n_splits} ')\n",
        "    \n",
        "    X_train,y_train = X[train_idx,:],y[train_idx]\n",
        "    X_test,y_test   = X[test_idx,:] ,y[test_idx]\n",
        "\n",
        "    model = DefineModel(name=name)\n",
        "    model.fit(X_train,y_train,\n",
        "        eval_set = [(X_test,y_test)],\n",
        "        early_stopping_rounds  = 100,\n",
        "        verbose = 100\n",
        "    )\n",
        "    oof_prediction = model.predict_proba(X_test)\n",
        "    cv_score_ += log_loss(y_test,oof_prediction) / sk.n_splits\n",
        "    print(f'Log Loss Fold {fold} : {log_loss(y_test,oof_prediction) }')\n",
        "    oof_preds[test_idx] = oof_prediction\n",
        "\n",
        "    test_prediction = model.predict_proba(TEST)\n",
        "    final_predictions += test_prediction / sk.n_splits\n",
        "\n",
        "  return oof_preds , final_predictions"
      ],
      "execution_count": null,
      "outputs": []
    },
    {
      "cell_type": "code",
      "metadata": {
        "colab": {
          "base_uri": "https://localhost:8080/"
        },
        "id": "EYjFsWwh2WJY",
        "outputId": "9e0a23dc-2c06-424e-8bd0-0ab28d29fd76"
      },
      "source": [
        "import gc ; gc.collect()"
      ],
      "execution_count": null,
      "outputs": [
        {
          "output_type": "execute_result",
          "data": {
            "text/plain": [
              "52"
            ]
          },
          "metadata": {},
          "execution_count": 57
        }
      ]
    },
    {
      "cell_type": "code",
      "metadata": {
        "id": "TCHnTDzb4wJj",
        "colab": {
          "base_uri": "https://localhost:8080/"
        },
        "outputId": "1bb89908-f02b-4e7f-dd05-8e82ec3690be"
      },
      "source": [
        "oof_cat , predictions_cat = Run5fold(name='catboost',X=X,y=y,TEST=TEST)"
      ],
      "execution_count": null,
      "outputs": [
        {
          "output_type": "stream",
          "name": "stdout",
          "text": [
            "TRAINING catboost\n",
            "\n",
            "######### FOLD 1 / 10 \n",
            "0:\tlearn: 1.9639147\ttest: 1.9645102\tbest: 1.9645102 (0)\ttotal: 347ms\tremaining: 4h 49m 21s\n",
            "100:\tlearn: 0.8896442\ttest: 0.9338306\tbest: 0.9338306 (100)\ttotal: 22.5s\tremaining: 3h 5m 5s\n",
            "200:\tlearn: 0.7908230\ttest: 0.8639118\tbest: 0.8639118 (200)\ttotal: 42.7s\tremaining: 2h 56m 22s\n",
            "300:\tlearn: 0.7281679\ttest: 0.8251471\tbest: 0.8251471 (300)\ttotal: 1m 2s\tremaining: 2h 52m 31s\n",
            "400:\tlearn: 0.6811601\ttest: 0.8000174\tbest: 0.8000174 (400)\ttotal: 1m 22s\tremaining: 2h 49m 43s\n",
            "500:\tlearn: 0.6404700\ttest: 0.7794956\tbest: 0.7794956 (500)\ttotal: 1m 41s\tremaining: 2h 47m 49s\n",
            "600:\tlearn: 0.6061764\ttest: 0.7630767\tbest: 0.7630767 (600)\ttotal: 2m 1s\tremaining: 2h 45m 59s\n",
            "700:\tlearn: 0.5760374\ttest: 0.7492378\tbest: 0.7492378 (700)\ttotal: 2m 20s\tremaining: 2h 44m 36s\n",
            "800:\tlearn: 0.5511893\ttest: 0.7384664\tbest: 0.7384664 (800)\ttotal: 2m 39s\tremaining: 2h 43m\n",
            "900:\tlearn: 0.5284904\ttest: 0.7285660\tbest: 0.7285660 (900)\ttotal: 2m 57s\tremaining: 2h 41m 39s\n",
            "1000:\tlearn: 0.5070703\ttest: 0.7197722\tbest: 0.7197722 (1000)\ttotal: 3m 16s\tremaining: 2h 40m 29s\n",
            "1100:\tlearn: 0.4862321\ttest: 0.7111480\tbest: 0.7111480 (1100)\ttotal: 3m 35s\tremaining: 2h 39m 43s\n",
            "1200:\tlearn: 0.4683422\ttest: 0.7042732\tbest: 0.7042704 (1199)\ttotal: 3m 54s\tremaining: 2h 38m 41s\n",
            "1300:\tlearn: 0.4513568\ttest: 0.6979663\tbest: 0.6979663 (1300)\ttotal: 4m 12s\tremaining: 2h 37m 49s\n",
            "1400:\tlearn: 0.4347538\ttest: 0.6920808\tbest: 0.6920808 (1400)\ttotal: 4m 31s\tremaining: 2h 36m 58s\n",
            "1500:\tlearn: 0.4195406\ttest: 0.6863691\tbest: 0.6863691 (1500)\ttotal: 4m 50s\tremaining: 2h 36m 18s\n",
            "1600:\tlearn: 0.4063292\ttest: 0.6819436\tbest: 0.6819436 (1600)\ttotal: 5m 8s\tremaining: 2h 35m 22s\n",
            "1700:\tlearn: 0.3926345\ttest: 0.6772616\tbest: 0.6772441 (1699)\ttotal: 5m 26s\tremaining: 2h 34m 40s\n",
            "1800:\tlearn: 0.3803688\ttest: 0.6728453\tbest: 0.6728453 (1800)\ttotal: 5m 45s\tremaining: 2h 33m 56s\n",
            "1900:\tlearn: 0.3692357\ttest: 0.6688758\tbest: 0.6688758 (1900)\ttotal: 6m 3s\tremaining: 2h 33m 7s\n",
            "2000:\tlearn: 0.3584666\ttest: 0.6652678\tbest: 0.6652678 (2000)\ttotal: 6m 21s\tremaining: 2h 32m 24s\n",
            "2100:\tlearn: 0.3481831\ttest: 0.6619513\tbest: 0.6619513 (2100)\ttotal: 6m 39s\tremaining: 2h 31m 41s\n",
            "2200:\tlearn: 0.3381444\ttest: 0.6584520\tbest: 0.6584520 (2200)\ttotal: 6m 57s\tremaining: 2h 31m 3s\n",
            "2300:\tlearn: 0.3286028\ttest: 0.6552297\tbest: 0.6552297 (2300)\ttotal: 7m 15s\tremaining: 2h 30m 25s\n",
            "2400:\tlearn: 0.3193055\ttest: 0.6523818\tbest: 0.6523296 (2399)\ttotal: 7m 33s\tremaining: 2h 29m 50s\n",
            "2500:\tlearn: 0.3106162\ttest: 0.6497046\tbest: 0.6496899 (2499)\ttotal: 7m 51s\tremaining: 2h 29m 18s\n",
            "2600:\tlearn: 0.3019627\ttest: 0.6466853\tbest: 0.6466853 (2600)\ttotal: 8m 9s\tremaining: 2h 28m 46s\n",
            "2700:\tlearn: 0.2942017\ttest: 0.6438617\tbest: 0.6438563 (2699)\ttotal: 8m 27s\tremaining: 2h 28m 11s\n",
            "2800:\tlearn: 0.2859381\ttest: 0.6407699\tbest: 0.6407699 (2800)\ttotal: 8m 46s\tremaining: 2h 27m 43s\n",
            "2900:\tlearn: 0.2787712\ttest: 0.6385818\tbest: 0.6385782 (2897)\ttotal: 9m 3s\tremaining: 2h 27m 9s\n",
            "3000:\tlearn: 0.2717622\ttest: 0.6365483\tbest: 0.6365483 (3000)\ttotal: 9m 21s\tremaining: 2h 26m 39s\n",
            "3100:\tlearn: 0.2649014\ttest: 0.6346126\tbest: 0.6346126 (3100)\ttotal: 9m 39s\tremaining: 2h 26m 11s\n",
            "3200:\tlearn: 0.2579541\ttest: 0.6321743\tbest: 0.6321743 (3200)\ttotal: 9m 58s\tremaining: 2h 25m 44s\n",
            "3300:\tlearn: 0.2512333\ttest: 0.6301334\tbest: 0.6301169 (3299)\ttotal: 10m 16s\tremaining: 2h 25m 17s\n",
            "3400:\tlearn: 0.2445918\ttest: 0.6280696\tbest: 0.6280137 (3399)\ttotal: 10m 34s\tremaining: 2h 24m 49s\n",
            "3500:\tlearn: 0.2382678\ttest: 0.6260979\tbest: 0.6260979 (3500)\ttotal: 10m 52s\tremaining: 2h 24m 27s\n",
            "3600:\tlearn: 0.2321120\ttest: 0.6240372\tbest: 0.6240364 (3599)\ttotal: 11m 10s\tremaining: 2h 24m 5s\n",
            "3700:\tlearn: 0.2263779\ttest: 0.6227651\tbest: 0.6227612 (3697)\ttotal: 11m 29s\tremaining: 2h 23m 42s\n",
            "3800:\tlearn: 0.2209369\ttest: 0.6212677\tbest: 0.6212643 (3799)\ttotal: 11m 47s\tremaining: 2h 23m 15s\n",
            "3900:\tlearn: 0.2154224\ttest: 0.6198464\tbest: 0.6198464 (3900)\ttotal: 12m 5s\tremaining: 2h 22m 51s\n",
            "4000:\tlearn: 0.2104043\ttest: 0.6185278\tbest: 0.6185278 (4000)\ttotal: 12m 23s\tremaining: 2h 22m 26s\n",
            "4100:\tlearn: 0.2055643\ttest: 0.6168527\tbest: 0.6168527 (4100)\ttotal: 12m 41s\tremaining: 2h 22m 3s\n",
            "4200:\tlearn: 0.2009878\ttest: 0.6153089\tbest: 0.6153089 (4200)\ttotal: 12m 59s\tremaining: 2h 21m 38s\n",
            "4300:\tlearn: 0.1962546\ttest: 0.6144418\tbest: 0.6144002 (4297)\ttotal: 13m 17s\tremaining: 2h 21m 17s\n",
            "4400:\tlearn: 0.1914776\ttest: 0.6131600\tbest: 0.6131495 (4396)\ttotal: 13m 36s\tremaining: 2h 20m 55s\n",
            "4500:\tlearn: 0.1871141\ttest: 0.6118257\tbest: 0.6118257 (4500)\ttotal: 13m 54s\tremaining: 2h 20m 31s\n",
            "4600:\tlearn: 0.1826382\ttest: 0.6106362\tbest: 0.6105951 (4598)\ttotal: 14m 12s\tremaining: 2h 20m 11s\n",
            "4700:\tlearn: 0.1785335\ttest: 0.6100134\tbest: 0.6100134 (4700)\ttotal: 14m 30s\tremaining: 2h 19m 47s\n",
            "4800:\tlearn: 0.1745125\ttest: 0.6091335\tbest: 0.6091335 (4800)\ttotal: 14m 48s\tremaining: 2h 19m 24s\n",
            "4900:\tlearn: 0.1705912\ttest: 0.6081848\tbest: 0.6081848 (4900)\ttotal: 15m 6s\tremaining: 2h 19m 1s\n",
            "5000:\tlearn: 0.1667673\ttest: 0.6071941\tbest: 0.6071941 (5000)\ttotal: 15m 24s\tremaining: 2h 18m 41s\n",
            "5100:\tlearn: 0.1632126\ttest: 0.6065128\tbest: 0.6064718 (5098)\ttotal: 15m 42s\tremaining: 2h 18m 19s\n",
            "5200:\tlearn: 0.1595954\ttest: 0.6059009\tbest: 0.6058585 (5199)\ttotal: 16m 1s\tremaining: 2h 17m 57s\n",
            "5300:\tlearn: 0.1564000\ttest: 0.6050502\tbest: 0.6048907 (5286)\ttotal: 16m 18s\tremaining: 2h 17m 34s\n",
            "5400:\tlearn: 0.1530485\ttest: 0.6044148\tbest: 0.6044026 (5398)\ttotal: 16m 37s\tremaining: 2h 17m 15s\n",
            "5500:\tlearn: 0.1497509\ttest: 0.6038757\tbest: 0.6038757 (5500)\ttotal: 16m 55s\tremaining: 2h 16m 54s\n",
            "5600:\tlearn: 0.1465287\ttest: 0.6035509\tbest: 0.6035481 (5599)\ttotal: 17m 13s\tremaining: 2h 16m 35s\n",
            "5700:\tlearn: 0.1433919\ttest: 0.6028449\tbest: 0.6028449 (5700)\ttotal: 17m 32s\tremaining: 2h 16m 15s\n",
            "5800:\tlearn: 0.1405046\ttest: 0.6025431\tbest: 0.6024334 (5783)\ttotal: 17m 50s\tremaining: 2h 15m 52s\n",
            "5900:\tlearn: 0.1374748\ttest: 0.6015516\tbest: 0.6015516 (5900)\ttotal: 18m 8s\tremaining: 2h 15m 32s\n",
            "6000:\tlearn: 0.1345475\ttest: 0.6008171\tbest: 0.6008121 (5997)\ttotal: 18m 26s\tremaining: 2h 15m 13s\n",
            "6100:\tlearn: 0.1317308\ttest: 0.6004107\tbest: 0.6004107 (6100)\ttotal: 18m 44s\tremaining: 2h 14m 53s\n",
            "6200:\tlearn: 0.1288542\ttest: 0.5998586\tbest: 0.5998103 (6196)\ttotal: 19m 3s\tremaining: 2h 14m 35s\n",
            "6300:\tlearn: 0.1262448\ttest: 0.5992257\tbest: 0.5992215 (6298)\ttotal: 19m 21s\tremaining: 2h 14m 15s\n",
            "6400:\tlearn: 0.1235451\ttest: 0.5987567\tbest: 0.5986966 (6397)\ttotal: 19m 39s\tremaining: 2h 13m 54s\n",
            "6500:\tlearn: 0.1208214\ttest: 0.5979295\tbest: 0.5978391 (6496)\ttotal: 19m 57s\tremaining: 2h 13m 34s\n",
            "6600:\tlearn: 0.1182962\ttest: 0.5976769\tbest: 0.5975980 (6591)\ttotal: 20m 16s\tremaining: 2h 13m 16s\n",
            "6700:\tlearn: 0.1159293\ttest: 0.5973821\tbest: 0.5973804 (6698)\ttotal: 20m 34s\tremaining: 2h 12m 56s\n",
            "6800:\tlearn: 0.1136498\ttest: 0.5969745\tbest: 0.5969743 (6789)\ttotal: 20m 52s\tremaining: 2h 12m 35s\n",
            "6900:\tlearn: 0.1113409\ttest: 0.5968771\tbest: 0.5968475 (6839)\ttotal: 21m 10s\tremaining: 2h 12m 16s\n",
            "7000:\tlearn: 0.1090340\ttest: 0.5964809\tbest: 0.5964695 (6990)\ttotal: 21m 29s\tremaining: 2h 11m 58s\n",
            "7100:\tlearn: 0.1068499\ttest: 0.5960612\tbest: 0.5959621 (7091)\ttotal: 21m 47s\tremaining: 2h 11m 38s\n",
            "7200:\tlearn: 0.1047709\ttest: 0.5959100\tbest: 0.5957058 (7171)\ttotal: 22m 5s\tremaining: 2h 11m 18s\n",
            "bestTest = 0.5957057592\n",
            "bestIteration = 7171\n",
            "Shrink model to first 7172 iterations.\n",
            "Log Loss Fold 0 : 0.5957056885772571\n",
            "\n",
            "######### FOLD 2 / 10 \n",
            "0:\tlearn: 1.9638338\ttest: 1.9632686\tbest: 1.9632686 (0)\ttotal: 349ms\tremaining: 4h 51m 11s\n",
            "100:\tlearn: 0.8933600\ttest: 0.9264741\tbest: 0.9264741 (100)\ttotal: 22.5s\tremaining: 3h 5m 8s\n",
            "200:\tlearn: 0.7941591\ttest: 0.8559787\tbest: 0.8559787 (200)\ttotal: 42.7s\tremaining: 2h 56m 7s\n",
            "300:\tlearn: 0.7308063\ttest: 0.8165403\tbest: 0.8165403 (300)\ttotal: 1m 2s\tremaining: 2h 52m 40s\n",
            "400:\tlearn: 0.6851494\ttest: 0.7911891\tbest: 0.7911891 (400)\ttotal: 1m 21s\tremaining: 2h 49m 1s\n",
            "500:\tlearn: 0.6465777\ttest: 0.7718824\tbest: 0.7718824 (500)\ttotal: 1m 41s\tremaining: 2h 46m 29s\n",
            "600:\tlearn: 0.6129241\ttest: 0.7551166\tbest: 0.7551166 (600)\ttotal: 2m\tremaining: 2h 45m\n",
            "700:\tlearn: 0.5840383\ttest: 0.7419714\tbest: 0.7419714 (700)\ttotal: 2m 19s\tremaining: 2h 43m 22s\n",
            "800:\tlearn: 0.5579596\ttest: 0.7307177\tbest: 0.7307177 (800)\ttotal: 2m 38s\tremaining: 2h 42m 12s\n",
            "900:\tlearn: 0.5342151\ttest: 0.7204226\tbest: 0.7204226 (900)\ttotal: 2m 57s\tremaining: 2h 40m 59s\n",
            "1000:\tlearn: 0.5123693\ttest: 0.7111330\tbest: 0.7111330 (1000)\ttotal: 3m 16s\tremaining: 2h 39m 55s\n",
            "1100:\tlearn: 0.4930068\ttest: 0.7034107\tbest: 0.7033979 (1099)\ttotal: 3m 34s\tremaining: 2h 38m 50s\n",
            "1200:\tlearn: 0.4736437\ttest: 0.6958328\tbest: 0.6958328 (1200)\ttotal: 3m 53s\tremaining: 2h 38m\n",
            "1300:\tlearn: 0.4565582\ttest: 0.6887851\tbest: 0.6887851 (1300)\ttotal: 4m 11s\tremaining: 2h 37m 3s\n",
            "1400:\tlearn: 0.4409419\ttest: 0.6823360\tbest: 0.6823360 (1400)\ttotal: 4m 30s\tremaining: 2h 36m 13s\n",
            "1500:\tlearn: 0.4251278\ttest: 0.6768060\tbest: 0.6768060 (1500)\ttotal: 4m 48s\tremaining: 2h 35m 35s\n",
            "1600:\tlearn: 0.4109633\ttest: 0.6718356\tbest: 0.6718356 (1600)\ttotal: 5m 7s\tremaining: 2h 34m 52s\n",
            "1700:\tlearn: 0.3975678\ttest: 0.6672485\tbest: 0.6672485 (1700)\ttotal: 5m 25s\tremaining: 2h 34m 8s\n",
            "1800:\tlearn: 0.3843666\ttest: 0.6624671\tbest: 0.6624671 (1800)\ttotal: 5m 44s\tremaining: 2h 33m 31s\n",
            "1900:\tlearn: 0.3720924\ttest: 0.6581317\tbest: 0.6581317 (1900)\ttotal: 6m 2s\tremaining: 2h 32m 54s\n",
            "2000:\tlearn: 0.3612582\ttest: 0.6543584\tbest: 0.6543584 (2000)\ttotal: 6m 20s\tremaining: 2h 32m 13s\n",
            "2100:\tlearn: 0.3508572\ttest: 0.6510089\tbest: 0.6510089 (2100)\ttotal: 6m 38s\tremaining: 2h 31m 32s\n",
            "2200:\tlearn: 0.3403978\ttest: 0.6478208\tbest: 0.6478076 (2199)\ttotal: 6m 57s\tremaining: 2h 31m\n",
            "2300:\tlearn: 0.3306372\ttest: 0.6445355\tbest: 0.6445355 (2300)\ttotal: 7m 15s\tremaining: 2h 30m 24s\n",
            "2400:\tlearn: 0.3207335\ttest: 0.6411494\tbest: 0.6411494 (2400)\ttotal: 7m 33s\tremaining: 2h 29m 53s\n",
            "2500:\tlearn: 0.3115892\ttest: 0.6384264\tbest: 0.6384264 (2500)\ttotal: 7m 51s\tremaining: 2h 29m 23s\n",
            "2600:\tlearn: 0.3029750\ttest: 0.6354484\tbest: 0.6354484 (2600)\ttotal: 8m 10s\tremaining: 2h 28m 51s\n",
            "2700:\tlearn: 0.2950353\ttest: 0.6325209\tbest: 0.6325118 (2695)\ttotal: 8m 28s\tremaining: 2h 28m 18s\n",
            "2800:\tlearn: 0.2872395\ttest: 0.6300661\tbest: 0.6300661 (2800)\ttotal: 8m 46s\tremaining: 2h 27m 44s\n",
            "2900:\tlearn: 0.2797304\ttest: 0.6278210\tbest: 0.6278190 (2899)\ttotal: 9m 4s\tremaining: 2h 27m 15s\n",
            "3000:\tlearn: 0.2727889\ttest: 0.6257229\tbest: 0.6257229 (3000)\ttotal: 9m 22s\tremaining: 2h 26m 41s\n",
            "3100:\tlearn: 0.2656653\ttest: 0.6235209\tbest: 0.6235209 (3100)\ttotal: 9m 40s\tremaining: 2h 26m 14s\n",
            "3200:\tlearn: 0.2588110\ttest: 0.6214467\tbest: 0.6214467 (3200)\ttotal: 9m 58s\tremaining: 2h 25m 49s\n",
            "3300:\tlearn: 0.2519883\ttest: 0.6197426\tbest: 0.6197213 (3299)\ttotal: 10m 16s\tremaining: 2h 25m 25s\n",
            "3400:\tlearn: 0.2453485\ttest: 0.6181843\tbest: 0.6181158 (3391)\ttotal: 10m 35s\tremaining: 2h 25m 2s\n",
            "3500:\tlearn: 0.2391642\ttest: 0.6159239\tbest: 0.6159148 (3499)\ttotal: 10m 53s\tremaining: 2h 24m 36s\n",
            "3600:\tlearn: 0.2332675\ttest: 0.6141796\tbest: 0.6141418 (3599)\ttotal: 11m 11s\tremaining: 2h 24m 13s\n",
            "3700:\tlearn: 0.2272549\ttest: 0.6123435\tbest: 0.6123316 (3699)\ttotal: 11m 29s\tremaining: 2h 23m 51s\n",
            "3800:\tlearn: 0.2220254\ttest: 0.6108048\tbest: 0.6108048 (3800)\ttotal: 11m 47s\tremaining: 2h 23m 24s\n",
            "3900:\tlearn: 0.2165821\ttest: 0.6093789\tbest: 0.6093789 (3900)\ttotal: 12m 6s\tremaining: 2h 23m\n",
            "4000:\tlearn: 0.2116559\ttest: 0.6083748\tbest: 0.6083716 (3999)\ttotal: 12m 24s\tremaining: 2h 22m 35s\n",
            "4100:\tlearn: 0.2063923\ttest: 0.6069525\tbest: 0.6069472 (4098)\ttotal: 12m 42s\tremaining: 2h 22m 13s\n",
            "4200:\tlearn: 0.2015631\ttest: 0.6055954\tbest: 0.6055954 (4200)\ttotal: 13m\tremaining: 2h 21m 51s\n",
            "4300:\tlearn: 0.1967594\ttest: 0.6048590\tbest: 0.6047901 (4287)\ttotal: 13m 18s\tremaining: 2h 21m 27s\n",
            "4400:\tlearn: 0.1921770\ttest: 0.6040253\tbest: 0.6039505 (4394)\ttotal: 13m 36s\tremaining: 2h 21m 4s\n",
            "4500:\tlearn: 0.1876528\ttest: 0.6030291\tbest: 0.6030291 (4500)\ttotal: 13m 55s\tremaining: 2h 20m 42s\n",
            "4600:\tlearn: 0.1832133\ttest: 0.6021805\tbest: 0.6020530 (4588)\ttotal: 14m 13s\tremaining: 2h 20m 22s\n",
            "4700:\tlearn: 0.1788838\ttest: 0.6008005\tbest: 0.6008005 (4700)\ttotal: 14m 31s\tremaining: 2h 20m\n",
            "4800:\tlearn: 0.1745683\ttest: 0.5996619\tbest: 0.5996619 (4800)\ttotal: 14m 50s\tremaining: 2h 19m 43s\n",
            "4900:\tlearn: 0.1705320\ttest: 0.5985457\tbest: 0.5985457 (4900)\ttotal: 15m 8s\tremaining: 2h 19m 21s\n",
            "5000:\tlearn: 0.1667046\ttest: 0.5972858\tbest: 0.5972858 (5000)\ttotal: 15m 26s\tremaining: 2h 19m\n",
            "5100:\tlearn: 0.1630883\ttest: 0.5962238\tbest: 0.5961974 (5097)\ttotal: 15m 45s\tremaining: 2h 18m 38s\n",
            "5200:\tlearn: 0.1594335\ttest: 0.5952258\tbest: 0.5952258 (5200)\ttotal: 16m 3s\tremaining: 2h 18m 18s\n",
            "5300:\tlearn: 0.1557567\ttest: 0.5942168\tbest: 0.5942168 (5300)\ttotal: 16m 21s\tremaining: 2h 17m 59s\n",
            "5400:\tlearn: 0.1522900\ttest: 0.5930980\tbest: 0.5930930 (5399)\ttotal: 16m 40s\tremaining: 2h 17m 40s\n",
            "5500:\tlearn: 0.1490886\ttest: 0.5923309\tbest: 0.5923309 (5500)\ttotal: 16m 58s\tremaining: 2h 17m 18s\n",
            "5600:\tlearn: 0.1456729\ttest: 0.5915001\tbest: 0.5914029 (5593)\ttotal: 17m 16s\tremaining: 2h 16m 58s\n",
            "5700:\tlearn: 0.1424076\ttest: 0.5903403\tbest: 0.5903403 (5700)\ttotal: 17m 35s\tremaining: 2h 16m 38s\n",
            "5800:\tlearn: 0.1393571\ttest: 0.5895594\tbest: 0.5894870 (5778)\ttotal: 17m 53s\tremaining: 2h 16m 18s\n",
            "5900:\tlearn: 0.1361945\ttest: 0.5887569\tbest: 0.5887569 (5900)\ttotal: 18m 11s\tremaining: 2h 15m 58s\n",
            "6000:\tlearn: 0.1334705\ttest: 0.5882150\tbest: 0.5881232 (5994)\ttotal: 18m 29s\tremaining: 2h 15m 38s\n",
            "6100:\tlearn: 0.1306933\ttest: 0.5876662\tbest: 0.5876145 (6092)\ttotal: 18m 48s\tremaining: 2h 15m 17s\n",
            "6200:\tlearn: 0.1279355\ttest: 0.5868298\tbest: 0.5868298 (6200)\ttotal: 19m 6s\tremaining: 2h 14m 57s\n",
            "6300:\tlearn: 0.1253068\ttest: 0.5864505\tbest: 0.5863998 (6283)\ttotal: 19m 24s\tremaining: 2h 14m 37s\n",
            "6400:\tlearn: 0.1225779\ttest: 0.5860653\tbest: 0.5860341 (6353)\ttotal: 19m 43s\tremaining: 2h 14m 19s\n",
            "6500:\tlearn: 0.1200883\ttest: 0.5855242\tbest: 0.5855151 (6487)\ttotal: 20m 1s\tremaining: 2h 13m 58s\n",
            "6600:\tlearn: 0.1177494\ttest: 0.5846091\tbest: 0.5845977 (6599)\ttotal: 20m 19s\tremaining: 2h 13m 36s\n",
            "6700:\tlearn: 0.1151223\ttest: 0.5839117\tbest: 0.5838425 (6695)\ttotal: 20m 37s\tremaining: 2h 13m 18s\n",
            "6800:\tlearn: 0.1125113\ttest: 0.5835508\tbest: 0.5835508 (6800)\ttotal: 20m 56s\tremaining: 2h 13m 2s\n",
            "6900:\tlearn: 0.1101792\ttest: 0.5829550\tbest: 0.5829550 (6900)\ttotal: 21m 15s\tremaining: 2h 12m 42s\n",
            "7000:\tlearn: 0.1077126\ttest: 0.5826716\tbest: 0.5826716 (7000)\ttotal: 21m 33s\tremaining: 2h 12m 26s\n",
            "7100:\tlearn: 0.1054409\ttest: 0.5824110\tbest: 0.5824058 (7098)\ttotal: 21m 52s\tremaining: 2h 12m 7s\n",
            "7200:\tlearn: 0.1032500\ttest: 0.5819083\tbest: 0.5818953 (7198)\ttotal: 22m 10s\tremaining: 2h 11m 49s\n",
            "7300:\tlearn: 0.1011193\ttest: 0.5817006\tbest: 0.5816445 (7276)\ttotal: 22m 29s\tremaining: 2h 11m 30s\n",
            "7400:\tlearn: 0.0990740\ttest: 0.5813047\tbest: 0.5813047 (7400)\ttotal: 22m 47s\tremaining: 2h 11m 12s\n",
            "7500:\tlearn: 0.0970243\ttest: 0.5808936\tbest: 0.5808392 (7493)\ttotal: 23m 5s\tremaining: 2h 10m 52s\n",
            "7600:\tlearn: 0.0952094\ttest: 0.5799949\tbest: 0.5799939 (7594)\ttotal: 23m 24s\tremaining: 2h 10m 32s\n",
            "7700:\tlearn: 0.0933708\ttest: 0.5796779\tbest: 0.5796779 (7700)\ttotal: 23m 42s\tremaining: 2h 10m 13s\n",
            "7800:\tlearn: 0.0913815\ttest: 0.5794385\tbest: 0.5794107 (7799)\ttotal: 24m 1s\tremaining: 2h 9m 56s\n",
            "7900:\tlearn: 0.0895795\ttest: 0.5789727\tbest: 0.5789685 (7899)\ttotal: 24m 19s\tremaining: 2h 9m 37s\n",
            "8000:\tlearn: 0.0877291\ttest: 0.5787725\tbest: 0.5787259 (7964)\ttotal: 24m 38s\tremaining: 2h 9m 21s\n",
            "8100:\tlearn: 0.0859816\ttest: 0.5784274\tbest: 0.5784027 (8099)\ttotal: 24m 56s\tremaining: 2h 9m 2s\n",
            "8200:\tlearn: 0.0843608\ttest: 0.5782008\tbest: 0.5781557 (8196)\ttotal: 25m 15s\tremaining: 2h 8m 42s\n",
            "bestTest = 0.5781556577\n",
            "bestIteration = 8196\n",
            "Shrink model to first 8197 iterations.\n",
            "Log Loss Fold 1 : 0.5781556129894871\n",
            "\n",
            "######### FOLD 3 / 10 \n",
            "0:\tlearn: 1.9664880\ttest: 1.9633715\tbest: 1.9633715 (0)\ttotal: 331ms\tremaining: 4h 35m 43s\n",
            "100:\tlearn: 0.8926011\ttest: 0.9159545\tbest: 0.9159545 (100)\ttotal: 22.7s\tremaining: 3h 7m 4s\n",
            "200:\tlearn: 0.7916845\ttest: 0.8439295\tbest: 0.8439295 (200)\ttotal: 43.2s\tremaining: 2h 58m 20s\n",
            "300:\tlearn: 0.7282578\ttest: 0.8056003\tbest: 0.8056003 (300)\ttotal: 1m 3s\tremaining: 2h 54m 18s\n",
            "400:\tlearn: 0.6815082\ttest: 0.7799396\tbest: 0.7799396 (400)\ttotal: 1m 22s\tremaining: 2h 51m 5s\n",
            "500:\tlearn: 0.6431251\ttest: 0.7605193\tbest: 0.7605193 (500)\ttotal: 1m 42s\tremaining: 2h 48m 35s\n",
            "600:\tlearn: 0.6094324\ttest: 0.7438192\tbest: 0.7438192 (600)\ttotal: 2m 1s\tremaining: 2h 46m 43s\n",
            "700:\tlearn: 0.5818234\ttest: 0.7312519\tbest: 0.7312519 (700)\ttotal: 2m 20s\tremaining: 2h 44m 33s\n",
            "800:\tlearn: 0.5553476\ttest: 0.7193748\tbest: 0.7193748 (800)\ttotal: 2m 39s\tremaining: 2h 43m 13s\n",
            "900:\tlearn: 0.5317441\ttest: 0.7096187\tbest: 0.7096187 (900)\ttotal: 2m 58s\tremaining: 2h 42m 4s\n",
            "1000:\tlearn: 0.5103398\ttest: 0.7008824\tbest: 0.7008824 (1000)\ttotal: 3m 17s\tremaining: 2h 40m 49s\n",
            "1100:\tlearn: 0.4905843\ttest: 0.6932990\tbest: 0.6932990 (1100)\ttotal: 3m 35s\tremaining: 2h 39m 42s\n",
            "1200:\tlearn: 0.4724888\ttest: 0.6864878\tbest: 0.6864878 (1200)\ttotal: 3m 54s\tremaining: 2h 38m 38s\n",
            "1300:\tlearn: 0.4558659\ttest: 0.6796075\tbest: 0.6796075 (1300)\ttotal: 4m 12s\tremaining: 2h 37m 31s\n",
            "1400:\tlearn: 0.4397282\ttest: 0.6742962\tbest: 0.6742962 (1400)\ttotal: 4m 31s\tremaining: 2h 36m 47s\n",
            "1500:\tlearn: 0.4246671\ttest: 0.6686804\tbest: 0.6686804 (1500)\ttotal: 4m 49s\tremaining: 2h 36m 6s\n",
            "1600:\tlearn: 0.4095357\ttest: 0.6631961\tbest: 0.6631961 (1600)\ttotal: 5m 8s\tremaining: 2h 35m 30s\n",
            "1700:\tlearn: 0.3965122\ttest: 0.6588194\tbest: 0.6587977 (1699)\ttotal: 5m 27s\tremaining: 2h 34m 48s\n",
            "1800:\tlearn: 0.3837394\ttest: 0.6540161\tbest: 0.6539889 (1798)\ttotal: 5m 45s\tremaining: 2h 34m 2s\n",
            "1900:\tlearn: 0.3716718\ttest: 0.6496158\tbest: 0.6496158 (1900)\ttotal: 6m 3s\tremaining: 2h 33m 20s\n",
            "2000:\tlearn: 0.3602797\ttest: 0.6456593\tbest: 0.6456521 (1998)\ttotal: 6m 22s\tremaining: 2h 32m 46s\n",
            "2100:\tlearn: 0.3490596\ttest: 0.6419798\tbest: 0.6419798 (2100)\ttotal: 6m 40s\tremaining: 2h 32m 9s\n",
            "2200:\tlearn: 0.3382851\ttest: 0.6380498\tbest: 0.6380498 (2200)\ttotal: 6m 58s\tremaining: 2h 31m 35s\n",
            "2300:\tlearn: 0.3285196\ttest: 0.6349639\tbest: 0.6349639 (2300)\ttotal: 7m 17s\tremaining: 2h 31m\n",
            "2400:\tlearn: 0.3192538\ttest: 0.6321305\tbest: 0.6321305 (2400)\ttotal: 7m 35s\tremaining: 2h 30m 26s\n",
            "2500:\tlearn: 0.3101888\ttest: 0.6296357\tbest: 0.6296357 (2500)\ttotal: 7m 53s\tremaining: 2h 29m 54s\n",
            "2600:\tlearn: 0.3016887\ttest: 0.6271257\tbest: 0.6271257 (2600)\ttotal: 8m 11s\tremaining: 2h 29m 19s\n",
            "2700:\tlearn: 0.2940097\ttest: 0.6248545\tbest: 0.6248442 (2699)\ttotal: 8m 29s\tremaining: 2h 28m 41s\n",
            "2800:\tlearn: 0.2859042\ttest: 0.6222642\tbest: 0.6222642 (2800)\ttotal: 8m 47s\tremaining: 2h 28m 12s\n",
            "2900:\tlearn: 0.2785297\ttest: 0.6200120\tbest: 0.6200120 (2900)\ttotal: 9m 5s\tremaining: 2h 27m 41s\n",
            "3000:\tlearn: 0.2712942\ttest: 0.6176285\tbest: 0.6176285 (3000)\ttotal: 9m 23s\tremaining: 2h 27m 9s\n",
            "3100:\tlearn: 0.2645308\ttest: 0.6157756\tbest: 0.6157756 (3100)\ttotal: 9m 41s\tremaining: 2h 26m 39s\n",
            "3200:\tlearn: 0.2576939\ttest: 0.6138779\tbest: 0.6138088 (3197)\ttotal: 9m 59s\tremaining: 2h 26m 9s\n",
            "3300:\tlearn: 0.2507357\ttest: 0.6121086\tbest: 0.6120190 (3292)\ttotal: 10m 18s\tremaining: 2h 25m 46s\n",
            "3400:\tlearn: 0.2443372\ttest: 0.6099575\tbest: 0.6099575 (3400)\ttotal: 10m 36s\tremaining: 2h 25m 18s\n",
            "3500:\tlearn: 0.2382056\ttest: 0.6079720\tbest: 0.6079720 (3500)\ttotal: 10m 54s\tremaining: 2h 24m 53s\n",
            "3600:\tlearn: 0.2320717\ttest: 0.6067431\tbest: 0.6067431 (3600)\ttotal: 11m 12s\tremaining: 2h 24m 29s\n",
            "3700:\tlearn: 0.2264757\ttest: 0.6051938\tbest: 0.6051743 (3697)\ttotal: 11m 30s\tremaining: 2h 24m 2s\n",
            "3800:\tlearn: 0.2207259\ttest: 0.6033113\tbest: 0.6032583 (3798)\ttotal: 11m 49s\tremaining: 2h 23m 37s\n",
            "3900:\tlearn: 0.2155084\ttest: 0.6020846\tbest: 0.6020846 (3900)\ttotal: 12m 7s\tremaining: 2h 23m 12s\n",
            "4000:\tlearn: 0.2103978\ttest: 0.6005140\tbest: 0.6004809 (3995)\ttotal: 12m 25s\tremaining: 2h 22m 47s\n",
            "4100:\tlearn: 0.2051981\ttest: 0.5988196\tbest: 0.5988196 (4100)\ttotal: 12m 43s\tremaining: 2h 22m 24s\n",
            "4200:\tlearn: 0.2002439\ttest: 0.5975897\tbest: 0.5975792 (4199)\ttotal: 13m 1s\tremaining: 2h 22m\n",
            "4300:\tlearn: 0.1954364\ttest: 0.5964939\tbest: 0.5964326 (4295)\ttotal: 13m 19s\tremaining: 2h 21m 39s\n",
            "4400:\tlearn: 0.1905705\ttest: 0.5949018\tbest: 0.5949018 (4400)\ttotal: 13m 38s\tremaining: 2h 21m 19s\n",
            "4500:\tlearn: 0.1862260\ttest: 0.5938845\tbest: 0.5938517 (4499)\ttotal: 13m 56s\tremaining: 2h 20m 57s\n",
            "4600:\tlearn: 0.1819102\ttest: 0.5928013\tbest: 0.5928013 (4600)\ttotal: 14m 14s\tremaining: 2h 20m 35s\n",
            "4700:\tlearn: 0.1778413\ttest: 0.5915133\tbest: 0.5915030 (4697)\ttotal: 14m 33s\tremaining: 2h 20m 13s\n",
            "4800:\tlearn: 0.1737365\ttest: 0.5902133\tbest: 0.5902133 (4800)\ttotal: 14m 51s\tremaining: 2h 19m 51s\n",
            "4900:\tlearn: 0.1695229\ttest: 0.5890334\tbest: 0.5890334 (4900)\ttotal: 15m 9s\tremaining: 2h 19m 33s\n",
            "5000:\tlearn: 0.1654598\ttest: 0.5876003\tbest: 0.5876003 (5000)\ttotal: 15m 28s\tremaining: 2h 19m 14s\n",
            "5100:\tlearn: 0.1618471\ttest: 0.5865217\tbest: 0.5865217 (5100)\ttotal: 15m 46s\tremaining: 2h 18m 51s\n",
            "5200:\tlearn: 0.1585689\ttest: 0.5860530\tbest: 0.5860530 (5200)\ttotal: 16m 4s\tremaining: 2h 18m 26s\n",
            "5300:\tlearn: 0.1551809\ttest: 0.5851467\tbest: 0.5851353 (5296)\ttotal: 16m 22s\tremaining: 2h 18m 4s\n",
            "5400:\tlearn: 0.1518663\ttest: 0.5841427\tbest: 0.5841085 (5398)\ttotal: 16m 40s\tremaining: 2h 17m 44s\n",
            "5500:\tlearn: 0.1483484\ttest: 0.5827857\tbest: 0.5827857 (5500)\ttotal: 16m 59s\tremaining: 2h 17m 25s\n",
            "5600:\tlearn: 0.1454078\ttest: 0.5821182\tbest: 0.5821182 (5600)\ttotal: 17m 17s\tremaining: 2h 17m 2s\n",
            "5700:\tlearn: 0.1422961\ttest: 0.5814438\tbest: 0.5814438 (5700)\ttotal: 17m 35s\tremaining: 2h 16m 41s\n",
            "5800:\tlearn: 0.1391131\ttest: 0.5810435\tbest: 0.5809526 (5778)\ttotal: 17m 53s\tremaining: 2h 16m 22s\n",
            "5900:\tlearn: 0.1359973\ttest: 0.5803274\tbest: 0.5803274 (5900)\ttotal: 18m 12s\tremaining: 2h 16m 4s\n",
            "6000:\tlearn: 0.1330133\ttest: 0.5797103\tbest: 0.5797103 (6000)\ttotal: 18m 30s\tremaining: 2h 15m 44s\n",
            "6100:\tlearn: 0.1301907\ttest: 0.5790011\tbest: 0.5790011 (6100)\ttotal: 18m 49s\tremaining: 2h 15m 23s\n",
            "6200:\tlearn: 0.1273267\ttest: 0.5782892\tbest: 0.5782728 (6199)\ttotal: 19m 7s\tremaining: 2h 15m 5s\n",
            "6300:\tlearn: 0.1244991\ttest: 0.5772268\tbest: 0.5772268 (6300)\ttotal: 19m 26s\tremaining: 2h 14m 46s\n",
            "6400:\tlearn: 0.1220596\ttest: 0.5764072\tbest: 0.5763604 (6395)\ttotal: 19m 44s\tremaining: 2h 14m 26s\n",
            "6500:\tlearn: 0.1193448\ttest: 0.5757080\tbest: 0.5756902 (6471)\ttotal: 20m 3s\tremaining: 2h 14m 9s\n",
            "6600:\tlearn: 0.1168388\ttest: 0.5753289\tbest: 0.5753262 (6597)\ttotal: 20m 21s\tremaining: 2h 13m 50s\n",
            "6700:\tlearn: 0.1146290\ttest: 0.5746620\tbest: 0.5746620 (6700)\ttotal: 20m 39s\tremaining: 2h 13m 29s\n",
            "6800:\tlearn: 0.1122646\ttest: 0.5742916\tbest: 0.5742916 (6800)\ttotal: 20m 57s\tremaining: 2h 13m 10s\n",
            "6900:\tlearn: 0.1099051\ttest: 0.5736828\tbest: 0.5736828 (6900)\ttotal: 21m 16s\tremaining: 2h 12m 51s\n",
            "7000:\tlearn: 0.1075386\ttest: 0.5734355\tbest: 0.5732792 (6941)\ttotal: 21m 34s\tremaining: 2h 12m 33s\n",
            "7100:\tlearn: 0.1054546\ttest: 0.5728608\tbest: 0.5728486 (7088)\ttotal: 21m 53s\tremaining: 2h 12m 14s\n",
            "7200:\tlearn: 0.1032530\ttest: 0.5721941\tbest: 0.5721941 (7200)\ttotal: 22m 11s\tremaining: 2h 11m 56s\n",
            "7300:\tlearn: 0.1010949\ttest: 0.5720014\tbest: 0.5719752 (7295)\ttotal: 22m 30s\tremaining: 2h 11m 37s\n",
            "7400:\tlearn: 0.0991812\ttest: 0.5718406\tbest: 0.5717849 (7395)\ttotal: 22m 48s\tremaining: 2h 11m 17s\n",
            "7500:\tlearn: 0.0970853\ttest: 0.5714733\tbest: 0.5714733 (7500)\ttotal: 23m 7s\tremaining: 2h 10m 59s\n",
            "7600:\tlearn: 0.0951619\ttest: 0.5711082\tbest: 0.5709470 (7577)\ttotal: 23m 25s\tremaining: 2h 10m 40s\n",
            "7700:\tlearn: 0.0931772\ttest: 0.5709091\tbest: 0.5708953 (7699)\ttotal: 23m 44s\tremaining: 2h 10m 25s\n",
            "7800:\tlearn: 0.0913494\ttest: 0.5702662\tbest: 0.5702599 (7799)\ttotal: 24m 3s\tremaining: 2h 10m 6s\n",
            "7900:\tlearn: 0.0894164\ttest: 0.5698720\tbest: 0.5698022 (7868)\ttotal: 24m 21s\tremaining: 2h 9m 49s\n",
            "8000:\tlearn: 0.0876863\ttest: 0.5695850\tbest: 0.5695059 (7982)\ttotal: 24m 40s\tremaining: 2h 9m 31s\n",
            "8100:\tlearn: 0.0859973\ttest: 0.5692445\tbest: 0.5692246 (8096)\ttotal: 24m 58s\tremaining: 2h 9m 12s\n",
            "8200:\tlearn: 0.0844760\ttest: 0.5689767\tbest: 0.5689179 (8165)\ttotal: 25m 17s\tremaining: 2h 8m 52s\n",
            "8300:\tlearn: 0.0828355\ttest: 0.5685099\tbest: 0.5684103 (8288)\ttotal: 25m 35s\tremaining: 2h 8m 33s\n",
            "8400:\tlearn: 0.0812194\ttest: 0.5683206\tbest: 0.5682836 (8394)\ttotal: 25m 54s\tremaining: 2h 8m 15s\n",
            "8500:\tlearn: 0.0796102\ttest: 0.5683456\tbest: 0.5682566 (8407)\ttotal: 26m 12s\tremaining: 2h 7m 57s\n",
            "bestTest = 0.5682565848\n",
            "bestIteration = 8407\n",
            "Shrink model to first 8408 iterations.\n",
            "Log Loss Fold 2 : 0.5682567534088432\n",
            "\n",
            "######### FOLD 4 / 10 \n",
            "0:\tlearn: 1.9641728\ttest: 1.9666308\tbest: 1.9666308 (0)\ttotal: 335ms\tremaining: 4h 39m 28s\n",
            "100:\tlearn: 0.8921615\ttest: 0.9282329\tbest: 0.9282329 (100)\ttotal: 22.5s\tremaining: 3h 5m 12s\n",
            "200:\tlearn: 0.7908827\ttest: 0.8552127\tbest: 0.8552127 (200)\ttotal: 43.1s\tremaining: 2h 58m 6s\n",
            "300:\tlearn: 0.7275135\ttest: 0.8166373\tbest: 0.8166373 (300)\ttotal: 1m 3s\tremaining: 2h 54m 2s\n",
            "400:\tlearn: 0.6812672\ttest: 0.7925631\tbest: 0.7925631 (400)\ttotal: 1m 22s\tremaining: 2h 50m 31s\n",
            "500:\tlearn: 0.6432516\ttest: 0.7728652\tbest: 0.7728652 (500)\ttotal: 1m 41s\tremaining: 2h 47m 54s\n",
            "600:\tlearn: 0.6109995\ttest: 0.7583201\tbest: 0.7583201 (600)\ttotal: 2m\tremaining: 2h 45m 36s\n",
            "700:\tlearn: 0.5815369\ttest: 0.7453189\tbest: 0.7453189 (700)\ttotal: 2m 20s\tremaining: 2h 44m 28s\n",
            "800:\tlearn: 0.5563347\ttest: 0.7347429\tbest: 0.7347429 (800)\ttotal: 2m 39s\tremaining: 2h 42m 46s\n",
            "900:\tlearn: 0.5322610\ttest: 0.7255256\tbest: 0.7255256 (900)\ttotal: 2m 58s\tremaining: 2h 41m 44s\n",
            "1000:\tlearn: 0.5102530\ttest: 0.7176743\tbest: 0.7176743 (1000)\ttotal: 3m 16s\tremaining: 2h 40m 36s\n",
            "1100:\tlearn: 0.4911789\ttest: 0.7111067\tbest: 0.7111067 (1100)\ttotal: 3m 35s\tremaining: 2h 39m 17s\n",
            "1200:\tlearn: 0.4720849\ttest: 0.7038606\tbest: 0.7038162 (1199)\ttotal: 3m 54s\tremaining: 2h 38m 28s\n",
            "1300:\tlearn: 0.4549049\ttest: 0.6976021\tbest: 0.6975929 (1299)\ttotal: 4m 12s\tremaining: 2h 37m 31s\n",
            "1400:\tlearn: 0.4392252\ttest: 0.6919991\tbest: 0.6919906 (1399)\ttotal: 4m 30s\tremaining: 2h 36m 37s\n",
            "1500:\tlearn: 0.4243580\ttest: 0.6872304\tbest: 0.6872304 (1500)\ttotal: 4m 49s\tremaining: 2h 35m 53s\n",
            "1600:\tlearn: 0.4107479\ttest: 0.6824206\tbest: 0.6824206 (1600)\ttotal: 5m 7s\tremaining: 2h 35m 5s\n",
            "1700:\tlearn: 0.3979933\ttest: 0.6788361\tbest: 0.6788361 (1700)\ttotal: 5m 26s\tremaining: 2h 34m 19s\n",
            "1800:\tlearn: 0.3853902\ttest: 0.6747321\tbest: 0.6747321 (1800)\ttotal: 5m 44s\tremaining: 2h 33m 34s\n",
            "1900:\tlearn: 0.3734066\ttest: 0.6704731\tbest: 0.6704731 (1900)\ttotal: 6m 2s\tremaining: 2h 33m\n",
            "2000:\tlearn: 0.3622479\ttest: 0.6671510\tbest: 0.6671510 (2000)\ttotal: 6m 21s\tremaining: 2h 32m 21s\n",
            "2100:\tlearn: 0.3515181\ttest: 0.6629278\tbest: 0.6629278 (2100)\ttotal: 6m 39s\tremaining: 2h 31m 43s\n",
            "2200:\tlearn: 0.3414871\ttest: 0.6597291\tbest: 0.6596962 (2197)\ttotal: 6m 57s\tremaining: 2h 31m 6s\n",
            "2300:\tlearn: 0.3315101\ttest: 0.6565592\tbest: 0.6565592 (2300)\ttotal: 7m 15s\tremaining: 2h 30m 31s\n",
            "2400:\tlearn: 0.3218195\ttest: 0.6533439\tbest: 0.6533439 (2400)\ttotal: 7m 33s\tremaining: 2h 29m 59s\n",
            "2500:\tlearn: 0.3132447\ttest: 0.6500154\tbest: 0.6500154 (2500)\ttotal: 7m 51s\tremaining: 2h 29m 22s\n",
            "2600:\tlearn: 0.3044809\ttest: 0.6465804\tbest: 0.6465670 (2599)\ttotal: 8m 10s\tremaining: 2h 28m 55s\n",
            "2700:\tlearn: 0.2961969\ttest: 0.6438084\tbest: 0.6438084 (2700)\ttotal: 8m 28s\tremaining: 2h 28m 20s\n",
            "2800:\tlearn: 0.2877457\ttest: 0.6416606\tbest: 0.6416606 (2800)\ttotal: 8m 46s\tremaining: 2h 27m 58s\n",
            "2900:\tlearn: 0.2802050\ttest: 0.6389452\tbest: 0.6389422 (2899)\ttotal: 9m 5s\tremaining: 2h 27m 29s\n",
            "3000:\tlearn: 0.2732631\ttest: 0.6369761\tbest: 0.6369761 (3000)\ttotal: 9m 22s\tremaining: 2h 26m 57s\n",
            "3100:\tlearn: 0.2660583\ttest: 0.6351345\tbest: 0.6351345 (3100)\ttotal: 9m 41s\tremaining: 2h 26m 29s\n",
            "3200:\tlearn: 0.2594307\ttest: 0.6334428\tbest: 0.6334428 (3200)\ttotal: 9m 59s\tremaining: 2h 25m 59s\n",
            "3300:\tlearn: 0.2528371\ttest: 0.6315951\tbest: 0.6315256 (3297)\ttotal: 10m 17s\tremaining: 2h 25m 33s\n",
            "3400:\tlearn: 0.2466174\ttest: 0.6302482\tbest: 0.6302401 (3398)\ttotal: 10m 35s\tremaining: 2h 25m 7s\n",
            "3500:\tlearn: 0.2403358\ttest: 0.6287402\tbest: 0.6287237 (3493)\ttotal: 10m 53s\tremaining: 2h 24m 43s\n",
            "3600:\tlearn: 0.2343503\ttest: 0.6269703\tbest: 0.6269703 (3600)\ttotal: 11m 12s\tremaining: 2h 24m 22s\n",
            "3700:\tlearn: 0.2289034\ttest: 0.6254192\tbest: 0.6254192 (3700)\ttotal: 11m 30s\tremaining: 2h 23m 52s\n",
            "3800:\tlearn: 0.2233097\ttest: 0.6235733\tbest: 0.6235733 (3800)\ttotal: 11m 48s\tremaining: 2h 23m 29s\n",
            "3900:\tlearn: 0.2183711\ttest: 0.6220575\tbest: 0.6220382 (3899)\ttotal: 12m 6s\tremaining: 2h 23m 2s\n",
            "4000:\tlearn: 0.2129396\ttest: 0.6202382\tbest: 0.6202382 (4000)\ttotal: 12m 24s\tremaining: 2h 22m 38s\n",
            "4100:\tlearn: 0.2075662\ttest: 0.6188901\tbest: 0.6188901 (4100)\ttotal: 12m 42s\tremaining: 2h 22m 17s\n",
            "4200:\tlearn: 0.2028927\ttest: 0.6174347\tbest: 0.6174347 (4200)\ttotal: 13m\tremaining: 2h 21m 52s\n",
            "4300:\tlearn: 0.1980734\ttest: 0.6160033\tbest: 0.6160033 (4300)\ttotal: 13m 19s\tremaining: 2h 21m 30s\n",
            "4400:\tlearn: 0.1935149\ttest: 0.6147833\tbest: 0.6147833 (4400)\ttotal: 13m 37s\tremaining: 2h 21m 6s\n",
            "4500:\tlearn: 0.1893999\ttest: 0.6136073\tbest: 0.6136073 (4500)\ttotal: 13m 55s\tremaining: 2h 20m 42s\n",
            "4600:\tlearn: 0.1849770\ttest: 0.6126664\tbest: 0.6126664 (4600)\ttotal: 14m 13s\tremaining: 2h 20m 19s\n",
            "4700:\tlearn: 0.1806435\ttest: 0.6116350\tbest: 0.6116272 (4697)\ttotal: 14m 31s\tremaining: 2h 20m\n",
            "4800:\tlearn: 0.1764729\ttest: 0.6104653\tbest: 0.6104653 (4800)\ttotal: 14m 49s\tremaining: 2h 19m 36s\n",
            "4900:\tlearn: 0.1725395\ttest: 0.6096190\tbest: 0.6096027 (4899)\ttotal: 15m 7s\tremaining: 2h 19m 12s\n",
            "5000:\tlearn: 0.1685899\ttest: 0.6085494\tbest: 0.6085494 (5000)\ttotal: 15m 25s\tremaining: 2h 18m 51s\n",
            "5100:\tlearn: 0.1647321\ttest: 0.6075881\tbest: 0.6075881 (5100)\ttotal: 15m 44s\tremaining: 2h 18m 30s\n",
            "5200:\tlearn: 0.1611265\ttest: 0.6065976\tbest: 0.6065976 (5200)\ttotal: 16m 2s\tremaining: 2h 18m 9s\n",
            "5300:\tlearn: 0.1575046\ttest: 0.6056053\tbest: 0.6056025 (5299)\ttotal: 16m 20s\tremaining: 2h 17m 49s\n",
            "5400:\tlearn: 0.1540201\ttest: 0.6047700\tbest: 0.6047700 (5400)\ttotal: 16m 38s\tremaining: 2h 17m 28s\n",
            "5500:\tlearn: 0.1504742\ttest: 0.6040475\tbest: 0.6039663 (5484)\ttotal: 16m 57s\tremaining: 2h 17m 10s\n",
            "5600:\tlearn: 0.1469288\ttest: 0.6032856\tbest: 0.6032856 (5600)\ttotal: 17m 15s\tremaining: 2h 16m 51s\n",
            "5700:\tlearn: 0.1434124\ttest: 0.6024711\tbest: 0.6024425 (5693)\ttotal: 17m 34s\tremaining: 2h 16m 33s\n",
            "5800:\tlearn: 0.1403139\ttest: 0.6021007\tbest: 0.6021007 (5800)\ttotal: 17m 52s\tremaining: 2h 16m 12s\n",
            "5900:\tlearn: 0.1373617\ttest: 0.6013214\tbest: 0.6013214 (5900)\ttotal: 18m 11s\tremaining: 2h 15m 53s\n",
            "6000:\tlearn: 0.1343144\ttest: 0.6008203\tbest: 0.6008097 (5999)\ttotal: 18m 29s\tremaining: 2h 15m 33s\n",
            "6100:\tlearn: 0.1317041\ttest: 0.6003172\tbest: 0.6003071 (6098)\ttotal: 18m 47s\tremaining: 2h 15m 12s\n",
            "6200:\tlearn: 0.1289495\ttest: 0.5996832\tbest: 0.5996832 (6200)\ttotal: 19m 5s\tremaining: 2h 14m 53s\n",
            "6300:\tlearn: 0.1261560\ttest: 0.5990199\tbest: 0.5990199 (6300)\ttotal: 19m 24s\tremaining: 2h 14m 33s\n",
            "6400:\tlearn: 0.1234658\ttest: 0.5989637\tbest: 0.5989374 (6326)\ttotal: 19m 42s\tremaining: 2h 14m 13s\n",
            "6500:\tlearn: 0.1209545\ttest: 0.5982085\tbest: 0.5980946 (6491)\ttotal: 20m\tremaining: 2h 13m 52s\n",
            "6600:\tlearn: 0.1182494\ttest: 0.5980337\tbest: 0.5980195 (6592)\ttotal: 20m 19s\tremaining: 2h 13m 34s\n",
            "6700:\tlearn: 0.1158481\ttest: 0.5978063\tbest: 0.5977753 (6645)\ttotal: 20m 37s\tremaining: 2h 13m 13s\n",
            "6800:\tlearn: 0.1133286\ttest: 0.5974092\tbest: 0.5974092 (6800)\ttotal: 20m 55s\tremaining: 2h 12m 55s\n",
            "6900:\tlearn: 0.1110331\ttest: 0.5969947\tbest: 0.5969947 (6900)\ttotal: 21m 14s\tremaining: 2h 12m 36s\n",
            "7000:\tlearn: 0.1088247\ttest: 0.5964896\tbest: 0.5964834 (6999)\ttotal: 21m 32s\tremaining: 2h 12m 16s\n",
            "7100:\tlearn: 0.1065200\ttest: 0.5962246\tbest: 0.5962062 (7096)\ttotal: 21m 50s\tremaining: 2h 11m 57s\n",
            "7200:\tlearn: 0.1044899\ttest: 0.5954703\tbest: 0.5954703 (7200)\ttotal: 22m 8s\tremaining: 2h 11m 36s\n",
            "7300:\tlearn: 0.1022910\ttest: 0.5950655\tbest: 0.5950432 (7298)\ttotal: 22m 27s\tremaining: 2h 11m 18s\n",
            "7400:\tlearn: 0.1002332\ttest: 0.5948431\tbest: 0.5948431 (7400)\ttotal: 22m 45s\tremaining: 2h 10m 58s\n",
            "7500:\tlearn: 0.0983259\ttest: 0.5944514\tbest: 0.5944274 (7497)\ttotal: 23m 3s\tremaining: 2h 10m 39s\n",
            "7600:\tlearn: 0.0963370\ttest: 0.5941183\tbest: 0.5940775 (7574)\ttotal: 23m 22s\tremaining: 2h 10m 20s\n",
            "7700:\tlearn: 0.0944687\ttest: 0.5938541\tbest: 0.5937411 (7652)\ttotal: 23m 40s\tremaining: 2h 10m 2s\n",
            "bestTest = 0.5937411446\n",
            "bestIteration = 7652\n",
            "Shrink model to first 7653 iterations.\n",
            "Log Loss Fold 3 : 0.5937412420932604\n",
            "\n",
            "######### FOLD 5 / 10 \n",
            "0:\tlearn: 1.9630640\ttest: 1.9684334\tbest: 1.9684334 (0)\ttotal: 342ms\tremaining: 4h 44m 46s\n",
            "100:\tlearn: 0.8894949\ttest: 0.9406744\tbest: 0.9406744 (100)\ttotal: 22.6s\tremaining: 3h 6m 4s\n",
            "200:\tlearn: 0.7904452\ttest: 0.8673558\tbest: 0.8673558 (200)\ttotal: 42.9s\tremaining: 2h 57m 8s\n",
            "300:\tlearn: 0.7270304\ttest: 0.8280189\tbest: 0.8280189 (300)\ttotal: 1m 2s\tremaining: 2h 53m 12s\n",
            "400:\tlearn: 0.6798835\ttest: 0.8000742\tbest: 0.8000742 (400)\ttotal: 1m 22s\tremaining: 2h 50m 13s\n",
            "500:\tlearn: 0.6422407\ttest: 0.7803317\tbest: 0.7803317 (500)\ttotal: 1m 41s\tremaining: 2h 47m 51s\n",
            "600:\tlearn: 0.6071661\ttest: 0.7624167\tbest: 0.7624167 (600)\ttotal: 2m 1s\tremaining: 2h 46m 29s\n",
            "700:\tlearn: 0.5792560\ttest: 0.7488543\tbest: 0.7488543 (700)\ttotal: 2m 20s\tremaining: 2h 44m 22s\n",
            "800:\tlearn: 0.5540403\ttest: 0.7370312\tbest: 0.7370312 (800)\ttotal: 2m 39s\tremaining: 2h 42m 58s\n",
            "900:\tlearn: 0.5299768\ttest: 0.7258813\tbest: 0.7258813 (900)\ttotal: 2m 58s\tremaining: 2h 41m 56s\n",
            "1000:\tlearn: 0.5091362\ttest: 0.7175210\tbest: 0.7175210 (1000)\ttotal: 3m 16s\tremaining: 2h 40m 40s\n",
            "1100:\tlearn: 0.4891418\ttest: 0.7092561\tbest: 0.7092561 (1100)\ttotal: 3m 35s\tremaining: 2h 39m 37s\n",
            "1200:\tlearn: 0.4713196\ttest: 0.7020923\tbest: 0.7020923 (1200)\ttotal: 3m 54s\tremaining: 2h 38m 48s\n",
            "1300:\tlearn: 0.4545929\ttest: 0.6951494\tbest: 0.6951494 (1300)\ttotal: 4m 12s\tremaining: 2h 37m 48s\n",
            "1400:\tlearn: 0.4384706\ttest: 0.6884143\tbest: 0.6884143 (1400)\ttotal: 4m 31s\tremaining: 2h 36m 54s\n",
            "1500:\tlearn: 0.4228604\ttest: 0.6832274\tbest: 0.6832274 (1500)\ttotal: 4m 50s\tremaining: 2h 36m 13s\n",
            "1600:\tlearn: 0.4093794\ttest: 0.6782220\tbest: 0.6782220 (1600)\ttotal: 5m 8s\tremaining: 2h 35m 24s\n",
            "1700:\tlearn: 0.3959572\ttest: 0.6733660\tbest: 0.6733660 (1700)\ttotal: 5m 26s\tremaining: 2h 34m 35s\n",
            "1800:\tlearn: 0.3824973\ttest: 0.6685704\tbest: 0.6685704 (1800)\ttotal: 5m 45s\tremaining: 2h 33m 59s\n",
            "1900:\tlearn: 0.3708120\ttest: 0.6638349\tbest: 0.6638349 (1900)\ttotal: 6m 3s\tremaining: 2h 33m 18s\n",
            "2000:\tlearn: 0.3591274\ttest: 0.6603161\tbest: 0.6603161 (2000)\ttotal: 6m 22s\tremaining: 2h 32m 48s\n",
            "2100:\tlearn: 0.3484148\ttest: 0.6567537\tbest: 0.6567537 (2100)\ttotal: 6m 40s\tremaining: 2h 32m 8s\n",
            "2200:\tlearn: 0.3381180\ttest: 0.6535481\tbest: 0.6535481 (2200)\ttotal: 6m 58s\tremaining: 2h 31m 27s\n",
            "2300:\tlearn: 0.3284953\ttest: 0.6500528\tbest: 0.6500301 (2299)\ttotal: 7m 16s\tremaining: 2h 30m 49s\n",
            "2400:\tlearn: 0.3194034\ttest: 0.6465467\tbest: 0.6465002 (2399)\ttotal: 7m 34s\tremaining: 2h 30m 9s\n",
            "2500:\tlearn: 0.3100485\ttest: 0.6432781\tbest: 0.6432781 (2500)\ttotal: 7m 52s\tremaining: 2h 29m 42s\n",
            "2600:\tlearn: 0.3013491\ttest: 0.6402894\tbest: 0.6402894 (2600)\ttotal: 8m 10s\tremaining: 2h 29m 7s\n",
            "2700:\tlearn: 0.2932702\ttest: 0.6377158\tbest: 0.6377158 (2700)\ttotal: 8m 28s\tremaining: 2h 28m 32s\n",
            "2800:\tlearn: 0.2854291\ttest: 0.6352437\tbest: 0.6352096 (2799)\ttotal: 8m 46s\tremaining: 2h 28m\n",
            "2900:\tlearn: 0.2777858\ttest: 0.6323015\tbest: 0.6323015 (2900)\ttotal: 9m 5s\tremaining: 2h 27m 32s\n",
            "3000:\tlearn: 0.2702854\ttest: 0.6299157\tbest: 0.6299157 (3000)\ttotal: 9m 23s\tremaining: 2h 27m 6s\n",
            "3100:\tlearn: 0.2631409\ttest: 0.6274254\tbest: 0.6274254 (3100)\ttotal: 9m 41s\tremaining: 2h 26m 37s\n",
            "3200:\tlearn: 0.2567842\ttest: 0.6254188\tbest: 0.6254188 (3200)\ttotal: 9m 59s\tremaining: 2h 26m 4s\n",
            "3300:\tlearn: 0.2501149\ttest: 0.6235121\tbest: 0.6235121 (3300)\ttotal: 10m 17s\tremaining: 2h 25m 37s\n",
            "3400:\tlearn: 0.2436930\ttest: 0.6215052\tbest: 0.6214984 (3398)\ttotal: 10m 35s\tremaining: 2h 25m 12s\n",
            "3500:\tlearn: 0.2373617\ttest: 0.6189778\tbest: 0.6188861 (3494)\ttotal: 10m 54s\tremaining: 2h 24m 48s\n",
            "3600:\tlearn: 0.2314711\ttest: 0.6176149\tbest: 0.6176149 (3600)\ttotal: 11m 12s\tremaining: 2h 24m 22s\n",
            "3700:\tlearn: 0.2258521\ttest: 0.6157415\tbest: 0.6157415 (3700)\ttotal: 11m 30s\tremaining: 2h 23m 57s\n",
            "3800:\tlearn: 0.2204692\ttest: 0.6143537\tbest: 0.6142841 (3787)\ttotal: 11m 48s\tremaining: 2h 23m 29s\n",
            "3900:\tlearn: 0.2152940\ttest: 0.6125265\tbest: 0.6125265 (3900)\ttotal: 12m 6s\tremaining: 2h 23m 3s\n",
            "4000:\tlearn: 0.2101892\ttest: 0.6108520\tbest: 0.6108520 (4000)\ttotal: 12m 24s\tremaining: 2h 22m 37s\n",
            "4100:\tlearn: 0.2049827\ttest: 0.6092596\tbest: 0.6092596 (4100)\ttotal: 12m 42s\tremaining: 2h 22m 14s\n",
            "4200:\tlearn: 0.2001931\ttest: 0.6082094\tbest: 0.6082094 (4200)\ttotal: 13m\tremaining: 2h 21m 51s\n",
            "4300:\tlearn: 0.1955704\ttest: 0.6068874\tbest: 0.6068874 (4300)\ttotal: 13m 19s\tremaining: 2h 21m 29s\n",
            "4400:\tlearn: 0.1911963\ttest: 0.6058267\tbest: 0.6057779 (4394)\ttotal: 13m 37s\tremaining: 2h 21m 8s\n",
            "4500:\tlearn: 0.1866826\ttest: 0.6043926\tbest: 0.6043631 (4499)\ttotal: 13m 55s\tremaining: 2h 20m 46s\n",
            "4600:\tlearn: 0.1822329\ttest: 0.6027884\tbest: 0.6027727 (4598)\ttotal: 14m 13s\tremaining: 2h 20m 26s\n",
            "4700:\tlearn: 0.1782240\ttest: 0.6018566\tbest: 0.6018566 (4700)\ttotal: 14m 32s\tremaining: 2h 20m 2s\n",
            "4800:\tlearn: 0.1743127\ttest: 0.6011234\tbest: 0.6010920 (4797)\ttotal: 14m 50s\tremaining: 2h 19m 41s\n",
            "4900:\tlearn: 0.1703187\ttest: 0.6001820\tbest: 0.6001261 (4896)\ttotal: 15m 8s\tremaining: 2h 19m 20s\n",
            "5000:\tlearn: 0.1668293\ttest: 0.5995090\tbest: 0.5994647 (4994)\ttotal: 15m 26s\tremaining: 2h 18m 56s\n",
            "5100:\tlearn: 0.1632656\ttest: 0.5985719\tbest: 0.5985719 (5100)\ttotal: 15m 44s\tremaining: 2h 18m 33s\n",
            "5200:\tlearn: 0.1595626\ttest: 0.5974276\tbest: 0.5974195 (5199)\ttotal: 16m 2s\tremaining: 2h 18m 12s\n",
            "5300:\tlearn: 0.1559357\ttest: 0.5967357\tbest: 0.5966765 (5285)\ttotal: 16m 21s\tremaining: 2h 17m 53s\n",
            "5400:\tlearn: 0.1523284\ttest: 0.5959646\tbest: 0.5959646 (5400)\ttotal: 16m 39s\tremaining: 2h 17m 35s\n",
            "5500:\tlearn: 0.1488590\ttest: 0.5948781\tbest: 0.5948699 (5499)\ttotal: 16m 58s\tremaining: 2h 17m 15s\n",
            "5600:\tlearn: 0.1454892\ttest: 0.5939223\tbest: 0.5939096 (5598)\ttotal: 17m 16s\tremaining: 2h 16m 56s\n",
            "5700:\tlearn: 0.1422913\ttest: 0.5929491\tbest: 0.5929415 (5699)\ttotal: 17m 34s\tremaining: 2h 16m 35s\n",
            "5800:\tlearn: 0.1392059\ttest: 0.5922968\tbest: 0.5922968 (5800)\ttotal: 17m 52s\tremaining: 2h 16m 15s\n",
            "5900:\tlearn: 0.1362167\ttest: 0.5912766\tbest: 0.5912766 (5900)\ttotal: 18m 11s\tremaining: 2h 15m 56s\n",
            "6000:\tlearn: 0.1331203\ttest: 0.5906409\tbest: 0.5906409 (6000)\ttotal: 18m 30s\tremaining: 2h 15m 38s\n",
            "6100:\tlearn: 0.1301973\ttest: 0.5900485\tbest: 0.5900253 (6098)\ttotal: 18m 48s\tremaining: 2h 15m 17s\n",
            "6200:\tlearn: 0.1274516\ttest: 0.5895527\tbest: 0.5895507 (6199)\ttotal: 19m 6s\tremaining: 2h 14m 58s\n",
            "6300:\tlearn: 0.1246793\ttest: 0.5888268\tbest: 0.5888085 (6298)\ttotal: 19m 24s\tremaining: 2h 14m 38s\n",
            "6400:\tlearn: 0.1221154\ttest: 0.5883406\tbest: 0.5883406 (6400)\ttotal: 19m 43s\tremaining: 2h 14m 19s\n",
            "6500:\tlearn: 0.1196420\ttest: 0.5876748\tbest: 0.5876748 (6500)\ttotal: 20m 1s\tremaining: 2h 13m 58s\n",
            "6600:\tlearn: 0.1172126\ttest: 0.5868340\tbest: 0.5868340 (6600)\ttotal: 20m 19s\tremaining: 2h 13m 37s\n",
            "6700:\tlearn: 0.1147033\ttest: 0.5865929\tbest: 0.5865929 (6700)\ttotal: 20m 37s\tremaining: 2h 13m 18s\n",
            "6800:\tlearn: 0.1122280\ttest: 0.5861423\tbest: 0.5861035 (6793)\ttotal: 20m 56s\tremaining: 2h 13m 1s\n",
            "6900:\tlearn: 0.1099624\ttest: 0.5859298\tbest: 0.5859088 (6898)\ttotal: 21m 14s\tremaining: 2h 12m 41s\n",
            "7000:\tlearn: 0.1078731\ttest: 0.5854394\tbest: 0.5854159 (6999)\ttotal: 21m 32s\tremaining: 2h 12m 19s\n",
            "7100:\tlearn: 0.1056078\ttest: 0.5850237\tbest: 0.5849713 (7069)\ttotal: 21m 51s\tremaining: 2h 12m 2s\n",
            "7200:\tlearn: 0.1035953\ttest: 0.5847713\tbest: 0.5847654 (7194)\ttotal: 22m 9s\tremaining: 2h 11m 41s\n",
            "7300:\tlearn: 0.1014884\ttest: 0.5840960\tbest: 0.5840960 (7300)\ttotal: 22m 27s\tremaining: 2h 11m 22s\n",
            "7400:\tlearn: 0.0993727\ttest: 0.5838096\tbest: 0.5838096 (7400)\ttotal: 22m 46s\tremaining: 2h 11m 3s\n",
            "7500:\tlearn: 0.0974037\ttest: 0.5833674\tbest: 0.5833674 (7500)\ttotal: 23m 4s\tremaining: 2h 10m 44s\n",
            "7600:\tlearn: 0.0954407\ttest: 0.5834055\tbest: 0.5831797 (7520)\ttotal: 23m 22s\tremaining: 2h 10m 25s\n",
            "bestTest = 0.5831796723\n",
            "bestIteration = 7520\n",
            "Shrink model to first 7521 iterations.\n",
            "Log Loss Fold 4 : 0.5831796557770174\n",
            "\n",
            "######### FOLD 6 / 10 \n",
            "0:\tlearn: 1.9632398\ttest: 1.9662043\tbest: 1.9662043 (0)\ttotal: 357ms\tremaining: 4h 57m 23s\n",
            "100:\tlearn: 0.8946178\ttest: 0.9250100\tbest: 0.9250100 (100)\ttotal: 22.5s\tremaining: 3h 4m 58s\n",
            "200:\tlearn: 0.7946852\ttest: 0.8522788\tbest: 0.8522788 (200)\ttotal: 42.9s\tremaining: 2h 57m 6s\n",
            "300:\tlearn: 0.7315097\ttest: 0.8123365\tbest: 0.8123365 (300)\ttotal: 1m 2s\tremaining: 2h 53m 6s\n",
            "400:\tlearn: 0.6846420\ttest: 0.7851583\tbest: 0.7851583 (400)\ttotal: 1m 22s\tremaining: 2h 49m 35s\n",
            "500:\tlearn: 0.6460315\ttest: 0.7643049\tbest: 0.7643049 (500)\ttotal: 1m 41s\tremaining: 2h 47m 31s\n",
            "600:\tlearn: 0.6130306\ttest: 0.7487141\tbest: 0.7487141 (600)\ttotal: 2m\tremaining: 2h 45m 41s\n",
            "700:\tlearn: 0.5831977\ttest: 0.7343721\tbest: 0.7343721 (700)\ttotal: 2m 20s\tremaining: 2h 44m 21s\n",
            "800:\tlearn: 0.5568139\ttest: 0.7223251\tbest: 0.7223251 (800)\ttotal: 2m 39s\tremaining: 2h 42m 55s\n",
            "900:\tlearn: 0.5330848\ttest: 0.7128366\tbest: 0.7128366 (900)\ttotal: 2m 57s\tremaining: 2h 41m 39s\n",
            "1000:\tlearn: 0.5112584\ttest: 0.7040749\tbest: 0.7040749 (1000)\ttotal: 3m 16s\tremaining: 2h 40m 40s\n",
            "1100:\tlearn: 0.4901814\ttest: 0.6963740\tbest: 0.6963740 (1100)\ttotal: 3m 36s\tremaining: 2h 39m 58s\n",
            "1200:\tlearn: 0.4715423\ttest: 0.6898391\tbest: 0.6898391 (1200)\ttotal: 3m 54s\tremaining: 2h 39m 6s\n",
            "1300:\tlearn: 0.4545258\ttest: 0.6831361\tbest: 0.6831361 (1300)\ttotal: 4m 13s\tremaining: 2h 38m 6s\n",
            "1400:\tlearn: 0.4388862\ttest: 0.6775632\tbest: 0.6775632 (1400)\ttotal: 4m 31s\tremaining: 2h 37m 7s\n",
            "1500:\tlearn: 0.4237778\ttest: 0.6719328\tbest: 0.6719328 (1500)\ttotal: 4m 50s\tremaining: 2h 36m 19s\n",
            "1600:\tlearn: 0.4100241\ttest: 0.6669789\tbest: 0.6669789 (1600)\ttotal: 5m 8s\tremaining: 2h 35m 27s\n",
            "1700:\tlearn: 0.3964468\ttest: 0.6617743\tbest: 0.6617743 (1700)\ttotal: 5m 26s\tremaining: 2h 34m 44s\n",
            "1800:\tlearn: 0.3833484\ttest: 0.6570243\tbest: 0.6570243 (1800)\ttotal: 5m 45s\tremaining: 2h 34m 5s\n",
            "1900:\tlearn: 0.3707722\ttest: 0.6532985\tbest: 0.6532798 (1899)\ttotal: 6m 4s\tremaining: 2h 33m 31s\n",
            "2000:\tlearn: 0.3590318\ttest: 0.6491419\tbest: 0.6491419 (2000)\ttotal: 6m 22s\tremaining: 2h 32m 56s\n",
            "2100:\tlearn: 0.3483657\ttest: 0.6455014\tbest: 0.6455014 (2100)\ttotal: 6m 40s\tremaining: 2h 32m 10s\n",
            "2200:\tlearn: 0.3379843\ttest: 0.6420548\tbest: 0.6420548 (2200)\ttotal: 6m 58s\tremaining: 2h 31m 33s\n",
            "2300:\tlearn: 0.3278586\ttest: 0.6392297\tbest: 0.6392297 (2300)\ttotal: 7m 17s\tremaining: 2h 30m 59s\n",
            "2400:\tlearn: 0.3189059\ttest: 0.6358255\tbest: 0.6358255 (2400)\ttotal: 7m 34s\tremaining: 2h 30m 20s\n",
            "2500:\tlearn: 0.3099932\ttest: 0.6328286\tbest: 0.6328286 (2500)\ttotal: 7m 53s\tremaining: 2h 29m 44s\n",
            "2600:\tlearn: 0.3014796\ttest: 0.6299323\tbest: 0.6299323 (2600)\ttotal: 8m 11s\tremaining: 2h 29m 12s\n",
            "2700:\tlearn: 0.2935718\ttest: 0.6270465\tbest: 0.6269871 (2697)\ttotal: 8m 29s\tremaining: 2h 28m 36s\n",
            "2800:\tlearn: 0.2856967\ttest: 0.6246004\tbest: 0.6245873 (2799)\ttotal: 8m 47s\tremaining: 2h 28m 5s\n",
            "2900:\tlearn: 0.2780650\ttest: 0.6221382\tbest: 0.6221382 (2900)\ttotal: 9m 5s\tremaining: 2h 27m 36s\n",
            "3000:\tlearn: 0.2706114\ttest: 0.6196810\tbest: 0.6196792 (2999)\ttotal: 9m 23s\tremaining: 2h 27m 8s\n",
            "3100:\tlearn: 0.2636354\ttest: 0.6172868\tbest: 0.6172868 (3100)\ttotal: 9m 41s\tremaining: 2h 26m 39s\n",
            "3200:\tlearn: 0.2568294\ttest: 0.6154081\tbest: 0.6154081 (3200)\ttotal: 9m 59s\tremaining: 2h 26m 10s\n",
            "3300:\tlearn: 0.2501108\ttest: 0.6139516\tbest: 0.6139325 (3298)\ttotal: 10m 18s\tremaining: 2h 25m 43s\n",
            "3400:\tlearn: 0.2437406\ttest: 0.6124721\tbest: 0.6124721 (3400)\ttotal: 10m 35s\tremaining: 2h 25m 13s\n",
            "3500:\tlearn: 0.2375700\ttest: 0.6102464\tbest: 0.6102464 (3500)\ttotal: 10m 54s\tremaining: 2h 24m 47s\n",
            "3600:\tlearn: 0.2316129\ttest: 0.6083524\tbest: 0.6083524 (3600)\ttotal: 11m 12s\tremaining: 2h 24m 21s\n",
            "3700:\tlearn: 0.2257970\ttest: 0.6065995\tbest: 0.6065638 (3699)\ttotal: 11m 30s\tremaining: 2h 23m 59s\n",
            "3800:\tlearn: 0.2201455\ttest: 0.6050072\tbest: 0.6050072 (3800)\ttotal: 11m 49s\tremaining: 2h 23m 38s\n",
            "3900:\tlearn: 0.2147992\ttest: 0.6032053\tbest: 0.6032053 (3900)\ttotal: 12m 7s\tremaining: 2h 23m 14s\n",
            "4000:\tlearn: 0.2098153\ttest: 0.6015460\tbest: 0.6015460 (4000)\ttotal: 12m 25s\tremaining: 2h 22m 47s\n",
            "4100:\tlearn: 0.2049816\ttest: 0.5996972\tbest: 0.5996972 (4100)\ttotal: 12m 43s\tremaining: 2h 22m 20s\n",
            "4200:\tlearn: 0.2004677\ttest: 0.5983320\tbest: 0.5983320 (4200)\ttotal: 13m\tremaining: 2h 21m 53s\n",
            "4300:\tlearn: 0.1958645\ttest: 0.5973902\tbest: 0.5973902 (4300)\ttotal: 13m 18s\tremaining: 2h 21m 28s\n",
            "4400:\tlearn: 0.1914281\ttest: 0.5960605\tbest: 0.5960477 (4399)\ttotal: 13m 36s\tremaining: 2h 21m 4s\n",
            "4500:\tlearn: 0.1870550\ttest: 0.5950828\tbest: 0.5950828 (4500)\ttotal: 13m 55s\tremaining: 2h 20m 42s\n",
            "4600:\tlearn: 0.1825533\ttest: 0.5938956\tbest: 0.5938956 (4600)\ttotal: 14m 13s\tremaining: 2h 20m 21s\n",
            "4700:\tlearn: 0.1782361\ttest: 0.5923514\tbest: 0.5923514 (4700)\ttotal: 14m 31s\tremaining: 2h 19m 59s\n",
            "4800:\tlearn: 0.1742233\ttest: 0.5913336\tbest: 0.5913336 (4800)\ttotal: 14m 49s\tremaining: 2h 19m 36s\n",
            "4900:\tlearn: 0.1703634\ttest: 0.5902730\tbest: 0.5902730 (4900)\ttotal: 15m 7s\tremaining: 2h 19m 12s\n",
            "5000:\tlearn: 0.1666891\ttest: 0.5891047\tbest: 0.5891047 (5000)\ttotal: 15m 25s\tremaining: 2h 18m 49s\n",
            "5100:\tlearn: 0.1626482\ttest: 0.5876055\tbest: 0.5876055 (5100)\ttotal: 15m 44s\tremaining: 2h 18m 31s\n",
            "5200:\tlearn: 0.1591347\ttest: 0.5866412\tbest: 0.5865628 (5189)\ttotal: 16m 2s\tremaining: 2h 18m 8s\n",
            "5300:\tlearn: 0.1552733\ttest: 0.5854474\tbest: 0.5854474 (5300)\ttotal: 16m 20s\tremaining: 2h 17m 51s\n",
            "5400:\tlearn: 0.1517299\ttest: 0.5848758\tbest: 0.5848348 (5394)\ttotal: 16m 39s\tremaining: 2h 17m 32s\n",
            "5500:\tlearn: 0.1484371\ttest: 0.5839173\tbest: 0.5838650 (5499)\ttotal: 16m 57s\tremaining: 2h 17m 10s\n",
            "5600:\tlearn: 0.1451507\ttest: 0.5831482\tbest: 0.5831437 (5599)\ttotal: 17m 15s\tremaining: 2h 16m 50s\n",
            "5700:\tlearn: 0.1418926\ttest: 0.5824037\tbest: 0.5823642 (5687)\ttotal: 17m 34s\tremaining: 2h 16m 31s\n",
            "5800:\tlearn: 0.1388601\ttest: 0.5812814\tbest: 0.5812552 (5797)\ttotal: 17m 52s\tremaining: 2h 16m 11s\n",
            "5900:\tlearn: 0.1358027\ttest: 0.5806925\tbest: 0.5806925 (5900)\ttotal: 18m 10s\tremaining: 2h 15m 52s\n",
            "6000:\tlearn: 0.1329882\ttest: 0.5797753\tbest: 0.5797723 (5997)\ttotal: 18m 29s\tremaining: 2h 15m 31s\n",
            "6100:\tlearn: 0.1300440\ttest: 0.5792466\tbest: 0.5792227 (6099)\ttotal: 18m 47s\tremaining: 2h 15m 12s\n",
            "6200:\tlearn: 0.1271711\ttest: 0.5783318\tbest: 0.5783318 (6200)\ttotal: 19m 5s\tremaining: 2h 14m 53s\n",
            "6300:\tlearn: 0.1245105\ttest: 0.5778053\tbest: 0.5778053 (6300)\ttotal: 19m 24s\tremaining: 2h 14m 33s\n",
            "6400:\tlearn: 0.1218347\ttest: 0.5771825\tbest: 0.5771451 (6399)\ttotal: 19m 42s\tremaining: 2h 14m 14s\n",
            "6500:\tlearn: 0.1192905\ttest: 0.5765667\tbest: 0.5765667 (6500)\ttotal: 20m\tremaining: 2h 13m 53s\n",
            "6600:\tlearn: 0.1169505\ttest: 0.5763192\tbest: 0.5763112 (6599)\ttotal: 20m 18s\tremaining: 2h 13m 31s\n",
            "6700:\tlearn: 0.1145021\ttest: 0.5759234\tbest: 0.5758607 (6685)\ttotal: 20m 36s\tremaining: 2h 13m 12s\n",
            "6800:\tlearn: 0.1119774\ttest: 0.5753646\tbest: 0.5753646 (6800)\ttotal: 20m 55s\tremaining: 2h 12m 54s\n",
            "6900:\tlearn: 0.1096483\ttest: 0.5749549\tbest: 0.5749356 (6899)\ttotal: 21m 13s\tremaining: 2h 12m 35s\n",
            "7000:\tlearn: 0.1074031\ttest: 0.5746127\tbest: 0.5746127 (7000)\ttotal: 21m 32s\tremaining: 2h 12m 16s\n",
            "7100:\tlearn: 0.1051543\ttest: 0.5741496\tbest: 0.5741496 (7100)\ttotal: 21m 50s\tremaining: 2h 11m 57s\n",
            "7200:\tlearn: 0.1030284\ttest: 0.5739519\tbest: 0.5739388 (7196)\ttotal: 22m 8s\tremaining: 2h 11m 38s\n",
            "7300:\tlearn: 0.1010614\ttest: 0.5734572\tbest: 0.5734572 (7300)\ttotal: 22m 27s\tremaining: 2h 11m 19s\n",
            "7400:\tlearn: 0.0990365\ttest: 0.5729808\tbest: 0.5729638 (7358)\ttotal: 22m 45s\tremaining: 2h 11m 1s\n",
            "7500:\tlearn: 0.0970661\ttest: 0.5727631\tbest: 0.5726901 (7482)\ttotal: 23m 4s\tremaining: 2h 10m 43s\n",
            "7600:\tlearn: 0.0951900\ttest: 0.5722610\tbest: 0.5722363 (7599)\ttotal: 23m 22s\tremaining: 2h 10m 24s\n",
            "7700:\tlearn: 0.0932760\ttest: 0.5718111\tbest: 0.5718111 (7700)\ttotal: 23m 41s\tremaining: 2h 10m 5s\n",
            "7800:\tlearn: 0.0914952\ttest: 0.5719796\tbest: 0.5718016 (7707)\ttotal: 23m 59s\tremaining: 2h 9m 46s\n",
            "bestTest = 0.5718016149\n",
            "bestIteration = 7707\n",
            "Shrink model to first 7708 iterations.\n",
            "Log Loss Fold 5 : 0.5718015107517483\n",
            "\n",
            "######### FOLD 7 / 10 \n",
            "0:\tlearn: 1.9661849\ttest: 1.9690825\tbest: 1.9690825 (0)\ttotal: 337ms\tremaining: 4h 40m 27s\n",
            "100:\tlearn: 0.8908978\ttest: 0.9378814\tbest: 0.9378814 (100)\ttotal: 22.4s\tremaining: 3h 4m 43s\n",
            "200:\tlearn: 0.7916752\ttest: 0.8648494\tbest: 0.8648494 (200)\ttotal: 42.9s\tremaining: 2h 57m 7s\n",
            "300:\tlearn: 0.7294491\ttest: 0.8268556\tbest: 0.8268556 (300)\ttotal: 1m 2s\tremaining: 2h 53m 4s\n",
            "400:\tlearn: 0.6833013\ttest: 0.8012971\tbest: 0.8012971 (400)\ttotal: 1m 22s\tremaining: 2h 49m 55s\n",
            "500:\tlearn: 0.6445359\ttest: 0.7806380\tbest: 0.7806380 (500)\ttotal: 1m 41s\tremaining: 2h 47m 36s\n",
            "600:\tlearn: 0.6104306\ttest: 0.7641678\tbest: 0.7641678 (600)\ttotal: 2m 1s\tremaining: 2h 46m 4s\n",
            "700:\tlearn: 0.5810098\ttest: 0.7505775\tbest: 0.7505775 (700)\ttotal: 2m 20s\tremaining: 2h 44m 38s\n",
            "800:\tlearn: 0.5550751\ttest: 0.7386751\tbest: 0.7386751 (800)\ttotal: 2m 39s\tremaining: 2h 43m 4s\n",
            "900:\tlearn: 0.5326109\ttest: 0.7280065\tbest: 0.7280065 (900)\ttotal: 2m 57s\tremaining: 2h 41m 36s\n",
            "1000:\tlearn: 0.5120783\ttest: 0.7193705\tbest: 0.7193705 (1000)\ttotal: 3m 16s\tremaining: 2h 40m 22s\n",
            "1100:\tlearn: 0.4914347\ttest: 0.7115124\tbest: 0.7115124 (1100)\ttotal: 3m 35s\tremaining: 2h 39m 26s\n",
            "1200:\tlearn: 0.4726891\ttest: 0.7047768\tbest: 0.7047768 (1200)\ttotal: 3m 53s\tremaining: 2h 38m 24s\n",
            "1300:\tlearn: 0.4551114\ttest: 0.6974584\tbest: 0.6974584 (1300)\ttotal: 4m 12s\tremaining: 2h 37m 28s\n",
            "1400:\tlearn: 0.4399859\ttest: 0.6921196\tbest: 0.6921196 (1400)\ttotal: 4m 30s\tremaining: 2h 36m 23s\n",
            "1500:\tlearn: 0.4242403\ttest: 0.6864246\tbest: 0.6864246 (1500)\ttotal: 4m 49s\tremaining: 2h 35m 43s\n",
            "1600:\tlearn: 0.4101728\ttest: 0.6814442\tbest: 0.6814442 (1600)\ttotal: 5m 7s\tremaining: 2h 34m 57s\n",
            "1700:\tlearn: 0.3965659\ttest: 0.6757318\tbest: 0.6757318 (1700)\ttotal: 5m 26s\tremaining: 2h 34m 18s\n",
            "1800:\tlearn: 0.3833692\ttest: 0.6706837\tbest: 0.6706837 (1800)\ttotal: 5m 44s\tremaining: 2h 33m 39s\n",
            "1900:\tlearn: 0.3712911\ttest: 0.6661788\tbest: 0.6661788 (1900)\ttotal: 6m 2s\tremaining: 2h 32m 57s\n",
            "2000:\tlearn: 0.3595120\ttest: 0.6619512\tbest: 0.6619512 (2000)\ttotal: 6m 21s\tremaining: 2h 32m 24s\n",
            "2100:\tlearn: 0.3488151\ttest: 0.6585406\tbest: 0.6585406 (2100)\ttotal: 6m 39s\tremaining: 2h 31m 47s\n",
            "2200:\tlearn: 0.3389139\ttest: 0.6554363\tbest: 0.6554363 (2200)\ttotal: 6m 57s\tremaining: 2h 31m 5s\n",
            "2300:\tlearn: 0.3293271\ttest: 0.6520663\tbest: 0.6520663 (2300)\ttotal: 7m 15s\tremaining: 2h 30m 26s\n",
            "2400:\tlearn: 0.3203907\ttest: 0.6487325\tbest: 0.6487325 (2400)\ttotal: 7m 33s\tremaining: 2h 29m 53s\n",
            "2500:\tlearn: 0.3112486\ttest: 0.6460999\tbest: 0.6460999 (2500)\ttotal: 7m 51s\tremaining: 2h 29m 22s\n",
            "2600:\tlearn: 0.3027432\ttest: 0.6437987\tbest: 0.6437474 (2599)\ttotal: 8m 10s\tremaining: 2h 28m 54s\n",
            "2700:\tlearn: 0.2941373\ttest: 0.6410688\tbest: 0.6410688 (2700)\ttotal: 8m 28s\tremaining: 2h 28m 31s\n",
            "2800:\tlearn: 0.2857598\ttest: 0.6381927\tbest: 0.6381927 (2800)\ttotal: 8m 47s\tremaining: 2h 28m 4s\n",
            "2900:\tlearn: 0.2783854\ttest: 0.6363553\tbest: 0.6363553 (2900)\ttotal: 9m 4s\tremaining: 2h 27m 28s\n",
            "3000:\tlearn: 0.2713125\ttest: 0.6341340\tbest: 0.6341340 (3000)\ttotal: 9m 22s\tremaining: 2h 26m 54s\n",
            "3100:\tlearn: 0.2640836\ttest: 0.6319940\tbest: 0.6319585 (3098)\ttotal: 9m 41s\tremaining: 2h 26m 28s\n",
            "3200:\tlearn: 0.2572204\ttest: 0.6298101\tbest: 0.6298041 (3199)\ttotal: 9m 59s\tremaining: 2h 26m\n",
            "3300:\tlearn: 0.2506845\ttest: 0.6278411\tbest: 0.6277875 (3294)\ttotal: 10m 17s\tremaining: 2h 25m 34s\n",
            "3400:\tlearn: 0.2443828\ttest: 0.6259647\tbest: 0.6259647 (3400)\ttotal: 10m 35s\tremaining: 2h 25m 6s\n",
            "3500:\tlearn: 0.2384471\ttest: 0.6241173\tbest: 0.6241173 (3500)\ttotal: 10m 53s\tremaining: 2h 24m 35s\n",
            "3600:\tlearn: 0.2325744\ttest: 0.6224426\tbest: 0.6224153 (3599)\ttotal: 11m 11s\tremaining: 2h 24m 11s\n",
            "3700:\tlearn: 0.2267543\ttest: 0.6210441\tbest: 0.6210441 (3700)\ttotal: 11m 29s\tremaining: 2h 23m 48s\n",
            "3800:\tlearn: 0.2212334\ttest: 0.6191953\tbest: 0.6191406 (3799)\ttotal: 11m 47s\tremaining: 2h 23m 23s\n",
            "3900:\tlearn: 0.2156596\ttest: 0.6176923\tbest: 0.6176923 (3900)\ttotal: 12m 6s\tremaining: 2h 23m 1s\n",
            "4000:\tlearn: 0.2106231\ttest: 0.6161404\tbest: 0.6161367 (3996)\ttotal: 12m 24s\tremaining: 2h 22m 36s\n",
            "4100:\tlearn: 0.2058397\ttest: 0.6147713\tbest: 0.6147713 (4100)\ttotal: 12m 42s\tremaining: 2h 22m 10s\n",
            "4200:\tlearn: 0.2011317\ttest: 0.6133900\tbest: 0.6133796 (4198)\ttotal: 13m\tremaining: 2h 21m 47s\n",
            "4300:\tlearn: 0.1965409\ttest: 0.6118648\tbest: 0.6118648 (4300)\ttotal: 13m 18s\tremaining: 2h 21m 24s\n",
            "4400:\tlearn: 0.1921124\ttest: 0.6104807\tbest: 0.6104807 (4400)\ttotal: 13m 36s\tremaining: 2h 21m\n",
            "4500:\tlearn: 0.1875368\ttest: 0.6098514\tbest: 0.6096646 (4484)\ttotal: 13m 54s\tremaining: 2h 20m 39s\n",
            "4600:\tlearn: 0.1831174\ttest: 0.6089361\tbest: 0.6089111 (4595)\ttotal: 14m 12s\tremaining: 2h 20m 16s\n",
            "4700:\tlearn: 0.1788563\ttest: 0.6081170\tbest: 0.6080201 (4690)\ttotal: 14m 31s\tremaining: 2h 19m 54s\n",
            "4800:\tlearn: 0.1749079\ttest: 0.6072583\tbest: 0.6072583 (4800)\ttotal: 14m 49s\tremaining: 2h 19m 31s\n",
            "4900:\tlearn: 0.1709516\ttest: 0.6062941\tbest: 0.6062328 (4895)\ttotal: 15m 7s\tremaining: 2h 19m 12s\n",
            "5000:\tlearn: 0.1673394\ttest: 0.6052790\tbest: 0.6052790 (5000)\ttotal: 15m 25s\tremaining: 2h 18m 50s\n",
            "5100:\tlearn: 0.1636368\ttest: 0.6045232\tbest: 0.6045167 (5099)\ttotal: 15m 44s\tremaining: 2h 18m 29s\n",
            "5200:\tlearn: 0.1600667\ttest: 0.6036610\tbest: 0.6036610 (5200)\ttotal: 16m 2s\tremaining: 2h 18m 7s\n",
            "5300:\tlearn: 0.1566556\ttest: 0.6026661\tbest: 0.6026661 (5300)\ttotal: 16m 20s\tremaining: 2h 17m 46s\n",
            "5400:\tlearn: 0.1531544\ttest: 0.6017208\tbest: 0.6017208 (5400)\ttotal: 16m 38s\tremaining: 2h 17m 27s\n",
            "5500:\tlearn: 0.1496950\ttest: 0.6006667\tbest: 0.6005984 (5498)\ttotal: 16m 57s\tremaining: 2h 17m 10s\n",
            "5600:\tlearn: 0.1465352\ttest: 0.5999215\tbest: 0.5999215 (5600)\ttotal: 17m 15s\tremaining: 2h 16m 49s\n",
            "5700:\tlearn: 0.1433362\ttest: 0.5991178\tbest: 0.5991178 (5700)\ttotal: 17m 33s\tremaining: 2h 16m 29s\n",
            "5800:\tlearn: 0.1402219\ttest: 0.5980148\tbest: 0.5980057 (5799)\ttotal: 17m 52s\tremaining: 2h 16m 9s\n",
            "5900:\tlearn: 0.1372733\ttest: 0.5973745\tbest: 0.5973148 (5898)\ttotal: 18m 10s\tremaining: 2h 15m 46s\n",
            "6000:\tlearn: 0.1342517\ttest: 0.5966070\tbest: 0.5966070 (6000)\ttotal: 18m 28s\tremaining: 2h 15m 28s\n",
            "6100:\tlearn: 0.1313994\ttest: 0.5961021\tbest: 0.5960891 (6091)\ttotal: 18m 46s\tremaining: 2h 15m 7s\n",
            "6200:\tlearn: 0.1285856\ttest: 0.5955232\tbest: 0.5955074 (6199)\ttotal: 19m 5s\tremaining: 2h 14m 47s\n",
            "6300:\tlearn: 0.1259012\ttest: 0.5950346\tbest: 0.5949560 (6292)\ttotal: 19m 23s\tremaining: 2h 14m 27s\n",
            "6400:\tlearn: 0.1233970\ttest: 0.5945429\tbest: 0.5945115 (6396)\ttotal: 19m 41s\tremaining: 2h 14m 7s\n",
            "6500:\tlearn: 0.1210651\ttest: 0.5939161\tbest: 0.5938809 (6493)\ttotal: 19m 59s\tremaining: 2h 13m 45s\n",
            "6600:\tlearn: 0.1186049\ttest: 0.5937576\tbest: 0.5937094 (6597)\ttotal: 20m 17s\tremaining: 2h 13m 25s\n",
            "6700:\tlearn: 0.1162592\ttest: 0.5933177\tbest: 0.5932851 (6673)\ttotal: 20m 35s\tremaining: 2h 13m 4s\n",
            "6800:\tlearn: 0.1137929\ttest: 0.5928913\tbest: 0.5928797 (6794)\ttotal: 20m 53s\tremaining: 2h 12m 44s\n",
            "6900:\tlearn: 0.1114272\ttest: 0.5925566\tbest: 0.5925503 (6889)\ttotal: 21m 12s\tremaining: 2h 12m 26s\n",
            "7000:\tlearn: 0.1092447\ttest: 0.5920038\tbest: 0.5919763 (6988)\ttotal: 21m 30s\tremaining: 2h 12m 6s\n",
            "7100:\tlearn: 0.1069945\ttest: 0.5914603\tbest: 0.5914048 (7072)\ttotal: 21m 49s\tremaining: 2h 11m 48s\n",
            "7200:\tlearn: 0.1049095\ttest: 0.5909997\tbest: 0.5909948 (7197)\ttotal: 22m 7s\tremaining: 2h 11m 28s\n",
            "7300:\tlearn: 0.1026242\ttest: 0.5905172\tbest: 0.5904291 (7283)\ttotal: 22m 25s\tremaining: 2h 11m 10s\n",
            "7400:\tlearn: 0.1005422\ttest: 0.5900601\tbest: 0.5900352 (7396)\ttotal: 22m 44s\tremaining: 2h 10m 52s\n",
            "7500:\tlearn: 0.0985592\ttest: 0.5898992\tbest: 0.5898842 (7498)\ttotal: 23m 2s\tremaining: 2h 10m 32s\n",
            "7600:\tlearn: 0.0967057\ttest: 0.5897742\tbest: 0.5897351 (7556)\ttotal: 23m 20s\tremaining: 2h 10m 12s\n",
            "7700:\tlearn: 0.0947460\ttest: 0.5895897\tbest: 0.5895063 (7658)\ttotal: 23m 39s\tremaining: 2h 9m 55s\n",
            "7800:\tlearn: 0.0927444\ttest: 0.5895880\tbest: 0.5893329 (7729)\ttotal: 23m 57s\tremaining: 2h 9m 38s\n",
            "bestTest = 0.5893329353\n",
            "bestIteration = 7729\n",
            "Shrink model to first 7730 iterations.\n",
            "Log Loss Fold 6 : 0.589332755431591\n",
            "\n",
            "######### FOLD 8 / 10 \n",
            "0:\tlearn: 1.9639276\ttest: 1.9626041\tbest: 1.9626041 (0)\ttotal: 336ms\tremaining: 4h 39m 43s\n",
            "100:\tlearn: 0.8904021\ttest: 0.9188583\tbest: 0.9188583 (100)\ttotal: 22.6s\tremaining: 3h 6m 23s\n",
            "200:\tlearn: 0.7917169\ttest: 0.8478388\tbest: 0.8478388 (200)\ttotal: 43.1s\tremaining: 2h 57m 46s\n",
            "300:\tlearn: 0.7304391\ttest: 0.8104081\tbest: 0.8104081 (300)\ttotal: 1m 2s\tremaining: 2h 52m 45s\n",
            "400:\tlearn: 0.6824418\ttest: 0.7841922\tbest: 0.7841922 (400)\ttotal: 1m 22s\tremaining: 2h 50m 23s\n",
            "500:\tlearn: 0.6443814\ttest: 0.7655470\tbest: 0.7655470 (500)\ttotal: 1m 41s\tremaining: 2h 47m 55s\n",
            "600:\tlearn: 0.6102518\ttest: 0.7495664\tbest: 0.7495664 (600)\ttotal: 2m 1s\tremaining: 2h 46m 28s\n",
            "700:\tlearn: 0.5810699\ttest: 0.7372530\tbest: 0.7372530 (700)\ttotal: 2m 20s\tremaining: 2h 44m 47s\n",
            "800:\tlearn: 0.5546822\ttest: 0.7262848\tbest: 0.7262848 (800)\ttotal: 2m 39s\tremaining: 2h 43m 20s\n",
            "900:\tlearn: 0.5303098\ttest: 0.7156478\tbest: 0.7156478 (900)\ttotal: 2m 58s\tremaining: 2h 42m 13s\n",
            "1000:\tlearn: 0.5089738\ttest: 0.7076555\tbest: 0.7076555 (1000)\ttotal: 3m 17s\tremaining: 2h 41m 5s\n",
            "1100:\tlearn: 0.4888570\ttest: 0.7004852\tbest: 0.7004852 (1100)\ttotal: 3m 36s\tremaining: 2h 39m 58s\n",
            "1200:\tlearn: 0.4702364\ttest: 0.6940269\tbest: 0.6940269 (1200)\ttotal: 3m 54s\tremaining: 2h 38m 55s\n",
            "1300:\tlearn: 0.4526714\ttest: 0.6877738\tbest: 0.6877738 (1300)\ttotal: 4m 13s\tremaining: 2h 38m 3s\n",
            "1400:\tlearn: 0.4364595\ttest: 0.6815695\tbest: 0.6815695 (1400)\ttotal: 4m 32s\tremaining: 2h 37m 17s\n",
            "1500:\tlearn: 0.4226960\ttest: 0.6763968\tbest: 0.6763968 (1500)\ttotal: 4m 50s\tremaining: 2h 36m 12s\n",
            "1600:\tlearn: 0.4086178\ttest: 0.6718627\tbest: 0.6718627 (1600)\ttotal: 5m 8s\tremaining: 2h 35m 29s\n",
            "1700:\tlearn: 0.3958372\ttest: 0.6676337\tbest: 0.6676337 (1700)\ttotal: 5m 26s\tremaining: 2h 34m 35s\n",
            "1800:\tlearn: 0.3837615\ttest: 0.6630960\tbest: 0.6630960 (1800)\ttotal: 5m 44s\tremaining: 2h 33m 50s\n",
            "1900:\tlearn: 0.3711805\ttest: 0.6591489\tbest: 0.6591489 (1900)\ttotal: 6m 3s\tremaining: 2h 33m 16s\n",
            "2000:\tlearn: 0.3599968\ttest: 0.6555257\tbest: 0.6555257 (2000)\ttotal: 6m 21s\tremaining: 2h 32m 38s\n",
            "2100:\tlearn: 0.3489870\ttest: 0.6519703\tbest: 0.6519587 (2099)\ttotal: 6m 39s\tremaining: 2h 31m 57s\n",
            "2200:\tlearn: 0.3386407\ttest: 0.6484020\tbest: 0.6484020 (2200)\ttotal: 6m 58s\tremaining: 2h 31m 23s\n",
            "2300:\tlearn: 0.3289267\ttest: 0.6461716\tbest: 0.6461716 (2300)\ttotal: 7m 16s\tremaining: 2h 30m 46s\n",
            "2400:\tlearn: 0.3194041\ttest: 0.6433657\tbest: 0.6433657 (2400)\ttotal: 7m 34s\tremaining: 2h 30m 14s\n",
            "2500:\tlearn: 0.3103310\ttest: 0.6409755\tbest: 0.6409689 (2499)\ttotal: 7m 52s\tremaining: 2h 29m 41s\n",
            "2600:\tlearn: 0.3013824\ttest: 0.6391754\tbest: 0.6391651 (2599)\ttotal: 8m 11s\tremaining: 2h 29m 15s\n",
            "2700:\tlearn: 0.2930507\ttest: 0.6364168\tbest: 0.6364168 (2700)\ttotal: 8m 29s\tremaining: 2h 28m 43s\n",
            "2800:\tlearn: 0.2851255\ttest: 0.6343756\tbest: 0.6343720 (2798)\ttotal: 8m 47s\tremaining: 2h 28m 14s\n",
            "2900:\tlearn: 0.2774406\ttest: 0.6320755\tbest: 0.6320661 (2899)\ttotal: 9m 5s\tremaining: 2h 27m 44s\n",
            "3000:\tlearn: 0.2699580\ttest: 0.6298301\tbest: 0.6298301 (3000)\ttotal: 9m 24s\tremaining: 2h 27m 15s\n",
            "3100:\tlearn: 0.2632102\ttest: 0.6277290\tbest: 0.6277290 (3100)\ttotal: 9m 42s\tremaining: 2h 26m 42s\n",
            "3200:\tlearn: 0.2565421\ttest: 0.6259732\tbest: 0.6259732 (3200)\ttotal: 9m 59s\tremaining: 2h 26m 10s\n",
            "3400:\tlearn: 0.2435688\ttest: 0.6224238\tbest: 0.6224238 (3400)\ttotal: 10m 36s\tremaining: 2h 25m 24s\n",
            "3500:\tlearn: 0.2373503\ttest: 0.6202466\tbest: 0.6202466 (3500)\ttotal: 10m 54s\tremaining: 2h 24m 58s\n",
            "3600:\tlearn: 0.2316069\ttest: 0.6184762\tbest: 0.6184685 (3599)\ttotal: 11m 12s\tremaining: 2h 24m 31s\n",
            "3700:\tlearn: 0.2258776\ttest: 0.6168495\tbest: 0.6168495 (3700)\ttotal: 11m 31s\tremaining: 2h 24m 6s\n",
            "3800:\tlearn: 0.2204482\ttest: 0.6152026\tbest: 0.6152026 (3800)\ttotal: 11m 49s\tremaining: 2h 23m 42s\n",
            "3900:\tlearn: 0.2155115\ttest: 0.6138439\tbest: 0.6137659 (3895)\ttotal: 12m 7s\tremaining: 2h 23m 15s\n",
            "4000:\tlearn: 0.2101664\ttest: 0.6123014\tbest: 0.6122831 (3998)\ttotal: 12m 25s\tremaining: 2h 22m 51s\n",
            "4100:\tlearn: 0.2051491\ttest: 0.6107683\tbest: 0.6107517 (4097)\ttotal: 12m 43s\tremaining: 2h 22m 28s\n",
            "4200:\tlearn: 0.2007297\ttest: 0.6092877\tbest: 0.6092455 (4193)\ttotal: 13m 1s\tremaining: 2h 22m 2s\n",
            "4300:\tlearn: 0.1962224\ttest: 0.6079790\tbest: 0.6079744 (4298)\ttotal: 13m 19s\tremaining: 2h 21m 35s\n",
            "4400:\tlearn: 0.1916209\ttest: 0.6071340\tbest: 0.6070172 (4395)\ttotal: 13m 37s\tremaining: 2h 21m 11s\n",
            "4500:\tlearn: 0.1869909\ttest: 0.6061706\tbest: 0.6061706 (4500)\ttotal: 13m 55s\tremaining: 2h 20m 50s\n",
            "4600:\tlearn: 0.1827112\ttest: 0.6049722\tbest: 0.6049722 (4600)\ttotal: 14m 14s\tremaining: 2h 20m 27s\n",
            "4700:\tlearn: 0.1784248\ttest: 0.6041086\tbest: 0.6041086 (4700)\ttotal: 14m 32s\tremaining: 2h 20m 6s\n",
            "4800:\tlearn: 0.1745250\ttest: 0.6028333\tbest: 0.6028051 (4798)\ttotal: 14m 50s\tremaining: 2h 19m 44s\n",
            "4900:\tlearn: 0.1707646\ttest: 0.6018469\tbest: 0.6018469 (4900)\ttotal: 15m 8s\tremaining: 2h 19m 22s\n",
            "5000:\tlearn: 0.1670592\ttest: 0.6008475\tbest: 0.6008475 (5000)\ttotal: 15m 26s\tremaining: 2h 19m\n",
            "5100:\tlearn: 0.1630588\ttest: 0.5997897\tbest: 0.5997897 (5100)\ttotal: 15m 45s\tremaining: 2h 18m 41s\n",
            "5200:\tlearn: 0.1594618\ttest: 0.5989771\tbest: 0.5989771 (5200)\ttotal: 16m 4s\tremaining: 2h 18m 23s\n",
            "5300:\tlearn: 0.1558535\ttest: 0.5977824\tbest: 0.5977583 (5299)\ttotal: 16m 22s\tremaining: 2h 18m 2s\n",
            "5400:\tlearn: 0.1525197\ttest: 0.5968467\tbest: 0.5968445 (5392)\ttotal: 16m 40s\tremaining: 2h 17m 40s\n",
            "5500:\tlearn: 0.1491104\ttest: 0.5961973\tbest: 0.5961973 (5500)\ttotal: 16m 58s\tremaining: 2h 17m 19s\n",
            "5600:\tlearn: 0.1457756\ttest: 0.5953787\tbest: 0.5953787 (5600)\ttotal: 17m 17s\tremaining: 2h 17m 1s\n",
            "5700:\tlearn: 0.1427430\ttest: 0.5946258\tbest: 0.5945998 (5686)\ttotal: 17m 35s\tremaining: 2h 16m 41s\n",
            "5800:\tlearn: 0.1397610\ttest: 0.5940813\tbest: 0.5940322 (5790)\ttotal: 17m 53s\tremaining: 2h 16m 19s\n",
            "5900:\tlearn: 0.1365073\ttest: 0.5936331\tbest: 0.5936326 (5899)\ttotal: 18m 11s\tremaining: 2h 16m\n",
            "6000:\tlearn: 0.1335629\ttest: 0.5932234\tbest: 0.5931553 (5994)\ttotal: 18m 30s\tremaining: 2h 15m 40s\n",
            "6100:\tlearn: 0.1308923\ttest: 0.5928423\tbest: 0.5928318 (6099)\ttotal: 18m 48s\tremaining: 2h 15m 18s\n",
            "6200:\tlearn: 0.1283154\ttest: 0.5922641\tbest: 0.5922547 (6195)\ttotal: 19m 6s\tremaining: 2h 14m 55s\n",
            "6300:\tlearn: 0.1256996\ttest: 0.5917235\tbest: 0.5916747 (6291)\ttotal: 19m 24s\tremaining: 2h 14m 35s\n",
            "6400:\tlearn: 0.1231204\ttest: 0.5910416\tbest: 0.5910416 (6400)\ttotal: 19m 42s\tremaining: 2h 14m 15s\n",
            "6500:\tlearn: 0.1205988\ttest: 0.5903174\tbest: 0.5902732 (6496)\ttotal: 20m\tremaining: 2h 13m 55s\n",
            "6600:\tlearn: 0.1180846\ttest: 0.5898749\tbest: 0.5898458 (6590)\ttotal: 20m 19s\tremaining: 2h 13m 36s\n",
            "6700:\tlearn: 0.1157352\ttest: 0.5891911\tbest: 0.5891911 (6700)\ttotal: 20m 37s\tremaining: 2h 13m 15s\n",
            "6800:\tlearn: 0.1134179\ttest: 0.5889976\tbest: 0.5889688 (6794)\ttotal: 20m 55s\tremaining: 2h 12m 54s\n",
            "6900:\tlearn: 0.1112251\ttest: 0.5887277\tbest: 0.5887158 (6883)\ttotal: 21m 13s\tremaining: 2h 12m 35s\n",
            "7000:\tlearn: 0.1089313\ttest: 0.5882718\tbest: 0.5882375 (6987)\ttotal: 21m 32s\tremaining: 2h 12m 17s\n",
            "7100:\tlearn: 0.1066984\ttest: 0.5877599\tbest: 0.5877497 (7095)\ttotal: 21m 50s\tremaining: 2h 11m 58s\n",
            "7200:\tlearn: 0.1044629\ttest: 0.5874853\tbest: 0.5874772 (7195)\ttotal: 22m 9s\tremaining: 2h 11m 40s\n",
            "7300:\tlearn: 0.1022707\ttest: 0.5870295\tbest: 0.5870295 (7300)\ttotal: 22m 27s\tremaining: 2h 11m 22s\n",
            "7400:\tlearn: 0.1001010\ttest: 0.5861720\tbest: 0.5861627 (7397)\ttotal: 22m 46s\tremaining: 2h 11m 5s\n",
            "7500:\tlearn: 0.0982424\ttest: 0.5857896\tbest: 0.5857686 (7494)\ttotal: 23m 4s\tremaining: 2h 10m 44s\n",
            "7600:\tlearn: 0.0963690\ttest: 0.5852667\tbest: 0.5852466 (7582)\ttotal: 23m 22s\tremaining: 2h 10m 24s\n",
            "7700:\tlearn: 0.0944286\ttest: 0.5851210\tbest: 0.5850660 (7655)\ttotal: 23m 41s\tremaining: 2h 10m 6s\n",
            "7800:\tlearn: 0.0926365\ttest: 0.5849046\tbest: 0.5849046 (7800)\ttotal: 23m 59s\tremaining: 2h 9m 46s\n",
            "7900:\tlearn: 0.0907875\ttest: 0.5844046\tbest: 0.5843964 (7899)\ttotal: 24m 17s\tremaining: 2h 9m 27s\n",
            "8000:\tlearn: 0.0890395\ttest: 0.5844132\tbest: 0.5841873 (7967)\ttotal: 24m 36s\tremaining: 2h 9m 8s\n",
            "bestTest = 0.5841873444\n",
            "bestIteration = 7967\n",
            "Shrink model to first 7968 iterations.\n",
            "Log Loss Fold 7 : 0.584187536034387\n",
            "\n",
            "######### FOLD 9 / 10 \n",
            "0:\tlearn: 1.9636667\ttest: 1.9647644\tbest: 1.9647644 (0)\ttotal: 358ms\tremaining: 4h 58m 32s\n",
            "100:\tlearn: 0.8940059\ttest: 0.9228472\tbest: 0.9228472 (100)\ttotal: 22.5s\tremaining: 3h 5m 15s\n",
            "200:\tlearn: 0.7942304\ttest: 0.8497709\tbest: 0.8497709 (200)\ttotal: 42.8s\tremaining: 2h 56m 46s\n",
            "300:\tlearn: 0.7307669\ttest: 0.8102144\tbest: 0.8102144 (300)\ttotal: 1m 2s\tremaining: 2h 52m 54s\n",
            "400:\tlearn: 0.6836963\ttest: 0.7837803\tbest: 0.7837803 (400)\ttotal: 1m 22s\tremaining: 2h 50m 6s\n",
            "500:\tlearn: 0.6450115\ttest: 0.7631249\tbest: 0.7631249 (500)\ttotal: 1m 41s\tremaining: 2h 47m 50s\n",
            "600:\tlearn: 0.6117315\ttest: 0.7470187\tbest: 0.7470187 (600)\ttotal: 2m 1s\tremaining: 2h 45m 48s\n",
            "700:\tlearn: 0.5824948\ttest: 0.7333343\tbest: 0.7333343 (700)\ttotal: 2m 20s\tremaining: 2h 44m 13s\n",
            "800:\tlearn: 0.5564309\ttest: 0.7213782\tbest: 0.7213447 (799)\ttotal: 2m 39s\tremaining: 2h 42m 54s\n",
            "900:\tlearn: 0.5319506\ttest: 0.7098611\tbest: 0.7098611 (900)\ttotal: 2m 58s\tremaining: 2h 41m 49s\n",
            "1000:\tlearn: 0.5112884\ttest: 0.7019826\tbest: 0.7019826 (1000)\ttotal: 3m 16s\tremaining: 2h 40m 31s\n",
            "1100:\tlearn: 0.4914411\ttest: 0.6937163\tbest: 0.6937163 (1100)\ttotal: 3m 35s\tremaining: 2h 39m 39s\n",
            "1200:\tlearn: 0.4738245\ttest: 0.6866723\tbest: 0.6866723 (1200)\ttotal: 3m 54s\tremaining: 2h 38m 35s\n",
            "1300:\tlearn: 0.4556275\ttest: 0.6793745\tbest: 0.6793745 (1300)\ttotal: 4m 13s\tremaining: 2h 37m 53s\n",
            "1400:\tlearn: 0.4387640\ttest: 0.6723923\tbest: 0.6723923 (1400)\ttotal: 4m 32s\tremaining: 2h 37m 19s\n",
            "1500:\tlearn: 0.4239201\ttest: 0.6669895\tbest: 0.6669895 (1500)\ttotal: 4m 50s\tremaining: 2h 36m 27s\n",
            "1600:\tlearn: 0.4090559\ttest: 0.6623320\tbest: 0.6623320 (1600)\ttotal: 5m 9s\tremaining: 2h 35m 50s\n",
            "1700:\tlearn: 0.3961476\ttest: 0.6580647\tbest: 0.6580647 (1700)\ttotal: 5m 27s\tremaining: 2h 34m 59s\n",
            "1800:\tlearn: 0.3837777\ttest: 0.6534534\tbest: 0.6534534 (1800)\ttotal: 5m 45s\tremaining: 2h 34m 15s\n",
            "1900:\tlearn: 0.3716011\ttest: 0.6493162\tbest: 0.6493162 (1900)\ttotal: 6m 4s\tremaining: 2h 33m 34s\n",
            "2000:\tlearn: 0.3602630\ttest: 0.6453391\tbest: 0.6453391 (2000)\ttotal: 6m 22s\tremaining: 2h 32m 53s\n",
            "2100:\tlearn: 0.3496348\ttest: 0.6417271\tbest: 0.6417271 (2100)\ttotal: 6m 40s\tremaining: 2h 32m 12s\n",
            "2200:\tlearn: 0.3400291\ttest: 0.6379940\tbest: 0.6379940 (2200)\ttotal: 6m 58s\tremaining: 2h 31m 32s\n",
            "2300:\tlearn: 0.3299192\ttest: 0.6348805\tbest: 0.6348805 (2300)\ttotal: 7m 17s\tremaining: 2h 30m 59s\n",
            "2400:\tlearn: 0.3206904\ttest: 0.6317914\tbest: 0.6317914 (2400)\ttotal: 7m 35s\tremaining: 2h 30m 29s\n",
            "2500:\tlearn: 0.3115273\ttest: 0.6289013\tbest: 0.6289013 (2500)\ttotal: 7m 53s\tremaining: 2h 29m 55s\n",
            "2600:\tlearn: 0.3030241\ttest: 0.6258632\tbest: 0.6258194 (2598)\ttotal: 8m 11s\tremaining: 2h 29m 22s\n",
            "2700:\tlearn: 0.2949063\ttest: 0.6232815\tbest: 0.6232815 (2700)\ttotal: 8m 29s\tremaining: 2h 28m 47s\n",
            "2800:\tlearn: 0.2871839\ttest: 0.6211060\tbest: 0.6211060 (2800)\ttotal: 8m 47s\tremaining: 2h 28m 13s\n",
            "2900:\tlearn: 0.2792527\ttest: 0.6188787\tbest: 0.6188661 (2894)\ttotal: 9m 6s\tremaining: 2h 27m 46s\n",
            "3000:\tlearn: 0.2718434\ttest: 0.6166002\tbest: 0.6166002 (3000)\ttotal: 9m 24s\tremaining: 2h 27m 16s\n",
            "3100:\tlearn: 0.2645703\ttest: 0.6145845\tbest: 0.6145845 (3100)\ttotal: 9m 42s\tremaining: 2h 26m 48s\n",
            "3200:\tlearn: 0.2578125\ttest: 0.6130343\tbest: 0.6130343 (3200)\ttotal: 10m\tremaining: 2h 26m 18s\n",
            "3300:\tlearn: 0.2507753\ttest: 0.6106610\tbest: 0.6106610 (3300)\ttotal: 10m 18s\tremaining: 2h 25m 53s\n",
            "3400:\tlearn: 0.2443012\ttest: 0.6088739\tbest: 0.6088739 (3400)\ttotal: 10m 36s\tremaining: 2h 25m 26s\n",
            "3500:\tlearn: 0.2384653\ttest: 0.6069430\tbest: 0.6069430 (3500)\ttotal: 10m 54s\tremaining: 2h 24m 57s\n",
            "3600:\tlearn: 0.2326043\ttest: 0.6052740\tbest: 0.6052740 (3600)\ttotal: 11m 13s\tremaining: 2h 24m 33s\n",
            "3700:\tlearn: 0.2266633\ttest: 0.6042399\tbest: 0.6042399 (3700)\ttotal: 11m 31s\tremaining: 2h 24m 8s\n",
            "3800:\tlearn: 0.2210623\ttest: 0.6028942\tbest: 0.6028268 (3796)\ttotal: 11m 49s\tremaining: 2h 23m 45s\n",
            "3900:\tlearn: 0.2157215\ttest: 0.6012173\tbest: 0.6012173 (3900)\ttotal: 12m 7s\tremaining: 2h 23m 21s\n",
            "4000:\tlearn: 0.2108126\ttest: 0.6002903\tbest: 0.6002903 (4000)\ttotal: 12m 25s\tremaining: 2h 22m 54s\n",
            "4100:\tlearn: 0.2056881\ttest: 0.5984664\tbest: 0.5984600 (4099)\ttotal: 12m 44s\tremaining: 2h 22m 32s\n",
            "4200:\tlearn: 0.2011831\ttest: 0.5972938\tbest: 0.5972002 (4197)\ttotal: 13m 1s\tremaining: 2h 22m 4s\n",
            "4300:\tlearn: 0.1963504\ttest: 0.5958883\tbest: 0.5958883 (4300)\ttotal: 13m 20s\tremaining: 2h 21m 43s\n",
            "4400:\tlearn: 0.1916469\ttest: 0.5946910\tbest: 0.5946910 (4400)\ttotal: 13m 38s\tremaining: 2h 21m 21s\n",
            "4500:\tlearn: 0.1872582\ttest: 0.5934869\tbest: 0.5934869 (4500)\ttotal: 13m 56s\tremaining: 2h 20m 58s\n",
            "4600:\tlearn: 0.1829707\ttest: 0.5921986\tbest: 0.5921730 (4594)\ttotal: 14m 15s\tremaining: 2h 20m 37s\n",
            "4700:\tlearn: 0.1785372\ttest: 0.5910764\tbest: 0.5910097 (4693)\ttotal: 14m 33s\tremaining: 2h 20m 18s\n",
            "4800:\tlearn: 0.1743993\ttest: 0.5899676\tbest: 0.5899645 (4799)\ttotal: 14m 51s\tremaining: 2h 19m 57s\n",
            "4900:\tlearn: 0.1703679\ttest: 0.5889977\tbest: 0.5889477 (4897)\ttotal: 15m 10s\tremaining: 2h 19m 34s\n",
            "5000:\tlearn: 0.1664021\ttest: 0.5876849\tbest: 0.5876849 (5000)\ttotal: 15m 28s\tremaining: 2h 19m 14s\n",
            "5100:\tlearn: 0.1628173\ttest: 0.5869248\tbest: 0.5869198 (5099)\ttotal: 15m 46s\tremaining: 2h 18m 53s\n",
            "5200:\tlearn: 0.1590270\ttest: 0.5855992\tbest: 0.5855243 (5194)\ttotal: 16m 5s\tremaining: 2h 18m 32s\n",
            "5300:\tlearn: 0.1554377\ttest: 0.5849140\tbest: 0.5849140 (5300)\ttotal: 16m 23s\tremaining: 2h 18m 12s\n",
            "5400:\tlearn: 0.1519368\ttest: 0.5840000\tbest: 0.5840000 (5400)\ttotal: 16m 41s\tremaining: 2h 17m 51s\n",
            "5500:\tlearn: 0.1484612\ttest: 0.5833664\tbest: 0.5833272 (5495)\ttotal: 16m 59s\tremaining: 2h 17m 30s\n",
            "5600:\tlearn: 0.1451834\ttest: 0.5825928\tbest: 0.5825928 (5600)\ttotal: 17m 18s\tremaining: 2h 17m 9s\n",
            "5700:\tlearn: 0.1423106\ttest: 0.5820327\tbest: 0.5819824 (5694)\ttotal: 17m 36s\tremaining: 2h 16m 47s\n",
            "5800:\tlearn: 0.1393067\ttest: 0.5811218\tbest: 0.5811218 (5800)\ttotal: 17m 54s\tremaining: 2h 16m 25s\n",
            "5900:\tlearn: 0.1363231\ttest: 0.5808295\tbest: 0.5807957 (5869)\ttotal: 18m 12s\tremaining: 2h 16m 5s\n",
            "6000:\tlearn: 0.1333543\ttest: 0.5799868\tbest: 0.5799528 (5990)\ttotal: 18m 31s\tremaining: 2h 15m 46s\n",
            "6100:\tlearn: 0.1306505\ttest: 0.5795416\tbest: 0.5795369 (6095)\ttotal: 18m 48s\tremaining: 2h 15m 23s\n",
            "6200:\tlearn: 0.1277961\ttest: 0.5792216\tbest: 0.5792031 (6189)\ttotal: 19m 7s\tremaining: 2h 15m 3s\n",
            "6300:\tlearn: 0.1250768\ttest: 0.5788420\tbest: 0.5787322 (6295)\ttotal: 19m 25s\tremaining: 2h 14m 43s\n",
            "6400:\tlearn: 0.1223666\ttest: 0.5783366\tbest: 0.5783219 (6387)\ttotal: 19m 44s\tremaining: 2h 14m 24s\n",
            "6500:\tlearn: 0.1197974\ttest: 0.5775570\tbest: 0.5775570 (6500)\ttotal: 20m 2s\tremaining: 2h 14m 3s\n",
            "6600:\tlearn: 0.1172257\ttest: 0.5771148\tbest: 0.5771148 (6600)\ttotal: 20m 20s\tremaining: 2h 13m 45s\n",
            "6700:\tlearn: 0.1147561\ttest: 0.5763440\tbest: 0.5763192 (6691)\ttotal: 20m 39s\tremaining: 2h 13m 27s\n",
            "6800:\tlearn: 0.1123986\ttest: 0.5758898\tbest: 0.5758898 (6800)\ttotal: 20m 57s\tremaining: 2h 13m 8s\n",
            "6900:\tlearn: 0.1101123\ttest: 0.5755251\tbest: 0.5754925 (6857)\ttotal: 21m 16s\tremaining: 2h 12m 49s\n",
            "bestTest = 0.5754925077\n",
            "bestIteration = 6857\n",
            "Shrink model to first 6858 iterations.\n",
            "Log Loss Fold 8 : 0.5754924796763196\n",
            "\n",
            "######### FOLD 10 / 10 \n",
            "0:\tlearn: 1.9644288\ttest: 1.9625301\tbest: 1.9625301 (0)\ttotal: 331ms\tremaining: 4h 36m 7s\n",
            "100:\tlearn: 0.8908727\ttest: 0.9293003\tbest: 0.9293003 (100)\ttotal: 22.6s\tremaining: 3h 5m 55s\n",
            "200:\tlearn: 0.7892080\ttest: 0.8552500\tbest: 0.8552500 (200)\ttotal: 43.2s\tremaining: 2h 58m 19s\n",
            "300:\tlearn: 0.7258746\ttest: 0.8161060\tbest: 0.8161060 (300)\ttotal: 1m 3s\tremaining: 2h 54m 10s\n",
            "400:\tlearn: 0.6792718\ttest: 0.7909323\tbest: 0.7909323 (400)\ttotal: 1m 23s\tremaining: 2h 51m 14s\n",
            "500:\tlearn: 0.6405267\ttest: 0.7718071\tbest: 0.7718071 (500)\ttotal: 1m 42s\tremaining: 2h 48m 54s\n",
            "600:\tlearn: 0.6073227\ttest: 0.7555018\tbest: 0.7555018 (600)\ttotal: 2m 1s\tremaining: 2h 46m 42s\n",
            "700:\tlearn: 0.5777969\ttest: 0.7420064\tbest: 0.7420064 (700)\ttotal: 2m 20s\tremaining: 2h 45m 3s\n",
            "800:\tlearn: 0.5533561\ttest: 0.7310287\tbest: 0.7310287 (800)\ttotal: 2m 39s\tremaining: 2h 43m 22s\n",
            "900:\tlearn: 0.5289865\ttest: 0.7205127\tbest: 0.7205127 (900)\ttotal: 2m 58s\tremaining: 2h 42m 28s\n",
            "1000:\tlearn: 0.5067089\ttest: 0.7111310\tbest: 0.7111310 (1000)\ttotal: 3m 18s\tremaining: 2h 41m 33s\n",
            "1100:\tlearn: 0.4876172\ttest: 0.7038721\tbest: 0.7038721 (1100)\ttotal: 3m 36s\tremaining: 2h 40m 26s\n",
            "1200:\tlearn: 0.4692810\ttest: 0.6968277\tbest: 0.6968277 (1200)\ttotal: 3m 55s\tremaining: 2h 39m 24s\n",
            "1300:\tlearn: 0.4528681\ttest: 0.6901093\tbest: 0.6901093 (1300)\ttotal: 4m 13s\tremaining: 2h 38m 20s\n",
            "1400:\tlearn: 0.4370112\ttest: 0.6849677\tbest: 0.6849677 (1400)\ttotal: 4m 32s\tremaining: 2h 37m 28s\n",
            "1500:\tlearn: 0.4218680\ttest: 0.6800754\tbest: 0.6800754 (1500)\ttotal: 4m 50s\tremaining: 2h 36m 38s\n",
            "1600:\tlearn: 0.4081751\ttest: 0.6751107\tbest: 0.6750578 (1598)\ttotal: 5m 9s\tremaining: 2h 35m 41s\n",
            "1700:\tlearn: 0.3952778\ttest: 0.6707697\tbest: 0.6707697 (1700)\ttotal: 5m 27s\tremaining: 2h 34m 44s\n",
            "1800:\tlearn: 0.3827749\ttest: 0.6662842\tbest: 0.6662842 (1800)\ttotal: 5m 45s\tremaining: 2h 34m 7s\n",
            "1900:\tlearn: 0.3714176\ttest: 0.6617825\tbest: 0.6617825 (1900)\ttotal: 6m 3s\tremaining: 2h 33m 19s\n",
            "2000:\tlearn: 0.3605472\ttest: 0.6580845\tbest: 0.6580845 (2000)\ttotal: 6m 21s\tremaining: 2h 32m 39s\n",
            "2100:\tlearn: 0.3499673\ttest: 0.6542302\tbest: 0.6542302 (2100)\ttotal: 6m 39s\tremaining: 2h 31m 57s\n",
            "2200:\tlearn: 0.3395120\ttest: 0.6507572\tbest: 0.6507572 (2200)\ttotal: 6m 58s\tremaining: 2h 31m 21s\n",
            "2300:\tlearn: 0.3295908\ttest: 0.6475564\tbest: 0.6475370 (2298)\ttotal: 7m 16s\tremaining: 2h 30m 47s\n",
            "2400:\tlearn: 0.3198844\ttest: 0.6446622\tbest: 0.6446607 (2399)\ttotal: 7m 34s\tremaining: 2h 30m 10s\n",
            "2500:\tlearn: 0.3109441\ttest: 0.6422519\tbest: 0.6422519 (2500)\ttotal: 7m 52s\tremaining: 2h 29m 37s\n",
            "2600:\tlearn: 0.3019726\ttest: 0.6395273\tbest: 0.6395158 (2599)\ttotal: 8m 11s\tremaining: 2h 29m 7s\n",
            "2700:\tlearn: 0.2931628\ttest: 0.6364337\tbest: 0.6364337 (2700)\ttotal: 8m 29s\tremaining: 2h 28m 40s\n",
            "2800:\tlearn: 0.2848822\ttest: 0.6339860\tbest: 0.6339860 (2800)\ttotal: 8m 48s\tremaining: 2h 28m 19s\n",
            "2900:\tlearn: 0.2770992\ttest: 0.6318714\tbest: 0.6318714 (2900)\ttotal: 9m 6s\tremaining: 2h 27m 53s\n",
            "3000:\tlearn: 0.2696668\ttest: 0.6296291\tbest: 0.6296291 (3000)\ttotal: 9m 24s\tremaining: 2h 27m 25s\n",
            "3100:\tlearn: 0.2628503\ttest: 0.6272768\tbest: 0.6272768 (3100)\ttotal: 9m 42s\tremaining: 2h 26m 54s\n",
            "3200:\tlearn: 0.2562671\ttest: 0.6249473\tbest: 0.6249473 (3200)\ttotal: 10m\tremaining: 2h 26m 25s\n",
            "3300:\tlearn: 0.2499849\ttest: 0.6232022\tbest: 0.6231980 (3299)\ttotal: 10m 18s\tremaining: 2h 25m 54s\n",
            "3400:\tlearn: 0.2438277\ttest: 0.6213113\tbest: 0.6213113 (3400)\ttotal: 10m 36s\tremaining: 2h 25m 25s\n",
            "3500:\tlearn: 0.2382632\ttest: 0.6196120\tbest: 0.6196120 (3500)\ttotal: 10m 54s\tremaining: 2h 24m 53s\n",
            "3600:\tlearn: 0.2323787\ttest: 0.6181827\tbest: 0.6181675 (3598)\ttotal: 11m 12s\tremaining: 2h 24m 27s\n",
            "3700:\tlearn: 0.2267541\ttest: 0.6166576\tbest: 0.6166576 (3700)\ttotal: 11m 30s\tremaining: 2h 24m 1s\n",
            "3800:\tlearn: 0.2216201\ttest: 0.6147539\tbest: 0.6147539 (3800)\ttotal: 11m 48s\tremaining: 2h 23m 32s\n",
            "3900:\tlearn: 0.2164251\ttest: 0.6135376\tbest: 0.6135376 (3899)\ttotal: 12m 6s\tremaining: 2h 23m 5s\n",
            "4000:\tlearn: 0.2110831\ttest: 0.6122261\tbest: 0.6122261 (4000)\ttotal: 12m 24s\tremaining: 2h 22m 45s\n",
            "4100:\tlearn: 0.2057039\ttest: 0.6108949\tbest: 0.6108949 (4100)\ttotal: 12m 43s\tremaining: 2h 22m 26s\n",
            "4200:\tlearn: 0.2008346\ttest: 0.6096827\tbest: 0.6096827 (4200)\ttotal: 13m 1s\tremaining: 2h 22m 1s\n",
            "4300:\tlearn: 0.1963258\ttest: 0.6084132\tbest: 0.6083816 (4296)\ttotal: 13m 19s\tremaining: 2h 21m 36s\n",
            "4400:\tlearn: 0.1917162\ttest: 0.6074009\tbest: 0.6074009 (4400)\ttotal: 13m 37s\tremaining: 2h 21m 13s\n",
            "4500:\tlearn: 0.1869558\ttest: 0.6060659\tbest: 0.6060659 (4500)\ttotal: 13m 56s\tremaining: 2h 20m 53s\n",
            "4600:\tlearn: 0.1826429\ttest: 0.6046416\tbest: 0.6046416 (4600)\ttotal: 14m 14s\tremaining: 2h 20m 31s\n",
            "4700:\tlearn: 0.1784391\ttest: 0.6031567\tbest: 0.6031567 (4700)\ttotal: 14m 32s\tremaining: 2h 20m 9s\n",
            "4800:\tlearn: 0.1746940\ttest: 0.6026207\tbest: 0.6026109 (4799)\ttotal: 14m 50s\tremaining: 2h 19m 45s\n",
            "4900:\tlearn: 0.1707590\ttest: 0.6018968\tbest: 0.6018673 (4888)\ttotal: 15m 8s\tremaining: 2h 19m 22s\n",
            "5000:\tlearn: 0.1670758\ttest: 0.6007687\tbest: 0.6007687 (5000)\ttotal: 15m 26s\tremaining: 2h 18m 59s\n",
            "5100:\tlearn: 0.1631920\ttest: 0.5999879\tbest: 0.5998783 (5094)\ttotal: 15m 45s\tremaining: 2h 18m 41s\n",
            "5200:\tlearn: 0.1597292\ttest: 0.5992766\tbest: 0.5992766 (5200)\ttotal: 16m 3s\tremaining: 2h 18m 20s\n",
            "5300:\tlearn: 0.1562728\ttest: 0.5982200\tbest: 0.5982151 (5299)\ttotal: 16m 21s\tremaining: 2h 17m 57s\n",
            "5400:\tlearn: 0.1527754\ttest: 0.5977962\tbest: 0.5977591 (5392)\ttotal: 16m 39s\tremaining: 2h 17m 36s\n",
            "5500:\tlearn: 0.1497640\ttest: 0.5973475\tbest: 0.5973475 (5500)\ttotal: 16m 57s\tremaining: 2h 17m 14s\n",
            "5600:\tlearn: 0.1466294\ttest: 0.5965552\tbest: 0.5965369 (5599)\ttotal: 17m 15s\tremaining: 2h 16m 51s\n",
            "5700:\tlearn: 0.1435127\ttest: 0.5960139\tbest: 0.5959445 (5680)\ttotal: 17m 34s\tremaining: 2h 16m 30s\n",
            "5800:\tlearn: 0.1402818\ttest: 0.5954796\tbest: 0.5954711 (5797)\ttotal: 17m 52s\tremaining: 2h 16m 11s\n",
            "5900:\tlearn: 0.1373336\ttest: 0.5945864\tbest: 0.5945864 (5900)\ttotal: 18m 10s\tremaining: 2h 15m 49s\n",
            "6000:\tlearn: 0.1341657\ttest: 0.5940498\tbest: 0.5940498 (6000)\ttotal: 18m 29s\tremaining: 2h 15m 31s\n",
            "6100:\tlearn: 0.1313477\ttest: 0.5934186\tbest: 0.5933930 (6097)\ttotal: 18m 47s\tremaining: 2h 15m 12s\n",
            "6200:\tlearn: 0.1286580\ttest: 0.5930473\tbest: 0.5930454 (6198)\ttotal: 19m 5s\tremaining: 2h 14m 52s\n",
            "6300:\tlearn: 0.1258401\ttest: 0.5923145\tbest: 0.5923145 (6300)\ttotal: 19m 24s\tremaining: 2h 14m 32s\n",
            "6400:\tlearn: 0.1231387\ttest: 0.5918185\tbest: 0.5918098 (6397)\ttotal: 19m 42s\tremaining: 2h 14m 12s\n",
            "6500:\tlearn: 0.1207100\ttest: 0.5913442\tbest: 0.5913382 (6498)\ttotal: 20m\tremaining: 2h 13m 51s\n",
            "6600:\tlearn: 0.1182512\ttest: 0.5909778\tbest: 0.5908988 (6594)\ttotal: 20m 18s\tremaining: 2h 13m 30s\n",
            "6700:\tlearn: 0.1158362\ttest: 0.5909366\tbest: 0.5907770 (6631)\ttotal: 20m 36s\tremaining: 2h 13m 9s\n",
            "bestTest = 0.5907769832\n",
            "bestIteration = 6631\n",
            "Shrink model to first 6632 iterations.\n",
            "Log Loss Fold 9 : 0.5907767917098168\n"
          ]
        }
      ]
    },
    {
      "cell_type": "code",
      "metadata": {
        "id": "bV7LaYiyDM-n",
        "colab": {
          "base_uri": "https://localhost:8080/"
        },
        "outputId": "541919e1-2387-4011-a143-f4f94f930fee"
      },
      "source": [
        "print('CATBOOST LOG LOSS :',log_loss(y,oof_cat)) #CATBOOST LOG LOSS : 0.629 # CATBOOST LOG LOSS : 0.5995157788796907"
      ],
      "execution_count": null,
      "outputs": [
        {
          "output_type": "stream",
          "name": "stdout",
          "text": [
            "CATBOOST LOG LOSS : 0.5830630440537761\n"
          ]
        }
      ]
    },
    {
      "cell_type": "code",
      "metadata": {
        "id": "yOeRPa0xFbB4",
        "colab": {
          "base_uri": "https://localhost:8080/",
          "height": 206
        },
        "outputId": "038358a5-9009-4acb-9cb6-36bbb14dd998"
      },
      "source": [
        "# In this part we format the DataFrame to have column names and order similar to the sample submission file. \n",
        "pred_df = pd.DataFrame(predictions_cat)\n",
        "pred_df = pred_df.rename(columns={\n",
        "    0:'Crop_ID_1',\n",
        "    1:'Crop_ID_2', \n",
        "    2:'Crop_ID_3',\n",
        "    3:'Crop_ID_4',\n",
        "    4:'Crop_ID_5',\n",
        "    5:'Crop_ID_6',\n",
        "    6:'Crop_ID_7',\n",
        "    7:'Crop_ID_8',\n",
        "    8:'Crop_ID_9'\n",
        "})\n",
        "pred_df['field_id'] = Test['field_id'].astype('int').values\n",
        "pred_df = pred_df[['field_id', 'Crop_ID_1', 'Crop_ID_2', 'Crop_ID_3', 'Crop_ID_4', 'Crop_ID_5', 'Crop_ID_6', 'Crop_ID_7', 'Crop_ID_8', 'Crop_ID_9']]\n",
        "pred_df.head()"
      ],
      "execution_count": null,
      "outputs": [
        {
          "output_type": "execute_result",
          "data": {
            "text/html": [
              "<div>\n",
              "<style scoped>\n",
              "    .dataframe tbody tr th:only-of-type {\n",
              "        vertical-align: middle;\n",
              "    }\n",
              "\n",
              "    .dataframe tbody tr th {\n",
              "        vertical-align: top;\n",
              "    }\n",
              "\n",
              "    .dataframe thead th {\n",
              "        text-align: right;\n",
              "    }\n",
              "</style>\n",
              "<table border=\"1\" class=\"dataframe\">\n",
              "  <thead>\n",
              "    <tr style=\"text-align: right;\">\n",
              "      <th></th>\n",
              "      <th>field_id</th>\n",
              "      <th>Crop_ID_1</th>\n",
              "      <th>Crop_ID_2</th>\n",
              "      <th>Crop_ID_3</th>\n",
              "      <th>Crop_ID_4</th>\n",
              "      <th>Crop_ID_5</th>\n",
              "      <th>Crop_ID_6</th>\n",
              "      <th>Crop_ID_7</th>\n",
              "      <th>Crop_ID_8</th>\n",
              "      <th>Crop_ID_9</th>\n",
              "    </tr>\n",
              "  </thead>\n",
              "  <tbody>\n",
              "    <tr>\n",
              "      <th>0</th>\n",
              "      <td>30</td>\n",
              "      <td>0.107095</td>\n",
              "      <td>0.262932</td>\n",
              "      <td>0.006750</td>\n",
              "      <td>0.000002</td>\n",
              "      <td>0.168061</td>\n",
              "      <td>0.301674</td>\n",
              "      <td>1.524572e-01</td>\n",
              "      <td>7.034903e-04</td>\n",
              "      <td>3.263414e-04</td>\n",
              "    </tr>\n",
              "    <tr>\n",
              "      <th>1</th>\n",
              "      <td>39</td>\n",
              "      <td>0.882075</td>\n",
              "      <td>0.089919</td>\n",
              "      <td>0.013722</td>\n",
              "      <td>0.005986</td>\n",
              "      <td>0.007382</td>\n",
              "      <td>0.000896</td>\n",
              "      <td>1.313991e-05</td>\n",
              "      <td>7.329836e-06</td>\n",
              "      <td>5.387162e-08</td>\n",
              "    </tr>\n",
              "    <tr>\n",
              "      <th>2</th>\n",
              "      <td>49</td>\n",
              "      <td>0.034494</td>\n",
              "      <td>0.408732</td>\n",
              "      <td>0.000852</td>\n",
              "      <td>0.000320</td>\n",
              "      <td>0.001234</td>\n",
              "      <td>0.513660</td>\n",
              "      <td>3.930285e-02</td>\n",
              "      <td>9.638408e-04</td>\n",
              "      <td>4.405246e-04</td>\n",
              "    </tr>\n",
              "    <tr>\n",
              "      <th>3</th>\n",
              "      <td>54</td>\n",
              "      <td>0.000011</td>\n",
              "      <td>0.000006</td>\n",
              "      <td>0.000068</td>\n",
              "      <td>0.999808</td>\n",
              "      <td>0.000104</td>\n",
              "      <td>0.000002</td>\n",
              "      <td>6.036557e-08</td>\n",
              "      <td>5.206062e-09</td>\n",
              "      <td>9.785724e-07</td>\n",
              "    </tr>\n",
              "    <tr>\n",
              "      <th>4</th>\n",
              "      <td>56</td>\n",
              "      <td>0.637855</td>\n",
              "      <td>0.059408</td>\n",
              "      <td>0.000907</td>\n",
              "      <td>0.000745</td>\n",
              "      <td>0.001980</td>\n",
              "      <td>0.081510</td>\n",
              "      <td>2.144926e-01</td>\n",
              "      <td>3.099521e-03</td>\n",
              "      <td>2.144264e-06</td>\n",
              "    </tr>\n",
              "  </tbody>\n",
              "</table>\n",
              "</div>"
            ],
            "text/plain": [
              "   field_id  Crop_ID_1  Crop_ID_2  ...     Crop_ID_7     Crop_ID_8     Crop_ID_9\n",
              "0        30   0.107095   0.262932  ...  1.524572e-01  7.034903e-04  3.263414e-04\n",
              "1        39   0.882075   0.089919  ...  1.313991e-05  7.329836e-06  5.387162e-08\n",
              "2        49   0.034494   0.408732  ...  3.930285e-02  9.638408e-04  4.405246e-04\n",
              "3        54   0.000011   0.000006  ...  6.036557e-08  5.206062e-09  9.785724e-07\n",
              "4        56   0.637855   0.059408  ...  2.144926e-01  3.099521e-03  2.144264e-06\n",
              "\n",
              "[5 rows x 10 columns]"
            ]
          },
          "metadata": {},
          "execution_count": 60
        }
      ]
    },
    {
      "cell_type": "code",
      "metadata": {
        "id": "5dCoOoIWeuME"
      },
      "source": [
        "# Write the predicted probabilites to a csv for submission\n",
        "pred_df.to_csv('S1_Catboost.csv', index=False)"
      ],
      "execution_count": null,
      "outputs": []
    },
    {
      "cell_type": "code",
      "metadata": {
        "id": "QrAnoPRTdfip"
      },
      "source": [
        "np.save('S1_oof_cat.npy',oof_cat)"
      ],
      "execution_count": null,
      "outputs": []
    }
  ]
}
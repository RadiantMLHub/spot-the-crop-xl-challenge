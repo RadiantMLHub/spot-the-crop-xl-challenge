{
  "nbformat": 4,
  "nbformat_minor": 0,
  "metadata": {
    "kernelspec": {
      "language": "python",
      "display_name": "Python 3",
      "name": "python3"
    },
    "language_info": {
      "name": "python",
      "version": "3.7.10",
      "mimetype": "text/x-python",
      "codemirror_mode": {
        "name": "ipython",
        "version": 3
      },
      "pygments_lexer": "ipython3",
      "nbconvert_exporter": "python",
      "file_extension": ".py"
    },
    "colab": {
      "name": "NN-s2.ipynb",
      "provenance": []
    }
  },
  "cells": [
    {
      "cell_type": "markdown",
      "metadata": {
        "id": "76a5c903",
        "papermill": {
          "duration": 0.055792,
          "end_time": "2021-09-30T06:46:36.950143",
          "exception": false,
          "start_time": "2021-09-30T06:46:36.894351",
          "status": "completed"
        },
        "tags": []
      },
      "source": [
        "# SETUP"
      ]
    },
    {
      "cell_type": "code",
      "metadata": {
        "id": "jH1vk5FfojAl"
      },
      "source": [
        "!pip install -r requirements_kaggle.txt -q"
      ],
      "execution_count": null,
      "outputs": []
    },
    {
      "cell_type": "markdown",
      "metadata": {
        "id": "m4QN2VCO_TNh"
      },
      "source": [
        "> To speed up the review process , i provided the ***drive id*** of the data i've created from the Train creation folder noteboooks .\n",
        "---\n",
        "> I  also add each data drive link in the Readme Pdf file attached with this solution"
      ]
    },
    {
      "cell_type": "code",
      "metadata": {
        "execution": {
          "iopub.execute_input": "2021-09-30T06:46:37.057399Z",
          "iopub.status.busy": "2021-09-30T06:46:37.056725Z",
          "iopub.status.idle": "2021-09-30T06:46:58.480731Z",
          "shell.execute_reply": "2021-09-30T06:46:58.480033Z",
          "shell.execute_reply.started": "2021-09-30T06:40:20.168742Z"
        },
        "papermill": {
          "duration": 21.482379,
          "end_time": "2021-09-30T06:46:58.480907",
          "exception": false,
          "start_time": "2021-09-30T06:46:36.998528",
          "status": "completed"
        },
        "tags": [],
        "id": "57fa6259"
      },
      "source": [
        "!pip install -q gdown"
      ],
      "execution_count": null,
      "outputs": []
    },
    {
      "cell_type": "code",
      "metadata": {
        "execution": {
          "iopub.execute_input": "2021-09-30T06:46:58.686826Z",
          "iopub.status.busy": "2021-09-30T06:46:58.683338Z",
          "iopub.status.idle": "2021-09-30T06:47:29.355912Z",
          "shell.execute_reply": "2021-09-30T06:47:29.356423Z",
          "shell.execute_reply.started": "2021-09-30T06:40:42.145842Z"
        },
        "papermill": {
          "duration": 30.736026,
          "end_time": "2021-09-30T06:47:29.356665",
          "exception": false,
          "start_time": "2021-09-30T06:46:58.620639",
          "status": "completed"
        },
        "tags": [],
        "id": "65fa5192"
      },
      "source": [
        "!gdown --id 1hNRbtcqd9F6stMOK1xAZApDITwAjiSDJ\n",
        "!gdown --id 1-QCmWsNGREXuWArifN0nD_Sp4hJxf0tu"
      ],
      "execution_count": null,
      "outputs": []
    },
    {
      "cell_type": "code",
      "metadata": {
        "execution": {
          "iopub.execute_input": "2021-09-30T06:47:29.591060Z",
          "iopub.status.busy": "2021-09-30T06:47:29.587631Z",
          "iopub.status.idle": "2021-09-30T06:47:59.497978Z",
          "shell.execute_reply": "2021-09-30T06:47:59.497344Z",
          "shell.execute_reply.started": "2021-09-30T06:41:15.674837Z"
        },
        "papermill": {
          "duration": 29.981016,
          "end_time": "2021-09-30T06:47:59.498133",
          "exception": false,
          "start_time": "2021-09-30T06:47:29.517117",
          "status": "completed"
        },
        "tags": [],
        "id": "2b3ea2cc"
      },
      "source": [
        "!gdown --id 1-47L_1NKLeVgW1vWmqXXXCuWZ3gwZWsS\n",
        "!gdown --id 1-aO4FEtv5CF-ZOcxDSO3jGEzPcIFdxgP"
      ],
      "execution_count": null,
      "outputs": []
    },
    {
      "cell_type": "code",
      "metadata": {
        "execution": {
          "iopub.execute_input": "2021-09-30T06:47:59.748679Z",
          "iopub.status.busy": "2021-09-30T06:47:59.747858Z",
          "iopub.status.idle": "2021-09-30T06:48:28.292944Z",
          "shell.execute_reply": "2021-09-30T06:48:28.292324Z",
          "shell.execute_reply.started": "2021-09-30T06:41:48.558626Z"
        },
        "papermill": {
          "duration": 28.624889,
          "end_time": "2021-09-30T06:48:28.293090",
          "exception": false,
          "start_time": "2021-09-30T06:47:59.668201",
          "status": "completed"
        },
        "tags": [],
        "id": "4a0f0ebd"
      },
      "source": [
        "!gdown --id 1-8J_xFgI0WKT5UXFnfH4q1KUw_KgNY37\n",
        "!gdown --id 1-a55a7N6a4SoqolPF_wI4C6Q70u_d7Hj"
      ],
      "execution_count": null,
      "outputs": []
    },
    {
      "cell_type": "code",
      "metadata": {
        "execution": {
          "iopub.execute_input": "2021-09-30T06:48:28.589656Z",
          "iopub.status.busy": "2021-09-30T06:48:28.585655Z",
          "iopub.status.idle": "2021-09-30T06:48:59.555103Z",
          "shell.execute_reply": "2021-09-30T06:48:59.554402Z",
          "shell.execute_reply.started": "2021-09-30T06:42:21.582947Z"
        },
        "papermill": {
          "duration": 31.063816,
          "end_time": "2021-09-30T06:48:59.555269",
          "exception": false,
          "start_time": "2021-09-30T06:48:28.491453",
          "status": "completed"
        },
        "tags": [],
        "id": "f31228f0"
      },
      "source": [
        "!gdown --id 1-BgXQwmXqBuk_P8VtvLfdLqy83dv56Kz\n",
        "!gdown --id 1-hQGF2TNBbsy3jsGNtndmK55egbdFDjs"
      ],
      "execution_count": null,
      "outputs": []
    },
    {
      "cell_type": "markdown",
      "metadata": {
        "id": "84022bc0",
        "papermill": {
          "duration": 0.067511,
          "end_time": "2021-09-30T06:48:59.690681",
          "exception": false,
          "start_time": "2021-09-30T06:48:59.623170",
          "status": "completed"
        },
        "tags": []
      },
      "source": [
        "# LIBRARIES"
      ]
    },
    {
      "cell_type": "code",
      "metadata": {
        "execution": {
          "iopub.execute_input": "2021-09-30T06:48:59.841117Z",
          "iopub.status.busy": "2021-09-30T06:48:59.840370Z",
          "iopub.status.idle": "2021-09-30T06:49:06.419754Z",
          "shell.execute_reply": "2021-09-30T06:49:06.420757Z",
          "shell.execute_reply.started": "2021-09-30T06:42:56.082578Z"
        },
        "papermill": {
          "duration": 6.65955,
          "end_time": "2021-09-30T06:49:06.421052",
          "exception": false,
          "start_time": "2021-09-30T06:48:59.761502",
          "status": "completed"
        },
        "tags": [],
        "id": "45574b83"
      },
      "source": [
        "#import necessary dependecies\n",
        "import os\n",
        "import numpy as np  \n",
        "import pandas as pd\n",
        "\n",
        "import random\n",
        "from tqdm import tqdm \n",
        "import copy\n",
        "\n",
        "from sklearn.preprocessing import  LabelEncoder\n",
        "from sklearn.model_selection import StratifiedKFold\n",
        "from sklearn.metrics import log_loss\n",
        "from sklearn.preprocessing import QuantileTransformer\n",
        "\n",
        "import warnings\n",
        "warnings.filterwarnings('ignore') \n",
        "\n",
        "# tf \n",
        "import tensorflow as tf\n",
        "from tensorflow.keras.layers import Concatenate , Input ,concatenate ,add\n",
        "from tensorflow.keras.models import Sequential , Model\n",
        "from tensorflow.keras.layers import Embedding\n",
        "from tensorflow.keras.layers import BatchNormalization\n",
        "from tensorflow.keras.layers import Dense, Activation, Flatten, Convolution1D, Dropout\n",
        "from tensorflow.keras.layers import GlobalMaxPooling1D, Conv1D, MaxPooling1D, Flatten, Bidirectional, SpatialDropout1D\n",
        "from tensorflow.keras.preprocessing import sequence, text\n",
        "from tensorflow.keras.callbacks import EarlyStopping\n",
        "from tensorflow.keras.metrics import Accuracy\n",
        "from tensorflow.keras.initializers import glorot_normal\n",
        "\n",
        "# fix seed\n",
        "tf.random.set_seed(111)\n",
        "np.random.seed(111)\n",
        "random.seed(111)"
      ],
      "execution_count": null,
      "outputs": []
    },
    {
      "cell_type": "markdown",
      "metadata": {
        "id": "uftWiLyuj9Na"
      },
      "source": [
        "## Train Creation"
      ]
    },
    {
      "cell_type": "code",
      "metadata": {
        "id": "Qtbt64vOkTOy"
      },
      "source": [
        "def create_train():\n",
        "  train =pd.read_csv(\"S2TrainObs1.csv\" )\n",
        "\n",
        "  train = train.groupby('field_id').median().reset_index().sort_values('field_id')\n",
        "  train.label = train.label.astype('int')\n",
        "  return train"
      ],
      "execution_count": null,
      "outputs": []
    },
    {
      "cell_type": "code",
      "metadata": {
        "id": "PvJMVAkO-fFs"
      },
      "source": [
        "def create_test():\n",
        "  test =pd.read_csv(\"S2TestObs1.csv\" )\n",
        "  return  test"
      ],
      "execution_count": null,
      "outputs": []
    },
    {
      "cell_type": "code",
      "metadata": {
        "id": "_3g9cwRp8_SF"
      },
      "source": [
        "def createObs2_train():\n",
        "  train =pd.read_csv(\"S2TrainObs2.csv\" )\n",
        "\n",
        "  train = train.groupby('field_id').median().reset_index().sort_values('field_id')\n",
        "  train.label = train.label.astype('int')\n",
        "  return train"
      ],
      "execution_count": null,
      "outputs": []
    },
    {
      "cell_type": "code",
      "metadata": {
        "id": "Re8kWJQWC8jK"
      },
      "source": [
        "def createObs2_test():\n",
        "  test =pd.read_csv(\"S2TestObs2.csv\" )\n",
        "  return test"
      ],
      "execution_count": null,
      "outputs": []
    },
    {
      "cell_type": "code",
      "metadata": {
        "id": "OsFgaYj7Z85k"
      },
      "source": [
        "def createObs3_train():\n",
        "  train =pd.read_csv(\"S2TrainObs3.csv\" )\n",
        "\n",
        "  train = train.groupby('field_id').median().reset_index().sort_values('field_id')\n",
        "  train.label = train.label.astype('int')\n",
        "  return train"
      ],
      "execution_count": null,
      "outputs": []
    },
    {
      "cell_type": "code",
      "metadata": {
        "id": "D6qjVNLtZ83D"
      },
      "source": [
        "def createObs3_test():\n",
        "  test =pd.read_csv(\"S2TestObs3.csv\" )\n",
        "  return test"
      ],
      "execution_count": null,
      "outputs": []
    },
    {
      "cell_type": "code",
      "metadata": {
        "id": "XGwIJQOjJnZh"
      },
      "source": [
        "def createObs4_train():\n",
        "  train =pd.read_csv(\"S2TrainObs4.csv\" )\n",
        "\n",
        "  train = train.groupby('field_id').median().reset_index().sort_values('field_id')\n",
        "  train.label = train.label.astype('int')\n",
        "  return train"
      ],
      "execution_count": null,
      "outputs": []
    },
    {
      "cell_type": "code",
      "metadata": {
        "id": "5LKqH411JnWz"
      },
      "source": [
        "def createObs4_test():\n",
        "  test =pd.read_csv(\"S2TestObs4.csv\" )\n",
        "  return test"
      ],
      "execution_count": null,
      "outputs": []
    },
    {
      "cell_type": "markdown",
      "metadata": {
        "id": "6926bf88",
        "papermill": {
          "duration": 0.066942,
          "end_time": "2021-09-30T06:49:08.119019",
          "exception": false,
          "start_time": "2021-09-30T06:49:08.052077",
          "status": "completed"
        },
        "tags": []
      },
      "source": [
        "# Feature Engineering"
      ]
    },
    {
      "cell_type": "code",
      "metadata": {
        "execution": {
          "iopub.execute_input": "2021-09-30T06:49:08.258128Z",
          "iopub.status.busy": "2021-09-30T06:49:08.257358Z",
          "iopub.status.idle": "2021-09-30T06:49:08.474133Z",
          "shell.execute_reply": "2021-09-30T06:49:08.473564Z",
          "shell.execute_reply.started": "2021-09-30T06:43:03.474868Z"
        },
        "id": "175229b3",
        "papermill": {
          "duration": 0.28741,
          "end_time": "2021-09-30T06:49:08.474282",
          "exception": false,
          "start_time": "2021-09-30T06:49:08.186872",
          "status": "completed"
        },
        "tags": []
      },
      "source": [
        "def process(T) :\n",
        "\n",
        "  # process bands\n",
        "  Bcols = T.filter(like='B').columns.tolist()\n",
        "  Vcols = T.filter(like='V').columns.tolist()\n",
        "  Obs1 = T.filter(like='Month4').columns.tolist()\n",
        "  Obs2 = T.filter(like='Month5').columns.tolist()\n",
        "  Obs3 = T.filter(like='Month6').columns.tolist()\n",
        "  Obs4 = T.filter(like='Month7').columns.tolist()\n",
        "  Obs5 = T.filter(like='Month8').columns.tolist()\n",
        "  Obs6 = T.filter(like='Month9').columns.tolist()\n",
        "  Obs7 = T.filter(like='Month10').columns.tolist()\n",
        "  Obs8 = T.filter(like='Month11').columns.tolist()\n",
        "\n",
        "\n",
        "  # vegetation indexes \n",
        "  B8cols = T.filter(like='B8_').columns.tolist()\n",
        "  B8cols = [x for x in B8cols if 'std' not in x]\n",
        "  \n",
        "  B4cols = T.filter(like='B4_').columns.tolist()\n",
        "  B4cols = [x for x in B4cols if 'std' not in x]\n",
        "\n",
        "  B3cols = T.filter(like='B3_').columns.tolist()\n",
        "  B3cols = [x for x in B3cols if 'std' not in x]\n",
        "\n",
        "  B5cols = T.filter(like='B5_').columns.tolist()\n",
        "  B5cols = [x for x in B5cols if 'std' not in x]\n",
        "\n",
        "  B3cols = T.filter(like='B3_').columns.tolist()\n",
        "  B3cols = [x for x in B3cols if 'std' not in x]\n",
        "\n",
        "  B2cols = T.filter(like='B2_').columns.tolist()\n",
        "  B2cols = [x for x in B2cols if 'std' not in x]\n",
        "\n",
        "  B7cols = T.filter(like='B7_').columns.tolist()\n",
        "  B7cols = [x for x in B7cols if 'std' not in x]\n",
        "\n",
        "  B8Acols = T.filter(like='B8A_').columns.tolist()\n",
        "  B8Acols = [x for x in B8Acols if 'std' not in x]\n",
        "\n",
        "  B6cols = T.filter(like='B6_').columns.tolist()\n",
        "  B6cols = [x for x in B6cols if 'std' not in x]\n",
        "  \n",
        "  B12cols = T.filter(like='B12_').columns.tolist()\n",
        "  B12cols = [x for x in B12cols if 'std' not in x]\n",
        "\n",
        "  B11cols = T.filter(like='B11_').columns.tolist()\n",
        "  B11cols = [x for x in B11cols if 'std' not in x]\n",
        "\n",
        "  B1cols = T.filter(like='B1_').columns.tolist()\n",
        "  B1cols = [x for x in B1cols if 'std' not in x]\n",
        "\n",
        "  B9cols = T.filter(like='B9_').columns.tolist()\n",
        "  B9cols = [x for x in B9cols if 'std' not in x]\n",
        "\n",
        "  L = 0.725\n",
        "  for b1,b2 ,b3 ,b4, b5 , b6, b7, b8 ,b8a ,b9,b11,b12 in zip(B1cols,B2cols,B3cols,B4cols,B5cols,B6cols,B7cols,B8cols,B8Acols,B9cols,B11cols,B12cols) :\n",
        "    T[f'NDVI_{b8.split(\"_\")[1]}']   = ((T[b8] - T[b4]) /  (T[b8] + T[b4])).values.clip(-5,5)\n",
        "    T[f'SAVI_{b8.split(\"_\")[1]}']   = ((T[b8] - T[b4]) /  (T[b8] + T[b4]+L) * (1.0 + L)).values.clip(-5,5)\n",
        "    # T[f'CCCI_{b8.split(\"_\")[1]}']   =  ((T[b8] - T[b5]) /  (T[b8] + T[b5])) / ((T[b8] - T[b4]) /  (T[b8] + T[b4]))\n",
        "    T[f'GRNDVI_{b8.split(\"_\")[1]}'] = ((T[b8] - (T[b3]+T[b4])) /  (T[b8] + (T[b3]+T[b4]))).values.clip(-5,5)\n",
        "    T[f'GNDVI_{b8.split(\"_\")[1]}']  = ((T[b8] - T[b3] ) /  (T[b8] + T[b3])).values.clip(-5,5)\n",
        "    # T[f'WDRVI_{b8.split(\"_\")[1]}']  = (0.1 * T[b5] - T[b4])/ (0.1 * T[b5] + T[b4])\n",
        "    T[f'NDRE_{b8.split(\"_\")[1]}']   = ((T[b5] - T[b4])/ (T[b5] + T[b4])).values.clip(-5,5)\n",
        "    T[f'EVI_{b8.split(\"_\")[1]}']    = (2.5 * (T[b8]  - T[b4] ) / ((T[b8]  + 6.0 * T[b4]  - 7.5 * T[b2]) + 1.0)).values.clip(min=-5,max=5)\n",
        "    T[f'WDRVI_{b8.split(\"_\")[1]}']  = (((8 * T[b8]) - T[b4])/ ((8* T[b8]) + T[b4])).values.clip(-5,5)\n",
        "    T[f'ExBlue_{b8.split(\"_\")[1]}']  = ((2 * T[b2]) - (T[b3]+T[b4]))\n",
        "    T[f'ExGreen_{b8.split(\"_\")[1]}']  = ((2 * T[b3]) - (T[b2]+T[b4]) )\n",
        "    T[f'NDRE7_{b8.split(\"_\")[1]}']   = ((T[b7] - T[b4])/ (T[b7] + T[b4])).values.clip(-5,5)\n",
        "    T[f'MTCI_{b8.split(\"_\")[1]}']   = ((T[b8a] - T[b6])/ (T[b7] + T[b6])).values.clip(-5,5)\n",
        "    T[f'VARI_{b8.split(\"_\")[1]}']   = ((T[b3] - T[b4])/ (T[b3] + T[b4] - T[b2])).values.clip(-5,5)\n",
        "    T[f'b3b1_{b8.split(\"_\")[1]}']  = (T[b3] - T[b1])/ (T[b3] + T[b1])    # B7  / B3\n",
        "    T[f'b11b8_{b8.split(\"_\")[1]}']  = (T[b11] - T[b8])/ (T[b11] + T[b8])    # B7  / B3\n",
        "    T[f'b12b11_{b8.split(\"_\")[1]}']  = (T[b12] - T[b11])/ (T[b12] + T[b11])    # B7  / B3\n",
        "    T[f'b3b4_{b8.split(\"_\")[1]}']  = (T[b3] - T[b4])/ (T[b3] + T[b4])    # B7  / B3\n",
        "    T[f'b9b4_{b8.split(\"_\")[1]}']  = (T[b9] - T[b4])/ (T[b9] + T[b4])    # B7  / B3\n",
        "    T[f'b5b3_{b8.split(\"_\")[1]}']  = (T[b5] - T[b3])/ (T[b5] + T[b3])    # B7  / B3\n",
        "    T[f'b12b3_{b8.split(\"_\")[1]}']  = (T[b12] - T[b3])/ (T[b12] + T[b3])    # B7  / B3\n",
        "    \n",
        "    T[f'b2b1_{b8.split(\"_\")[1]}']  = (T[b2] - T[b1])/ (T[b2] + T[b1])    # B7  / B3\n",
        "    T[f'b4b1_{b8.split(\"_\")[1]}']  = (T[b4] - T[b1])/ (T[b4] + T[b1])    # B7  / B3\n",
        "    T[f'b11b3_{b8.split(\"_\")[1]}']  = (T[b11] - T[b3])/ (T[b11] + T[b3]) \n",
        "    \n",
        "  for col in Bcols :\n",
        "    T[col] = np.sqrt(T[col])\n",
        "  \n",
        "  for col in Vcols :\n",
        "    T[col] = np.sqrt(T[col])\n",
        "    \n",
        "  for col1,col2,col3,col4,col5,col6,col7,col8 in zip(Obs1,Obs2,Obs3,Obs4,Obs5,Obs6,Obs7,Obs8) :\n",
        "    # T[f'{col1}_{col2}'] = T[[col1,col2]].mean(axis=1)\n",
        "    T[f'{col1.split(\"_\")[0]}_std'] = T[[col1,col2,col3,col4,col5,col6,col7,col8]].std(axis=1)\n",
        "    T[f'{col1.split(\"_\")[0]}_mean'] = T[[col1,col2,col3,col4,col5,col6,col7,col8]].mean(axis=1)\n",
        "\n",
        "    \n",
        "  # NDVI \n",
        "  T['water']       = T['NDVI_Month4'].apply(lambda x :1 if x<0 else 0)\n",
        "  T['dense_green'] = T['NDVI_Month4'].apply(lambda x :1 if x>=0.5 else 0)\n",
        "  T['not_green']   = T['NDVI_Month4'].apply(lambda x :1 if( (x>0) & (x<0.5)) else 0)\n",
        "\n",
        "  T['high_green'] = T['SAVI_Month4'].apply(lambda x :1 if x<0.1 else 0)\n",
        "  T['low_green']  = T['SAVI_Month4'].apply(lambda x :1 if x>=0.8 else 0)\n",
        "  T['chlorophyll_EVI'] = T['EVI_Month4'].apply(lambda x :1 if( (x>0.2) & (x<0.8)) else 0)\n",
        "\n",
        "  # process Vegetation indexes\n",
        "\n",
        "  ObsN   = T.filter(like='NDVI_').columns.tolist()\n",
        "  ObsSA  = T.filter(like='SAVI_').columns.tolist()\n",
        "  ObsCC  = T.filter(like='CCCI_').columns.tolist()\n",
        "  ObsWDR = T.filter(like='WDRVI_').columns.tolist()\n",
        "  ObsNDRE7 = T.filter(like='NDRE7_').columns.tolist()\n",
        "\n",
        "  return T"
      ],
      "execution_count": null,
      "outputs": []
    },
    {
      "cell_type": "code",
      "metadata": {
        "execution": {
          "iopub.execute_input": "2021-09-30T06:49:08.614494Z",
          "iopub.status.busy": "2021-09-30T06:49:08.613825Z",
          "iopub.status.idle": "2021-09-30T06:49:11.119834Z",
          "shell.execute_reply": "2021-09-30T06:49:11.119069Z",
          "shell.execute_reply.started": "2021-09-30T06:43:03.694802Z"
        },
        "id": "6e6eedaf",
        "papermill": {
          "duration": 2.57821,
          "end_time": "2021-09-30T06:49:11.120001",
          "exception": false,
          "start_time": "2021-09-30T06:49:08.541791",
          "status": "completed"
        },
        "tags": []
      },
      "source": [
        "Train = create_train()\n",
        "Test = create_test()"
      ],
      "execution_count": null,
      "outputs": []
    },
    {
      "cell_type": "code",
      "metadata": {
        "execution": {
          "iopub.execute_input": "2021-09-30T06:49:11.264264Z",
          "iopub.status.busy": "2021-09-30T06:49:11.263435Z",
          "iopub.status.idle": "2021-09-30T06:49:11.267122Z",
          "shell.execute_reply": "2021-09-30T06:49:11.267626Z",
          "shell.execute_reply.started": "2021-09-30T06:43:06.279535Z"
        },
        "id": "c85b6b51",
        "papermill": {
          "duration": 0.079049,
          "end_time": "2021-09-30T06:49:11.267791",
          "exception": false,
          "start_time": "2021-09-30T06:49:11.188742",
          "status": "completed"
        },
        "tags": []
      },
      "source": [
        "Train.shape , Test.shape"
      ],
      "execution_count": null,
      "outputs": []
    },
    {
      "cell_type": "code",
      "metadata": {
        "execution": {
          "iopub.execute_input": "2021-09-30T06:49:11.408901Z",
          "iopub.status.busy": "2021-09-30T06:49:11.407943Z",
          "iopub.status.idle": "2021-09-30T06:49:13.841565Z",
          "shell.execute_reply": "2021-09-30T06:49:13.840510Z",
          "shell.execute_reply.started": "2021-09-30T06:43:06.290956Z"
        },
        "papermill": {
          "duration": 2.50639,
          "end_time": "2021-09-30T06:49:13.841747",
          "exception": false,
          "start_time": "2021-09-30T06:49:11.335357",
          "status": "completed"
        },
        "tags": [],
        "id": "8bbfa494"
      },
      "source": [
        "Train2 = createObs2_train()\n",
        "Test2 = createObs2_test()"
      ],
      "execution_count": null,
      "outputs": []
    },
    {
      "cell_type": "code",
      "metadata": {
        "execution": {
          "iopub.execute_input": "2021-09-30T06:49:13.989046Z",
          "iopub.status.busy": "2021-09-30T06:49:13.988147Z",
          "iopub.status.idle": "2021-09-30T06:49:13.992128Z",
          "shell.execute_reply": "2021-09-30T06:49:13.991513Z",
          "shell.execute_reply.started": "2021-09-30T06:43:08.665512Z"
        },
        "papermill": {
          "duration": 0.082611,
          "end_time": "2021-09-30T06:49:13.992262",
          "exception": false,
          "start_time": "2021-09-30T06:49:13.909651",
          "status": "completed"
        },
        "tags": [],
        "id": "aa4c2832"
      },
      "source": [
        "Train2.shape , Test2.shape"
      ],
      "execution_count": null,
      "outputs": []
    },
    {
      "cell_type": "code",
      "metadata": {
        "execution": {
          "iopub.execute_input": "2021-09-30T06:49:14.137706Z",
          "iopub.status.busy": "2021-09-30T06:49:14.136302Z",
          "iopub.status.idle": "2021-09-30T06:49:16.491321Z",
          "shell.execute_reply": "2021-09-30T06:49:16.490656Z",
          "shell.execute_reply.started": "2021-09-30T06:43:08.674638Z"
        },
        "papermill": {
          "duration": 2.429268,
          "end_time": "2021-09-30T06:49:16.491481",
          "exception": false,
          "start_time": "2021-09-30T06:49:14.062213",
          "status": "completed"
        },
        "tags": [],
        "id": "8b1c8927"
      },
      "source": [
        "Train3 = createObs3_train()\n",
        "Test3 = createObs3_test()"
      ],
      "execution_count": null,
      "outputs": []
    },
    {
      "cell_type": "code",
      "metadata": {
        "execution": {
          "iopub.execute_input": "2021-09-30T06:49:16.633905Z",
          "iopub.status.busy": "2021-09-30T06:49:16.633020Z",
          "iopub.status.idle": "2021-09-30T06:49:16.636062Z",
          "shell.execute_reply": "2021-09-30T06:49:16.636571Z",
          "shell.execute_reply.started": "2021-09-30T06:43:11.036012Z"
        },
        "papermill": {
          "duration": 0.077121,
          "end_time": "2021-09-30T06:49:16.636750",
          "exception": false,
          "start_time": "2021-09-30T06:49:16.559629",
          "status": "completed"
        },
        "tags": [],
        "id": "c544ba12"
      },
      "source": [
        "Train3.shape , Test3.shape"
      ],
      "execution_count": null,
      "outputs": []
    },
    {
      "cell_type": "code",
      "metadata": {
        "execution": {
          "iopub.execute_input": "2021-09-30T06:49:16.779308Z",
          "iopub.status.busy": "2021-09-30T06:49:16.778637Z",
          "iopub.status.idle": "2021-09-30T06:49:19.051935Z",
          "shell.execute_reply": "2021-09-30T06:49:19.051239Z",
          "shell.execute_reply.started": "2021-09-30T06:43:11.044229Z"
        },
        "papermill": {
          "duration": 2.34657,
          "end_time": "2021-09-30T06:49:19.052091",
          "exception": false,
          "start_time": "2021-09-30T06:49:16.705521",
          "status": "completed"
        },
        "tags": [],
        "id": "2ff7aecd"
      },
      "source": [
        "Train4 = createObs4_train()\n",
        "Test4 = createObs4_test()"
      ],
      "execution_count": null,
      "outputs": []
    },
    {
      "cell_type": "code",
      "metadata": {
        "execution": {
          "iopub.execute_input": "2021-09-30T06:49:19.217116Z",
          "iopub.status.busy": "2021-09-30T06:49:19.216319Z",
          "iopub.status.idle": "2021-09-30T06:49:19.220702Z",
          "shell.execute_reply": "2021-09-30T06:49:19.221488Z",
          "shell.execute_reply.started": "2021-09-30T06:43:13.287488Z"
        },
        "papermill": {
          "duration": 0.091338,
          "end_time": "2021-09-30T06:49:19.221742",
          "exception": false,
          "start_time": "2021-09-30T06:49:19.130404",
          "status": "completed"
        },
        "tags": [],
        "id": "058f6430"
      },
      "source": [
        "Train4.shape , Test4.shape"
      ],
      "execution_count": null,
      "outputs": []
    },
    {
      "cell_type": "code",
      "metadata": {
        "execution": {
          "iopub.execute_input": "2021-09-30T06:49:19.380812Z",
          "iopub.status.busy": "2021-09-30T06:49:19.379308Z",
          "iopub.status.idle": "2021-09-30T06:49:25.813393Z",
          "shell.execute_reply": "2021-09-30T06:49:25.812734Z",
          "shell.execute_reply.started": "2021-09-30T06:43:13.296429Z"
        },
        "id": "2fead4ca",
        "papermill": {
          "duration": 6.512531,
          "end_time": "2021-09-30T06:49:25.813551",
          "exception": false,
          "start_time": "2021-09-30T06:49:19.301020",
          "status": "completed"
        },
        "tags": []
      },
      "source": [
        "Train = process(Train)\n",
        "Test = process(Test)"
      ],
      "execution_count": null,
      "outputs": []
    },
    {
      "cell_type": "code",
      "metadata": {
        "execution": {
          "iopub.execute_input": "2021-09-30T06:49:25.958611Z",
          "iopub.status.busy": "2021-09-30T06:49:25.957937Z",
          "iopub.status.idle": "2021-09-30T06:49:25.960333Z",
          "shell.execute_reply": "2021-09-30T06:49:25.960907Z",
          "shell.execute_reply.started": "2021-09-30T06:43:19.686023Z"
        },
        "papermill": {
          "duration": 0.079039,
          "end_time": "2021-09-30T06:49:25.961071",
          "exception": false,
          "start_time": "2021-09-30T06:49:25.882032",
          "status": "completed"
        },
        "tags": [],
        "id": "5d691bb9"
      },
      "source": [
        "Train.shape , Test.shape"
      ],
      "execution_count": null,
      "outputs": []
    },
    {
      "cell_type": "code",
      "metadata": {
        "execution": {
          "iopub.execute_input": "2021-09-30T06:49:26.101292Z",
          "iopub.status.busy": "2021-09-30T06:49:26.100684Z",
          "iopub.status.idle": "2021-09-30T06:49:32.436176Z",
          "shell.execute_reply": "2021-09-30T06:49:32.436744Z",
          "shell.execute_reply.started": "2021-09-30T06:43:19.699989Z"
        },
        "papermill": {
          "duration": 6.407202,
          "end_time": "2021-09-30T06:49:32.436919",
          "exception": false,
          "start_time": "2021-09-30T06:49:26.029717",
          "status": "completed"
        },
        "tags": [],
        "id": "69253841"
      },
      "source": [
        "Train2 = process(Train2)\n",
        "Test2 = process(Test2)"
      ],
      "execution_count": null,
      "outputs": []
    },
    {
      "cell_type": "code",
      "metadata": {
        "execution": {
          "iopub.execute_input": "2021-09-30T06:49:32.581894Z",
          "iopub.status.busy": "2021-09-30T06:49:32.581072Z",
          "iopub.status.idle": "2021-09-30T06:49:32.583700Z",
          "shell.execute_reply": "2021-09-30T06:49:32.584193Z",
          "shell.execute_reply.started": "2021-09-30T06:43:26.107706Z"
        },
        "papermill": {
          "duration": 0.077177,
          "end_time": "2021-09-30T06:49:32.584356",
          "exception": false,
          "start_time": "2021-09-30T06:49:32.507179",
          "status": "completed"
        },
        "tags": [],
        "id": "0ecc611d"
      },
      "source": [
        "Train2.shape , Test2.shape"
      ],
      "execution_count": null,
      "outputs": []
    },
    {
      "cell_type": "code",
      "metadata": {
        "execution": {
          "iopub.execute_input": "2021-09-30T06:49:32.727572Z",
          "iopub.status.busy": "2021-09-30T06:49:32.726923Z",
          "iopub.status.idle": "2021-09-30T06:49:39.112039Z",
          "shell.execute_reply": "2021-09-30T06:49:39.111395Z",
          "shell.execute_reply.started": "2021-09-30T06:43:26.116123Z"
        },
        "papermill": {
          "duration": 6.45904,
          "end_time": "2021-09-30T06:49:39.112194",
          "exception": false,
          "start_time": "2021-09-30T06:49:32.653154",
          "status": "completed"
        },
        "tags": [],
        "id": "706dc857"
      },
      "source": [
        "Train3 = process(Train3)\n",
        "Test3 = process(Test3)"
      ],
      "execution_count": null,
      "outputs": []
    },
    {
      "cell_type": "code",
      "metadata": {
        "execution": {
          "iopub.execute_input": "2021-09-30T06:49:39.256615Z",
          "iopub.status.busy": "2021-09-30T06:49:39.255819Z",
          "iopub.status.idle": "2021-09-30T06:49:39.259454Z",
          "shell.execute_reply": "2021-09-30T06:49:39.258943Z",
          "shell.execute_reply.started": "2021-09-30T06:43:32.542400Z"
        },
        "papermill": {
          "duration": 0.077987,
          "end_time": "2021-09-30T06:49:39.259607",
          "exception": false,
          "start_time": "2021-09-30T06:49:39.181620",
          "status": "completed"
        },
        "tags": [],
        "id": "63d037a5"
      },
      "source": [
        "Train3.shape , Test3.shape"
      ],
      "execution_count": null,
      "outputs": []
    },
    {
      "cell_type": "code",
      "metadata": {
        "execution": {
          "iopub.execute_input": "2021-09-30T06:49:39.402007Z",
          "iopub.status.busy": "2021-09-30T06:49:39.401207Z",
          "iopub.status.idle": "2021-09-30T06:49:45.818753Z",
          "shell.execute_reply": "2021-09-30T06:49:45.819282Z",
          "shell.execute_reply.started": "2021-09-30T06:43:32.549328Z"
        },
        "papermill": {
          "duration": 6.490539,
          "end_time": "2021-09-30T06:49:45.819455",
          "exception": false,
          "start_time": "2021-09-30T06:49:39.328916",
          "status": "completed"
        },
        "tags": [],
        "id": "1ecde2e6"
      },
      "source": [
        "Train4 = process(Train4)\n",
        "Test4 = process(Test4)"
      ],
      "execution_count": null,
      "outputs": []
    },
    {
      "cell_type": "code",
      "metadata": {
        "execution": {
          "iopub.execute_input": "2021-09-30T06:49:45.962696Z",
          "iopub.status.busy": "2021-09-30T06:49:45.961986Z",
          "iopub.status.idle": "2021-09-30T06:49:45.968148Z",
          "shell.execute_reply": "2021-09-30T06:49:45.967648Z",
          "shell.execute_reply.started": "2021-09-30T06:43:38.969605Z"
        },
        "papermill": {
          "duration": 0.078835,
          "end_time": "2021-09-30T06:49:45.968289",
          "exception": false,
          "start_time": "2021-09-30T06:49:45.889454",
          "status": "completed"
        },
        "tags": [],
        "id": "4c562a1c"
      },
      "source": [
        "Train4.shape , Test4.shape"
      ],
      "execution_count": null,
      "outputs": []
    },
    {
      "cell_type": "code",
      "metadata": {
        "execution": {
          "iopub.execute_input": "2021-09-30T06:49:46.113400Z",
          "iopub.status.busy": "2021-09-30T06:49:46.112761Z",
          "iopub.status.idle": "2021-09-30T06:49:46.713603Z",
          "shell.execute_reply": "2021-09-30T06:49:46.714154Z",
          "shell.execute_reply.started": "2021-09-30T06:43:38.976433Z"
        },
        "papermill": {
          "duration": 0.675105,
          "end_time": "2021-09-30T06:49:46.714326",
          "exception": false,
          "start_time": "2021-09-30T06:49:46.039221",
          "status": "completed"
        },
        "tags": [],
        "id": "fbf6ebc1"
      },
      "source": [
        "Train = pd.concat([Train,Train2.drop(columns=['field_id','label']),Train3.drop(columns=['field_id','label']),Train4.drop(columns=['field_id','label'])],axis=1)\n",
        "Train.shape"
      ],
      "execution_count": null,
      "outputs": []
    },
    {
      "cell_type": "code",
      "metadata": {
        "execution": {
          "iopub.execute_input": "2021-09-30T06:49:46.861676Z",
          "iopub.status.busy": "2021-09-30T06:49:46.860976Z",
          "iopub.status.idle": "2021-09-30T06:49:47.684820Z",
          "shell.execute_reply": "2021-09-30T06:49:47.684282Z",
          "shell.execute_reply.started": "2021-09-30T06:43:39.655710Z"
        },
        "papermill": {
          "duration": 0.89734,
          "end_time": "2021-09-30T06:49:47.684967",
          "exception": false,
          "start_time": "2021-09-30T06:49:46.787627",
          "status": "completed"
        },
        "tags": [],
        "id": "fbb6d7e6"
      },
      "source": [
        "Test = pd.concat([Test,Test2.drop(columns=['field_id']),Test3.drop(columns=['field_id'])],axis=1)\n",
        "Test = pd.merge(Test,Test4,on='field_id',how='left')\n",
        "Test.shape"
      ],
      "execution_count": null,
      "outputs": []
    },
    {
      "cell_type": "markdown",
      "metadata": {
        "id": "44f19da4",
        "papermill": {
          "duration": 0.07037,
          "end_time": "2021-09-30T06:49:47.826249",
          "exception": false,
          "start_time": "2021-09-30T06:49:47.755879",
          "status": "completed"
        },
        "tags": []
      },
      "source": [
        "# MODELING"
      ]
    },
    {
      "cell_type": "code",
      "metadata": {
        "execution": {
          "iopub.execute_input": "2021-09-30T06:49:48.126518Z",
          "iopub.status.busy": "2021-09-30T06:49:48.125875Z",
          "iopub.status.idle": "2021-09-30T06:49:50.920093Z",
          "shell.execute_reply": "2021-09-30T06:49:50.918632Z",
          "shell.execute_reply.started": "2021-09-30T06:43:40.487129Z"
        },
        "papermill": {
          "duration": 2.87097,
          "end_time": "2021-09-30T06:49:50.920300",
          "exception": false,
          "start_time": "2021-09-30T06:49:48.049330",
          "status": "completed"
        },
        "tags": [],
        "id": "2b55c009"
      },
      "source": [
        "X    = Train.fillna(-999).replace(np.inf,9999).drop(['field_id','label'], axis=1)\n",
        "y    = Train.label\n",
        "TEST = Test.fillna(-999).replace(np.inf,9999).drop(['field_id'], axis=1)"
      ],
      "execution_count": null,
      "outputs": []
    },
    {
      "cell_type": "code",
      "metadata": {
        "execution": {
          "iopub.execute_input": "2021-09-30T06:49:51.076944Z",
          "iopub.status.busy": "2021-09-30T06:49:51.075962Z",
          "iopub.status.idle": "2021-09-30T06:49:51.078994Z",
          "shell.execute_reply": "2021-09-30T06:49:51.078326Z",
          "shell.execute_reply.started": "2021-09-30T06:43:43.345573Z"
        },
        "papermill": {
          "duration": 0.082099,
          "end_time": "2021-09-30T06:49:51.079130",
          "exception": false,
          "start_time": "2021-09-30T06:49:50.997031",
          "status": "completed"
        },
        "tags": [],
        "id": "c9050289"
      },
      "source": [
        "TEST.columns = X.columns.tolist()"
      ],
      "execution_count": null,
      "outputs": []
    },
    {
      "cell_type": "code",
      "metadata": {
        "execution": {
          "iopub.execute_input": "2021-09-30T06:49:51.230613Z",
          "iopub.status.busy": "2021-09-30T06:49:51.229894Z",
          "iopub.status.idle": "2021-09-30T06:50:45.013930Z",
          "shell.execute_reply": "2021-09-30T06:50:45.013314Z",
          "shell.execute_reply.started": "2021-09-30T06:43:43.351545Z"
        },
        "papermill": {
          "duration": 53.863072,
          "end_time": "2021-09-30T06:50:45.014080",
          "exception": false,
          "start_time": "2021-09-30T06:49:51.151008",
          "status": "completed"
        },
        "tags": [],
        "id": "af4d2a11"
      },
      "source": [
        "data = pd.concat([X,TEST])\n",
        "qt=QuantileTransformer(output_distribution=\"normal\",random_state=42)\n",
        "data= pd.DataFrame(qt.fit_transform(data),columns=X.columns)"
      ],
      "execution_count": null,
      "outputs": []
    },
    {
      "cell_type": "code",
      "metadata": {
        "execution": {
          "iopub.execute_input": "2021-09-30T06:50:45.163434Z",
          "iopub.status.busy": "2021-09-30T06:50:45.162777Z",
          "iopub.status.idle": "2021-09-30T06:50:45.164711Z",
          "shell.execute_reply": "2021-09-30T06:50:45.165189Z",
          "shell.execute_reply.started": "2021-09-30T06:44:37.383980Z"
        },
        "papermill": {
          "duration": 0.080733,
          "end_time": "2021-09-30T06:50:45.165364",
          "exception": false,
          "start_time": "2021-09-30T06:50:45.084631",
          "status": "completed"
        },
        "tags": [],
        "id": "5cd9c0e3"
      },
      "source": [
        "X = data[:X.shape[0]].values\n",
        "TEST = data[X.shape[0]:].values"
      ],
      "execution_count": null,
      "outputs": []
    },
    {
      "cell_type": "code",
      "metadata": {
        "execution": {
          "iopub.execute_input": "2021-09-30T06:50:45.310489Z",
          "iopub.status.busy": "2021-09-30T06:50:45.309869Z",
          "iopub.status.idle": "2021-09-30T06:50:45.314373Z",
          "shell.execute_reply": "2021-09-30T06:50:45.314929Z",
          "shell.execute_reply.started": "2021-09-30T06:44:37.396514Z"
        },
        "papermill": {
          "duration": 0.078808,
          "end_time": "2021-09-30T06:50:45.315100",
          "exception": false,
          "start_time": "2021-09-30T06:50:45.236292",
          "status": "completed"
        },
        "tags": [],
        "id": "f03c2311"
      },
      "source": [
        "X.shape  , TEST.shape"
      ],
      "execution_count": null,
      "outputs": []
    },
    {
      "cell_type": "markdown",
      "metadata": {
        "papermill": {
          "duration": 0.070998,
          "end_time": "2021-09-30T06:50:45.457240",
          "exception": false,
          "start_time": "2021-09-30T06:50:45.386242",
          "status": "completed"
        },
        "tags": [],
        "id": "3bf96519"
      },
      "source": [
        "# Neural Network"
      ]
    },
    {
      "cell_type": "code",
      "metadata": {
        "execution": {
          "iopub.execute_input": "2021-09-30T06:50:45.917349Z",
          "iopub.status.busy": "2021-09-30T06:50:45.916618Z",
          "iopub.status.idle": "2021-09-30T06:50:45.928604Z",
          "shell.execute_reply": "2021-09-30T06:50:45.929128Z",
          "shell.execute_reply.started": "2021-09-30T06:44:37.442214Z"
        },
        "papermill": {
          "duration": 0.086088,
          "end_time": "2021-09-30T06:50:45.929326",
          "exception": false,
          "start_time": "2021-09-30T06:50:45.843238",
          "status": "completed"
        },
        "tags": [],
        "id": "90a0f8ea"
      },
      "source": [
        "def CUSTOM_ANN_CNN(shape1) :\n",
        "  # define two sets of inputs\n",
        "  input_1 = tf.keras.layers.Input(shape = (shape1),name='20_Feats')\n",
        "  input_2 = tf.keras.layers.Input(shape = (shape1, 1),name='20_Feats_Conv')\n",
        "  \n",
        "  # create Convolution Layer \n",
        "  head_conv = Convolution1D(filters=128, kernel_size=1, input_shape=(shape1, 1),name='Conv_Layer')(input_2)\n",
        "  head_conv = Activation('relu',name='Conv_Activation')(head_conv)\n",
        "  head_conv = Flatten()(head_conv)\n",
        "  \n",
        "  # create a simple 2 layers for input_1\n",
        "  # Layer 1 -- input_1\n",
        "  head_1 = tf.keras.layers.BatchNormalization()(input_1)\n",
        "  head_1 = tf.keras.layers.Dense(512, activation = \"relu\")(head_1)\n",
        "  head_1 = tf.keras.layers.Dropout(0.15)(head_1)\n",
        "  # Layer 2 -- input_1\n",
        "  head_1 = tf.keras.layers.BatchNormalization()(head_1)\n",
        "  head_1 = tf.keras.layers.Dense(256, activation = \"relu\")(head_1)\n",
        "  head_1 = tf.keras.layers.Dropout(0.15)(head_1)\n",
        "    \n",
        "  head_1 = tf.keras.layers.BatchNormalization()(head_1)  \n",
        "  head_1 = tf.keras.layers.add([head_1, Dense(256, activation='relu')(head_1)])\n",
        "  head_1 = tf.keras.layers.Dropout(0.15)(head_1)\n",
        "\n",
        "  # Layer 3 -- input_1\n",
        "  head_1 = tf.keras.layers.BatchNormalization()(head_1)\n",
        "  head_1 = tf.keras.layers.Dense(128, activation = \"relu\")(head_1)\n",
        "  out_1 = tf.keras.layers.Dropout(0.2)(head_1)\n",
        "\n",
        "\n",
        "  output = tf.keras.layers.Dense(9,activation = \"softmax\",name='FC_Output')(out_1)\n",
        "  \n",
        "  model = tf.keras.models.Model(inputs = [input_1,input_2], outputs = output)\n",
        "  model.compile(loss='categorical_crossentropy', optimizer='adam')\n",
        "  \n",
        "  return model "
      ],
      "execution_count": null,
      "outputs": []
    },
    {
      "cell_type": "code",
      "metadata": {
        "execution": {
          "iopub.execute_input": "2021-09-30T06:50:46.076784Z",
          "iopub.status.busy": "2021-09-30T06:50:46.076094Z",
          "iopub.status.idle": "2021-09-30T06:50:46.080376Z",
          "shell.execute_reply": "2021-09-30T06:50:46.080883Z",
          "shell.execute_reply.started": "2021-09-30T06:44:37.461371Z"
        },
        "papermill": {
          "duration": 0.079822,
          "end_time": "2021-09-30T06:50:46.081072",
          "exception": false,
          "start_time": "2021-09-30T06:50:46.001250",
          "status": "completed"
        },
        "tags": [],
        "id": "ab751607"
      },
      "source": [
        "# Function to seed everything\n",
        "\n",
        "def seed_everything(seed):\n",
        "    random.seed(seed)\n",
        "    np.random.seed(seed)\n",
        "    os.environ['PYTHONHASHSEED'] = str(seed)\n",
        "    tf.random.set_seed(seed)"
      ],
      "execution_count": null,
      "outputs": []
    },
    {
      "cell_type": "code",
      "metadata": {
        "execution": {
          "iopub.execute_input": "2021-09-30T06:50:46.227988Z",
          "iopub.status.busy": "2021-09-30T06:50:46.227335Z",
          "iopub.status.idle": "2021-09-30T06:50:46.559608Z",
          "shell.execute_reply": "2021-09-30T06:50:46.560093Z",
          "shell.execute_reply.started": "2021-09-30T06:44:37.480689Z"
        },
        "papermill": {
          "duration": 0.407177,
          "end_time": "2021-09-30T06:50:46.560288",
          "exception": false,
          "start_time": "2021-09-30T06:50:46.153111",
          "status": "completed"
        },
        "tags": [],
        "id": "80560620"
      },
      "source": [
        "# reshape test data For Conv Layers Input\n",
        "X_test_r = np.zeros((len(TEST), X.shape[1], 1))\n",
        "X_test_r[:, :, 0] = TEST[:, :]\n",
        "\n",
        "y_train = y.copy()\n",
        "n_labels = y.unique().shape[0]\n",
        "\n",
        "# we need to binarize the labels for the neural net\n",
        "\n",
        "LE = LabelEncoder()\n",
        "ytrain_enc = pd.get_dummies(y_train).values\n",
        "TARGETS = pd.get_dummies(y_train).columns\n",
        "\n",
        "y_oof = np.zeros([X.shape[0], n_labels])\n",
        "y_test = np.zeros([TEST.shape[0], n_labels])\n",
        "\n",
        "i = 0\n",
        "metrics = list()\n",
        "apply_aug = False"
      ],
      "execution_count": null,
      "outputs": []
    },
    {
      "cell_type": "code",
      "metadata": {
        "execution": {
          "iopub.execute_input": "2021-09-30T06:50:46.704867Z",
          "iopub.status.busy": "2021-09-30T06:50:46.704168Z",
          "iopub.status.idle": "2021-09-30T09:38:29.150527Z",
          "shell.execute_reply": "2021-09-30T09:38:29.151267Z",
          "shell.execute_reply.started": "2021-09-30T06:44:37.812365Z"
        },
        "papermill": {
          "duration": 10062.520764,
          "end_time": "2021-09-30T09:38:29.151560",
          "exception": false,
          "start_time": "2021-09-30T06:50:46.630796",
          "status": "completed"
        },
        "tags": [],
        "id": "e2d8f238"
      },
      "source": [
        "n_splits = 10\n",
        "kf = StratifiedKFold(n_splits=n_splits, random_state=47, shuffle=True)\n",
        "\n",
        "for idx , (tr_idx, val_idx) in enumerate(kf.split(X, y_train)):\n",
        "    # Verbosity\n",
        "    VERBOSE = 0\n",
        "\n",
        "    early_stopping = tf.keras.callbacks.EarlyStopping(monitor = 'val_loss',\n",
        "                                                      mode = 'min',\n",
        "                                                      patience = 25,\n",
        "                                                      restore_best_weights = True,\n",
        "                                                      verbose = 1)\n",
        "    checkpoint = tf.keras.callbacks.ModelCheckpoint(f'Radiant_NN_{idx}.h5',\n",
        "                                                    monitor = 'val_loss',\n",
        "                                                    verbose = 1,\n",
        "                                                    save_best_only = True,\n",
        "                                                    save_weights_only = True)\n",
        "\n",
        "    X_tr, X_vl = X[tr_idx, :], X[val_idx, :]\n",
        "    y_tr, y_vl = ytrain_enc[tr_idx], ytrain_enc[val_idx]\n",
        "    y_train_, y_vld_ = y_train[tr_idx], y_train[val_idx]\n",
        "\n",
        "    # reshape train data For Conv Layers Input\n",
        "    X_train_r = np.zeros((len(X_tr), X.shape[1], 1))\n",
        "    X_train_r[:, :, 0] = X_tr[:, :]\n",
        "\n",
        "    # reshape validation data For Conv Layers Input\n",
        "    X_valid_r = np.zeros((len(X_vl), X.shape[1], 1))\n",
        "    X_valid_r[:, :, 0] = X_vl[:, :]\n",
        "    \n",
        "    # 1 CNN ANN\n",
        "    seed_everything(seed=1)\n",
        "    model_cnn_nn = CUSTOM_ANN_CNN(shape1=X.shape[1])\n",
        "    model_cnn_nn.fit([X_tr,X_train_r], y=y_tr, batch_size=64, epochs=200, verbose=1,\n",
        "                     validation_data=([X_vl,X_valid_r], y_vl),\n",
        "                     callbacks = [early_stopping,  checkpoint])\n",
        "    \n",
        "    model_cnn_nn = CUSTOM_ANN_CNN(shape1=X.shape[1])\n",
        "    model_cnn_nn.load_weights(f'Radiant_NN_{idx}.h5')\n",
        "    y_pred_cnn_nn = model_cnn_nn.predict([X_vl,X_valid_r])\n",
        "    test_pred_cnn_nn = model_cnn_nn.predict([TEST,X_test_r])\n",
        "    \n",
        "    \n",
        "    y_oof[val_idx, :] = y_pred_cnn_nn\n",
        "    y_tr, y_vl = y_train.iloc[tr_idx], y_train.iloc[val_idx]\n",
        "    metric = log_loss(y_vl, y_pred_cnn_nn)\n",
        "    print(\"fold #{} Log Loss: {}\".format(i, metric))\n",
        "    \n",
        "    i += 1\n",
        "    test_pred = test_pred_cnn_nn \n",
        "    y_test += test_pred / n_splits\n",
        "    metrics.append(metric)\n",
        "    \n",
        "metrics = np.array(metrics).mean()\n",
        "print(f'Full Log loss {metrics}') "
      ],
      "execution_count": null,
      "outputs": []
    },
    {
      "cell_type": "code",
      "metadata": {
        "execution": {
          "iopub.execute_input": "2021-09-30T09:42:02.952012Z",
          "iopub.status.busy": "2021-09-30T09:42:02.951322Z",
          "iopub.status.idle": "2021-09-30T09:42:03.022871Z",
          "shell.execute_reply": "2021-09-30T09:42:03.023366Z",
          "shell.execute_reply.started": "2021-09-26T08:55:00.281909Z"
        },
        "id": "26b01119",
        "papermill": {
          "duration": 53.449394,
          "end_time": "2021-09-30T09:42:03.023568",
          "exception": false,
          "start_time": "2021-09-30T09:41:09.574174",
          "status": "completed"
        },
        "tags": []
      },
      "source": [
        "print('NN LOG LOSS :',log_loss(y_train,y_oof)) "
      ],
      "execution_count": null,
      "outputs": []
    },
    {
      "cell_type": "code",
      "metadata": {
        "execution": {
          "iopub.execute_input": "2021-09-30T09:45:38.375479Z",
          "iopub.status.busy": "2021-09-30T09:45:38.374802Z",
          "iopub.status.idle": "2021-09-30T09:45:38.420337Z",
          "shell.execute_reply": "2021-09-30T09:45:38.420872Z",
          "shell.execute_reply.started": "2021-09-19T09:36:32.581317Z"
        },
        "id": "d861cba7",
        "papermill": {
          "duration": 53.168601,
          "end_time": "2021-09-30T09:45:38.421043",
          "exception": false,
          "start_time": "2021-09-30T09:44:45.252442",
          "status": "completed"
        },
        "tags": []
      },
      "source": [
        "# In this part we format the DataFrame to have column names and order similar to the sample submission file. \n",
        "pred_df = pd.DataFrame(y_test)\n",
        "pred_df = pred_df.rename(columns={\n",
        "    0:'Crop_ID_1',\n",
        "    1:'Crop_ID_2', \n",
        "    2:'Crop_ID_3',\n",
        "    3:'Crop_ID_4',\n",
        "    4:'Crop_ID_5',\n",
        "    5:'Crop_ID_6',\n",
        "    6:'Crop_ID_7',\n",
        "    7:'Crop_ID_8',\n",
        "    8:'Crop_ID_9'\n",
        "})\n",
        "pred_df['field_id'] = Test['field_id'].astype('int').values\n",
        "pred_df = pred_df[['field_id', 'Crop_ID_1', 'Crop_ID_2', 'Crop_ID_3', 'Crop_ID_4', 'Crop_ID_5', 'Crop_ID_6', 'Crop_ID_7', 'Crop_ID_8', 'Crop_ID_9']]\n",
        "pred_df.head()"
      ],
      "execution_count": null,
      "outputs": []
    },
    {
      "cell_type": "code",
      "metadata": {
        "execution": {
          "iopub.execute_input": "2021-09-30T09:47:25.642494Z",
          "iopub.status.busy": "2021-09-30T09:47:25.641783Z",
          "iopub.status.idle": "2021-09-30T09:47:26.435014Z",
          "shell.execute_reply": "2021-09-30T09:47:26.434251Z",
          "shell.execute_reply.started": "2021-09-19T09:36:38.613679Z"
        },
        "id": "8597eaaa",
        "papermill": {
          "duration": 54.267374,
          "end_time": "2021-09-30T09:47:26.435174",
          "exception": false,
          "start_time": "2021-09-30T09:46:32.167800",
          "status": "completed"
        },
        "tags": []
      },
      "source": [
        "# Write the predicted probabilites to a csv for submission\n",
        "pred_df.to_csv('S2_NN.csv', index=False)"
      ],
      "execution_count": null,
      "outputs": []
    },
    {
      "cell_type": "code",
      "metadata": {
        "id": "tNYwItXfLMAQ"
      },
      "source": [
        "np.save('S2_NN.npy',y_oof)"
      ],
      "execution_count": null,
      "outputs": []
    }
  ]
}
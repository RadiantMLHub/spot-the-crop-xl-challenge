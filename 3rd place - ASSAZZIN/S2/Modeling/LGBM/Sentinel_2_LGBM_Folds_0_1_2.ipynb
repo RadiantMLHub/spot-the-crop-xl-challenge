{
  "nbformat": 4,
  "nbformat_minor": 0,
  "metadata": {
    "colab": {
      "name": "Sentinel_2_LGBM_Folds_0_1_2.ipynb",
      "provenance": [],
      "collapsed_sections": [
        "QdBqL2inb1gF"
      ],
      "machine_shape": "hm"
    },
    "kernelspec": {
      "name": "python3",
      "display_name": "Python 3"
    }
  },
  "cells": [
    {
      "cell_type": "markdown",
      "metadata": {
        "id": "pH-5yAckjZ_c"
      },
      "source": [
        "# SETUP"
      ]
    },
    {
      "cell_type": "code",
      "metadata": {
        "id": "ifAEzGSUVgvO"
      },
      "source": [
        "!pip install -r requirements_colab.txt -q"
      ],
      "execution_count": null,
      "outputs": []
    },
    {
      "cell_type": "markdown",
      "metadata": {
        "id": "QdBqL2inb1gF"
      },
      "source": [
        "# DATA"
      ]
    },
    {
      "cell_type": "markdown",
      "metadata": {
        "id": "elG1Q6j6_18x"
      },
      "source": [
        "> To speed up the review process , i provided the ***drive id*** of the data i've created from the Train creation folder noteboooks .\n",
        "---\n",
        "> I  also add each data drive link in the Readme Pdf file attached with this solution"
      ]
    },
    {
      "cell_type": "code",
      "metadata": {
        "colab": {
          "base_uri": "https://localhost:8080/"
        },
        "id": "0O4QdYxuTrtS",
        "outputId": "c5007691-e6f0-4c37-d17e-4e3805504380"
      },
      "source": [
        "!gdown --id 1hNRbtcqd9F6stMOK1xAZApDITwAjiSDJ\n",
        "!gdown --id 1-QCmWsNGREXuWArifN0nD_Sp4hJxf0tu"
      ],
      "execution_count": null,
      "outputs": [
        {
          "output_type": "stream",
          "name": "stdout",
          "text": [
            "Downloading...\n",
            "From: https://drive.google.com/uc?id=1hNRbtcqd9F6stMOK1xAZApDITwAjiSDJ\n",
            "To: /content/S2TrainObs1.csv\n",
            "49.8MB [00:00, 107MB/s] \n",
            "Downloading...\n",
            "From: https://drive.google.com/uc?id=1-QCmWsNGREXuWArifN0nD_Sp4hJxf0tu\n",
            "To: /content/S2TestObs1.csv\n",
            "20.1MB [00:00, 123MB/s]\n"
          ]
        }
      ]
    },
    {
      "cell_type": "code",
      "metadata": {
        "colab": {
          "base_uri": "https://localhost:8080/"
        },
        "id": "DUfWVUYeTrqw",
        "outputId": "ffd4e060-e2d3-48d7-d38c-78a457335208"
      },
      "source": [
        "!gdown --id 1-47L_1NKLeVgW1vWmqXXXCuWZ3gwZWsS\n",
        "!gdown --id 1-aO4FEtv5CF-ZOcxDSO3jGEzPcIFdxgP"
      ],
      "execution_count": null,
      "outputs": [
        {
          "output_type": "stream",
          "name": "stdout",
          "text": [
            "Downloading...\n",
            "From: https://drive.google.com/uc?id=1-47L_1NKLeVgW1vWmqXXXCuWZ3gwZWsS\n",
            "To: /content/S2TrainObs2.csv\n",
            "50.0MB [00:00, 137MB/s] \n",
            "Downloading...\n",
            "From: https://drive.google.com/uc?id=1-aO4FEtv5CF-ZOcxDSO3jGEzPcIFdxgP\n",
            "To: /content/S2TestObs2.csv\n",
            "20.1MB [00:00, 122MB/s] \n"
          ]
        }
      ]
    },
    {
      "cell_type": "code",
      "metadata": {
        "colab": {
          "base_uri": "https://localhost:8080/"
        },
        "id": "T3jQOvBbTroX",
        "outputId": "bf6ca0f2-b686-4e31-c985-1c7564d47a64"
      },
      "source": [
        "!gdown --id 1-8J_xFgI0WKT5UXFnfH4q1KUw_KgNY37\n",
        "!gdown --id 1-a55a7N6a4SoqolPF_wI4C6Q70u_d7Hj"
      ],
      "execution_count": null,
      "outputs": [
        {
          "output_type": "stream",
          "name": "stdout",
          "text": [
            "Downloading...\n",
            "From: https://drive.google.com/uc?id=1-8J_xFgI0WKT5UXFnfH4q1KUw_KgNY37\n",
            "To: /content/S2TrainObs3.csv\n",
            "49.9MB [00:00, 137MB/s] \n",
            "Downloading...\n",
            "From: https://drive.google.com/uc?id=1-a55a7N6a4SoqolPF_wI4C6Q70u_d7Hj\n",
            "To: /content/S2TestObs3.csv\n",
            "20.1MB [00:00, 93.8MB/s]\n"
          ]
        }
      ]
    },
    {
      "cell_type": "code",
      "metadata": {
        "colab": {
          "base_uri": "https://localhost:8080/"
        },
        "id": "bv-t0agPTrlx",
        "outputId": "54c3af83-c076-4648-feec-c1619453f446"
      },
      "source": [
        "!gdown --id 1-BgXQwmXqBuk_P8VtvLfdLqy83dv56Kz\n",
        "!gdown --id 1-hQGF2TNBbsy3jsGNtndmK55egbdFDjs"
      ],
      "execution_count": null,
      "outputs": [
        {
          "output_type": "stream",
          "name": "stdout",
          "text": [
            "Downloading...\n",
            "From: https://drive.google.com/uc?id=1-BgXQwmXqBuk_P8VtvLfdLqy83dv56Kz\n",
            "To: /content/S2TrainObs4.csv\n",
            "46.9MB [00:00, 128MB/s] \n",
            "Downloading...\n",
            "From: https://drive.google.com/uc?id=1-hQGF2TNBbsy3jsGNtndmK55egbdFDjs\n",
            "To: /content/S2TestObs4.csv\n",
            "18.9MB [00:00, 115MB/s]\n"
          ]
        }
      ]
    },
    {
      "cell_type": "code",
      "metadata": {
        "colab": {
          "base_uri": "https://localhost:8080/"
        },
        "id": "sr1iqcv3ed0r",
        "outputId": "c6990297-362b-4a04-cbc7-11cf8a3be18d"
      },
      "source": [
        "!gdown --id 1VE3L15uXRbP0kzmDzyuYac3Mi9yZY3YI\n",
        "!gdown --id 1wDzl_QHgKtW2-FoDJs_U-qfbBTBUqNSA"
      ],
      "execution_count": null,
      "outputs": [
        {
          "output_type": "stream",
          "name": "stdout",
          "text": [
            "Downloading...\n",
            "From: https://drive.google.com/uc?id=1VE3L15uXRbP0kzmDzyuYac3Mi9yZY3YI\n",
            "To: /content/S2TrainObs5.csv\n",
            "44.4MB [00:00, 40.7MB/s]\n",
            "Downloading...\n",
            "From: https://drive.google.com/uc?id=1wDzl_QHgKtW2-FoDJs_U-qfbBTBUqNSA\n",
            "To: /content/S2TestObs5.csv\n",
            "17.9MB [00:00, 83.7MB/s]\n"
          ]
        }
      ]
    },
    {
      "cell_type": "markdown",
      "metadata": {
        "id": "ZYJmm4IEb1gI"
      },
      "source": [
        "# LIBRARIES"
      ]
    },
    {
      "cell_type": "code",
      "metadata": {
        "id": "1bxKYXHbb1gJ"
      },
      "source": [
        "#import necessary dependecies\n",
        "import os\n",
        "import numpy as np  \n",
        "import pandas as pd\n",
        "\n",
        "import random\n",
        "from tqdm import tqdm \n",
        "import copy\n",
        "\n",
        "\n",
        "import lightgbm as lgb\n",
        "from sklearn.model_selection import StratifiedKFold\n",
        "from sklearn.metrics import log_loss\n",
        "from sklearn.preprocessing import QuantileTransformer\n",
        "\n",
        "import warnings\n",
        "warnings.filterwarnings('ignore') \n",
        "\n",
        "# fix seed\n",
        "np.random.seed(111)\n",
        "random.seed(111)"
      ],
      "execution_count": null,
      "outputs": []
    },
    {
      "cell_type": "markdown",
      "metadata": {
        "id": "H3oeaq1mb1gJ"
      },
      "source": [
        "## Train Creation"
      ]
    },
    {
      "cell_type": "code",
      "metadata": {
        "id": "f_vZrRBdb1gJ"
      },
      "source": [
        "def create_train():\n",
        "  train =pd.read_csv(\"S2TrainObs1.csv\" )\n",
        "\n",
        "  train = train.groupby('field_id').median().reset_index().sort_values('field_id')\n",
        "  train.label = train.label.astype('int')\n",
        "  return train"
      ],
      "execution_count": null,
      "outputs": []
    },
    {
      "cell_type": "code",
      "metadata": {
        "id": "YWm8ZTJtb1gJ"
      },
      "source": [
        "def create_test():\n",
        "  test =pd.read_csv(\"S2TestObs1.csv\" )\n",
        "  return  test"
      ],
      "execution_count": null,
      "outputs": []
    },
    {
      "cell_type": "code",
      "metadata": {
        "id": "7gVLmDuBb1gK"
      },
      "source": [
        "def createObs2_train():\n",
        "  train =pd.read_csv(\"S2TrainObs2.csv\" )\n",
        "  train = train.groupby('field_id').median().reset_index().sort_values('field_id')\n",
        "  train.label = train.label.astype('int')\n",
        "  return train"
      ],
      "execution_count": null,
      "outputs": []
    },
    {
      "cell_type": "code",
      "metadata": {
        "id": "kH1njJ_nb1gK"
      },
      "source": [
        "def createObs2_test():\n",
        "  test =pd.read_csv(\"S2TestObs2.csv\" )\n",
        "  return test"
      ],
      "execution_count": null,
      "outputs": []
    },
    {
      "cell_type": "code",
      "metadata": {
        "id": "C_ntSbw1b1gK"
      },
      "source": [
        "def createObs3_train():\n",
        "  train =pd.read_csv(\"S2TrainObs3.csv\" )\n",
        "  train = train.groupby('field_id').median().reset_index().sort_values('field_id')\n",
        "  train.label = train.label.astype('int')\n",
        "  return train"
      ],
      "execution_count": null,
      "outputs": []
    },
    {
      "cell_type": "code",
      "metadata": {
        "id": "A0swCcVob1gK"
      },
      "source": [
        "def createObs3_test():\n",
        "  test =pd.read_csv(\"S2TestObs3.csv\" )\n",
        "  return test"
      ],
      "execution_count": null,
      "outputs": []
    },
    {
      "cell_type": "code",
      "metadata": {
        "id": "ytjgmptsb1gK"
      },
      "source": [
        "def createObs4_train():\n",
        "  train =pd.read_csv(\"S2TrainObs4.csv\" )\n",
        "\n",
        "  train = train.groupby('field_id').median().reset_index().sort_values('field_id')\n",
        "  train.label = train.label.astype('int')\n",
        "  return train"
      ],
      "execution_count": null,
      "outputs": []
    },
    {
      "cell_type": "code",
      "metadata": {
        "id": "zYn9XLnMb1gL"
      },
      "source": [
        "def createObs4_test():\n",
        "  test =pd.read_csv(\"S2TestObs4.csv\" )\n",
        "  return test"
      ],
      "execution_count": null,
      "outputs": []
    },
    {
      "cell_type": "code",
      "metadata": {
        "id": "VAkgP2OoeaDT"
      },
      "source": [
        "def createObs5_train():\n",
        "  train =pd.read_csv(\"S2TrainObs5.csv\" )\n",
        "\n",
        "  train = train.groupby('field_id').median().reset_index().sort_values('field_id')\n",
        "  train.label = train.label.astype('int')\n",
        "  return train"
      ],
      "execution_count": null,
      "outputs": []
    },
    {
      "cell_type": "code",
      "metadata": {
        "id": "4SiV_3a1ebwj"
      },
      "source": [
        "def createObs5_test():\n",
        "  test =pd.read_csv(\"S2TestObs5.csv\" )\n",
        "  return test"
      ],
      "execution_count": null,
      "outputs": []
    },
    {
      "cell_type": "markdown",
      "metadata": {
        "id": "-cSylxsjb1gL"
      },
      "source": [
        "## Feature Engineering"
      ]
    },
    {
      "cell_type": "code",
      "metadata": {
        "id": "PA7Exa-Jb1gL"
      },
      "source": [
        "def process(T) :\n",
        "\n",
        "  # process bands\n",
        "  Bcols = T.filter(like='B').columns.tolist()\n",
        "  Vcols = T.filter(like='V').columns.tolist()\n",
        "  Obs1 = T.filter(like='Month4').columns.tolist()\n",
        "  Obs2 = T.filter(like='Month5').columns.tolist()\n",
        "  Obs3 = T.filter(like='Month6').columns.tolist()\n",
        "  Obs4 = T.filter(like='Month7').columns.tolist()\n",
        "  Obs5 = T.filter(like='Month8').columns.tolist()\n",
        "  Obs6 = T.filter(like='Month9').columns.tolist()\n",
        "  Obs7 = T.filter(like='Month10').columns.tolist()\n",
        "  Obs8 = T.filter(like='Month11').columns.tolist()\n",
        "\n",
        "\n",
        "  # vegetation indexes \n",
        "  B8cols = T.filter(like='B8_').columns.tolist()\n",
        "  B8cols = [x for x in B8cols if 'std' not in x]\n",
        "  \n",
        "  B4cols = T.filter(like='B4_').columns.tolist()\n",
        "  B4cols = [x for x in B4cols if 'std' not in x]\n",
        "\n",
        "  B3cols = T.filter(like='B3_').columns.tolist()\n",
        "  B3cols = [x for x in B3cols if 'std' not in x]\n",
        "\n",
        "  B5cols = T.filter(like='B5_').columns.tolist()\n",
        "  B5cols = [x for x in B5cols if 'std' not in x]\n",
        "\n",
        "  B3cols = T.filter(like='B3_').columns.tolist()\n",
        "  B3cols = [x for x in B3cols if 'std' not in x]\n",
        "\n",
        "  B2cols = T.filter(like='B2_').columns.tolist()\n",
        "  B2cols = [x for x in B2cols if 'std' not in x]\n",
        "\n",
        "  B7cols = T.filter(like='B7_').columns.tolist()\n",
        "  B7cols = [x for x in B7cols if 'std' not in x]\n",
        "\n",
        "  B8Acols = T.filter(like='B8A_').columns.tolist()\n",
        "  B8Acols = [x for x in B8Acols if 'std' not in x]\n",
        "\n",
        "  B6cols = T.filter(like='B6_').columns.tolist()\n",
        "  B6cols = [x for x in B6cols if 'std' not in x]\n",
        "\n",
        "  B12cols = T.filter(like='B12_').columns.tolist()\n",
        "  B12cols = [x for x in B12cols if 'std' not in x]\n",
        "\n",
        "  B11cols = T.filter(like='B11_').columns.tolist()\n",
        "  B11cols = [x for x in B11cols if 'std' not in x]\n",
        "\n",
        "  B1cols = T.filter(like='B1_').columns.tolist()\n",
        "  B1cols = [x for x in B1cols if 'std' not in x]\n",
        "\n",
        "  B9cols = T.filter(like='B9_').columns.tolist()\n",
        "  B9cols = [x for x in B9cols if 'std' not in x]\n",
        "\n",
        "  L = 0.725\n",
        "  for b1,b2 ,b3 ,b4, b5 , b6, b7, b8 ,b8a ,b9,b11,b12 in zip(B1cols,B2cols,B3cols,B4cols,B5cols,B6cols,B7cols,B8cols,B8Acols,B9cols,B11cols,B12cols) :\n",
        "    T[f'NDVI_{b8.split(\"_\")[1]}']   = ((T[b8] - T[b4]) /  (T[b8] + T[b4]))\n",
        "    T[f'SAVI_{b8.split(\"_\")[1]}']   = ((T[b8] - T[b4]) /  (T[b8] + T[b4]+L) * (1.0 + L))\n",
        "    T[f'GRNDVI_{b8.split(\"_\")[1]}'] = ((T[b8] - (T[b3]+T[b4])) /  (T[b8] + (T[b3]+T[b4])))\n",
        "    T[f'GNDVI_{b8.split(\"_\")[1]}']  = ((T[b8] - T[b3] ) /  (T[b8] + T[b3]))\n",
        "    T[f'NDRE_{b8.split(\"_\")[1]}']   = ((T[b5] - T[b4])/ (T[b5] + T[b4]))\n",
        "    T[f'EVI_{b8.split(\"_\")[1]}']    = (2.5 * (T[b8]  - T[b4] ) / ((T[b8]  + 6.0 * T[b4]  - 7.5 * T[b2]) + 1.0)).values.clip(min=-5,max=5)\n",
        "    T[f'WDRVI_{b8.split(\"_\")[1]}']  = (((8 * T[b8]) - T[b4])/ ((8* T[b8]) + T[b4]))\n",
        "    T[f'ExBlue_{b8.split(\"_\")[1]}']  = ((2 * T[b2]) - (T[b3]+T[b4]))\n",
        "    T[f'ExGreen_{b8.split(\"_\")[1]}']  = ((2 * T[b3]) - (T[b2]+T[b4]) )\n",
        "    T[f'NDRE7_{b8.split(\"_\")[1]}']   = ((T[b7] - T[b4])/ (T[b7] + T[b4]))\n",
        "    T[f'MTCI_{b8.split(\"_\")[1]}']   = ((T[b8a] - T[b6])/ (T[b7] + T[b6]))\n",
        "    T[f'VARI_{b8.split(\"_\")[1]}']   = ((T[b3] - T[b4])/ (T[b3] + T[b4] - T[b2]))\n",
        "    T[f'ARVI_{b8.split(\"_\")[1]}']   = ( ((T[b8] - T[b4])-(T[b4] - T[b2])) /  ((T[b8] + T[b4])-(T[b4] - T[b2])) )\n",
        "\n",
        "    # Bands Relations\n",
        "    T[f'b7b5_{b8.split(\"_\")[1]}']  = (T[b7] - T[b5])/ (T[b7] + T[b5])    # B7  / B5\n",
        "    T[f'b7b6_{b8.split(\"_\")[1]}']  = (T[b7] - T[b6])/ (T[b7] + T[b6])    # B7  / B6\n",
        "    T[f'b8ab5_{b8.split(\"_\")[1]}'] = (T[b8a] - T[b5])/ (T[b8a]  + T[b5]) # B8A / B5\n",
        "    T[f'b6b5_{b8.split(\"_\")[1]}']  = (T[b6] - T[b5])/ (T[b6] + T[b5])    # B6  / B5 \n",
        "    \n",
        "    # ASSAZZIN bands relations \n",
        "    T[f'b3b1_{b8.split(\"_\")[1]}']  = (T[b3] - T[b1])/ (T[b3] + T[b1])    \n",
        "    T[f'b11b8_{b8.split(\"_\")[1]}']  = (T[b11] - T[b8])/ (T[b11] + T[b8])    \n",
        "    T[f'b12b11_{b8.split(\"_\")[1]}']  = (T[b12] - T[b11])/ (T[b12] + T[b11])    \n",
        "    T[f'b3b4_{b8.split(\"_\")[1]}']  = (T[b3] - T[b4])/ (T[b3] + T[b4])    \n",
        "    T[f'b9b4_{b8.split(\"_\")[1]}']  = (T[b9] - T[b4])/ (T[b9] + T[b4])    \n",
        "    T[f'b5b3_{b8.split(\"_\")[1]}']  = (T[b5] - T[b3])/ (T[b5] + T[b3])    \n",
        "    T[f'b12b3_{b8.split(\"_\")[1]}']  = (T[b12] - T[b3])/ (T[b12] + T[b3])    \n",
        "\n",
        "    T[f'b2b1_{b8.split(\"_\")[1]}']  = (T[b2] - T[b1])/ (T[b2] + T[b1])    \n",
        "    T[f'b4b1_{b8.split(\"_\")[1]}']  = (T[b4] - T[b1])/ (T[b4] + T[b1])    \n",
        "    T[f'b11b3_{b8.split(\"_\")[1]}']  = (T[b11] - T[b3])/ (T[b11] + T[b3])    \n",
        "    \n",
        "    T[f'b12b8_{b8.split(\"_\")[1]}']  = (T[b12] - T[b8])/ (T[b12] + T[b8])    \n",
        "    T[f'b3b2_{b8.split(\"_\")[1]}']  = (T[b3] - T[b2])/ (T[b3] + T[b2])    \n",
        "    T[f'b8ab3_{b8.split(\"_\")[1]}'] = (T[b8a] - T[b3])/ (T[b8a]  + T[b3]) \n",
        "    T[f'b8ab2_{b8.split(\"_\")[1]}'] = (T[b8a] - T[b2])/ (T[b8a]  + T[b2]) \n",
        "\n",
        "    T[f'b8b1_{b8.split(\"_\")[1]}']  = (T[b8] - T[b1])/ (T[b8] + T[b1])    \n",
        "    T[f'ARVI2_{b8.split(\"_\")[1]}']   = ( ((T[b3] - T[b4])-(T[b4] - T[b2])) /  ((T[b3] + T[b4])+(T[b4] + T[b2])) )\n",
        "    T[f'ARVI3_{b8.split(\"_\")[1]}']   = ( ((T[b5] - T[b3])-(T[b3] - T[b2])) /  ((T[b5] + T[b3])+(T[b3] + T[b2])) )\n",
        "    T[f'b8b9_{b8.split(\"_\")[1]}']  = (T[b8] - T[b9])/ (T[b8] + T[b9])    \n",
        "    T[f'b3b9_{b8.split(\"_\")[1]}']  = (T[b3] - T[b9])/ (T[b3] + T[b9])    \n",
        "    T[f'b2b9_{b8.split(\"_\")[1]}']  = (T[b2] - T[b9])/ (T[b2] + T[b9])    \n",
        "\n",
        "    T[f'b12b9_{b8.split(\"_\")[1]}']  = (T[b12] - T[b9])/ (T[b12] + T[b9])    \n",
        "    T[f'b12b8_{b8.split(\"_\")[1]}']  = (T[b12] - T[b8])/ (T[b12] + T[b8])    \n",
        "\n",
        "  for col in Bcols :\n",
        "    T[col] = np.sqrt(T[col])\n",
        "  for b2 ,b3 ,b4 in zip(B2cols,B3cols,B4cols) :\n",
        "    T[f'RGB_STD_{b3.split(\"_\")[1]}'] = T[[b2,b3,b4]].std(axis=1)\n",
        "    T[f'RGB_MEAN_{b3.split(\"_\")[1]}'] = T[[b2,b3,b4]].mean(axis=1)\n",
        "\n",
        "  for col in Vcols :\n",
        "    T[col] = np.sqrt(T[col])\n",
        "\n",
        "  for col1,col2,col3,col4,col5,col6,col7,col8 in zip(Obs1,Obs2,Obs3,Obs4,Obs5,Obs6,Obs7,Obs8) :\n",
        "    T[f'{col1.split(\"_\")[0]}_std'] = T[[col1,col2,col3,col4,col5,col6,col7,col8]].std(axis=1)\n",
        "  \n",
        "  # process Vegetation indexes\n",
        "  ObsN   = T.filter(like='NDVI_').columns.tolist()\n",
        "  ObsSA  = T.filter(like='SAVI_').columns.tolist()\n",
        "  ObsCC  = T.filter(like='CCCI_').columns.tolist()\n",
        "  ObsWDR = T.filter(like='WDRVI_').columns.tolist()\n",
        "  ObsNDRE7 = T.filter(like='NDRE7_').columns.tolist()\n",
        "\n",
        "  T['NDVI_max']    = T[ObsN].max(axis=1)\n",
        "  T['NDVI_min']    = T[ObsN].min(axis=1)\n",
        "  \n",
        "  T['SAVI_max']    = T[ObsSA].max(axis=1)\n",
        "  T['SAVI_mmin']   = T[ObsSA].min(axis=1)\n",
        "\n",
        "  T['WDRVI_max']  = T[ObsWDR].max(axis=1)\n",
        "  T['WDRVI_min']  = T[ObsWDR].min(axis=1)\n",
        "\n",
        "  T['NDRE7_max']   = T[ObsNDRE7].max(axis=1)\n",
        "  T['NDRE7_min']   = T[ObsNDRE7].min(axis=1)\n",
        "\n",
        "  return T"
      ],
      "execution_count": null,
      "outputs": []
    },
    {
      "cell_type": "code",
      "metadata": {
        "id": "PdAH-9A_b1gN"
      },
      "source": [
        "Train = create_train()\n",
        "Test = create_test()"
      ],
      "execution_count": null,
      "outputs": []
    },
    {
      "cell_type": "code",
      "metadata": {
        "id": "E_DDJNyHb1gN"
      },
      "source": [
        "Train2 = createObs2_train()\n",
        "Test2 = createObs2_test()"
      ],
      "execution_count": null,
      "outputs": []
    },
    {
      "cell_type": "code",
      "metadata": {
        "id": "yTkNp9fKb1gO"
      },
      "source": [
        "Train3 = createObs3_train()\n",
        "Test3 = createObs3_test()"
      ],
      "execution_count": null,
      "outputs": []
    },
    {
      "cell_type": "code",
      "metadata": {
        "id": "kS-nuKkUb1gO"
      },
      "source": [
        "Train4 = createObs4_train()\n",
        "Test4 = createObs4_test()"
      ],
      "execution_count": null,
      "outputs": []
    },
    {
      "cell_type": "code",
      "metadata": {
        "id": "qXSNBkB0etYR"
      },
      "source": [
        "Train5 = createObs5_train()\n",
        "Test5 = createObs5_test()"
      ],
      "execution_count": null,
      "outputs": []
    },
    {
      "cell_type": "code",
      "metadata": {
        "colab": {
          "base_uri": "https://localhost:8080/"
        },
        "id": "6ou8U6_Tb1gO",
        "outputId": "e0ad11b5-3169-4ac5-a3a9-13a0643fb17d"
      },
      "source": [
        "Train.shape , Test.shape"
      ],
      "execution_count": null,
      "outputs": [
        {
          "output_type": "execute_result",
          "data": {
            "text/plain": [
              "((87114, 98), (35295, 97))"
            ]
          },
          "metadata": {},
          "execution_count": 23
        }
      ]
    },
    {
      "cell_type": "code",
      "metadata": {
        "colab": {
          "base_uri": "https://localhost:8080/"
        },
        "id": "O-Fmx8k5b1gO",
        "outputId": "84f88132-e9cd-4f92-9fc9-3cc34aa12321"
      },
      "source": [
        "Train2.shape , Test2.shape"
      ],
      "execution_count": null,
      "outputs": [
        {
          "output_type": "execute_result",
          "data": {
            "text/plain": [
              "((87114, 98), (35295, 97))"
            ]
          },
          "metadata": {},
          "execution_count": 24
        }
      ]
    },
    {
      "cell_type": "code",
      "metadata": {
        "colab": {
          "base_uri": "https://localhost:8080/"
        },
        "id": "9Vz4C4Glb1gO",
        "outputId": "f7e670b9-0767-4d42-b12a-a7aa38cbb878"
      },
      "source": [
        "Train3.shape , Test3.shape"
      ],
      "execution_count": null,
      "outputs": [
        {
          "output_type": "execute_result",
          "data": {
            "text/plain": [
              "((87114, 98), (35295, 97))"
            ]
          },
          "metadata": {},
          "execution_count": 25
        }
      ]
    },
    {
      "cell_type": "code",
      "metadata": {
        "colab": {
          "base_uri": "https://localhost:8080/"
        },
        "id": "gynul4Wdb1gO",
        "outputId": "3469e5e8-bf1b-4709-fb5b-f51ad71c64de"
      },
      "source": [
        "Train4.shape , Test4.shape"
      ],
      "execution_count": null,
      "outputs": [
        {
          "output_type": "execute_result",
          "data": {
            "text/plain": [
              "((87114, 98), (35295, 97))"
            ]
          },
          "metadata": {},
          "execution_count": 26
        }
      ]
    },
    {
      "cell_type": "code",
      "metadata": {
        "colab": {
          "base_uri": "https://localhost:8080/"
        },
        "id": "GhEGps2Wexex",
        "outputId": "6c18ef83-71a6-4474-a43a-e5a6becb4127"
      },
      "source": [
        "Train5.shape , Test5.shape"
      ],
      "execution_count": null,
      "outputs": [
        {
          "output_type": "execute_result",
          "data": {
            "text/plain": [
              "((87114, 98), (35295, 97))"
            ]
          },
          "metadata": {},
          "execution_count": 27
        }
      ]
    },
    {
      "cell_type": "code",
      "metadata": {
        "id": "mWXsa4Rvb1gO"
      },
      "source": [
        "Train = process(Train)\n",
        "Test = process(Test)"
      ],
      "execution_count": null,
      "outputs": []
    },
    {
      "cell_type": "code",
      "metadata": {
        "id": "DzeRuPLjb1gO"
      },
      "source": [
        "Train2 = process(Train2)\n",
        "Test2 = process(Test2)"
      ],
      "execution_count": null,
      "outputs": []
    },
    {
      "cell_type": "code",
      "metadata": {
        "id": "D5MUGGxGb1gO"
      },
      "source": [
        "Train3 = process(Train3)\n",
        "Test3 = process(Test3)"
      ],
      "execution_count": null,
      "outputs": []
    },
    {
      "cell_type": "code",
      "metadata": {
        "id": "j44KcGXMb1gP"
      },
      "source": [
        "Train4 = process(Train4)\n",
        "Test4 = process(Test4)"
      ],
      "execution_count": null,
      "outputs": []
    },
    {
      "cell_type": "code",
      "metadata": {
        "id": "-2UdHPXLez9R"
      },
      "source": [
        "Train5 = process(Train5)\n",
        "Test5 = process(Test5)"
      ],
      "execution_count": null,
      "outputs": []
    },
    {
      "cell_type": "code",
      "metadata": {
        "colab": {
          "base_uri": "https://localhost:8080/"
        },
        "id": "Yyr9LM7qb1gP",
        "outputId": "cf1539d6-1209-411f-c649-b15466403d5b"
      },
      "source": [
        "Train.shape , Test.shape"
      ],
      "execution_count": null,
      "outputs": [
        {
          "output_type": "execute_result",
          "data": {
            "text/plain": [
              "((87114, 438), (35295, 437))"
            ]
          },
          "metadata": {},
          "execution_count": 33
        }
      ]
    },
    {
      "cell_type": "code",
      "metadata": {
        "colab": {
          "base_uri": "https://localhost:8080/"
        },
        "id": "EGCUyArzb1gP",
        "outputId": "68eeb174-b04e-4ebd-c223-59f214e5aeec"
      },
      "source": [
        "Train2.shape , Test2.shape"
      ],
      "execution_count": null,
      "outputs": [
        {
          "output_type": "execute_result",
          "data": {
            "text/plain": [
              "((87114, 438), (35295, 437))"
            ]
          },
          "metadata": {},
          "execution_count": 34
        }
      ]
    },
    {
      "cell_type": "code",
      "metadata": {
        "colab": {
          "base_uri": "https://localhost:8080/"
        },
        "id": "Kp9Xx90Pb1gP",
        "outputId": "82538084-acfe-4d51-d85d-818ffee15f49"
      },
      "source": [
        "Train3.shape , Test3.shape"
      ],
      "execution_count": null,
      "outputs": [
        {
          "output_type": "execute_result",
          "data": {
            "text/plain": [
              "((87114, 438), (35295, 437))"
            ]
          },
          "metadata": {},
          "execution_count": 35
        }
      ]
    },
    {
      "cell_type": "code",
      "metadata": {
        "colab": {
          "base_uri": "https://localhost:8080/"
        },
        "id": "OA7Jbth5b1gP",
        "outputId": "39366656-9538-45d2-d287-29e6b00d0677"
      },
      "source": [
        "Train4.shape , Test4.shape"
      ],
      "execution_count": null,
      "outputs": [
        {
          "output_type": "execute_result",
          "data": {
            "text/plain": [
              "((87114, 438), (35295, 437))"
            ]
          },
          "metadata": {},
          "execution_count": 36
        }
      ]
    },
    {
      "cell_type": "code",
      "metadata": {
        "colab": {
          "base_uri": "https://localhost:8080/"
        },
        "id": "9U78zqj6e3v6",
        "outputId": "61536a0c-536f-4345-f1c0-72a6155ef439"
      },
      "source": [
        "Train5.shape , Test5.shape"
      ],
      "execution_count": null,
      "outputs": [
        {
          "output_type": "execute_result",
          "data": {
            "text/plain": [
              "((87114, 438), (35295, 437))"
            ]
          },
          "metadata": {},
          "execution_count": 37
        }
      ]
    },
    {
      "cell_type": "code",
      "metadata": {
        "colab": {
          "base_uri": "https://localhost:8080/"
        },
        "id": "9apZXBb0b1gP",
        "outputId": "8a72a899-e964-4c9a-9548-32fe1856dbf0"
      },
      "source": [
        "Train = pd.concat([Train,Train2.drop(columns=['field_id','label']),Train3.drop(columns=['field_id','label']),\n",
        "                   Train4.drop(columns=['field_id','label']),Train5.drop(columns=['field_id','label'])],axis=1)\n",
        "Train.shape"
      ],
      "execution_count": null,
      "outputs": [
        {
          "output_type": "execute_result",
          "data": {
            "text/plain": [
              "(87114, 2182)"
            ]
          },
          "metadata": {},
          "execution_count": 38
        }
      ]
    },
    {
      "cell_type": "code",
      "metadata": {
        "colab": {
          "base_uri": "https://localhost:8080/"
        },
        "id": "YnszaWEGb1gP",
        "outputId": "3e7500da-2079-452d-f7a9-8a49f2cb3328"
      },
      "source": [
        "Test = pd.concat([Test,Test2.drop(columns=['field_id']),Test3.drop(columns=['field_id'])],axis=1)\n",
        "Test = pd.merge(Test,Test4,on='field_id',how='left')\n",
        "Test = pd.merge(Test,Test5,on='field_id',how='left')\n",
        "Test.shape"
      ],
      "execution_count": null,
      "outputs": [
        {
          "output_type": "execute_result",
          "data": {
            "text/plain": [
              "(35295, 2181)"
            ]
          },
          "metadata": {},
          "execution_count": 39
        }
      ]
    },
    {
      "cell_type": "code",
      "metadata": {
        "colab": {
          "base_uri": "https://localhost:8080/"
        },
        "id": "e3LDB7Sfb1gP",
        "outputId": "b0bf1a6d-fb2f-4be0-d9af-86b6616733bd"
      },
      "source": [
        "import gc ; gc.collect()"
      ],
      "execution_count": null,
      "outputs": [
        {
          "output_type": "execute_result",
          "data": {
            "text/plain": [
              "150"
            ]
          },
          "metadata": {},
          "execution_count": 40
        }
      ]
    },
    {
      "cell_type": "markdown",
      "metadata": {
        "id": "vY3pUT7fmECJ"
      },
      "source": [
        "# MODELING"
      ]
    },
    {
      "cell_type": "code",
      "metadata": {
        "id": "texiz981mlyZ"
      },
      "source": [
        "X    = Train.replace(np.inf,50).drop(['field_id','label'], axis=1)\n",
        "COLUMNS = X.columns.tolist()\n",
        "y    = Train.label\n",
        "TEST = Test.replace(np.inf,50).drop(['field_id'], axis=1)"
      ],
      "execution_count": null,
      "outputs": []
    },
    {
      "cell_type": "code",
      "metadata": {
        "id": "e-Jk9rdgCT7x"
      },
      "source": [
        "TEST.columns = X.columns.tolist()"
      ],
      "execution_count": null,
      "outputs": []
    },
    {
      "cell_type": "code",
      "metadata": {
        "id": "l0hEhXSdh_l4"
      },
      "source": [
        "data = pd.concat([X,TEST])\n",
        "qt=QuantileTransformer(output_distribution=\"normal\",random_state=42)\n",
        "data= pd.DataFrame(qt.fit_transform(data),columns=X.columns)"
      ],
      "execution_count": null,
      "outputs": []
    },
    {
      "cell_type": "code",
      "metadata": {
        "id": "FKt1Nm9Dh_jg"
      },
      "source": [
        "X = data[:X.shape[0]].values\n",
        "TEST = data[X.shape[0]:].values"
      ],
      "execution_count": null,
      "outputs": []
    },
    {
      "cell_type": "code",
      "metadata": {
        "colab": {
          "base_uri": "https://localhost:8080/"
        },
        "id": "OV5Isqcn-rNM",
        "outputId": "7469f2be-179e-4394-f4bd-5d33a69efb3b"
      },
      "source": [
        "X.shape , TEST.shape"
      ],
      "execution_count": null,
      "outputs": [
        {
          "output_type": "execute_result",
          "data": {
            "text/plain": [
              "((87114, 2180), (35295, 2180))"
            ]
          },
          "metadata": {},
          "execution_count": 52
        }
      ]
    },
    {
      "cell_type": "code",
      "metadata": {
        "id": "z0ymGuAkiBpI"
      },
      "source": [
        "##############################################################################################################################################################################"
      ],
      "execution_count": null,
      "outputs": []
    },
    {
      "cell_type": "code",
      "metadata": {
        "id": "DnsQwedgZc1R"
      },
      "source": [
        "def kfold_split(Train,y):\n",
        "    Train[\"folds\"]=-1\n",
        "    kf = StratifiedKFold(n_splits= 10,random_state=seed,shuffle=True)\n",
        "    for fold, (_, val_index) in enumerate(kf.split(Train,y)):\n",
        "            Train.loc[val_index, \"folds\"] = fold\n",
        "    return Train"
      ],
      "execution_count": null,
      "outputs": []
    },
    {
      "cell_type": "code",
      "metadata": {
        "id": "SHWUwRS_ZqRM"
      },
      "source": [
        "Train = kfold_split(Train,y)"
      ],
      "execution_count": null,
      "outputs": []
    },
    {
      "cell_type": "markdown",
      "metadata": {
        "id": "hvDtMepz_qp2"
      },
      "source": [
        "### Cross Validation"
      ]
    },
    {
      "cell_type": "code",
      "metadata": {
        "id": "a6I4IjUb_2Sa"
      },
      "source": [
        "seed = 47\n",
        "sk = StratifiedKFold(n_splits= 10,random_state=seed,shuffle=True)\n",
        "\n",
        "def DefineModel(name='lgbm') :\n",
        "  if name =='lgbm':\n",
        "    return lgb.LGBMClassifier(learning_rate = 0.1,n_estimators = 3000,\n",
        "                            objective ='multiclass',random_state = 111,\n",
        "                            num_leaves = 80,max_depth = 6,\n",
        "                            metric = 'multi_logloss',\n",
        "                            colsample_bytree = 0.5 ,\n",
        "                            bagging_freq= 5, bagging_fraction= 0.75,\n",
        "                            lambda_l2 = 100 ,\n",
        "                            )\n",
        "  elif name =='catboost' :\n",
        "    cat_params = {\"loss_function\": \"MultiClass\",\"eval_metric\": \"MultiClass\",\"learning_rate\": 0.1,\n",
        "              \"random_seed\": 42,\"l2_leaf_reg\": 3,\"bagging_temperature\": 1, \n",
        "              \"depth\": 6,\"od_type\": \"Iter\",\"od_wait\": 50,\"thread_count\": 16,\"iterations\": 50000,\n",
        "              \"use_best_model\": True,'task_type':\"GPU\",'devices':'0:1'}\n",
        "    return CatBoostClassifier(**cat_params\n",
        "                              )\n",
        "  else :\n",
        "    return xgb.XGBClassifier(objective = 'multi:softmax',\n",
        "                             base_score = np.mean(y),eval_metric =\"mlogloss\",\n",
        "                             subsample= 0.8,n_estimators = 2000,\n",
        "                             seed=seed,random_state = seed,num_class = 9,\n",
        "                             ) \n",
        "\n",
        "def Run5fold(name,X,y,TEST,COLUMNS) :\n",
        "  print(f'TRAINING {name}')\n",
        "  cv_score_ = 0\n",
        "  oof_preds = np.zeros((Train.shape[0],9))\n",
        "  final_predictions = np.zeros((Test.shape[0],9))\n",
        "\n",
        "  for fold in  [0,1,2]:\n",
        "    print()\n",
        "    print(f'######### FOLD {fold+1} / {sk.n_splits} ')\n",
        "    \n",
        "    train_idx = Train[Train['folds'] !=fold].index.tolist()\n",
        "    test_idx  = Train[Train['folds'] ==fold].index.tolist()\n",
        "\n",
        "    X_train,y_train = X[train_idx,:],y[train_idx]\n",
        "    X_test,y_test   = X[test_idx,:] ,y[test_idx]\n",
        "\n",
        "    model = DefineModel(name=name)\n",
        "    model.fit(X_train,y_train,\n",
        "        eval_set = [(X_test,y_test)],\n",
        "        early_stopping_rounds  = 100,\n",
        "        verbose = 100\n",
        "    )\n",
        "    oof_prediction = model.predict_proba(X_test)\n",
        "    np.save(f'LGBM_oof_{fold}',oof_prediction)\n",
        "    cv_score_ += log_loss(y_test,oof_prediction) / sk.n_splits\n",
        "    print(f'Log Loss Fold {fold} : {log_loss(y_test,oof_prediction) }')\n",
        "    oof_preds[test_idx] = oof_prediction\n",
        "\n",
        "    test_prediction = model.predict_proba(TEST)\n",
        "    np.save(f'LGBM_testPred_{fold}',test_prediction)\n",
        "    final_predictions += test_prediction / sk.n_splits\n",
        "    del X_train,y_train , X_test,y_test , model\n",
        "    gc.collect()\n",
        "  # return feats,oof_preds , final_predictions"
      ],
      "execution_count": null,
      "outputs": []
    },
    {
      "cell_type": "code",
      "metadata": {
        "colab": {
          "base_uri": "https://localhost:8080/"
        },
        "id": "um7nAF_Zhx65",
        "outputId": "df9821ad-94b5-495a-8809-78e439bcf378"
      },
      "source": [
        "import gc ; gc.collect()"
      ],
      "execution_count": null,
      "outputs": [
        {
          "output_type": "execute_result",
          "data": {
            "text/plain": [
              "50"
            ]
          },
          "metadata": {},
          "execution_count": 58
        }
      ]
    },
    {
      "cell_type": "code",
      "metadata": {
        "id": "O9sV6zBomkVX",
        "colab": {
          "base_uri": "https://localhost:8080/",
          "height": 1000
        },
        "outputId": "77f34b7d-2cba-4ac5-c843-b9fd08a45734"
      },
      "source": [
        "Run5fold(name='lgbm',X=X,y=y,TEST=TEST,COLUMNS=COLUMNS) #Log Loss Fold 0 : 0.625915534181997"
      ],
      "execution_count": null,
      "outputs": [
        {
          "output_type": "stream",
          "name": "stdout",
          "text": [
            "TRAINING lgbm\n",
            "\n",
            "######### FOLD 1 / 10 \n",
            "Training until validation scores don't improve for 100 rounds.\n",
            "[100]\tvalid_0's multi_logloss: 0.816963\n",
            "[200]\tvalid_0's multi_logloss: 0.731251\n",
            "[300]\tvalid_0's multi_logloss: 0.68676\n",
            "[400]\tvalid_0's multi_logloss: 0.657731\n",
            "[500]\tvalid_0's multi_logloss: 0.636156\n",
            "[600]\tvalid_0's multi_logloss: 0.62063\n",
            "[700]\tvalid_0's multi_logloss: 0.610007\n",
            "[800]\tvalid_0's multi_logloss: 0.601326\n",
            "[900]\tvalid_0's multi_logloss: 0.594755\n",
            "[1000]\tvalid_0's multi_logloss: 0.589656\n",
            "[1100]\tvalid_0's multi_logloss: 0.586284\n",
            "[1200]\tvalid_0's multi_logloss: 0.584323\n",
            "[1300]\tvalid_0's multi_logloss: 0.582573\n",
            "[1400]\tvalid_0's multi_logloss: 0.581938\n",
            "[1500]\tvalid_0's multi_logloss: 0.581811\n",
            "Early stopping, best iteration is:\n",
            "[1449]\tvalid_0's multi_logloss: 0.581503\n",
            "Log Loss Fold 0 : 0.5815025180908397\n",
            "\n",
            "######### FOLD 2 / 10 \n",
            "Training until validation scores don't improve for 100 rounds.\n",
            "[100]\tvalid_0's multi_logloss: 0.804541\n",
            "[200]\tvalid_0's multi_logloss: 0.719151\n",
            "[300]\tvalid_0's multi_logloss: 0.675111\n",
            "[400]\tvalid_0's multi_logloss: 0.645928\n",
            "[500]\tvalid_0's multi_logloss: 0.625228\n",
            "[600]\tvalid_0's multi_logloss: 0.611021\n",
            "[700]\tvalid_0's multi_logloss: 0.598957\n",
            "[800]\tvalid_0's multi_logloss: 0.589646\n",
            "[900]\tvalid_0's multi_logloss: 0.583062\n",
            "[1000]\tvalid_0's multi_logloss: 0.578513\n",
            "[1100]\tvalid_0's multi_logloss: 0.574546\n",
            "[1200]\tvalid_0's multi_logloss: 0.571791\n",
            "[1300]\tvalid_0's multi_logloss: 0.569748\n",
            "[1400]\tvalid_0's multi_logloss: 0.569179\n",
            "[1500]\tvalid_0's multi_logloss: 0.568805\n",
            "[1600]\tvalid_0's multi_logloss: 0.568386\n",
            "[1700]\tvalid_0's multi_logloss: 0.568268\n",
            "[1800]\tvalid_0's multi_logloss: 0.568543\n",
            "Early stopping, best iteration is:\n",
            "[1756]\tvalid_0's multi_logloss: 0.567939\n",
            "Log Loss Fold 1 : 0.5679388383280471\n",
            "\n",
            "######### FOLD 3 / 10 \n",
            "Training until validation scores don't improve for 100 rounds.\n",
            "[100]\tvalid_0's multi_logloss: 0.797974\n",
            "[200]\tvalid_0's multi_logloss: 0.714449\n",
            "[300]\tvalid_0's multi_logloss: 0.670433\n",
            "[400]\tvalid_0's multi_logloss: 0.642231\n",
            "[500]\tvalid_0's multi_logloss: 0.621917\n",
            "[600]\tvalid_0's multi_logloss: 0.605983\n",
            "[700]\tvalid_0's multi_logloss: 0.594017\n",
            "[800]\tvalid_0's multi_logloss: 0.585219\n",
            "[900]\tvalid_0's multi_logloss: 0.579152\n",
            "[1000]\tvalid_0's multi_logloss: 0.573465\n",
            "[1100]\tvalid_0's multi_logloss: 0.570145\n",
            "[1200]\tvalid_0's multi_logloss: 0.567292\n",
            "[1300]\tvalid_0's multi_logloss: 0.565217\n",
            "[1400]\tvalid_0's multi_logloss: 0.56352\n",
            "[1500]\tvalid_0's multi_logloss: 0.562419\n",
            "[1600]\tvalid_0's multi_logloss: 0.56238\n",
            "[1700]\tvalid_0's multi_logloss: 0.562696\n",
            "Early stopping, best iteration is:\n",
            "[1615]\tvalid_0's multi_logloss: 0.562061\n",
            "Log Loss Fold 2 : 0.5620613140409667\n"
          ]
        },
        {
          "output_type": "error",
          "ename": "TypeError",
          "evalue": "ignored",
          "traceback": [
            "\u001b[0;31m---------------------------------------------------------------------------\u001b[0m",
            "\u001b[0;31mTypeError\u001b[0m                                 Traceback (most recent call last)",
            "\u001b[0;32m<ipython-input-59-19ba51a10a52>\u001b[0m in \u001b[0;36m<module>\u001b[0;34m()\u001b[0m\n\u001b[0;32m----> 1\u001b[0;31m \u001b[0mfeatslgbm\u001b[0m\u001b[0;34m,\u001b[0m\u001b[0moof_lgbm\u001b[0m \u001b[0;34m,\u001b[0m \u001b[0mpredictions_lgbm\u001b[0m \u001b[0;34m=\u001b[0m \u001b[0mRun5fold\u001b[0m\u001b[0;34m(\u001b[0m\u001b[0mname\u001b[0m\u001b[0;34m=\u001b[0m\u001b[0;34m'lgbm'\u001b[0m\u001b[0;34m,\u001b[0m\u001b[0mX\u001b[0m\u001b[0;34m=\u001b[0m\u001b[0mX\u001b[0m\u001b[0;34m,\u001b[0m\u001b[0my\u001b[0m\u001b[0;34m=\u001b[0m\u001b[0my\u001b[0m\u001b[0;34m,\u001b[0m\u001b[0mTEST\u001b[0m\u001b[0;34m=\u001b[0m\u001b[0mTEST\u001b[0m\u001b[0;34m,\u001b[0m\u001b[0mCOLUMNS\u001b[0m\u001b[0;34m=\u001b[0m\u001b[0mCOLUMNS\u001b[0m\u001b[0;34m)\u001b[0m \u001b[0;31m#Log Loss Fold 0 : 0.625915534181997\u001b[0m\u001b[0;34m\u001b[0m\u001b[0;34m\u001b[0m\u001b[0m\n\u001b[0m",
            "\u001b[0;31mTypeError\u001b[0m: cannot unpack non-iterable NoneType object"
          ]
        }
      ]
    },
    {
      "cell_type": "markdown",
      "metadata": {
        "id": "GKWW_uvQdAwU"
      },
      "source": [
        "---"
      ]
    },
    {
      "cell_type": "markdown",
      "metadata": {
        "id": "OeSI0rF6WdnP"
      },
      "source": [
        "## save into drive"
      ]
    },
    {
      "cell_type": "code",
      "metadata": {
        "id": "UPhUBIhBhZdm"
      },
      "source": [
        "from google.colab import drive\n",
        "drive.mount('/content/drive')"
      ],
      "execution_count": null,
      "outputs": []
    },
    {
      "cell_type": "code",
      "metadata": {
        "id": "QqwFwHvBguDz"
      },
      "source": [
        "os.makedirs('/content/drive/MyDrive/RadiantEarth/LGBMS2',exist_ok=True)\n",
        "!cp LGBM_oof_* '/content/drive/MyDrive/RadiantEarth/LGBMS2/'\n",
        "!cp LGBM_testPred_* '/content/drive/MyDrive/RadiantEarth/LGBMS2/'"
      ],
      "execution_count": null,
      "outputs": []
    }
  ]
}
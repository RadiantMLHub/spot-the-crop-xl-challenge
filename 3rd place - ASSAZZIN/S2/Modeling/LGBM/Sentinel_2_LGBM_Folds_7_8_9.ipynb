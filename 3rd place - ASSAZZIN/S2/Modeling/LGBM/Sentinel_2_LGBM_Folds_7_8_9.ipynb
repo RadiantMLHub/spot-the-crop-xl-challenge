{
  "nbformat": 4,
  "nbformat_minor": 0,
  "metadata": {
    "colab": {
      "name": "Sentinel_2_LGBM_Folds_7_8_9.ipynb",
      "provenance": [],
      "collapsed_sections": [],
      "machine_shape": "hm"
    },
    "kernelspec": {
      "name": "python3",
      "display_name": "Python 3"
    }
  },
  "cells": [
    {
      "cell_type": "markdown",
      "metadata": {
        "id": "pH-5yAckjZ_c"
      },
      "source": [
        "# SETUP"
      ]
    },
    {
      "cell_type": "code",
      "metadata": {
        "colab": {
          "base_uri": "https://localhost:8080/"
        },
        "id": "Sq9GR9XPetFA",
        "outputId": "d3e257e6-e83e-483c-917f-75b6ad2c7980"
      },
      "source": [
        "!pip install -r requirements_colab.txt -q"
      ],
      "execution_count": null,
      "outputs": [
        {
          "output_type": "stream",
          "name": "stdout",
          "text": [
            "2.2.3\n"
          ]
        }
      ]
    },
    {
      "cell_type": "markdown",
      "metadata": {
        "id": "QdBqL2inb1gF"
      },
      "source": [
        "# DATA"
      ]
    },
    {
      "cell_type": "markdown",
      "metadata": {
        "id": "gWX4jSHt_3RC"
      },
      "source": [
        "> To speed up the review process , i provided the ***drive id*** of the data i've created from the Train creation folder noteboooks .\n",
        "---\n",
        "> I  also add each data drive link in the Readme Pdf file attached with this solution"
      ]
    },
    {
      "cell_type": "code",
      "metadata": {
        "colab": {
          "base_uri": "https://localhost:8080/"
        },
        "id": "0O4QdYxuTrtS",
        "outputId": "d22cd34b-5219-48c2-aea0-1f53cb1e9f06"
      },
      "source": [
        "!gdown --id 1hNRbtcqd9F6stMOK1xAZApDITwAjiSDJ\n",
        "!gdown --id 1-QCmWsNGREXuWArifN0nD_Sp4hJxf0tu"
      ],
      "execution_count": null,
      "outputs": [
        {
          "output_type": "stream",
          "name": "stdout",
          "text": [
            "Downloading...\n",
            "From: https://drive.google.com/uc?id=1hNRbtcqd9F6stMOK1xAZApDITwAjiSDJ\n",
            "To: /content/S2TrainObs1.csv\n",
            "49.8MB [00:00, 69.6MB/s]\n",
            "Downloading...\n",
            "From: https://drive.google.com/uc?id=1-QCmWsNGREXuWArifN0nD_Sp4hJxf0tu\n",
            "To: /content/S2TestObs1.csv\n",
            "20.1MB [00:00, 39.1MB/s]\n"
          ]
        }
      ]
    },
    {
      "cell_type": "code",
      "metadata": {
        "colab": {
          "base_uri": "https://localhost:8080/"
        },
        "id": "DUfWVUYeTrqw",
        "outputId": "a37f269f-bc22-4637-fb6c-0addfdb85c0d"
      },
      "source": [
        "!gdown --id 1-47L_1NKLeVgW1vWmqXXXCuWZ3gwZWsS\n",
        "!gdown --id 1-aO4FEtv5CF-ZOcxDSO3jGEzPcIFdxgP"
      ],
      "execution_count": null,
      "outputs": [
        {
          "output_type": "stream",
          "name": "stdout",
          "text": [
            "Downloading...\n",
            "From: https://drive.google.com/uc?id=1-47L_1NKLeVgW1vWmqXXXCuWZ3gwZWsS\n",
            "To: /content/S2TrainObs2.csv\n",
            "50.0MB [00:00, 65.3MB/s]\n",
            "Downloading...\n",
            "From: https://drive.google.com/uc?id=1-aO4FEtv5CF-ZOcxDSO3jGEzPcIFdxgP\n",
            "To: /content/S2TestObs2.csv\n",
            "20.1MB [00:00, 43.3MB/s]\n"
          ]
        }
      ]
    },
    {
      "cell_type": "code",
      "metadata": {
        "colab": {
          "base_uri": "https://localhost:8080/"
        },
        "id": "T3jQOvBbTroX",
        "outputId": "71dbbca5-3814-40f1-cfde-8d44b3f9db5f"
      },
      "source": [
        "!gdown --id 1-8J_xFgI0WKT5UXFnfH4q1KUw_KgNY37\n",
        "!gdown --id 1-a55a7N6a4SoqolPF_wI4C6Q70u_d7Hj"
      ],
      "execution_count": null,
      "outputs": [
        {
          "output_type": "stream",
          "name": "stdout",
          "text": [
            "Downloading...\n",
            "From: https://drive.google.com/uc?id=1-8J_xFgI0WKT5UXFnfH4q1KUw_KgNY37\n",
            "To: /content/S2TrainObs3.csv\n",
            "49.9MB [00:00, 81.1MB/s]\n",
            "Downloading...\n",
            "From: https://drive.google.com/uc?id=1-a55a7N6a4SoqolPF_wI4C6Q70u_d7Hj\n",
            "To: /content/S2TestObs3.csv\n",
            "20.1MB [00:01, 13.7MB/s]\n"
          ]
        }
      ]
    },
    {
      "cell_type": "code",
      "metadata": {
        "colab": {
          "base_uri": "https://localhost:8080/"
        },
        "id": "bv-t0agPTrlx",
        "outputId": "f6e91ca9-3802-455a-8881-5cc10ac2525d"
      },
      "source": [
        "!gdown --id 1-BgXQwmXqBuk_P8VtvLfdLqy83dv56Kz\n",
        "!gdown --id 1-hQGF2TNBbsy3jsGNtndmK55egbdFDjs"
      ],
      "execution_count": null,
      "outputs": [
        {
          "output_type": "stream",
          "name": "stdout",
          "text": [
            "Downloading...\n",
            "From: https://drive.google.com/uc?id=1-BgXQwmXqBuk_P8VtvLfdLqy83dv56Kz\n",
            "To: /content/S2TrainObs4.csv\n",
            "46.9MB [00:00, 82.9MB/s]\n",
            "Downloading...\n",
            "From: https://drive.google.com/uc?id=1-hQGF2TNBbsy3jsGNtndmK55egbdFDjs\n",
            "To: /content/S2TestObs4.csv\n",
            "18.9MB [00:00, 36.6MB/s]\n"
          ]
        }
      ]
    },
    {
      "cell_type": "code",
      "metadata": {
        "colab": {
          "base_uri": "https://localhost:8080/"
        },
        "id": "sr1iqcv3ed0r",
        "outputId": "f504ae47-fd32-45d6-819e-d5cc90ca64ce"
      },
      "source": [
        "!gdown --id 1VE3L15uXRbP0kzmDzyuYac3Mi9yZY3YI\n",
        "!gdown --id 1wDzl_QHgKtW2-FoDJs_U-qfbBTBUqNSA"
      ],
      "execution_count": null,
      "outputs": [
        {
          "output_type": "stream",
          "name": "stdout",
          "text": [
            "Downloading...\n",
            "From: https://drive.google.com/uc?id=1VE3L15uXRbP0kzmDzyuYac3Mi9yZY3YI\n",
            "To: /content/S2TrainObs5.csv\n",
            "44.4MB [00:00, 78.4MB/s]\n",
            "Downloading...\n",
            "From: https://drive.google.com/uc?id=1wDzl_QHgKtW2-FoDJs_U-qfbBTBUqNSA\n",
            "To: /content/S2TestObs5.csv\n",
            "17.9MB [00:00, 31.7MB/s]\n"
          ]
        }
      ]
    },
    {
      "cell_type": "markdown",
      "metadata": {
        "id": "ZYJmm4IEb1gI"
      },
      "source": [
        "## LIBRARIES"
      ]
    },
    {
      "cell_type": "code",
      "metadata": {
        "id": "1bxKYXHbb1gJ"
      },
      "source": [
        "#import necessary dependecies\n",
        "import os\n",
        "import numpy as np  \n",
        "import pandas as pd\n",
        "\n",
        "import random\n",
        "from tqdm import tqdm \n",
        "import copy\n",
        "\n",
        "\n",
        "import lightgbm as lgb\n",
        "from sklearn.model_selection import StratifiedKFold\n",
        "from sklearn.metrics import log_loss\n",
        "from sklearn.preprocessing import QuantileTransformer\n",
        "\n",
        "import warnings\n",
        "warnings.filterwarnings('ignore') \n",
        "\n",
        "# fix seed\n",
        "np.random.seed(111)\n",
        "random.seed(111)"
      ],
      "execution_count": null,
      "outputs": []
    },
    {
      "cell_type": "markdown",
      "metadata": {
        "id": "H3oeaq1mb1gJ"
      },
      "source": [
        "## Train Creation"
      ]
    },
    {
      "cell_type": "code",
      "metadata": {
        "id": "f_vZrRBdb1gJ"
      },
      "source": [
        "def create_train():\n",
        "  train =pd.read_csv(\"S2TrainObs1.csv\" )\n",
        "\n",
        "  train = train.groupby('field_id').median().reset_index().sort_values('field_id')\n",
        "  train.label = train.label.astype('int')\n",
        "  return train"
      ],
      "execution_count": null,
      "outputs": []
    },
    {
      "cell_type": "code",
      "metadata": {
        "id": "YWm8ZTJtb1gJ"
      },
      "source": [
        "def create_test():\n",
        "  test =pd.read_csv(\"S2TestObs1.csv\" )\n",
        "  return  test"
      ],
      "execution_count": null,
      "outputs": []
    },
    {
      "cell_type": "code",
      "metadata": {
        "id": "7gVLmDuBb1gK"
      },
      "source": [
        "def createObs2_train():\n",
        "  train =pd.read_csv(\"S2TrainObs2.csv\" )\n",
        "  train = train.groupby('field_id').median().reset_index().sort_values('field_id')\n",
        "  train.label = train.label.astype('int')\n",
        "  return train"
      ],
      "execution_count": null,
      "outputs": []
    },
    {
      "cell_type": "code",
      "metadata": {
        "id": "kH1njJ_nb1gK"
      },
      "source": [
        "def createObs2_test():\n",
        "  test =pd.read_csv(\"S2TestObs2.csv\" )\n",
        "  return test"
      ],
      "execution_count": null,
      "outputs": []
    },
    {
      "cell_type": "code",
      "metadata": {
        "id": "C_ntSbw1b1gK"
      },
      "source": [
        "def createObs3_train():\n",
        "  train =pd.read_csv(\"S2TrainObs3.csv\" )\n",
        "  train = train.groupby('field_id').median().reset_index().sort_values('field_id')\n",
        "  train.label = train.label.astype('int')\n",
        "  return train"
      ],
      "execution_count": null,
      "outputs": []
    },
    {
      "cell_type": "code",
      "metadata": {
        "id": "A0swCcVob1gK"
      },
      "source": [
        "def createObs3_test():\n",
        "  test =pd.read_csv(\"S2TestObs3.csv\" )\n",
        "  return test"
      ],
      "execution_count": null,
      "outputs": []
    },
    {
      "cell_type": "code",
      "metadata": {
        "id": "ytjgmptsb1gK"
      },
      "source": [
        "def createObs4_train():\n",
        "  train =pd.read_csv(\"S2TrainObs4.csv\" )\n",
        "\n",
        "  train = train.groupby('field_id').median().reset_index().sort_values('field_id')\n",
        "  train.label = train.label.astype('int')\n",
        "  return train"
      ],
      "execution_count": null,
      "outputs": []
    },
    {
      "cell_type": "code",
      "metadata": {
        "id": "zYn9XLnMb1gL"
      },
      "source": [
        "def createObs4_test():\n",
        "  test =pd.read_csv(\"S2TestObs4.csv\" )\n",
        "  return test"
      ],
      "execution_count": null,
      "outputs": []
    },
    {
      "cell_type": "code",
      "metadata": {
        "id": "VAkgP2OoeaDT"
      },
      "source": [
        "def createObs5_train():\n",
        "  train =pd.read_csv(\"S2TrainObs5.csv\" )\n",
        "\n",
        "  train = train.groupby('field_id').median().reset_index().sort_values('field_id')\n",
        "  train.label = train.label.astype('int')\n",
        "  return train"
      ],
      "execution_count": null,
      "outputs": []
    },
    {
      "cell_type": "code",
      "metadata": {
        "id": "4SiV_3a1ebwj"
      },
      "source": [
        "def createObs5_test():\n",
        "  test =pd.read_csv(\"S2TestObs5.csv\" )\n",
        "  return test"
      ],
      "execution_count": null,
      "outputs": []
    },
    {
      "cell_type": "markdown",
      "metadata": {
        "id": "-cSylxsjb1gL"
      },
      "source": [
        "## Feature Engineering"
      ]
    },
    {
      "cell_type": "code",
      "metadata": {
        "id": "PA7Exa-Jb1gL"
      },
      "source": [
        "def process(T) :\n",
        "\n",
        "  # process bands\n",
        "  Bcols = T.filter(like='B').columns.tolist()\n",
        "  Vcols = T.filter(like='V').columns.tolist()\n",
        "  Obs1 = T.filter(like='Month4').columns.tolist()\n",
        "  Obs2 = T.filter(like='Month5').columns.tolist()\n",
        "  Obs3 = T.filter(like='Month6').columns.tolist()\n",
        "  Obs4 = T.filter(like='Month7').columns.tolist()\n",
        "  Obs5 = T.filter(like='Month8').columns.tolist()\n",
        "  Obs6 = T.filter(like='Month9').columns.tolist()\n",
        "  Obs7 = T.filter(like='Month10').columns.tolist()\n",
        "  Obs8 = T.filter(like='Month11').columns.tolist()\n",
        "\n",
        "\n",
        "  # vegetation indexes \n",
        "  B8cols = T.filter(like='B8_').columns.tolist()\n",
        "  B8cols = [x for x in B8cols if 'std' not in x]\n",
        "  \n",
        "  B4cols = T.filter(like='B4_').columns.tolist()\n",
        "  B4cols = [x for x in B4cols if 'std' not in x]\n",
        "\n",
        "  B3cols = T.filter(like='B3_').columns.tolist()\n",
        "  B3cols = [x for x in B3cols if 'std' not in x]\n",
        "\n",
        "  B5cols = T.filter(like='B5_').columns.tolist()\n",
        "  B5cols = [x for x in B5cols if 'std' not in x]\n",
        "\n",
        "  B3cols = T.filter(like='B3_').columns.tolist()\n",
        "  B3cols = [x for x in B3cols if 'std' not in x]\n",
        "\n",
        "  B2cols = T.filter(like='B2_').columns.tolist()\n",
        "  B2cols = [x for x in B2cols if 'std' not in x]\n",
        "\n",
        "  B7cols = T.filter(like='B7_').columns.tolist()\n",
        "  B7cols = [x for x in B7cols if 'std' not in x]\n",
        "\n",
        "  B8Acols = T.filter(like='B8A_').columns.tolist()\n",
        "  B8Acols = [x for x in B8Acols if 'std' not in x]\n",
        "\n",
        "  B6cols = T.filter(like='B6_').columns.tolist()\n",
        "  B6cols = [x for x in B6cols if 'std' not in x]\n",
        "\n",
        "  B12cols = T.filter(like='B12_').columns.tolist()\n",
        "  B12cols = [x for x in B12cols if 'std' not in x]\n",
        "\n",
        "  B11cols = T.filter(like='B11_').columns.tolist()\n",
        "  B11cols = [x for x in B11cols if 'std' not in x]\n",
        "\n",
        "  B1cols = T.filter(like='B1_').columns.tolist()\n",
        "  B1cols = [x for x in B1cols if 'std' not in x]\n",
        "\n",
        "  B9cols = T.filter(like='B9_').columns.tolist()\n",
        "  B9cols = [x for x in B9cols if 'std' not in x]\n",
        "\n",
        "  L = 0.725\n",
        "  for b1,b2 ,b3 ,b4, b5 , b6, b7, b8 ,b8a ,b9,b11,b12 in zip(B1cols,B2cols,B3cols,B4cols,B5cols,B6cols,B7cols,B8cols,B8Acols,B9cols,B11cols,B12cols) :\n",
        "    T[f'NDVI_{b8.split(\"_\")[1]}']   = ((T[b8] - T[b4]) /  (T[b8] + T[b4]))\n",
        "    T[f'SAVI_{b8.split(\"_\")[1]}']   = ((T[b8] - T[b4]) /  (T[b8] + T[b4]+L) * (1.0 + L))\n",
        "    T[f'GRNDVI_{b8.split(\"_\")[1]}'] = ((T[b8] - (T[b3]+T[b4])) /  (T[b8] + (T[b3]+T[b4])))\n",
        "    T[f'GNDVI_{b8.split(\"_\")[1]}']  = ((T[b8] - T[b3] ) /  (T[b8] + T[b3]))\n",
        "    T[f'NDRE_{b8.split(\"_\")[1]}']   = ((T[b5] - T[b4])/ (T[b5] + T[b4]))\n",
        "    T[f'EVI_{b8.split(\"_\")[1]}']    = (2.5 * (T[b8]  - T[b4] ) / ((T[b8]  + 6.0 * T[b4]  - 7.5 * T[b2]) + 1.0)).values.clip(min=-5,max=5)\n",
        "    T[f'WDRVI_{b8.split(\"_\")[1]}']  = (((8 * T[b8]) - T[b4])/ ((8* T[b8]) + T[b4]))\n",
        "    T[f'ExBlue_{b8.split(\"_\")[1]}']  = ((2 * T[b2]) - (T[b3]+T[b4]))\n",
        "    T[f'ExGreen_{b8.split(\"_\")[1]}']  = ((2 * T[b3]) - (T[b2]+T[b4]) )\n",
        "    T[f'NDRE7_{b8.split(\"_\")[1]}']   = ((T[b7] - T[b4])/ (T[b7] + T[b4]))\n",
        "    T[f'MTCI_{b8.split(\"_\")[1]}']   = ((T[b8a] - T[b6])/ (T[b7] + T[b6]))\n",
        "    T[f'VARI_{b8.split(\"_\")[1]}']   = ((T[b3] - T[b4])/ (T[b3] + T[b4] - T[b2]))\n",
        "    T[f'ARVI_{b8.split(\"_\")[1]}']   = ( ((T[b8] - T[b4])-(T[b4] - T[b2])) /  ((T[b8] + T[b4])-(T[b4] - T[b2])) )\n",
        "\n",
        "    # Bands Relations\n",
        "    T[f'b7b5_{b8.split(\"_\")[1]}']  = (T[b7] - T[b5])/ (T[b7] + T[b5])    # B7  / B5\n",
        "    T[f'b7b6_{b8.split(\"_\")[1]}']  = (T[b7] - T[b6])/ (T[b7] + T[b6])    # B7  / B6\n",
        "    T[f'b8ab5_{b8.split(\"_\")[1]}'] = (T[b8a] - T[b5])/ (T[b8a]  + T[b5]) # B8A / B5\n",
        "    T[f'b6b5_{b8.split(\"_\")[1]}']  = (T[b6] - T[b5])/ (T[b6] + T[b5])    # B6  / B5 \n",
        "    \n",
        "    # ASSAZZIN bands relations \n",
        "    T[f'b3b1_{b8.split(\"_\")[1]}']  = (T[b3] - T[b1])/ (T[b3] + T[b1])    \n",
        "    T[f'b11b8_{b8.split(\"_\")[1]}']  = (T[b11] - T[b8])/ (T[b11] + T[b8])    \n",
        "    T[f'b12b11_{b8.split(\"_\")[1]}']  = (T[b12] - T[b11])/ (T[b12] + T[b11])    \n",
        "    T[f'b3b4_{b8.split(\"_\")[1]}']  = (T[b3] - T[b4])/ (T[b3] + T[b4])    \n",
        "    T[f'b9b4_{b8.split(\"_\")[1]}']  = (T[b9] - T[b4])/ (T[b9] + T[b4])    \n",
        "    T[f'b5b3_{b8.split(\"_\")[1]}']  = (T[b5] - T[b3])/ (T[b5] + T[b3])    \n",
        "    T[f'b12b3_{b8.split(\"_\")[1]}']  = (T[b12] - T[b3])/ (T[b12] + T[b3])    \n",
        "\n",
        "    T[f'b2b1_{b8.split(\"_\")[1]}']  = (T[b2] - T[b1])/ (T[b2] + T[b1])    \n",
        "    T[f'b4b1_{b8.split(\"_\")[1]}']  = (T[b4] - T[b1])/ (T[b4] + T[b1])    \n",
        "    T[f'b11b3_{b8.split(\"_\")[1]}']  = (T[b11] - T[b3])/ (T[b11] + T[b3])    \n",
        "    \n",
        "    T[f'b12b8_{b8.split(\"_\")[1]}']  = (T[b12] - T[b8])/ (T[b12] + T[b8])    \n",
        "    T[f'b3b2_{b8.split(\"_\")[1]}']  = (T[b3] - T[b2])/ (T[b3] + T[b2])    \n",
        "    T[f'b8ab3_{b8.split(\"_\")[1]}'] = (T[b8a] - T[b3])/ (T[b8a]  + T[b3]) \n",
        "    T[f'b8ab2_{b8.split(\"_\")[1]}'] = (T[b8a] - T[b2])/ (T[b8a]  + T[b2]) \n",
        "\n",
        "    T[f'b8b1_{b8.split(\"_\")[1]}']  = (T[b8] - T[b1])/ (T[b8] + T[b1])    \n",
        "    T[f'ARVI2_{b8.split(\"_\")[1]}']   = ( ((T[b3] - T[b4])-(T[b4] - T[b2])) /  ((T[b3] + T[b4])+(T[b4] + T[b2])) )\n",
        "    T[f'ARVI3_{b8.split(\"_\")[1]}']   = ( ((T[b5] - T[b3])-(T[b3] - T[b2])) /  ((T[b5] + T[b3])+(T[b3] + T[b2])) )\n",
        "    T[f'b8b9_{b8.split(\"_\")[1]}']  = (T[b8] - T[b9])/ (T[b8] + T[b9])    \n",
        "    T[f'b3b9_{b8.split(\"_\")[1]}']  = (T[b3] - T[b9])/ (T[b3] + T[b9])    \n",
        "    T[f'b2b9_{b8.split(\"_\")[1]}']  = (T[b2] - T[b9])/ (T[b2] + T[b9])    \n",
        "\n",
        "    T[f'b12b9_{b8.split(\"_\")[1]}']  = (T[b12] - T[b9])/ (T[b12] + T[b9])    \n",
        "    T[f'b12b8_{b8.split(\"_\")[1]}']  = (T[b12] - T[b8])/ (T[b12] + T[b8])    \n",
        "\n",
        "  for col in Bcols :\n",
        "    T[col] = np.sqrt(T[col])\n",
        "  for b2 ,b3 ,b4 in zip(B2cols,B3cols,B4cols) :\n",
        "    T[f'RGB_STD_{b3.split(\"_\")[1]}'] = T[[b2,b3,b4]].std(axis=1)\n",
        "    T[f'RGB_MEAN_{b3.split(\"_\")[1]}'] = T[[b2,b3,b4]].mean(axis=1)\n",
        "\n",
        "  for col in Vcols :\n",
        "    T[col] = np.sqrt(T[col])\n",
        "\n",
        "  for col1,col2,col3,col4,col5,col6,col7,col8 in zip(Obs1,Obs2,Obs3,Obs4,Obs5,Obs6,Obs7,Obs8) :\n",
        "    T[f'{col1.split(\"_\")[0]}_std'] = T[[col1,col2,col3,col4,col5,col6,col7,col8]].std(axis=1)\n",
        "  \n",
        "  # process Vegetation indexes\n",
        "  ObsN   = T.filter(like='NDVI_').columns.tolist()\n",
        "  ObsSA  = T.filter(like='SAVI_').columns.tolist()\n",
        "  ObsCC  = T.filter(like='CCCI_').columns.tolist()\n",
        "  ObsWDR = T.filter(like='WDRVI_').columns.tolist()\n",
        "  ObsNDRE7 = T.filter(like='NDRE7_').columns.tolist()\n",
        "\n",
        "  T['NDVI_max']    = T[ObsN].max(axis=1)\n",
        "  T['NDVI_min']    = T[ObsN].min(axis=1)\n",
        "  \n",
        "  T['SAVI_max']    = T[ObsSA].max(axis=1)\n",
        "  T['SAVI_mmin']   = T[ObsSA].min(axis=1)\n",
        "\n",
        "  T['WDRVI_max']  = T[ObsWDR].max(axis=1)\n",
        "  T['WDRVI_min']  = T[ObsWDR].min(axis=1)\n",
        "\n",
        "  T['NDRE7_max']   = T[ObsNDRE7].max(axis=1)\n",
        "  T['NDRE7_min']   = T[ObsNDRE7].min(axis=1)\n",
        "\n",
        "  return T"
      ],
      "execution_count": null,
      "outputs": []
    },
    {
      "cell_type": "code",
      "metadata": {
        "id": "PdAH-9A_b1gN"
      },
      "source": [
        "Train = create_train()\n",
        "Test = create_test()"
      ],
      "execution_count": null,
      "outputs": []
    },
    {
      "cell_type": "code",
      "metadata": {
        "id": "E_DDJNyHb1gN"
      },
      "source": [
        "Train2 = createObs2_train()\n",
        "Test2 = createObs2_test()"
      ],
      "execution_count": null,
      "outputs": []
    },
    {
      "cell_type": "code",
      "metadata": {
        "id": "yTkNp9fKb1gO"
      },
      "source": [
        "Train3 = createObs3_train()\n",
        "Test3 = createObs3_test()"
      ],
      "execution_count": null,
      "outputs": []
    },
    {
      "cell_type": "code",
      "metadata": {
        "id": "kS-nuKkUb1gO"
      },
      "source": [
        "Train4 = createObs4_train()\n",
        "Test4 = createObs4_test()"
      ],
      "execution_count": null,
      "outputs": []
    },
    {
      "cell_type": "code",
      "metadata": {
        "id": "qXSNBkB0etYR"
      },
      "source": [
        "Train5 = createObs5_train()\n",
        "Test5 = createObs5_test()"
      ],
      "execution_count": null,
      "outputs": []
    },
    {
      "cell_type": "code",
      "metadata": {
        "colab": {
          "base_uri": "https://localhost:8080/"
        },
        "id": "6ou8U6_Tb1gO",
        "outputId": "d8889b2e-a2e2-4f57-8de5-951f213483eb"
      },
      "source": [
        "Train.shape , Test.shape"
      ],
      "execution_count": null,
      "outputs": [
        {
          "output_type": "execute_result",
          "data": {
            "text/plain": [
              "((87114, 98), (35295, 97))"
            ]
          },
          "metadata": {},
          "execution_count": 23
        }
      ]
    },
    {
      "cell_type": "code",
      "metadata": {
        "colab": {
          "base_uri": "https://localhost:8080/"
        },
        "id": "O-Fmx8k5b1gO",
        "outputId": "ae4cefef-3136-4ddf-86bd-40c6964e64f5"
      },
      "source": [
        "Train2.shape , Test2.shape"
      ],
      "execution_count": null,
      "outputs": [
        {
          "output_type": "execute_result",
          "data": {
            "text/plain": [
              "((87114, 98), (35295, 97))"
            ]
          },
          "metadata": {},
          "execution_count": 24
        }
      ]
    },
    {
      "cell_type": "code",
      "metadata": {
        "colab": {
          "base_uri": "https://localhost:8080/"
        },
        "id": "9Vz4C4Glb1gO",
        "outputId": "fcf0f1b8-3f8e-4914-ca85-cf3ca4128344"
      },
      "source": [
        "Train3.shape , Test3.shape"
      ],
      "execution_count": null,
      "outputs": [
        {
          "output_type": "execute_result",
          "data": {
            "text/plain": [
              "((87114, 98), (35295, 97))"
            ]
          },
          "metadata": {},
          "execution_count": 25
        }
      ]
    },
    {
      "cell_type": "code",
      "metadata": {
        "colab": {
          "base_uri": "https://localhost:8080/"
        },
        "id": "gynul4Wdb1gO",
        "outputId": "1c95dee6-f8be-4e20-e6da-65417cb9467a"
      },
      "source": [
        "Train4.shape , Test4.shape"
      ],
      "execution_count": null,
      "outputs": [
        {
          "output_type": "execute_result",
          "data": {
            "text/plain": [
              "((87114, 98), (35295, 97))"
            ]
          },
          "metadata": {},
          "execution_count": 26
        }
      ]
    },
    {
      "cell_type": "code",
      "metadata": {
        "colab": {
          "base_uri": "https://localhost:8080/"
        },
        "id": "GhEGps2Wexex",
        "outputId": "26683717-c5ef-4d1e-dbe2-8546167adf9c"
      },
      "source": [
        "Train5.shape , Test5.shape"
      ],
      "execution_count": null,
      "outputs": [
        {
          "output_type": "execute_result",
          "data": {
            "text/plain": [
              "((87114, 98), (35295, 97))"
            ]
          },
          "metadata": {},
          "execution_count": 27
        }
      ]
    },
    {
      "cell_type": "code",
      "metadata": {
        "id": "mWXsa4Rvb1gO"
      },
      "source": [
        "Train = process(Train)\n",
        "Test = process(Test)"
      ],
      "execution_count": null,
      "outputs": []
    },
    {
      "cell_type": "code",
      "metadata": {
        "id": "DzeRuPLjb1gO"
      },
      "source": [
        "Train2 = process(Train2)\n",
        "Test2 = process(Test2)"
      ],
      "execution_count": null,
      "outputs": []
    },
    {
      "cell_type": "code",
      "metadata": {
        "id": "D5MUGGxGb1gO"
      },
      "source": [
        "Train3 = process(Train3)\n",
        "Test3 = process(Test3)"
      ],
      "execution_count": null,
      "outputs": []
    },
    {
      "cell_type": "code",
      "metadata": {
        "id": "j44KcGXMb1gP"
      },
      "source": [
        "Train4 = process(Train4)\n",
        "Test4 = process(Test4)"
      ],
      "execution_count": null,
      "outputs": []
    },
    {
      "cell_type": "code",
      "metadata": {
        "id": "-2UdHPXLez9R"
      },
      "source": [
        "Train5 = process(Train5)\n",
        "Test5 = process(Test5)"
      ],
      "execution_count": null,
      "outputs": []
    },
    {
      "cell_type": "code",
      "metadata": {
        "colab": {
          "base_uri": "https://localhost:8080/"
        },
        "id": "Yyr9LM7qb1gP",
        "outputId": "f46c19c9-6a10-4b0f-d49c-fa92c7176e36"
      },
      "source": [
        "Train.shape , Test.shape"
      ],
      "execution_count": null,
      "outputs": [
        {
          "output_type": "execute_result",
          "data": {
            "text/plain": [
              "((87114, 438), (35295, 437))"
            ]
          },
          "metadata": {},
          "execution_count": 33
        }
      ]
    },
    {
      "cell_type": "code",
      "metadata": {
        "colab": {
          "base_uri": "https://localhost:8080/"
        },
        "id": "EGCUyArzb1gP",
        "outputId": "3a5bae31-57ee-4ad4-a604-cc18365be014"
      },
      "source": [
        "Train2.shape , Test2.shape"
      ],
      "execution_count": null,
      "outputs": [
        {
          "output_type": "execute_result",
          "data": {
            "text/plain": [
              "((87114, 438), (35295, 437))"
            ]
          },
          "metadata": {},
          "execution_count": 34
        }
      ]
    },
    {
      "cell_type": "code",
      "metadata": {
        "colab": {
          "base_uri": "https://localhost:8080/"
        },
        "id": "Kp9Xx90Pb1gP",
        "outputId": "c0302d82-197e-499a-8c82-de34b65d465f"
      },
      "source": [
        "Train3.shape , Test3.shape"
      ],
      "execution_count": null,
      "outputs": [
        {
          "output_type": "execute_result",
          "data": {
            "text/plain": [
              "((87114, 438), (35295, 437))"
            ]
          },
          "metadata": {},
          "execution_count": 35
        }
      ]
    },
    {
      "cell_type": "code",
      "metadata": {
        "colab": {
          "base_uri": "https://localhost:8080/"
        },
        "id": "OA7Jbth5b1gP",
        "outputId": "76fc1ea8-b49e-44d7-936a-95fd7741f4c0"
      },
      "source": [
        "Train4.shape , Test4.shape"
      ],
      "execution_count": null,
      "outputs": [
        {
          "output_type": "execute_result",
          "data": {
            "text/plain": [
              "((87114, 438), (35295, 437))"
            ]
          },
          "metadata": {},
          "execution_count": 36
        }
      ]
    },
    {
      "cell_type": "code",
      "metadata": {
        "colab": {
          "base_uri": "https://localhost:8080/"
        },
        "id": "9U78zqj6e3v6",
        "outputId": "55470941-c6ee-4e6f-9a8a-abd7d07ec4ba"
      },
      "source": [
        "Train5.shape , Test5.shape"
      ],
      "execution_count": null,
      "outputs": [
        {
          "output_type": "execute_result",
          "data": {
            "text/plain": [
              "((87114, 438), (35295, 437))"
            ]
          },
          "metadata": {},
          "execution_count": 37
        }
      ]
    },
    {
      "cell_type": "code",
      "metadata": {
        "colab": {
          "base_uri": "https://localhost:8080/"
        },
        "id": "9apZXBb0b1gP",
        "outputId": "8ad4229b-819e-4bae-cbc2-f5d531ce00a8"
      },
      "source": [
        "Train = pd.concat([Train,Train2.drop(columns=['field_id','label']),Train3.drop(columns=['field_id','label']),\n",
        "                   Train4.drop(columns=['field_id','label']),Train5.drop(columns=['field_id','label'])],axis=1)\n",
        "Train.shape"
      ],
      "execution_count": null,
      "outputs": [
        {
          "output_type": "execute_result",
          "data": {
            "text/plain": [
              "(87114, 2182)"
            ]
          },
          "metadata": {},
          "execution_count": 38
        }
      ]
    },
    {
      "cell_type": "code",
      "metadata": {
        "colab": {
          "base_uri": "https://localhost:8080/"
        },
        "id": "YnszaWEGb1gP",
        "outputId": "32bbded0-12ef-4e3b-fb18-cdfbaa841d6b"
      },
      "source": [
        "Test = pd.concat([Test,Test2.drop(columns=['field_id']),Test3.drop(columns=['field_id'])],axis=1)\n",
        "Test = pd.merge(Test,Test4,on='field_id',how='left')\n",
        "Test = pd.merge(Test,Test5,on='field_id',how='left')\n",
        "Test.shape"
      ],
      "execution_count": null,
      "outputs": [
        {
          "output_type": "execute_result",
          "data": {
            "text/plain": [
              "(35295, 2181)"
            ]
          },
          "metadata": {},
          "execution_count": 39
        }
      ]
    },
    {
      "cell_type": "code",
      "metadata": {
        "colab": {
          "base_uri": "https://localhost:8080/"
        },
        "id": "e3LDB7Sfb1gP",
        "outputId": "e663b4ce-1925-4fb8-8956-72817eda5a6e"
      },
      "source": [
        "import gc ; gc.collect()"
      ],
      "execution_count": null,
      "outputs": [
        {
          "output_type": "execute_result",
          "data": {
            "text/plain": [
              "104"
            ]
          },
          "metadata": {},
          "execution_count": 40
        }
      ]
    },
    {
      "cell_type": "markdown",
      "metadata": {
        "id": "vY3pUT7fmECJ"
      },
      "source": [
        "# MODELING"
      ]
    },
    {
      "cell_type": "code",
      "metadata": {
        "id": "texiz981mlyZ"
      },
      "source": [
        "X    = Train.replace(np.inf,50).drop(['field_id','label'], axis=1)\n",
        "COLUMNS = X.columns.tolist()\n",
        "y    = Train.label\n",
        "TEST = Test.replace(np.inf,50).drop(['field_id'], axis=1)"
      ],
      "execution_count": null,
      "outputs": []
    },
    {
      "cell_type": "code",
      "metadata": {
        "id": "e-Jk9rdgCT7x"
      },
      "source": [
        "TEST.columns = X.columns.tolist()"
      ],
      "execution_count": null,
      "outputs": []
    },
    {
      "cell_type": "code",
      "metadata": {
        "id": "l0hEhXSdh_l4"
      },
      "source": [
        "data = pd.concat([X,TEST])\n",
        "qt=QuantileTransformer(output_distribution=\"normal\",random_state=42)\n",
        "data= pd.DataFrame(qt.fit_transform(data),columns=X.columns)"
      ],
      "execution_count": null,
      "outputs": []
    },
    {
      "cell_type": "code",
      "metadata": {
        "id": "FKt1Nm9Dh_jg"
      },
      "source": [
        "X = data[:X.shape[0]].values\n",
        "TEST = data[X.shape[0]:].values"
      ],
      "execution_count": null,
      "outputs": []
    },
    {
      "cell_type": "code",
      "metadata": {
        "colab": {
          "base_uri": "https://localhost:8080/"
        },
        "id": "OV5Isqcn-rNM",
        "outputId": "08b6a18d-04cf-46f8-fe64-5ea0a59aa614"
      },
      "source": [
        "X.shape , TEST.shape"
      ],
      "execution_count": null,
      "outputs": [
        {
          "output_type": "execute_result",
          "data": {
            "text/plain": [
              "((87114, 2180), (35295, 2180))"
            ]
          },
          "metadata": {},
          "execution_count": 49
        }
      ]
    },
    {
      "cell_type": "code",
      "metadata": {
        "id": "z0ymGuAkiBpI"
      },
      "source": [
        "##############################################################################################################################################################################"
      ],
      "execution_count": null,
      "outputs": []
    },
    {
      "cell_type": "code",
      "metadata": {
        "id": "DnsQwedgZc1R"
      },
      "source": [
        "def kfold_split(Train,y):\n",
        "    Train[\"folds\"]=-1\n",
        "    kf = StratifiedKFold(n_splits= 10,random_state=seed,shuffle=True)\n",
        "    for fold, (_, val_index) in enumerate(kf.split(Train,y)):\n",
        "            Train.loc[val_index, \"folds\"] = fold\n",
        "    return Train"
      ],
      "execution_count": null,
      "outputs": []
    },
    {
      "cell_type": "code",
      "metadata": {
        "id": "SHWUwRS_ZqRM"
      },
      "source": [
        "Train = kfold_split(Train,y)"
      ],
      "execution_count": null,
      "outputs": []
    },
    {
      "cell_type": "markdown",
      "metadata": {
        "id": "hvDtMepz_qp2"
      },
      "source": [
        "### Cross Validation"
      ]
    },
    {
      "cell_type": "code",
      "metadata": {
        "id": "a6I4IjUb_2Sa"
      },
      "source": [
        "seed = 47\n",
        "sk = StratifiedKFold(n_splits= 10,random_state=seed,shuffle=True)\n",
        "\n",
        "def DefineModel(name='lgbm') :\n",
        "  if name =='lgbm':\n",
        "    return lgb.LGBMClassifier(learning_rate = 0.1,n_estimators = 3000,\n",
        "                            objective ='multiclass',random_state = 111,\n",
        "                            num_leaves = 80,max_depth = 6,\n",
        "                            metric = 'multi_logloss',\n",
        "                            colsample_bytree = 0.5 ,\n",
        "                            bagging_freq= 5, bagging_fraction= 0.75,\n",
        "                            lambda_l2 = 100 ,\n",
        "                            )\n",
        "  elif name =='catboost' :\n",
        "    cat_params = {\"loss_function\": \"MultiClass\",\"eval_metric\": \"MultiClass\",\"learning_rate\": 0.1,\n",
        "              \"random_seed\": 42,\"l2_leaf_reg\": 3,\"bagging_temperature\": 1, \n",
        "              \"depth\": 6,\"od_type\": \"Iter\",\"od_wait\": 50,\"thread_count\": 16,\"iterations\": 50000,\n",
        "              \"use_best_model\": True,'task_type':\"GPU\",'devices':'0:1'}\n",
        "    return CatBoostClassifier(**cat_params\n",
        "                              )\n",
        "  else :\n",
        "    return xgb.XGBClassifier(objective = 'multi:softmax',\n",
        "                             base_score = np.mean(y),eval_metric =\"mlogloss\",\n",
        "                             subsample= 0.8,n_estimators = 2000,\n",
        "                             seed=seed,random_state = seed,num_class = 9,\n",
        "                             ) \n",
        "\n",
        "def Run5fold(name,X,y,TEST,COLUMNS) :\n",
        "  print(f'TRAINING {name}')\n",
        "  cv_score_ = 0\n",
        "  oof_preds = np.zeros((Train.shape[0],9))\n",
        "  final_predictions = np.zeros((Test.shape[0],9))\n",
        "\n",
        "  for fold in  [7,8,9]:\n",
        "    print()\n",
        "    print(f'######### FOLD {fold+1} / {sk.n_splits} ')\n",
        "    \n",
        "    train_idx = Train[Train['folds'] !=fold].index.tolist()\n",
        "    test_idx  = Train[Train['folds'] ==fold].index.tolist()\n",
        "\n",
        "    X_train,y_train = X[train_idx,:],y[train_idx]\n",
        "    X_test,y_test   = X[test_idx,:] ,y[test_idx]\n",
        "\n",
        "    model = DefineModel(name=name)\n",
        "    model.fit(X_train,y_train,\n",
        "        eval_set = [(X_test,y_test)],\n",
        "        early_stopping_rounds  = 100,\n",
        "        verbose = 100\n",
        "    )\n",
        "    oof_prediction = model.predict_proba(X_test)\n",
        "    np.save(f'LGBM_oof_{fold}',oof_prediction)\n",
        "    cv_score_ += log_loss(y_test,oof_prediction) / sk.n_splits\n",
        "    print(f'Log Loss Fold {fold} : {log_loss(y_test,oof_prediction) }')\n",
        "    oof_preds[test_idx] = oof_prediction\n",
        "\n",
        "    test_prediction = model.predict_proba(TEST)\n",
        "    np.save(f'LGBM_testPred_{fold}',test_prediction)\n",
        "    final_predictions += test_prediction / sk.n_splits\n",
        "    del X_train,y_train , X_test,y_test , model\n",
        "    gc.collect()\n",
        "  # return feats,oof_preds , final_predictions"
      ],
      "execution_count": null,
      "outputs": []
    },
    {
      "cell_type": "code",
      "metadata": {
        "colab": {
          "base_uri": "https://localhost:8080/"
        },
        "id": "um7nAF_Zhx65",
        "outputId": "fb39b84a-0492-488f-d488-6ecd250cb504"
      },
      "source": [
        "import gc ; gc.collect()"
      ],
      "execution_count": null,
      "outputs": [
        {
          "output_type": "execute_result",
          "data": {
            "text/plain": [
              "50"
            ]
          },
          "metadata": {},
          "execution_count": 58
        }
      ]
    },
    {
      "cell_type": "code",
      "metadata": {
        "id": "O9sV6zBomkVX",
        "colab": {
          "base_uri": "https://localhost:8080/",
          "height": 1000
        },
        "outputId": "43be0ee1-624c-47ee-da0e-03f1c2d95cc2"
      },
      "source": [
        "Run5fold(name='lgbm',X=X,y=y,TEST=TEST,COLUMNS=COLUMNS) #Log Loss Fold 0 : 0.625915534181997"
      ],
      "execution_count": null,
      "outputs": [
        {
          "output_type": "stream",
          "name": "stdout",
          "text": [
            "TRAINING lgbm\n",
            "\n",
            "######### FOLD 8 / 10 \n",
            "Training until validation scores don't improve for 100 rounds.\n",
            "[100]\tvalid_0's multi_logloss: 0.801741\n",
            "[200]\tvalid_0's multi_logloss: 0.716132\n",
            "[300]\tvalid_0's multi_logloss: 0.674389\n",
            "[400]\tvalid_0's multi_logloss: 0.645805\n",
            "[500]\tvalid_0's multi_logloss: 0.625927\n",
            "[600]\tvalid_0's multi_logloss: 0.611003\n",
            "[700]\tvalid_0's multi_logloss: 0.600063\n",
            "[800]\tvalid_0's multi_logloss: 0.590936\n",
            "[900]\tvalid_0's multi_logloss: 0.584188\n",
            "[1000]\tvalid_0's multi_logloss: 0.578367\n",
            "[1100]\tvalid_0's multi_logloss: 0.574891\n",
            "[1200]\tvalid_0's multi_logloss: 0.57288\n",
            "[1300]\tvalid_0's multi_logloss: 0.571267\n",
            "[1400]\tvalid_0's multi_logloss: 0.57001\n",
            "[1500]\tvalid_0's multi_logloss: 0.569483\n",
            "[1600]\tvalid_0's multi_logloss: 0.568761\n",
            "Early stopping, best iteration is:\n",
            "[1590]\tvalid_0's multi_logloss: 0.56869\n",
            "Log Loss Fold 7 : 0.5686899345010931\n",
            "\n",
            "######### FOLD 9 / 10 \n",
            "Training until validation scores don't improve for 100 rounds.\n",
            "[100]\tvalid_0's multi_logloss: 0.799299\n",
            "[200]\tvalid_0's multi_logloss: 0.714349\n",
            "[300]\tvalid_0's multi_logloss: 0.670997\n",
            "[400]\tvalid_0's multi_logloss: 0.641537\n",
            "[500]\tvalid_0's multi_logloss: 0.621902\n",
            "[600]\tvalid_0's multi_logloss: 0.606092\n",
            "[700]\tvalid_0's multi_logloss: 0.594657\n",
            "[800]\tvalid_0's multi_logloss: 0.585759\n",
            "[900]\tvalid_0's multi_logloss: 0.579401\n",
            "[1000]\tvalid_0's multi_logloss: 0.574484\n",
            "[1100]\tvalid_0's multi_logloss: 0.571416\n",
            "[1200]\tvalid_0's multi_logloss: 0.568363\n",
            "[1300]\tvalid_0's multi_logloss: 0.566048\n",
            "[1400]\tvalid_0's multi_logloss: 0.56463\n",
            "[1500]\tvalid_0's multi_logloss: 0.564519\n",
            "[1600]\tvalid_0's multi_logloss: 0.564504\n",
            "Early stopping, best iteration is:\n",
            "[1518]\tvalid_0's multi_logloss: 0.564299\n",
            "Log Loss Fold 8 : 0.5642992871671242\n",
            "\n",
            "######### FOLD 10 / 10 \n",
            "Training until validation scores don't improve for 100 rounds.\n",
            "[100]\tvalid_0's multi_logloss: 0.808792\n",
            "[200]\tvalid_0's multi_logloss: 0.722542\n",
            "[300]\tvalid_0's multi_logloss: 0.678541\n",
            "[400]\tvalid_0's multi_logloss: 0.65033\n",
            "[500]\tvalid_0's multi_logloss: 0.630231\n",
            "[600]\tvalid_0's multi_logloss: 0.615389\n",
            "[700]\tvalid_0's multi_logloss: 0.604075\n",
            "[800]\tvalid_0's multi_logloss: 0.594965\n",
            "[900]\tvalid_0's multi_logloss: 0.588552\n",
            "[1000]\tvalid_0's multi_logloss: 0.584783\n",
            "[1100]\tvalid_0's multi_logloss: 0.580762\n",
            "[1200]\tvalid_0's multi_logloss: 0.578074\n",
            "[1300]\tvalid_0's multi_logloss: 0.576792\n",
            "[1400]\tvalid_0's multi_logloss: 0.576254\n",
            "Early stopping, best iteration is:\n",
            "[1353]\tvalid_0's multi_logloss: 0.576114\n",
            "Log Loss Fold 9 : 0.5761135719221214\n"
          ]
        },
        {
          "output_type": "error",
          "ename": "TypeError",
          "evalue": "ignored",
          "traceback": [
            "\u001b[0;31m---------------------------------------------------------------------------\u001b[0m",
            "\u001b[0;31mTypeError\u001b[0m                                 Traceback (most recent call last)",
            "\u001b[0;32m<ipython-input-59-19ba51a10a52>\u001b[0m in \u001b[0;36m<module>\u001b[0;34m()\u001b[0m\n\u001b[0;32m----> 1\u001b[0;31m \u001b[0mfeatslgbm\u001b[0m\u001b[0;34m,\u001b[0m\u001b[0moof_lgbm\u001b[0m \u001b[0;34m,\u001b[0m \u001b[0mpredictions_lgbm\u001b[0m \u001b[0;34m=\u001b[0m \u001b[0mRun5fold\u001b[0m\u001b[0;34m(\u001b[0m\u001b[0mname\u001b[0m\u001b[0;34m=\u001b[0m\u001b[0;34m'lgbm'\u001b[0m\u001b[0;34m,\u001b[0m\u001b[0mX\u001b[0m\u001b[0;34m=\u001b[0m\u001b[0mX\u001b[0m\u001b[0;34m,\u001b[0m\u001b[0my\u001b[0m\u001b[0;34m=\u001b[0m\u001b[0my\u001b[0m\u001b[0;34m,\u001b[0m\u001b[0mTEST\u001b[0m\u001b[0;34m=\u001b[0m\u001b[0mTEST\u001b[0m\u001b[0;34m,\u001b[0m\u001b[0mCOLUMNS\u001b[0m\u001b[0;34m=\u001b[0m\u001b[0mCOLUMNS\u001b[0m\u001b[0;34m)\u001b[0m \u001b[0;31m#Log Loss Fold 0 : 0.625915534181997\u001b[0m\u001b[0;34m\u001b[0m\u001b[0;34m\u001b[0m\u001b[0m\n\u001b[0m",
            "\u001b[0;31mTypeError\u001b[0m: cannot unpack non-iterable NoneType object"
          ]
        }
      ]
    },
    {
      "cell_type": "markdown",
      "metadata": {
        "id": "GKWW_uvQdAwU"
      },
      "source": [
        "---"
      ]
    },
    {
      "cell_type": "markdown",
      "metadata": {
        "id": "i9ifqb6vXDMA"
      },
      "source": [
        "##  save into drive"
      ]
    },
    {
      "cell_type": "code",
      "metadata": {
        "id": "r-ET0LEWkS6e",
        "colab": {
          "base_uri": "https://localhost:8080/"
        },
        "outputId": "5b385c77-ffdf-427a-b8c1-1ad1cf4cd78a"
      },
      "source": [
        "from google.colab import drive\n",
        "drive.mount('/content/drive')"
      ],
      "execution_count": null,
      "outputs": [
        {
          "output_type": "stream",
          "name": "stdout",
          "text": [
            "Go to this URL in a browser: https://accounts.google.com/o/oauth2/auth?client_id=947318989803-6bn6qk8qdgf4n4g3pfee6491hc0brc4i.apps.googleusercontent.com&redirect_uri=urn%3aietf%3awg%3aoauth%3a2.0%3aoob&scope=email%20https%3a%2f%2fwww.googleapis.com%2fauth%2fdocs.test%20https%3a%2f%2fwww.googleapis.com%2fauth%2fdrive%20https%3a%2f%2fwww.googleapis.com%2fauth%2fdrive.photos.readonly%20https%3a%2f%2fwww.googleapis.com%2fauth%2fpeopleapi.readonly%20https%3a%2f%2fwww.googleapis.com%2fauth%2fdrive.activity.readonly%20https%3a%2f%2fwww.googleapis.com%2fauth%2fexperimentsandconfigs%20https%3a%2f%2fwww.googleapis.com%2fauth%2fphotos.native&response_type=code\n",
            "\n",
            "Enter your authorization code:\n",
            "4/1AX4XfWjN8JVm2rnczcRbm3j2XO_aN7IOiKjTTPuNF7lfXh1ft6h-80fTEWc\n",
            "Mounted at /content/drive\n"
          ]
        }
      ]
    },
    {
      "cell_type": "code",
      "metadata": {
        "id": "J1CaqZZxg17u"
      },
      "source": [
        "os.makedirs('/content/drive/MyDrive/RadiantEarth/LGBMS2',exist_ok=True)\n",
        "!cp LGBM_oof_* '/content/drive/MyDrive/RadiantEarth/LGBMS2/'\n",
        "!cp LGBM_testPred_* '/content/drive/MyDrive/RadiantEarth/LGBMS2/'"
      ],
      "execution_count": null,
      "outputs": []
    },
    {
      "cell_type": "markdown",
      "metadata": {
        "id": "A31UCqaMXMm-"
      },
      "source": [
        "## oof"
      ]
    },
    {
      "cell_type": "code",
      "metadata": {
        "id": "EM6G_5fjkS22",
        "colab": {
          "base_uri": "https://localhost:8080/"
        },
        "outputId": "cd34a039-5ab1-489a-fbab-055eb2586aa5"
      },
      "source": [
        "OOF = np.empty((0, 9),dtype=np.float16)\n",
        "\n",
        "for i in range(10) :\n",
        "  oof_pred = np.load(f'/content/drive/MyDrive/RadiantEarth/LGBMS2/LGBM_oof_{i}.npy')\n",
        "  OOF = np.append(OOF, oof_pred, axis=0)\n",
        "OOF.shape  "
      ],
      "execution_count": null,
      "outputs": [
        {
          "output_type": "execute_result",
          "data": {
            "text/plain": [
              "(87114, 9)"
            ]
          },
          "metadata": {},
          "execution_count": 59
        }
      ]
    },
    {
      "cell_type": "code",
      "metadata": {
        "id": "MhalO3KWh3Ro"
      },
      "source": [
        "Y = np.empty((0,),dtype=np.float16)\n",
        "\n",
        "for i in range(10) :\n",
        "  Y_ = Train[Train['folds'].isin([i])]['label'].values\n",
        "  Y = np.append(Y, Y_, axis=0)\n",
        "Y.shape"
      ],
      "execution_count": null,
      "outputs": []
    },
    {
      "cell_type": "code",
      "metadata": {
        "id": "TdKE1StgjCYj"
      },
      "source": [
        "predictions_lgbm = []\n",
        "\n",
        "for i in range(10) :\n",
        "  test_pred = np.load(f'/content/drive/MyDrive/RadiantEarth/LGBMS2/LGBM_testPred_{i}.npy')\n",
        "  predictions_lgbm.append(test_pred)"
      ],
      "execution_count": null,
      "outputs": []
    },
    {
      "cell_type": "code",
      "metadata": {
        "id": "6dcuveXzoPmH",
        "colab": {
          "base_uri": "https://localhost:8080/"
        },
        "outputId": "2c983d1c-c23b-4fae-bbbc-a88dab205f5b"
      },
      "source": [
        "print('LGBM LOG LOSS :',log_loss(Y,OOF))"
      ],
      "execution_count": null,
      "outputs": [
        {
          "output_type": "stream",
          "name": "stdout",
          "text": [
            "LGBM LOG LOSS : 0.5726263829507614\n"
          ]
        }
      ]
    },
    {
      "cell_type": "code",
      "metadata": {
        "id": "n_13KK4Lk-gC"
      },
      "source": [
        "Field = np.empty((0,),dtype=np.float16)\n",
        "\n",
        "for i in range(10) :\n",
        "  Field_ = Train[Train['folds'].isin([i])]['field_id'].values\n",
        "  Field = np.append(Field, Field_, axis=0)\n",
        "Field.shape\n",
        "\n",
        "DLGBM = pd.DataFrame(Field,columns=['field_id'])\n",
        "cols = ['oof'+str(i) for i in range(9)]\n",
        "\n",
        "for col in cols :\n",
        "  DLGBM[col] =0\n",
        "DLGBM[cols] = OOF\n",
        "\n",
        "oof_lgbm = pd.merge(Train[['field_id']],DLGBM,on='field_id',how='left')[cols].values"
      ],
      "execution_count": null,
      "outputs": []
    },
    {
      "cell_type": "code",
      "metadata": {
        "colab": {
          "base_uri": "https://localhost:8080/"
        },
        "id": "qL_R6LvyqHvK",
        "outputId": "d52b73de-9e7a-4af6-c273-a8e42fd8a11c"
      },
      "source": [
        "print('LGBM LOG LOSS :',log_loss(y,oof_lgbm))"
      ],
      "execution_count": null,
      "outputs": [
        {
          "output_type": "stream",
          "name": "stdout",
          "text": [
            "LGBM LOG LOSS : 0.5726263829507614\n"
          ]
        }
      ]
    },
    {
      "cell_type": "code",
      "metadata": {
        "id": "yOeRPa0xFbB4",
        "colab": {
          "base_uri": "https://localhost:8080/",
          "height": 204
        },
        "outputId": "46e0fa20-bd29-407e-ddc5-861d3fd924bf"
      },
      "source": [
        "# In this part we format the DataFrame to have column names and order similar to the sample submission file. \n",
        "pred_df = pd.DataFrame(np.mean(predictions_lgbm,axis=0)) \n",
        "pred_df = pred_df.rename(columns={\n",
        "    0:'Crop_ID_1',\n",
        "    1:'Crop_ID_2', \n",
        "    2:'Crop_ID_3',\n",
        "    3:'Crop_ID_4',\n",
        "    4:'Crop_ID_5',\n",
        "    5:'Crop_ID_6',\n",
        "    6:'Crop_ID_7',\n",
        "    7:'Crop_ID_8',\n",
        "    8:'Crop_ID_9'\n",
        "})\n",
        "pred_df['field_id'] = Test['field_id'].astype('int').values\n",
        "pred_df = pred_df[['field_id', 'Crop_ID_1', 'Crop_ID_2', 'Crop_ID_3', 'Crop_ID_4', 'Crop_ID_5', 'Crop_ID_6', 'Crop_ID_7', 'Crop_ID_8', 'Crop_ID_9']]\n",
        "pred_df.head()"
      ],
      "execution_count": null,
      "outputs": [
        {
          "output_type": "execute_result",
          "data": {
            "text/html": [
              "<div>\n",
              "<style scoped>\n",
              "    .dataframe tbody tr th:only-of-type {\n",
              "        vertical-align: middle;\n",
              "    }\n",
              "\n",
              "    .dataframe tbody tr th {\n",
              "        vertical-align: top;\n",
              "    }\n",
              "\n",
              "    .dataframe thead th {\n",
              "        text-align: right;\n",
              "    }\n",
              "</style>\n",
              "<table border=\"1\" class=\"dataframe\">\n",
              "  <thead>\n",
              "    <tr style=\"text-align: right;\">\n",
              "      <th></th>\n",
              "      <th>field_id</th>\n",
              "      <th>Crop_ID_1</th>\n",
              "      <th>Crop_ID_2</th>\n",
              "      <th>Crop_ID_3</th>\n",
              "      <th>Crop_ID_4</th>\n",
              "      <th>Crop_ID_5</th>\n",
              "      <th>Crop_ID_6</th>\n",
              "      <th>Crop_ID_7</th>\n",
              "      <th>Crop_ID_8</th>\n",
              "      <th>Crop_ID_9</th>\n",
              "    </tr>\n",
              "  </thead>\n",
              "  <tbody>\n",
              "    <tr>\n",
              "      <th>0</th>\n",
              "      <td>30</td>\n",
              "      <td>0.026285</td>\n",
              "      <td>0.310600</td>\n",
              "      <td>0.008153</td>\n",
              "      <td>0.000051</td>\n",
              "      <td>0.170344</td>\n",
              "      <td>4.225246e-01</td>\n",
              "      <td>5.889915e-02</td>\n",
              "      <td>2.427002e-03</td>\n",
              "      <td>7.151681e-04</td>\n",
              "    </tr>\n",
              "    <tr>\n",
              "      <th>1</th>\n",
              "      <td>39</td>\n",
              "      <td>0.861973</td>\n",
              "      <td>0.065584</td>\n",
              "      <td>0.026303</td>\n",
              "      <td>0.029184</td>\n",
              "      <td>0.015589</td>\n",
              "      <td>1.150208e-03</td>\n",
              "      <td>8.767029e-05</td>\n",
              "      <td>1.223347e-04</td>\n",
              "      <td>7.211912e-06</td>\n",
              "    </tr>\n",
              "    <tr>\n",
              "      <th>2</th>\n",
              "      <td>49</td>\n",
              "      <td>0.071829</td>\n",
              "      <td>0.337148</td>\n",
              "      <td>0.002624</td>\n",
              "      <td>0.001245</td>\n",
              "      <td>0.001867</td>\n",
              "      <td>5.037783e-01</td>\n",
              "      <td>7.461354e-02</td>\n",
              "      <td>2.911400e-03</td>\n",
              "      <td>3.984989e-03</td>\n",
              "    </tr>\n",
              "    <tr>\n",
              "      <th>3</th>\n",
              "      <td>54</td>\n",
              "      <td>0.000001</td>\n",
              "      <td>0.000003</td>\n",
              "      <td>0.000012</td>\n",
              "      <td>0.999971</td>\n",
              "      <td>0.000011</td>\n",
              "      <td>5.276792e-07</td>\n",
              "      <td>6.530829e-08</td>\n",
              "      <td>4.712327e-08</td>\n",
              "      <td>4.359477e-07</td>\n",
              "    </tr>\n",
              "    <tr>\n",
              "      <th>4</th>\n",
              "      <td>56</td>\n",
              "      <td>0.803134</td>\n",
              "      <td>0.035978</td>\n",
              "      <td>0.001897</td>\n",
              "      <td>0.000286</td>\n",
              "      <td>0.000826</td>\n",
              "      <td>7.178973e-02</td>\n",
              "      <td>8.237881e-02</td>\n",
              "      <td>3.632498e-03</td>\n",
              "      <td>7.819724e-05</td>\n",
              "    </tr>\n",
              "  </tbody>\n",
              "</table>\n",
              "</div>"
            ],
            "text/plain": [
              "   field_id  Crop_ID_1  Crop_ID_2  ...     Crop_ID_7     Crop_ID_8     Crop_ID_9\n",
              "0        30   0.026285   0.310600  ...  5.889915e-02  2.427002e-03  7.151681e-04\n",
              "1        39   0.861973   0.065584  ...  8.767029e-05  1.223347e-04  7.211912e-06\n",
              "2        49   0.071829   0.337148  ...  7.461354e-02  2.911400e-03  3.984989e-03\n",
              "3        54   0.000001   0.000003  ...  6.530829e-08  4.712327e-08  4.359477e-07\n",
              "4        56   0.803134   0.035978  ...  8.237881e-02  3.632498e-03  7.819724e-05\n",
              "\n",
              "[5 rows x 10 columns]"
            ]
          },
          "metadata": {},
          "execution_count": 91
        }
      ]
    },
    {
      "cell_type": "code",
      "metadata": {
        "colab": {
          "base_uri": "https://localhost:8080/"
        },
        "id": "IhsSIkSSr1C_",
        "outputId": "f2f3d1e6-2a1f-40ff-e0d2-16c7777db92e"
      },
      "source": [
        "pred_df.shape"
      ],
      "execution_count": null,
      "outputs": [
        {
          "output_type": "execute_result",
          "data": {
            "text/plain": [
              "(35295, 10)"
            ]
          },
          "metadata": {},
          "execution_count": 92
        }
      ]
    },
    {
      "cell_type": "code",
      "metadata": {
        "id": "wYJDCzCSqE4p"
      },
      "source": [
        "# Write the predicted probabilites to a csv for submission\n",
        "pred_df.to_csv('S2_LightGBM.csv', index=False)"
      ],
      "execution_count": null,
      "outputs": []
    },
    {
      "cell_type": "code",
      "metadata": {
        "id": "7MxWRESVhLN3"
      },
      "source": [
        "np.save('S2_oof_lgbm.npy',oof_lgbm)"
      ],
      "execution_count": null,
      "outputs": []
    }
  ]
}
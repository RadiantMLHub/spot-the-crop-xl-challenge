{
  "nbformat": 4,
  "nbformat_minor": 0,
  "metadata": {
    "colab": {
      "name": "S2Test-Observation5",
      "provenance": [],
      "collapsed_sections": [],
      "machine_shape": "hm"
    },
    "kernelspec": {
      "display_name": "Python 3",
      "name": "python3"
    },
    "widgets": {
      "application/vnd.jupyter.widget-state+json": {
        "aba20678263e4ff5a9602cd8bf7fc65c": {
          "model_module": "@jupyter-widgets/controls",
          "model_name": "HBoxModel",
          "model_module_version": "1.5.0",
          "state": {
            "_view_name": "HBoxView",
            "_dom_classes": [],
            "_model_name": "HBoxModel",
            "_view_module": "@jupyter-widgets/controls",
            "_model_module_version": "1.5.0",
            "_view_count": null,
            "_view_module_version": "1.5.0",
            "box_style": "",
            "layout": "IPY_MODEL_58c2504937614cba9896dd5d39fc073e",
            "_model_module": "@jupyter-widgets/controls",
            "children": [
              "IPY_MODEL_910ad0522cb64a169d7389c82a1b3635",
              "IPY_MODEL_ae431c7a136e430e9cd123a6f919286e",
              "IPY_MODEL_3d5765e755ce40fabc94724b3e5ffafa"
            ]
          }
        },
        "58c2504937614cba9896dd5d39fc073e": {
          "model_module": "@jupyter-widgets/base",
          "model_name": "LayoutModel",
          "model_module_version": "1.2.0",
          "state": {
            "_view_name": "LayoutView",
            "grid_template_rows": null,
            "right": null,
            "justify_content": null,
            "_view_module": "@jupyter-widgets/base",
            "overflow": null,
            "_model_module_version": "1.2.0",
            "_view_count": null,
            "flex_flow": null,
            "width": null,
            "min_width": null,
            "border": null,
            "align_items": null,
            "bottom": null,
            "_model_module": "@jupyter-widgets/base",
            "top": null,
            "grid_column": null,
            "overflow_y": null,
            "overflow_x": null,
            "grid_auto_flow": null,
            "grid_area": null,
            "grid_template_columns": null,
            "flex": null,
            "_model_name": "LayoutModel",
            "justify_items": null,
            "grid_row": null,
            "max_height": null,
            "align_content": null,
            "visibility": null,
            "align_self": null,
            "height": null,
            "min_height": null,
            "padding": null,
            "grid_auto_rows": null,
            "grid_gap": null,
            "max_width": null,
            "order": null,
            "_view_module_version": "1.2.0",
            "grid_template_areas": null,
            "object_position": null,
            "object_fit": null,
            "grid_auto_columns": null,
            "margin": null,
            "display": null,
            "left": null
          }
        },
        "910ad0522cb64a169d7389c82a1b3635": {
          "model_module": "@jupyter-widgets/controls",
          "model_name": "HTMLModel",
          "model_module_version": "1.5.0",
          "state": {
            "_view_name": "HTMLView",
            "style": "IPY_MODEL_2dbec9fded7740feb3e42be9adbb09e9",
            "_dom_classes": [],
            "description": "",
            "_model_name": "HTMLModel",
            "placeholder": "​",
            "_view_module": "@jupyter-widgets/controls",
            "_model_module_version": "1.5.0",
            "value": "100%",
            "_view_count": null,
            "_view_module_version": "1.5.0",
            "description_tooltip": null,
            "_model_module": "@jupyter-widgets/controls",
            "layout": "IPY_MODEL_661bf1b50dfb4b4db4603b21b75eab28"
          }
        },
        "ae431c7a136e430e9cd123a6f919286e": {
          "model_module": "@jupyter-widgets/controls",
          "model_name": "FloatProgressModel",
          "model_module_version": "1.5.0",
          "state": {
            "_view_name": "ProgressView",
            "style": "IPY_MODEL_67edad1cb9c54892a74e20a76cf981f3",
            "_dom_classes": [],
            "description": "",
            "_model_name": "FloatProgressModel",
            "bar_style": "success",
            "max": 137,
            "_view_module": "@jupyter-widgets/controls",
            "_model_module_version": "1.5.0",
            "value": 137,
            "_view_count": null,
            "_view_module_version": "1.5.0",
            "orientation": "horizontal",
            "min": 0,
            "description_tooltip": null,
            "_model_module": "@jupyter-widgets/controls",
            "layout": "IPY_MODEL_b01a6acc6b2c4debbdc46ed117c18c53"
          }
        },
        "3d5765e755ce40fabc94724b3e5ffafa": {
          "model_module": "@jupyter-widgets/controls",
          "model_name": "HTMLModel",
          "model_module_version": "1.5.0",
          "state": {
            "_view_name": "HTMLView",
            "style": "IPY_MODEL_78154b160c1c4979bbc132b3fcd4b396",
            "_dom_classes": [],
            "description": "",
            "_model_name": "HTMLModel",
            "placeholder": "​",
            "_view_module": "@jupyter-widgets/controls",
            "_model_module_version": "1.5.0",
            "value": " 137/137 [02:34&lt;00:00,  1.21s/it]",
            "_view_count": null,
            "_view_module_version": "1.5.0",
            "description_tooltip": null,
            "_model_module": "@jupyter-widgets/controls",
            "layout": "IPY_MODEL_d6c87a5a0c2d4a0f88b7e7d09850fc03"
          }
        },
        "2dbec9fded7740feb3e42be9adbb09e9": {
          "model_module": "@jupyter-widgets/controls",
          "model_name": "DescriptionStyleModel",
          "model_module_version": "1.5.0",
          "state": {
            "_view_name": "StyleView",
            "_model_name": "DescriptionStyleModel",
            "description_width": "",
            "_view_module": "@jupyter-widgets/base",
            "_model_module_version": "1.5.0",
            "_view_count": null,
            "_view_module_version": "1.2.0",
            "_model_module": "@jupyter-widgets/controls"
          }
        },
        "661bf1b50dfb4b4db4603b21b75eab28": {
          "model_module": "@jupyter-widgets/base",
          "model_name": "LayoutModel",
          "model_module_version": "1.2.0",
          "state": {
            "_view_name": "LayoutView",
            "grid_template_rows": null,
            "right": null,
            "justify_content": null,
            "_view_module": "@jupyter-widgets/base",
            "overflow": null,
            "_model_module_version": "1.2.0",
            "_view_count": null,
            "flex_flow": null,
            "width": null,
            "min_width": null,
            "border": null,
            "align_items": null,
            "bottom": null,
            "_model_module": "@jupyter-widgets/base",
            "top": null,
            "grid_column": null,
            "overflow_y": null,
            "overflow_x": null,
            "grid_auto_flow": null,
            "grid_area": null,
            "grid_template_columns": null,
            "flex": null,
            "_model_name": "LayoutModel",
            "justify_items": null,
            "grid_row": null,
            "max_height": null,
            "align_content": null,
            "visibility": null,
            "align_self": null,
            "height": null,
            "min_height": null,
            "padding": null,
            "grid_auto_rows": null,
            "grid_gap": null,
            "max_width": null,
            "order": null,
            "_view_module_version": "1.2.0",
            "grid_template_areas": null,
            "object_position": null,
            "object_fit": null,
            "grid_auto_columns": null,
            "margin": null,
            "display": null,
            "left": null
          }
        },
        "67edad1cb9c54892a74e20a76cf981f3": {
          "model_module": "@jupyter-widgets/controls",
          "model_name": "ProgressStyleModel",
          "model_module_version": "1.5.0",
          "state": {
            "_view_name": "StyleView",
            "_model_name": "ProgressStyleModel",
            "description_width": "",
            "_view_module": "@jupyter-widgets/base",
            "_model_module_version": "1.5.0",
            "_view_count": null,
            "_view_module_version": "1.2.0",
            "bar_color": null,
            "_model_module": "@jupyter-widgets/controls"
          }
        },
        "b01a6acc6b2c4debbdc46ed117c18c53": {
          "model_module": "@jupyter-widgets/base",
          "model_name": "LayoutModel",
          "model_module_version": "1.2.0",
          "state": {
            "_view_name": "LayoutView",
            "grid_template_rows": null,
            "right": null,
            "justify_content": null,
            "_view_module": "@jupyter-widgets/base",
            "overflow": null,
            "_model_module_version": "1.2.0",
            "_view_count": null,
            "flex_flow": null,
            "width": null,
            "min_width": null,
            "border": null,
            "align_items": null,
            "bottom": null,
            "_model_module": "@jupyter-widgets/base",
            "top": null,
            "grid_column": null,
            "overflow_y": null,
            "overflow_x": null,
            "grid_auto_flow": null,
            "grid_area": null,
            "grid_template_columns": null,
            "flex": null,
            "_model_name": "LayoutModel",
            "justify_items": null,
            "grid_row": null,
            "max_height": null,
            "align_content": null,
            "visibility": null,
            "align_self": null,
            "height": null,
            "min_height": null,
            "padding": null,
            "grid_auto_rows": null,
            "grid_gap": null,
            "max_width": null,
            "order": null,
            "_view_module_version": "1.2.0",
            "grid_template_areas": null,
            "object_position": null,
            "object_fit": null,
            "grid_auto_columns": null,
            "margin": null,
            "display": null,
            "left": null
          }
        },
        "78154b160c1c4979bbc132b3fcd4b396": {
          "model_module": "@jupyter-widgets/controls",
          "model_name": "DescriptionStyleModel",
          "model_module_version": "1.5.0",
          "state": {
            "_view_name": "StyleView",
            "_model_name": "DescriptionStyleModel",
            "description_width": "",
            "_view_module": "@jupyter-widgets/base",
            "_model_module_version": "1.5.0",
            "_view_count": null,
            "_view_module_version": "1.2.0",
            "_model_module": "@jupyter-widgets/controls"
          }
        },
        "d6c87a5a0c2d4a0f88b7e7d09850fc03": {
          "model_module": "@jupyter-widgets/base",
          "model_name": "LayoutModel",
          "model_module_version": "1.2.0",
          "state": {
            "_view_name": "LayoutView",
            "grid_template_rows": null,
            "right": null,
            "justify_content": null,
            "_view_module": "@jupyter-widgets/base",
            "overflow": null,
            "_model_module_version": "1.2.0",
            "_view_count": null,
            "flex_flow": null,
            "width": null,
            "min_width": null,
            "border": null,
            "align_items": null,
            "bottom": null,
            "_model_module": "@jupyter-widgets/base",
            "top": null,
            "grid_column": null,
            "overflow_y": null,
            "overflow_x": null,
            "grid_auto_flow": null,
            "grid_area": null,
            "grid_template_columns": null,
            "flex": null,
            "_model_name": "LayoutModel",
            "justify_items": null,
            "grid_row": null,
            "max_height": null,
            "align_content": null,
            "visibility": null,
            "align_self": null,
            "height": null,
            "min_height": null,
            "padding": null,
            "grid_auto_rows": null,
            "grid_gap": null,
            "max_width": null,
            "order": null,
            "_view_module_version": "1.2.0",
            "grid_template_areas": null,
            "object_position": null,
            "object_fit": null,
            "grid_auto_columns": null,
            "margin": null,
            "display": null,
            "left": null
          }
        }
      }
    }
  },
  "cells": [
    {
      "cell_type": "markdown",
      "metadata": {
        "id": "WbiEDNVkEG3T"
      },
      "source": [
        "# SETUP"
      ]
    },
    {
      "cell_type": "code",
      "metadata": {
        "colab": {
          "base_uri": "https://localhost:8080/"
        },
        "id": "Hp8vMTsAGani",
        "outputId": "20f03e56-19ac-4871-9d59-ed6a98072705"
      },
      "source": [
        "!git clone 'https://github.com/radiantearth/mlhub-tutorials.git'"
      ],
      "execution_count": null,
      "outputs": [
        {
          "output_type": "stream",
          "name": "stdout",
          "text": [
            "Cloning into 'mlhub-tutorials'...\n",
            "remote: Enumerating objects: 479, done.\u001b[K\n",
            "remote: Counting objects: 100% (337/337), done.\u001b[K\n",
            "remote: Compressing objects: 100% (237/237), done.\u001b[K\n",
            "remote: Total 479 (delta 200), reused 191 (delta 91), pack-reused 142\u001b[K\n",
            "Receiving objects: 100% (479/479), 39.15 MiB | 19.33 MiB/s, done.\n",
            "Resolving deltas: 100% (260/260), done.\n"
          ]
        }
      ]
    },
    {
      "cell_type": "code",
      "metadata": {
        "id": "l_MzJvZxGakE",
        "colab": {
          "base_uri": "https://localhost:8080/"
        },
        "outputId": "d822d2a6-75b4-472e-9f98-756d299508de"
      },
      "source": [
        "!pip install -r '/content/mlhub-tutorials/notebooks/South Africa Crop Types Competition/requirements.txt' -q"
      ],
      "execution_count": null,
      "outputs": [
        {
          "output_type": "stream",
          "name": "stdout",
          "text": [
            "\u001b[K     |████████████████████████████████| 9.9 MB 1.9 MB/s \n",
            "\u001b[K     |████████████████████████████████| 11.5 MB 63.4 MB/s \n",
            "\u001b[K     |████████████████████████████████| 29.2 MB 82 kB/s \n",
            "\u001b[K     |████████████████████████████████| 22.3 MB 1.1 MB/s \n",
            "\u001b[K     |████████████████████████████████| 19.3 MB 48 kB/s \n",
            "\u001b[K     |████████████████████████████████| 136 kB 80.5 MB/s \n",
            "\u001b[K     |████████████████████████████████| 72 kB 1.0 MB/s \n",
            "\u001b[K     |████████████████████████████████| 61 kB 128 kB/s \n"
          ]
        }
      ]
    },
    {
      "cell_type": "code",
      "metadata": {
        "id": "8YFLc43syf6x"
      },
      "source": [
        "exit(0)"
      ],
      "execution_count": null,
      "outputs": []
    },
    {
      "cell_type": "markdown",
      "metadata": {
        "id": "T-RSB5omEInc"
      },
      "source": [
        "# LIBRARIES"
      ]
    },
    {
      "cell_type": "code",
      "metadata": {
        "id": "V-xKDNhkyhTZ"
      },
      "source": [
        "# Required libraries\n",
        "import os\n",
        "import tarfile\n",
        "import json\n",
        "from pathlib import Path\n",
        "from radiant_mlhub.client import _download as download_file\n",
        "\n",
        "import datetime\n",
        "import rasterio\n",
        "import numpy as np\n",
        "import pandas as pd\n",
        "\n",
        "from sklearn.ensemble import RandomForestClassifier\n",
        "from sklearn.metrics import log_loss\n",
        "from sklearn.model_selection import StratifiedShuffleSplit\n",
        "\n",
        "os.environ['MLHUB_API_KEY'] = '96f33e4c9510d0d369d881c6fdefa91502829db09f41e0c92cba8b02fede920b'"
      ],
      "execution_count": null,
      "outputs": []
    },
    {
      "cell_type": "markdown",
      "metadata": {
        "id": "2S1h19sfEKEr"
      },
      "source": [
        "# DOWNLOAD DATA"
      ]
    },
    {
      "cell_type": "code",
      "metadata": {
        "id": "dBqBu3cMyjQA"
      },
      "source": [
        "DOWNLOAD_S1 = False # If you set this to true then the Sentinel-1 data will be downloaded which is not needed in this notebook.\n",
        "\n",
        "# Select which imagery bands you'd like to download here:\n",
        "DOWNLOAD_BANDS = {\n",
        "    'B01': True,\n",
        "    'B02': True,\n",
        "    'B03': True,\n",
        "    'B04': True,\n",
        "    'B05': True,\n",
        "    'B06': True,\n",
        "    'B07': True,\n",
        "    'B08': True,\n",
        "    'B8A': True,\n",
        "    'B09': True,\n",
        "    'B11': True,\n",
        "    'B12': True,\n",
        "    'CLM': False\n",
        "}\n",
        "\n",
        "# In this model we will only use Green, Red and NIR bands. You can select to download any number of bands. \n",
        "# Our choice relies on the fact that vegetation is most sensitive to these bands. \n",
        "# We also donwload the CLM or Cloud Mask layer to exclude cloudy data from the training phase. \n",
        "# You can also do a feature selection, and try different combination of bands to see which ones will result in a better accuracy."
      ],
      "execution_count": null,
      "outputs": []
    },
    {
      "cell_type": "code",
      "metadata": {
        "id": "g68iGaSgylS4"
      },
      "source": [
        "FOLDER_BASE = 'ref_south_africa_crops_competition_v1'\n",
        "\n",
        "def download_archive(archive_name):\n",
        "    if os.path.exists(archive_name.replace('.tar.gz', '')):\n",
        "        return\n",
        "    \n",
        "    print(f'Downloading {archive_name} ...')\n",
        "    download_url = f'https://radiant-mlhub.s3.us-west-2.amazonaws.com/archives/{archive_name}'\n",
        "    download_file(download_url, '.')\n",
        "    print(f'Extracting {archive_name} ...')\n",
        "    with tarfile.open(archive_name) as tfile:\n",
        "        tfile.extractall()\n",
        "    os.remove(archive_name)\n",
        "\n",
        "for split in ['test']:\n",
        "    # Download the labels\n",
        "    labels_archive = f'{FOLDER_BASE}_{split}_labels.tar.gz'\n",
        "    download_archive(labels_archive)\n",
        "    \n",
        "    # Download Sentinel-1 data\n",
        "    if DOWNLOAD_S1:\n",
        "        s1_archive = f'{FOLDER_BASE}_{split}_source_s1.tar.gz'\n",
        "        download_archive(s1_archive)\n",
        "        \n",
        "\n",
        "    for band, download in DOWNLOAD_BANDS.items():\n",
        "        if not download:\n",
        "            continue\n",
        "        s2_archive = f'{FOLDER_BASE}_{split}_source_s2_{band}.tar.gz'\n",
        "        download_archive(s2_archive)\n",
        "        \n",
        "def resolve_path(base, path):\n",
        "    return Path(os.path.join(base, path)).resolve()\n",
        "        \n",
        "def load_df(collection_id):\n",
        "    split = collection_id.split('_')[-2]\n",
        "    collection = json.load(open(f'{collection_id}/collection.json', 'r'))\n",
        "    rows = []\n",
        "    item_links = []\n",
        "    for link in collection['links']:\n",
        "        if link['rel'] != 'item':\n",
        "            continue\n",
        "        item_links.append(link['href'])\n",
        "        \n",
        "    for item_link in item_links:\n",
        "        item_path = f'{collection_id}/{item_link}'\n",
        "        current_path = os.path.dirname(item_path)\n",
        "        item = json.load(open(item_path, 'r'))\n",
        "        tile_id = item['id'].split('_')[-1]\n",
        "        for asset_key, asset in item['assets'].items():\n",
        "            rows.append([\n",
        "                tile_id,\n",
        "                None,\n",
        "                None,\n",
        "                asset_key,\n",
        "                str(resolve_path(current_path, asset['href']))\n",
        "            ])\n",
        "            \n",
        "        for link in item['links']:\n",
        "            if link['rel'] != 'source':\n",
        "                continue\n",
        "            source_item_id = link['href'].split('/')[-2]\n",
        "            \n",
        "            if source_item_id.find('_s1_') > 0 and not DOWNLOAD_S1:\n",
        "                continue\n",
        "            elif source_item_id.find('_s1_') > 0:\n",
        "                for band in ['VV', 'VH']:\n",
        "                    asset_path = Path(f'{FOLDER_BASE}_{split}_source_s1/{source_item_id}/{band}.tif').resolve()\n",
        "                    date = '-'.join(source_item_id.split('_')[10:13])\n",
        "                    \n",
        "                    rows.append([\n",
        "                        tile_id,\n",
        "                        f'{date}T00:00:00Z',\n",
        "                        's1',\n",
        "                        band,\n",
        "                        asset_path\n",
        "                    ])\n",
        "                \n",
        "            if source_item_id.find('_s2_') > 0:\n",
        "                for band, download in DOWNLOAD_BANDS.items():\n",
        "                    if not download:\n",
        "                        continue\n",
        "                    \n",
        "                    asset_path = Path(f'{FOLDER_BASE}_{split}_source_s2_{band}/{source_item_id}_{band}.tif').resolve()\n",
        "                    date = '-'.join(source_item_id.split('_')[10:13])\n",
        "                    rows.append([\n",
        "                        tile_id,\n",
        "                        f'{date}T00:00:00Z',\n",
        "                        's2',\n",
        "                        band,\n",
        "                        asset_path\n",
        "                    ])\n",
        "            \n",
        "    return pd.DataFrame(rows, columns=['tile_id', 'datetime', 'satellite_platform', 'asset', 'file_path'])"
      ],
      "execution_count": null,
      "outputs": []
    },
    {
      "cell_type": "code",
      "metadata": {
        "id": "aNxqV9vt30Sp"
      },
      "source": [
        "competition_test_df = load_df(f'{FOLDER_BASE}_test_labels')"
      ],
      "execution_count": null,
      "outputs": []
    },
    {
      "cell_type": "code",
      "metadata": {
        "id": "C-dUI1_AzOHw"
      },
      "source": [
        "import gc\n",
        "gc.collect()"
      ],
      "execution_count": null,
      "outputs": []
    },
    {
      "cell_type": "markdown",
      "metadata": {
        "id": "fDHGa05LEPJD"
      },
      "source": [
        "# CREATE DATA"
      ]
    },
    {
      "cell_type": "code",
      "metadata": {
        "id": "JxPaJy6m6EBg"
      },
      "source": [
        "# This DataFrame lists all types of assets including documentation of the data. \n",
        "# In the following, we will use the Sentinel-2 bands as well as labels. \n",
        "tile_ids_test = competition_test_df['tile_id'].unique()"
      ],
      "execution_count": null,
      "outputs": []
    },
    {
      "cell_type": "code",
      "metadata": {
        "id": "mG5fN4cI65qQ"
      },
      "source": [
        "from tqdm import tqdm_notebook\n",
        "import gc\n",
        "import warnings\n",
        "warnings.simplefilter('ignore')"
      ],
      "execution_count": null,
      "outputs": []
    },
    {
      "cell_type": "code",
      "metadata": {
        "id": "harn9qwG65oB"
      },
      "source": [
        "n_obs = 5"
      ],
      "execution_count": null,
      "outputs": []
    },
    {
      "cell_type": "code",
      "metadata": {
        "id": "YB2CV1T96Uuh",
        "colab": {
          "base_uri": "https://localhost:8080/",
          "height": 83,
          "referenced_widgets": [
            "aba20678263e4ff5a9602cd8bf7fc65c",
            "58c2504937614cba9896dd5d39fc073e",
            "910ad0522cb64a169d7389c82a1b3635",
            "ae431c7a136e430e9cd123a6f919286e",
            "3d5765e755ce40fabc94724b3e5ffafa",
            "2dbec9fded7740feb3e42be9adbb09e9",
            "661bf1b50dfb4b4db4603b21b75eab28",
            "67edad1cb9c54892a74e20a76cf981f3",
            "b01a6acc6b2c4debbdc46ed117c18c53",
            "78154b160c1c4979bbc132b3fcd4b396",
            "d6c87a5a0c2d4a0f88b7e7d09850fc03"
          ]
        },
        "outputId": "18c2144f-64ea-4bef-ddb7-d3673fb7c4a9"
      },
      "source": [
        "%%time\n",
        "\n",
        "competition_test_df['Month'] = pd.to_datetime(competition_test_df['datetime']).dt.month\n",
        "X = np.empty((0, 12*8),dtype=np.float16)\n",
        "y = np.empty((0, 1),dtype=np.float16)\n",
        "field_ids = np.empty((0, 1),np.float16)\n",
        "\n",
        "for tile_id in tqdm_notebook(tile_ids_test[0:tile_ids_test.shape[0]]):\n",
        "    tile_df = competition_test_df[competition_test_df['tile_id']==tile_id]\n",
        "\n",
        "    field_id_src = rasterio.open(tile_df[tile_df['asset']=='field_ids']['file_path'].values[0])\n",
        "    field_id_array = field_id_src.read(1).flatten()\n",
        "    nonzeroidx = np.nonzero(field_id_array)[0]\n",
        "    field_ids = np.append(field_ids, field_id_array[nonzeroidx])\n",
        "\n",
        "    tile_date_times = tile_df[tile_df['satellite_platform']=='s2']['Month'].unique().tolist()\n",
        "    X_tile = np.empty((nonzeroidx.shape[0], 0),dtype=np.float16)\n",
        "    n_X = 0\n",
        "    for date_time_idx in range(0,len(tile_date_times)):\n",
        "\n",
        "        month = tile_date_times[date_time_idx]\n",
        "        if tile_df[(tile_df['Month']==month) & (tile_df['asset']=='B01')].shape[0] > 3 :\n",
        "          # 1. bands arrays :\n",
        "          b1_src = rasterio.open(tile_df[(tile_df['Month']==month) & (tile_df['asset']=='B01')]['file_path'].values[4])\n",
        "          b1_array = np.expand_dims(b1_src.read(1).flatten()[nonzeroidx], axis=1)\n",
        "          \n",
        "          b2_src = rasterio.open(tile_df[(tile_df['Month']==month) & (tile_df['asset']=='B02')]['file_path'].values[4])\n",
        "          b2_array = np.expand_dims(b2_src.read(1).flatten()[nonzeroidx], axis=1)\n",
        "          \n",
        "          b3_src = rasterio.open(tile_df[(tile_df['Month']==month) & (tile_df['asset']=='B03')]['file_path'].values[4])\n",
        "          b3_array = np.expand_dims(b3_src.read(1).flatten()[nonzeroidx], axis=1)\n",
        "\n",
        "          b4_src = rasterio.open(tile_df[(tile_df['Month']==month) & (tile_df['asset']=='B04')]['file_path'].values[4])\n",
        "          b4_array = np.expand_dims(b4_src.read(1).flatten()[nonzeroidx], axis=1)\n",
        "\n",
        "          b5_src = rasterio.open(tile_df[(tile_df['Month']==month) & (tile_df['asset']=='B05')]['file_path'].values[4])\n",
        "          b5_array = np.expand_dims(b5_src.read(1).flatten()[nonzeroidx], axis=1)\n",
        "\n",
        "          b6_src = rasterio.open(tile_df[(tile_df['Month']==month) & (tile_df['asset']=='B06')]['file_path'].values[4])\n",
        "          b6_array = np.expand_dims(b6_src.read(1).flatten()[nonzeroidx], axis=1)\n",
        "\n",
        "          b7_src = rasterio.open(tile_df[(tile_df['Month']==month) & (tile_df['asset']=='B07')]['file_path'].values[4])\n",
        "          b7_array = np.expand_dims(b7_src.read(1).flatten()[nonzeroidx], axis=1)\n",
        "\n",
        "          b8_src = rasterio.open(tile_df[(tile_df['Month']==month) & (tile_df['asset']=='B08')]['file_path'].values[4])\n",
        "          b8_array = np.expand_dims(b8_src.read(1).flatten()[nonzeroidx], axis=1)\n",
        "\n",
        "          b8A_src = rasterio.open(tile_df[(tile_df['Month']==month) & (tile_df['asset']=='B8A')]['file_path'].values[4])\n",
        "          b8A_array = np.expand_dims(b8A_src.read(1).flatten()[nonzeroidx], axis=1)\n",
        "\n",
        "          b9_src = rasterio.open(tile_df[(tile_df['Month']==month) & (tile_df['asset']=='B09')]['file_path'].values[4])\n",
        "          b9_array = np.expand_dims(b9_src.read(1).flatten()[nonzeroidx], axis=1)\n",
        "\n",
        "          b11_src = rasterio.open(tile_df[(tile_df['Month']==month) & (tile_df['asset']=='B11')]['file_path'].values[4])\n",
        "          b11_array = np.expand_dims(b11_src.read(1).flatten()[nonzeroidx], axis=1)\n",
        "\n",
        "          b12_src = rasterio.open(tile_df[(tile_df['Month']==month) & (tile_df['asset']=='B12')]['file_path'].values[4])\n",
        "          b12_array = np.expand_dims(b12_src.read(1).flatten()[nonzeroidx], axis=1)\n",
        "\n",
        "          X_tile = np.append(X_tile,b1_array,  axis = 1 )\n",
        "          X_tile = np.append(X_tile,b2_array,  axis = 1 )\n",
        "          X_tile = np.append(X_tile,b3_array,  axis = 1 )\n",
        "          X_tile = np.append(X_tile,b4_array,  axis = 1 )\n",
        "          X_tile = np.append(X_tile,b5_array,  axis = 1 )\n",
        "          X_tile = np.append(X_tile,b6_array,  axis = 1 )\n",
        "          X_tile = np.append(X_tile,b7_array,  axis = 1 )\n",
        "          X_tile = np.append(X_tile,b8_array,  axis = 1 )\n",
        "          X_tile = np.append(X_tile,b8A_array,  axis = 1)\n",
        "          X_tile = np.append(X_tile,b9_array,  axis = 1 )\n",
        "          X_tile = np.append(X_tile,b11_array,  axis = 1)\n",
        "          X_tile = np.append(X_tile,b12_array,  axis = 1)\n",
        "\n",
        "          del b1_array,b2_array,b3_array,b4_array,b5_array,b6_array,b7_array,b8_array,b8A_array,b9_array,b11_array,b12_array\n",
        "          del b1_src,b2_src,b3_src,b4_src,b5_src,b6_src,b7_src,b8_src,b8A_src,b9_src,b11_src,b12_src\n",
        "        \n",
        "        \n",
        "        else :\n",
        "          X_tile = np.append(X_tile,np.zeros((nonzeroidx.shape[0], 12),dtype=np.float16),  axis = 1) \n",
        "\n",
        "    X = np.append(X, X_tile, axis=0)\n",
        "    del X_tile , field_id_array , field_id_src \n",
        "    gc.collect()"
      ],
      "execution_count": null,
      "outputs": [
        {
          "output_type": "display_data",
          "data": {
            "application/vnd.jupyter.widget-view+json": {
              "model_id": "aba20678263e4ff5a9602cd8bf7fc65c",
              "version_minor": 0,
              "version_major": 2
            },
            "text/plain": [
              "  0%|          | 0/137 [00:00<?, ?it/s]"
            ]
          },
          "metadata": {}
        },
        {
          "output_type": "stream",
          "name": "stdout",
          "text": [
            "CPU times: user 2min 4s, sys: 11.5 s, total: 2min 15s\n",
            "Wall time: 2min 34s\n"
          ]
        }
      ]
    },
    {
      "cell_type": "code",
      "metadata": {
        "id": "nStutoS0Po_N",
        "colab": {
          "base_uri": "https://localhost:8080/"
        },
        "outputId": "1894bd05-c53f-4f4b-b8e4-995bd192c7ab"
      },
      "source": [
        "gc.collect()"
      ],
      "execution_count": null,
      "outputs": [
        {
          "output_type": "execute_result",
          "data": {
            "text/plain": [
              "50"
            ]
          },
          "metadata": {},
          "execution_count": 10
        }
      ]
    },
    {
      "cell_type": "markdown",
      "metadata": {
        "id": "pONjdGDAW4BM"
      },
      "source": [
        "# Data"
      ]
    },
    {
      "cell_type": "code",
      "metadata": {
        "id": "5otf8f9CDM85"
      },
      "source": [
        "data = pd.DataFrame(X,dtype='float16')\n",
        "data['field_id'] = field_ids"
      ],
      "execution_count": null,
      "outputs": []
    },
    {
      "cell_type": "markdown",
      "metadata": {
        "id": "4VXCeF0LPLvN"
      },
      "source": [
        "* **Reduce Memory Usage**"
      ]
    },
    {
      "cell_type": "code",
      "metadata": {
        "id": "BF8FnGvhPAuF"
      },
      "source": [
        "def reduce_mem_usage(df, verbose=True):\n",
        "  numerics = ['int16', 'int32', 'int64', 'float16', 'float32', 'float64']\n",
        "  start_mem = df.memory_usage().sum() / 1024**2\n",
        "  for col in df.columns:\n",
        "      col_type = df[col].dtypes\n",
        "      if col_type in numerics:\n",
        "          c_min = df[col].min()\n",
        "          c_max = df[col].max()\n",
        "          if str(col_type)[:3] == 'int':\n",
        "              if c_min > np.iinfo(np.int8).min and c_max < np.iinfo(np.int8).max:\n",
        "                  df[col] = df[col].astype(np.int8)\n",
        "              elif c_min > np.iinfo(np.int16).min and c_max < np.iinfo(np.int16).max:\n",
        "                  df[col] = df[col].astype(np.int16)\n",
        "              elif c_min > np.iinfo(np.int32).min and c_max < np.iinfo(np.int32).max:\n",
        "                  df[col] = df[col].astype(np.int32)\n",
        "              elif c_min > np.iinfo(np.int64).min and c_max < np.iinfo(np.int64).max:\n",
        "                  df[col] = df[col].astype(np.int64)\n",
        "          else:\n",
        "              if c_min > np.finfo(np.float16).min and c_max < np.finfo(np.float16).max:\n",
        "                  df[col] = df[col].astype(np.float16)\n",
        "              elif c_min > np.finfo(np.float32).min and c_max < np.finfo(np.float32).max:\n",
        "                  df[col] = df[col].astype(np.float32)\n",
        "              else:\n",
        "                  df[col] = df[col].astype(np.float64)\n",
        "\n",
        "  end_mem = df.memory_usage().sum() / 1024**2\n",
        "  print('Memory usage after optimization is: {:.2f} MB'.format(end_mem))\n",
        "  print('Decreased by {:.1f}%'.format(100 * (start_mem - end_mem) / start_mem))\n",
        "\n",
        "  return df"
      ],
      "execution_count": null,
      "outputs": []
    },
    {
      "cell_type": "code",
      "metadata": {
        "id": "5UWYy1FHPArw",
        "colab": {
          "base_uri": "https://localhost:8080/"
        },
        "outputId": "85260fe0-6831-4cea-cc2a-5e56617d52f9"
      },
      "source": [
        "data = reduce_mem_usage(data)"
      ],
      "execution_count": null,
      "outputs": [
        {
          "output_type": "stream",
          "name": "stdout",
          "text": [
            "Memory usage after optimization is: 659.82 MB\n",
            "Decreased by 2.0%\n"
          ]
        }
      ]
    },
    {
      "cell_type": "code",
      "metadata": {
        "id": "tNQPTwawf9ul"
      },
      "source": [
        "data.head()"
      ],
      "execution_count": null,
      "outputs": []
    },
    {
      "cell_type": "code",
      "metadata": {
        "colab": {
          "base_uri": "https://localhost:8080/"
        },
        "id": "8kHqXT3FRxeE",
        "outputId": "7b20b351-b83d-4a49-ee04-328801d29ee1"
      },
      "source": [
        "gc.collect()"
      ],
      "execution_count": null,
      "outputs": [
        {
          "output_type": "execute_result",
          "data": {
            "text/plain": [
              "65"
            ]
          },
          "metadata": {},
          "execution_count": 15
        }
      ]
    },
    {
      "cell_type": "code",
      "metadata": {
        "id": "2-K4HNAaXYph"
      },
      "source": [
        "# Each field has several pixels in the data. Here our goal is to build a Random Forest (RF) model using the average values\n",
        "# of the pixels within each field. So, we use `groupby` to take the mean for each field_id\n",
        "data_grouped = data.groupby('field_id').mean().reset_index()\n",
        "data_grouped = reduce_mem_usage(data_grouped)\n",
        "data_grouped"
      ],
      "execution_count": null,
      "outputs": []
    },
    {
      "cell_type": "code",
      "metadata": {
        "id": "wn2qm85MVHYr"
      },
      "source": [
        "feat = [\"B1\",\"B2\",\"B3\",\"B4\",\"B5\",\"B6\",\"B7\",\"B8\",\"B8A\",\"B9\",\"B11\",\"B12\"]\n",
        "columns = [x + '_Month4' for x in feat] + [x + '_Month5' for x in feat] + \\\n",
        "          [x + '_Month6' for x in feat] + [x + '_Month7' for x in feat] + \\\n",
        "          [x + '_Month8' for x in feat] + [x + '_Month9' for x in feat] + \\\n",
        "          [x + '_Month10' for x in feat] + [x + '_Month11' for x in feat] \n",
        "columns = ['field_id'] + columns "
      ],
      "execution_count": null,
      "outputs": []
    },
    {
      "cell_type": "code",
      "metadata": {
        "id": "DU-QIMg0V2tU"
      },
      "source": [
        "data_grouped.columns = columns\n",
        "data_grouped"
      ],
      "execution_count": null,
      "outputs": []
    },
    {
      "cell_type": "code",
      "metadata": {
        "id": "UDGsQHL5R7Ip"
      },
      "source": [
        "from google.colab import drive\n",
        "drive.mount('/content/drive')"
      ],
      "execution_count": null,
      "outputs": []
    },
    {
      "cell_type": "code",
      "metadata": {
        "id": "XYtA3TmeUvly"
      },
      "source": [
        "data_grouped.to_csv('TestObs5.csv',index=False)\n",
        "os.makedirs('/content/drive/MyDrive/RadiantEarth',exist_ok=True)\n",
        "os.makedirs('/content/drive/MyDrive/RadiantEarth/Data',exist_ok=True)\n",
        "os.makedirs('/content/drive/MyDrive/RadiantEarth/Data/S2Test',exist_ok=True)\n",
        "\n",
        "!cp 'TestObs5.csv' \"/content/drive/MyDrive/RadiantEarth/Data/S2Test/\""
      ],
      "execution_count": null,
      "outputs": []
    },
    {
      "cell_type": "code",
      "metadata": {
        "id": "tOZTsQ2HGgKP"
      },
      "source": [
        ""
      ],
      "execution_count": null,
      "outputs": []
    }
  ]
}
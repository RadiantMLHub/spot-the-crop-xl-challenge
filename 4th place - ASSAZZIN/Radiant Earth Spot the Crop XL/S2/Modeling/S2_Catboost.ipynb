{
  "nbformat": 4,
  "nbformat_minor": 0,
  "metadata": {
    "colab": {
      "name": "S2_Catboost.ipynb",
      "provenance": [],
      "collapsed_sections": [],
      "machine_shape": "hm"
    },
    "kernelspec": {
      "name": "python3",
      "display_name": "Python 3"
    },
    "accelerator": "GPU"
  },
  "cells": [
    {
      "cell_type": "markdown",
      "metadata": {
        "id": "pH-5yAckjZ_c"
      },
      "source": [
        "# SETUP"
      ]
    },
    {
      "cell_type": "markdown",
      "metadata": {
        "id": "ICxyDWWgOHQH"
      },
      "source": [
        "# NOTE: Please Run this on  Tesla k80 [ 11441 Mib ]"
      ]
    },
    {
      "cell_type": "code",
      "metadata": {
        "id": "ziu559pP76d4",
        "colab": {
          "base_uri": "https://localhost:8080/"
        },
        "outputId": "ccf356b8-6f53-46ec-f840-6770e3452552"
      },
      "source": [
        "!nvidia-smi"
      ],
      "execution_count": null,
      "outputs": [
        {
          "output_type": "stream",
          "name": "stdout",
          "text": [
            "Sat Nov 20 16:59:52 2021       \n",
            "+-----------------------------------------------------------------------------+\n",
            "| NVIDIA-SMI 495.44       Driver Version: 460.32.03    CUDA Version: 11.2     |\n",
            "|-------------------------------+----------------------+----------------------+\n",
            "| GPU  Name        Persistence-M| Bus-Id        Disp.A | Volatile Uncorr. ECC |\n",
            "| Fan  Temp  Perf  Pwr:Usage/Cap|         Memory-Usage | GPU-Util  Compute M. |\n",
            "|                               |                      |               MIG M. |\n",
            "|===============================+======================+======================|\n",
            "|   0  Tesla K80           Off  | 00000000:00:04.0 Off |                    0 |\n",
            "| N/A   49C    P8    31W / 149W |      0MiB / 11441MiB |      0%      Default |\n",
            "|                               |                      |                  N/A |\n",
            "+-------------------------------+----------------------+----------------------+\n",
            "                                                                               \n",
            "+-----------------------------------------------------------------------------+\n",
            "| Processes:                                                                  |\n",
            "|  GPU   GI   CI        PID   Type   Process name                  GPU Memory |\n",
            "|        ID   ID                                                   Usage      |\n",
            "|=============================================================================|\n",
            "|  No running processes found                                                 |\n",
            "+-----------------------------------------------------------------------------+\n"
          ]
        }
      ]
    },
    {
      "cell_type": "code",
      "metadata": {
        "id": "YwniecdJF4TT"
      },
      "source": [
        "!pip install -r requirements_colab.txt -q"
      ],
      "execution_count": null,
      "outputs": []
    },
    {
      "cell_type": "markdown",
      "metadata": {
        "id": "Gn1iifLDHi8e"
      },
      "source": [
        "# DATA"
      ]
    },
    {
      "cell_type": "markdown",
      "metadata": {
        "id": "cXmmAvVc_YoR"
      },
      "source": [
        "> To speed up the review process , i provided the ***drive id*** of the data i've created from the Train creation folder noteboooks .\n",
        "---\n",
        "> I  also add each data drive link in the Readme Pdf file attached with this solution"
      ]
    },
    {
      "cell_type": "code",
      "metadata": {
        "colab": {
          "base_uri": "https://localhost:8080/"
        },
        "id": "0O4QdYxuTrtS",
        "outputId": "c4a5cde3-d392-4011-f170-8aab20dac29c"
      },
      "source": [
        "!gdown --id 1hNRbtcqd9F6stMOK1xAZApDITwAjiSDJ\n",
        "!gdown --id 1-QCmWsNGREXuWArifN0nD_Sp4hJxf0tu"
      ],
      "execution_count": null,
      "outputs": [
        {
          "output_type": "stream",
          "name": "stdout",
          "text": [
            "Downloading...\n",
            "From: https://drive.google.com/uc?id=1hNRbtcqd9F6stMOK1xAZApDITwAjiSDJ\n",
            "To: /content/S2TrainObs1.csv\n",
            "50.0MB [00:00, 97.2MB/s]\n",
            "Downloading...\n",
            "From: https://drive.google.com/uc?id=1-QCmWsNGREXuWArifN0nD_Sp4hJxf0tu\n",
            "To: /content/S2TestObs1.csv\n",
            "20.1MB [00:00, 75.7MB/s]\n"
          ]
        }
      ]
    },
    {
      "cell_type": "code",
      "metadata": {
        "colab": {
          "base_uri": "https://localhost:8080/"
        },
        "id": "DUfWVUYeTrqw",
        "outputId": "2b6a3e01-3688-42c0-e542-a03ac55277eb"
      },
      "source": [
        "!gdown --id 1-47L_1NKLeVgW1vWmqXXXCuWZ3gwZWsS\n",
        "!gdown --id 1-aO4FEtv5CF-ZOcxDSO3jGEzPcIFdxgP"
      ],
      "execution_count": null,
      "outputs": [
        {
          "output_type": "stream",
          "name": "stdout",
          "text": [
            "Downloading...\n",
            "From: https://drive.google.com/uc?id=1-47L_1NKLeVgW1vWmqXXXCuWZ3gwZWsS\n",
            "To: /content/S2TrainObs2.csv\n",
            "50.0MB [00:00, 121MB/s] \n",
            "Downloading...\n",
            "From: https://drive.google.com/uc?id=1-aO4FEtv5CF-ZOcxDSO3jGEzPcIFdxgP\n",
            "To: /content/S2TestObs2.csv\n",
            "20.1MB [00:00, 76.0MB/s]\n"
          ]
        }
      ]
    },
    {
      "cell_type": "code",
      "metadata": {
        "colab": {
          "base_uri": "https://localhost:8080/"
        },
        "id": "T3jQOvBbTroX",
        "outputId": "8b67e852-e8b2-4ad0-ef82-319061482e3e"
      },
      "source": [
        "!gdown --id 1-8J_xFgI0WKT5UXFnfH4q1KUw_KgNY37\n",
        "!gdown --id 1-a55a7N6a4SoqolPF_wI4C6Q70u_d7Hj"
      ],
      "execution_count": null,
      "outputs": [
        {
          "output_type": "stream",
          "name": "stdout",
          "text": [
            "Downloading...\n",
            "From: https://drive.google.com/uc?id=1-8J_xFgI0WKT5UXFnfH4q1KUw_KgNY37\n",
            "To: /content/S2TrainObs3.csv\n",
            "49.9MB [00:00, 117MB/s] \n",
            "Downloading...\n",
            "From: https://drive.google.com/uc?id=1-a55a7N6a4SoqolPF_wI4C6Q70u_d7Hj\n",
            "To: /content/S2TestObs3.csv\n",
            "20.1MB [00:00, 75.9MB/s]\n"
          ]
        }
      ]
    },
    {
      "cell_type": "code",
      "metadata": {
        "colab": {
          "base_uri": "https://localhost:8080/"
        },
        "id": "bv-t0agPTrlx",
        "outputId": "4f8cef58-2dce-40d2-a318-e84159128b47"
      },
      "source": [
        "!gdown --id 1-BgXQwmXqBuk_P8VtvLfdLqy83dv56Kz\n",
        "!gdown --id 1-hQGF2TNBbsy3jsGNtndmK55egbdFDjs"
      ],
      "execution_count": null,
      "outputs": [
        {
          "output_type": "stream",
          "name": "stdout",
          "text": [
            "Downloading...\n",
            "From: https://drive.google.com/uc?id=1-BgXQwmXqBuk_P8VtvLfdLqy83dv56Kz\n",
            "To: /content/S2TrainObs4.csv\n",
            "46.9MB [00:00, 99.4MB/s]\n",
            "Downloading...\n",
            "From: https://drive.google.com/uc?id=1-hQGF2TNBbsy3jsGNtndmK55egbdFDjs\n",
            "To: /content/S2TestObs4.csv\n",
            "18.9MB [00:00, 87.1MB/s]\n"
          ]
        }
      ]
    },
    {
      "cell_type": "markdown",
      "metadata": {
        "id": "xTeSHzh_jypq"
      },
      "source": [
        "## LIBRARIES"
      ]
    },
    {
      "cell_type": "code",
      "metadata": {
        "id": "f7bnNTPzjb_s"
      },
      "source": [
        "#import necessary dependecies\n",
        "import os\n",
        "import numpy as np  \n",
        "import pandas as pd\n",
        "\n",
        "import random\n",
        "from tqdm import tqdm \n",
        "import copy\n",
        "\n",
        "\n",
        "from catboost import CatBoostClassifier\n",
        "from sklearn.model_selection import StratifiedKFold\n",
        "from sklearn.metrics import log_loss\n",
        "from sklearn.preprocessing import QuantileTransformer\n",
        "\n",
        "import warnings\n",
        "warnings.filterwarnings('ignore') \n",
        "\n",
        "# fix seed\n",
        "np.random.seed(111)\n",
        "random.seed(111)"
      ],
      "execution_count": null,
      "outputs": []
    },
    {
      "cell_type": "markdown",
      "metadata": {
        "id": "uftWiLyuj9Na"
      },
      "source": [
        "## Train Creation"
      ]
    },
    {
      "cell_type": "code",
      "metadata": {
        "id": "Qtbt64vOkTOy"
      },
      "source": [
        "def create_train():\n",
        "  train =pd.read_csv(\"S2TrainObs1.csv\" )\n",
        "\n",
        "  train = train.groupby('field_id').median().reset_index().sort_values('field_id')\n",
        "  train.label = train.label.astype('int')\n",
        "  return train"
      ],
      "execution_count": null,
      "outputs": []
    },
    {
      "cell_type": "code",
      "metadata": {
        "id": "PvJMVAkO-fFs"
      },
      "source": [
        "def create_test():\n",
        "  test =pd.read_csv(\"S2TestObs1.csv\" )\n",
        "  return  test"
      ],
      "execution_count": null,
      "outputs": []
    },
    {
      "cell_type": "code",
      "metadata": {
        "id": "_3g9cwRp8_SF"
      },
      "source": [
        "def createObs2_train():\n",
        "  train =pd.read_csv(\"S2TrainObs2.csv\" )\n",
        "\n",
        "  train = train.groupby('field_id').median().reset_index().sort_values('field_id')\n",
        "  train.label = train.label.astype('int')\n",
        "  return train"
      ],
      "execution_count": null,
      "outputs": []
    },
    {
      "cell_type": "code",
      "metadata": {
        "id": "Re8kWJQWC8jK"
      },
      "source": [
        "def createObs2_test():\n",
        "  test =pd.read_csv(\"S2TestObs2.csv\" )\n",
        "  return test"
      ],
      "execution_count": null,
      "outputs": []
    },
    {
      "cell_type": "code",
      "metadata": {
        "id": "OsFgaYj7Z85k"
      },
      "source": [
        "def createObs3_train():\n",
        "  train =pd.read_csv(\"S2TrainObs3.csv\" )\n",
        "\n",
        "  train = train.groupby('field_id').median().reset_index().sort_values('field_id')\n",
        "  train.label = train.label.astype('int')\n",
        "  return train"
      ],
      "execution_count": null,
      "outputs": []
    },
    {
      "cell_type": "code",
      "metadata": {
        "id": "D6qjVNLtZ83D"
      },
      "source": [
        "def createObs3_test():\n",
        "  test =pd.read_csv(\"S2TestObs3.csv\" )\n",
        "  return test"
      ],
      "execution_count": null,
      "outputs": []
    },
    {
      "cell_type": "code",
      "metadata": {
        "id": "XGwIJQOjJnZh"
      },
      "source": [
        "def createObs4_train():\n",
        "  train =pd.read_csv(\"S2TrainObs4.csv\" )\n",
        "\n",
        "  train = train.groupby('field_id').median().reset_index().sort_values('field_id')\n",
        "  train.label = train.label.astype('int')\n",
        "  return train"
      ],
      "execution_count": null,
      "outputs": []
    },
    {
      "cell_type": "code",
      "metadata": {
        "id": "5LKqH411JnWz"
      },
      "source": [
        "def createObs4_test():\n",
        "  test =pd.read_csv(\"S2TestObs4.csv\" )\n",
        "  return test"
      ],
      "execution_count": null,
      "outputs": []
    },
    {
      "cell_type": "markdown",
      "metadata": {
        "id": "-Q1U-feUYOWR"
      },
      "source": [
        "## Feature Engineering"
      ]
    },
    {
      "cell_type": "code",
      "metadata": {
        "id": "9XBrmdIgYR1x"
      },
      "source": [
        "def process(T) :\n",
        "\n",
        "  # process bands\n",
        "  Bcols = T.filter(like='B').columns.tolist()\n",
        "  Vcols = T.filter(like='V').columns.tolist()\n",
        "  Obs1 = T.filter(like='Month4').columns.tolist()\n",
        "  Obs2 = T.filter(like='Month5').columns.tolist()\n",
        "  Obs3 = T.filter(like='Month6').columns.tolist()\n",
        "  Obs4 = T.filter(like='Month7').columns.tolist()\n",
        "  Obs5 = T.filter(like='Month8').columns.tolist()\n",
        "  Obs6 = T.filter(like='Month9').columns.tolist()\n",
        "  Obs7 = T.filter(like='Month10').columns.tolist()\n",
        "  Obs8 = T.filter(like='Month11').columns.tolist()\n",
        "\n",
        "\n",
        "  # vegetation indexes \n",
        "  B8cols = T.filter(like='B8_').columns.tolist()\n",
        "  B8cols = [x for x in B8cols if 'std' not in x]\n",
        "  \n",
        "  B4cols = T.filter(like='B4_').columns.tolist()\n",
        "  B4cols = [x for x in B4cols if 'std' not in x]\n",
        "\n",
        "  B3cols = T.filter(like='B3_').columns.tolist()\n",
        "  B3cols = [x for x in B3cols if 'std' not in x]\n",
        "\n",
        "  B5cols = T.filter(like='B5_').columns.tolist()\n",
        "  B5cols = [x for x in B5cols if 'std' not in x]\n",
        "\n",
        "  B3cols = T.filter(like='B3_').columns.tolist()\n",
        "  B3cols = [x for x in B3cols if 'std' not in x]\n",
        "\n",
        "  B2cols = T.filter(like='B2_').columns.tolist()\n",
        "  B2cols = [x for x in B2cols if 'std' not in x]\n",
        "\n",
        "  B7cols = T.filter(like='B7_').columns.tolist()\n",
        "  B7cols = [x for x in B7cols if 'std' not in x]\n",
        "\n",
        "  B8Acols = T.filter(like='B8A_').columns.tolist()\n",
        "  B8Acols = [x for x in B8Acols if 'std' not in x]\n",
        "\n",
        "  B6cols = T.filter(like='B6_').columns.tolist()\n",
        "  B6cols = [x for x in B6cols if 'std' not in x]\n",
        "\n",
        "  B12cols = T.filter(like='B12_').columns.tolist()\n",
        "  B12cols = [x for x in B12cols if 'std' not in x]\n",
        "\n",
        "  B11cols = T.filter(like='B11_').columns.tolist()\n",
        "  B11cols = [x for x in B11cols if 'std' not in x]\n",
        "\n",
        "  B1cols = T.filter(like='B1_').columns.tolist()\n",
        "  B1cols = [x for x in B1cols if 'std' not in x]\n",
        "\n",
        "  B9cols = T.filter(like='B9_').columns.tolist()\n",
        "  B9cols = [x for x in B9cols if 'std' not in x]\n",
        "\n",
        "  L = 0.725\n",
        "  for b1,b2 ,b3 ,b4, b5 , b6, b7, b8 ,b8a ,b9,b11,b12 in zip(B1cols,B2cols,B3cols,B4cols,B5cols,B6cols,B7cols,B8cols,B8Acols,B9cols,B11cols,B12cols) :\n",
        "    T[f'NDVI_{b8.split(\"_\")[1]}']   = ((T[b8] - T[b4]) /  (T[b8] + T[b4]))\n",
        "    T[f'SAVI_{b8.split(\"_\")[1]}']   = ((T[b8] - T[b4]) /  (T[b8] + T[b4]+L) * (1.0 + L))\n",
        "    T[f'GRNDVI_{b8.split(\"_\")[1]}'] = ((T[b8] - (T[b3]+T[b4])) /  (T[b8] + (T[b3]+T[b4])))\n",
        "    T[f'GNDVI_{b8.split(\"_\")[1]}']  = ((T[b8] - T[b3] ) /  (T[b8] + T[b3]))\n",
        "    T[f'NDRE_{b8.split(\"_\")[1]}']   = ((T[b5] - T[b4])/ (T[b5] + T[b4]))\n",
        "    T[f'EVI_{b8.split(\"_\")[1]}']    = (2.5 * (T[b8]  - T[b4] ) / ((T[b8]  + 6.0 * T[b4]  - 7.5 * T[b2]) + 1.0)).values.clip(min=-5,max=5)\n",
        "    T[f'WDRVI_{b8.split(\"_\")[1]}']  = (((8 * T[b8]) - T[b4])/ ((8* T[b8]) + T[b4]))\n",
        "    T[f'ExBlue_{b8.split(\"_\")[1]}']  = ((2 * T[b2]) - (T[b3]+T[b4]))\n",
        "    T[f'ExGreen_{b8.split(\"_\")[1]}']  = ((2 * T[b3]) - (T[b2]+T[b4]) )\n",
        "    T[f'NDRE7_{b8.split(\"_\")[1]}']   = ((T[b7] - T[b4])/ (T[b7] + T[b4]))\n",
        "    T[f'MTCI_{b8.split(\"_\")[1]}']   = ((T[b8a] - T[b6])/ (T[b7] + T[b6]))\n",
        "    T[f'VARI_{b8.split(\"_\")[1]}']   = ((T[b3] - T[b4])/ (T[b3] + T[b4] - T[b2]))\n",
        "    T[f'ARVI_{b8.split(\"_\")[1]}']   = ( ((T[b8] - T[b4])-(T[b4] - T[b2])) /  ((T[b8] + T[b4])-(T[b4] - T[b2])) )\n",
        "\n",
        "    # Bands Relations\n",
        "    T[f'b7b5_{b8.split(\"_\")[1]}']  = (T[b7] - T[b5])/ (T[b7] + T[b5])    # B7  / B5\n",
        "    T[f'b7b6_{b8.split(\"_\")[1]}']  = (T[b7] - T[b6])/ (T[b7] + T[b6])    # B7  / B6\n",
        "    T[f'b8ab5_{b8.split(\"_\")[1]}'] = (T[b8a] - T[b5])/ (T[b8a]  + T[b5]) # B8A / B5\n",
        "    T[f'b6b5_{b8.split(\"_\")[1]}']  = (T[b6] - T[b5])/ (T[b6] + T[b5])    # B6  / B5 \n",
        "    \n",
        "    # ASSAZZIN bands relations \n",
        "    T[f'b3b1_{b8.split(\"_\")[1]}']  = (T[b3] - T[b1])/ (T[b3] + T[b1])    \n",
        "    T[f'b11b8_{b8.split(\"_\")[1]}']  = (T[b11] - T[b8])/ (T[b11] + T[b8])    \n",
        "    T[f'b12b11_{b8.split(\"_\")[1]}']  = (T[b12] - T[b11])/ (T[b12] + T[b11])    \n",
        "    T[f'b3b4_{b8.split(\"_\")[1]}']  = (T[b3] - T[b4])/ (T[b3] + T[b4])    \n",
        "    T[f'b9b4_{b8.split(\"_\")[1]}']  = (T[b9] - T[b4])/ (T[b9] + T[b4])    \n",
        "    T[f'b5b3_{b8.split(\"_\")[1]}']  = (T[b5] - T[b3])/ (T[b5] + T[b3])    \n",
        "    T[f'b12b3_{b8.split(\"_\")[1]}']  = (T[b12] - T[b3])/ (T[b12] + T[b3])    \n",
        "\n",
        "    T[f'b2b1_{b8.split(\"_\")[1]}']  = (T[b2] - T[b1])/ (T[b2] + T[b1])    \n",
        "    T[f'b4b1_{b8.split(\"_\")[1]}']  = (T[b4] - T[b1])/ (T[b4] + T[b1])    \n",
        "    T[f'b11b3_{b8.split(\"_\")[1]}']  = (T[b11] - T[b3])/ (T[b11] + T[b3])    \n",
        "    \n",
        "    T[f'b12b8_{b8.split(\"_\")[1]}']  = (T[b12] - T[b8])/ (T[b12] + T[b8])    \n",
        "    T[f'b3b2_{b8.split(\"_\")[1]}']  = (T[b3] - T[b2])/ (T[b3] + T[b2])    \n",
        "    T[f'b8ab3_{b8.split(\"_\")[1]}'] = (T[b8a] - T[b3])/ (T[b8a]  + T[b3]) \n",
        "    T[f'b8ab2_{b8.split(\"_\")[1]}'] = (T[b8a] - T[b2])/ (T[b8a]  + T[b2]) \n",
        "\n",
        "    T[f'b8b1_{b8.split(\"_\")[1]}']  = (T[b8] - T[b1])/ (T[b8] + T[b1])    \n",
        "    T[f'ARVI2_{b8.split(\"_\")[1]}']   = ( ((T[b3] - T[b4])-(T[b4] - T[b2])) /  ((T[b3] + T[b4])+(T[b4] + T[b2])) )\n",
        "    T[f'ARVI3_{b8.split(\"_\")[1]}']   = ( ((T[b5] - T[b3])-(T[b3] - T[b2])) /  ((T[b5] + T[b3])+(T[b3] + T[b2])) )\n",
        "    T[f'b8b9_{b8.split(\"_\")[1]}']  = (T[b8] - T[b9])/ (T[b8] + T[b9])    \n",
        "    T[f'b3b9_{b8.split(\"_\")[1]}']  = (T[b3] - T[b9])/ (T[b3] + T[b9])    \n",
        "    T[f'b2b9_{b8.split(\"_\")[1]}']  = (T[b2] - T[b9])/ (T[b2] + T[b9])    \n",
        "\n",
        "    T[f'b12b9_{b8.split(\"_\")[1]}']  = (T[b12] - T[b9])/ (T[b12] + T[b9])    \n",
        "    T[f'b12b8_{b8.split(\"_\")[1]}']  = (T[b12] - T[b8])/ (T[b12] + T[b8])    \n",
        "\n",
        "  for col in Bcols :\n",
        "    T[col] = np.sqrt(T[col])\n",
        "  for b2 ,b3 ,b4 in zip(B2cols,B3cols,B4cols) :\n",
        "    T[f'RGB_STD_{b3.split(\"_\")[1]}'] = T[[b2,b3,b4]].std(axis=1)\n",
        "    T[f'RGB_MEAN_{b3.split(\"_\")[1]}'] = T[[b2,b3,b4]].mean(axis=1)\n",
        "\n",
        "  for col in Vcols :\n",
        "    T[col] = np.sqrt(T[col])\n",
        "\n",
        "  for col1,col2,col3,col4,col5,col6,col7,col8 in zip(Obs1,Obs2,Obs3,Obs4,Obs5,Obs6,Obs7,Obs8) :\n",
        "    T[f'{col1.split(\"_\")[0]}_std'] = T[[col1,col2,col3,col4,col5,col6,col7,col8]].std(axis=1)\n",
        "  \n",
        "  # process Vegetation indexes\n",
        "  ObsN   = T.filter(like='NDVI_').columns.tolist()\n",
        "  ObsSA  = T.filter(like='SAVI_').columns.tolist()\n",
        "  ObsCC  = T.filter(like='CCCI_').columns.tolist()\n",
        "  ObsWDR = T.filter(like='WDRVI_').columns.tolist()\n",
        "  ObsNDRE7 = T.filter(like='NDRE7_').columns.tolist()\n",
        "\n",
        "  T['NDVI_max']    = T[ObsN].max(axis=1)\n",
        "  T['NDVI_min']    = T[ObsN].min(axis=1)\n",
        "  \n",
        "  T['SAVI_max']    = T[ObsSA].max(axis=1)\n",
        "  T['SAVI_mmin']   = T[ObsSA].min(axis=1)\n",
        "\n",
        "  T['WDRVI_max']  = T[ObsWDR].max(axis=1)\n",
        "  T['WDRVI_min']  = T[ObsWDR].min(axis=1)\n",
        "\n",
        "  T['NDRE7_max']   = T[ObsNDRE7].max(axis=1)\n",
        "  T['NDRE7_min']   = T[ObsNDRE7].min(axis=1)\n",
        "\n",
        "  return T"
      ],
      "execution_count": null,
      "outputs": []
    },
    {
      "cell_type": "code",
      "metadata": {
        "id": "32Lfy6wgYSJy"
      },
      "source": [
        "Train = create_train()\n",
        "Test = create_test()"
      ],
      "execution_count": null,
      "outputs": []
    },
    {
      "cell_type": "code",
      "metadata": {
        "id": "HDHKr2aX-AEl"
      },
      "source": [
        "Train2 = createObs2_train()\n",
        "Test2 = createObs2_test()"
      ],
      "execution_count": null,
      "outputs": []
    },
    {
      "cell_type": "code",
      "metadata": {
        "id": "bNVzQtpUaErq"
      },
      "source": [
        "Train3 = createObs3_train()\n",
        "Test3 = createObs3_test()"
      ],
      "execution_count": null,
      "outputs": []
    },
    {
      "cell_type": "code",
      "metadata": {
        "id": "ipVXaLYAn_jx"
      },
      "source": [
        "Train4 = createObs4_train()\n",
        "Test4 = createObs4_test()"
      ],
      "execution_count": null,
      "outputs": []
    },
    {
      "cell_type": "code",
      "metadata": {
        "colab": {
          "base_uri": "https://localhost:8080/"
        },
        "id": "L_xk9xI8bKkm",
        "outputId": "6cbdf670-2148-4041-c98b-5cd9316682db"
      },
      "source": [
        "Train.shape , Test.shape"
      ],
      "execution_count": null,
      "outputs": [
        {
          "output_type": "execute_result",
          "data": {
            "text/plain": [
              "((87114, 98), (35295, 97))"
            ]
          },
          "metadata": {},
          "execution_count": 22
        }
      ]
    },
    {
      "cell_type": "code",
      "metadata": {
        "colab": {
          "base_uri": "https://localhost:8080/"
        },
        "id": "v5WuSISW-FbN",
        "outputId": "a855891e-f519-4c56-f7e9-bad5ee3e290d"
      },
      "source": [
        "Train2.shape , Test2.shape"
      ],
      "execution_count": null,
      "outputs": [
        {
          "output_type": "execute_result",
          "data": {
            "text/plain": [
              "((87114, 98), (35295, 97))"
            ]
          },
          "metadata": {},
          "execution_count": 23
        }
      ]
    },
    {
      "cell_type": "code",
      "metadata": {
        "colab": {
          "base_uri": "https://localhost:8080/"
        },
        "id": "c6H1mFB-aKSi",
        "outputId": "288fba12-2444-45d7-fc48-cee92867a074"
      },
      "source": [
        "Train3.shape , Test3.shape"
      ],
      "execution_count": null,
      "outputs": [
        {
          "output_type": "execute_result",
          "data": {
            "text/plain": [
              "((87114, 98), (35295, 97))"
            ]
          },
          "metadata": {},
          "execution_count": 24
        }
      ]
    },
    {
      "cell_type": "code",
      "metadata": {
        "colab": {
          "base_uri": "https://localhost:8080/"
        },
        "id": "CNuG1YsdoCw5",
        "outputId": "8e20099c-5014-4fa1-a76a-f3d75d5a78ad"
      },
      "source": [
        "Train4.shape , Test4.shape"
      ],
      "execution_count": null,
      "outputs": [
        {
          "output_type": "execute_result",
          "data": {
            "text/plain": [
              "((87114, 98), (35295, 97))"
            ]
          },
          "metadata": {},
          "execution_count": 25
        }
      ]
    },
    {
      "cell_type": "code",
      "metadata": {
        "id": "m1gbIDDNaWLP"
      },
      "source": [
        "Train = process(Train)\n",
        "Test = process(Test)"
      ],
      "execution_count": null,
      "outputs": []
    },
    {
      "cell_type": "code",
      "metadata": {
        "id": "52M26PAW-K_c"
      },
      "source": [
        "Train2 = process(Train2)\n",
        "Test2 = process(Test2)"
      ],
      "execution_count": null,
      "outputs": []
    },
    {
      "cell_type": "code",
      "metadata": {
        "id": "lEFdUw2IaPBW"
      },
      "source": [
        "Train3 = process(Train3)\n",
        "Test3 = process(Test3)"
      ],
      "execution_count": null,
      "outputs": []
    },
    {
      "cell_type": "code",
      "metadata": {
        "id": "fMCxj5F2oNWB"
      },
      "source": [
        "Train4 = process(Train4)\n",
        "Test4 = process(Test4)"
      ],
      "execution_count": null,
      "outputs": []
    },
    {
      "cell_type": "code",
      "metadata": {
        "colab": {
          "base_uri": "https://localhost:8080/"
        },
        "id": "bdLvq2V8ZWRw",
        "outputId": "61dab83e-e81c-402b-b716-a6dc7a782264"
      },
      "source": [
        "Train.shape , Test.shape"
      ],
      "execution_count": null,
      "outputs": [
        {
          "output_type": "execute_result",
          "data": {
            "text/plain": [
              "((87114, 438), (35295, 437))"
            ]
          },
          "metadata": {},
          "execution_count": 30
        }
      ]
    },
    {
      "cell_type": "code",
      "metadata": {
        "colab": {
          "base_uri": "https://localhost:8080/"
        },
        "id": "9wpX4WZ4-OXs",
        "outputId": "8e26c4f7-c9c1-47b9-eadc-6450fe5dbbae"
      },
      "source": [
        "Train2.shape , Test2.shape"
      ],
      "execution_count": null,
      "outputs": [
        {
          "output_type": "execute_result",
          "data": {
            "text/plain": [
              "((87114, 438), (35295, 437))"
            ]
          },
          "metadata": {},
          "execution_count": 31
        }
      ]
    },
    {
      "cell_type": "code",
      "metadata": {
        "colab": {
          "base_uri": "https://localhost:8080/"
        },
        "id": "xRcs1ov5aTfx",
        "outputId": "a5ed8cf7-35c4-403c-976f-c1bd2646d943"
      },
      "source": [
        "Train3.shape , Test3.shape"
      ],
      "execution_count": null,
      "outputs": [
        {
          "output_type": "execute_result",
          "data": {
            "text/plain": [
              "((87114, 438), (35295, 437))"
            ]
          },
          "metadata": {},
          "execution_count": 32
        }
      ]
    },
    {
      "cell_type": "code",
      "metadata": {
        "colab": {
          "base_uri": "https://localhost:8080/"
        },
        "id": "mh3E288CoQqQ",
        "outputId": "0f0cfaf6-b5b3-4019-be27-9fcccc1a1801"
      },
      "source": [
        "Train4.shape , Test4.shape"
      ],
      "execution_count": null,
      "outputs": [
        {
          "output_type": "execute_result",
          "data": {
            "text/plain": [
              "((87114, 438), (35295, 437))"
            ]
          },
          "metadata": {},
          "execution_count": 33
        }
      ]
    },
    {
      "cell_type": "code",
      "metadata": {
        "colab": {
          "base_uri": "https://localhost:8080/"
        },
        "id": "p7buqaSQ-XFb",
        "outputId": "bf42ce39-7069-40aa-cc89-9633783163ac"
      },
      "source": [
        "Train = pd.concat([Train,Train2.drop(columns=['field_id','label']),Train3.drop(columns=['field_id','label']),Train4.drop(columns=['field_id','label'])],axis=1)\n",
        "Train.shape"
      ],
      "execution_count": null,
      "outputs": [
        {
          "output_type": "execute_result",
          "data": {
            "text/plain": [
              "(87114, 1746)"
            ]
          },
          "metadata": {},
          "execution_count": 34
        }
      ]
    },
    {
      "cell_type": "code",
      "metadata": {
        "id": "meCUhBwLFxU_",
        "colab": {
          "base_uri": "https://localhost:8080/"
        },
        "outputId": "b6bf5af6-957d-4362-a751-988f95a1fa35"
      },
      "source": [
        "Test = pd.concat([Test,Test2.drop(columns=['field_id']),Test3.drop(columns=['field_id'])],axis=1)\n",
        "Test = pd.merge(Test,Test4,on='field_id',how='left')\n",
        "Test.shape"
      ],
      "execution_count": null,
      "outputs": [
        {
          "output_type": "execute_result",
          "data": {
            "text/plain": [
              "(35295, 1745)"
            ]
          },
          "metadata": {},
          "execution_count": 35
        }
      ]
    },
    {
      "cell_type": "code",
      "metadata": {
        "colab": {
          "base_uri": "https://localhost:8080/"
        },
        "id": "gl0JVLix3oqW",
        "outputId": "8e9b239e-6b4b-481f-ee4c-c685d71be935"
      },
      "source": [
        "import gc ; gc.collect()"
      ],
      "execution_count": null,
      "outputs": [
        {
          "output_type": "execute_result",
          "data": {
            "text/plain": [
              "100"
            ]
          },
          "metadata": {},
          "execution_count": 36
        }
      ]
    },
    {
      "cell_type": "markdown",
      "metadata": {
        "id": "vY3pUT7fmECJ"
      },
      "source": [
        "# MODELING"
      ]
    },
    {
      "cell_type": "code",
      "metadata": {
        "id": "texiz981mlyZ"
      },
      "source": [
        "X    = Train.replace(np.inf,50).drop(['field_id','label'], axis=1)\n",
        "y    = Train.label\n",
        "TEST = Test.replace(np.inf,50).drop(['field_id'], axis=1)"
      ],
      "execution_count": null,
      "outputs": []
    },
    {
      "cell_type": "code",
      "metadata": {
        "id": "2v14KQIN3dT-"
      },
      "source": [
        "TEST.columns = X.columns.tolist()"
      ],
      "execution_count": null,
      "outputs": []
    },
    {
      "cell_type": "code",
      "metadata": {
        "colab": {
          "base_uri": "https://localhost:8080/"
        },
        "id": "pTKbKMW-3p6G",
        "outputId": "d89f480c-58e4-4006-ef5d-70e9af0c0bb7"
      },
      "source": [
        "import gc ; gc.collect()"
      ],
      "execution_count": null,
      "outputs": [
        {
          "output_type": "execute_result",
          "data": {
            "text/plain": [
              "537"
            ]
          },
          "metadata": {},
          "execution_count": 45
        }
      ]
    },
    {
      "cell_type": "code",
      "metadata": {
        "id": "l0hEhXSdh_l4"
      },
      "source": [
        "data = pd.concat([X,TEST])\n",
        "qt=QuantileTransformer(output_distribution=\"normal\",random_state=42)\n",
        "data= pd.DataFrame(qt.fit_transform(data),columns=X.columns)"
      ],
      "execution_count": null,
      "outputs": []
    },
    {
      "cell_type": "code",
      "metadata": {
        "id": "FKt1Nm9Dh_jg"
      },
      "source": [
        "X = data[:X.shape[0]].values\n",
        "TEST = data[X.shape[0]:].values"
      ],
      "execution_count": null,
      "outputs": []
    },
    {
      "cell_type": "code",
      "metadata": {
        "colab": {
          "base_uri": "https://localhost:8080/"
        },
        "id": "kpdksJiVvT0c",
        "outputId": "6e3e4191-5d7b-490b-bb85-8288a3c4da11"
      },
      "source": [
        "X.shape  , TEST.shape"
      ],
      "execution_count": null,
      "outputs": [
        {
          "output_type": "execute_result",
          "data": {
            "text/plain": [
              "((87114, 1744), (35295, 1744))"
            ]
          },
          "metadata": {},
          "execution_count": 48
        }
      ]
    },
    {
      "cell_type": "code",
      "metadata": {
        "id": "uztMxGrr4EdZ",
        "colab": {
          "base_uri": "https://localhost:8080/"
        },
        "outputId": "a3485fc2-f14f-4d2d-ec79-9c883761d804"
      },
      "source": [
        "del data\n",
        "import gc ; gc.collect()"
      ],
      "execution_count": null,
      "outputs": [
        {
          "output_type": "execute_result",
          "data": {
            "text/plain": [
              "52"
            ]
          },
          "metadata": {},
          "execution_count": 49
        }
      ]
    },
    {
      "cell_type": "code",
      "metadata": {
        "id": "z0ymGuAkiBpI"
      },
      "source": [
        "##############################################################################################################################################################################"
      ],
      "execution_count": null,
      "outputs": []
    },
    {
      "cell_type": "markdown",
      "metadata": {
        "id": "hvDtMepz_qp2"
      },
      "source": [
        "### Cross Validation"
      ]
    },
    {
      "cell_type": "code",
      "metadata": {
        "id": "a6I4IjUb_2Sa"
      },
      "source": [
        "seed = 47\n",
        "sk = StratifiedKFold(n_splits= 10,random_state=seed,shuffle=True)\n",
        "\n",
        "def DefineModel(name='lgbm') :\n",
        "  if name =='lgbm':\n",
        "    return lgb.LGBMClassifier(learning_rate = 0.1,n_estimators = 3000,\n",
        "                            objective ='multiclass',random_state = 111,\n",
        "                            num_leaves = 80,max_depth = 6,\n",
        "                            metric = 'multi_logloss',\n",
        "                            colsample_bytree = 0.5 ,\n",
        "                            bagging_freq= 5, bagging_fraction= 0.75,\n",
        "                            lambda_l2 = 100\n",
        "                            )\n",
        "  elif name =='catboost' :\n",
        "    cat_params = {\"loss_function\": \"MultiClass\",\"eval_metric\": \"MultiClass\",\"learning_rate\": 0.1,\n",
        "              \"random_seed\": 42,\"l2_leaf_reg\": 3,\"bagging_temperature\": 1, \n",
        "              \"depth\": 6,\"od_type\": \"Iter\",\"od_wait\": 50,\"thread_count\": 16,\"iterations\": 50000,\n",
        "              \"use_best_model\": True,'task_type':\"GPU\",'devices':'0:1'}\n",
        "    return CatBoostClassifier(**cat_params\n",
        "                              )\n",
        "  else :\n",
        "    return xgb.XGBClassifier(objective = 'multi:softmax',\n",
        "                             base_score = np.mean(y),eval_metric =\"mlogloss\",\n",
        "                             subsample= 0.8,n_estimators = 2000,\n",
        "                             seed=seed,random_state = seed,num_class = 9,\n",
        "                             ) \n",
        "\n",
        "def Run5fold(name,X,y,TEST) :\n",
        "  print(f'TRAINING {name}')\n",
        "  cv_score_ = 0\n",
        "  oof_preds = np.zeros((Train.shape[0],9))\n",
        "  final_predictions = np.zeros((Test.shape[0],9))\n",
        "\n",
        "  for fold, (train_idx, test_idx) in enumerate(sk.split(X,y)):\n",
        "    print()\n",
        "    print(f'######### FOLD {fold+1} / {sk.n_splits} ')\n",
        "    \n",
        "    X_train,y_train = X[train_idx,:],y[train_idx]\n",
        "    X_test,y_test   = X[test_idx,:] ,y[test_idx]\n",
        "\n",
        "    model = DefineModel(name=name)\n",
        "    model.fit(X_train,y_train,\n",
        "        eval_set = [(X_test,y_test)],\n",
        "        early_stopping_rounds  = 100,\n",
        "        verbose = 100\n",
        "    )\n",
        "    oof_prediction = model.predict_proba(X_test)\n",
        "    cv_score_ += log_loss(y_test,oof_prediction) / sk.n_splits\n",
        "    print(f'Log Loss Fold {fold} : {log_loss(y_test,oof_prediction) }')\n",
        "    oof_preds[test_idx] = oof_prediction\n",
        "\n",
        "    test_prediction = model.predict_proba(TEST)\n",
        "    final_predictions += test_prediction / sk.n_splits\n",
        "\n",
        "  return oof_preds , final_predictions"
      ],
      "execution_count": null,
      "outputs": []
    },
    {
      "cell_type": "code",
      "metadata": {
        "colab": {
          "base_uri": "https://localhost:8080/"
        },
        "id": "EYjFsWwh2WJY",
        "outputId": "89675dd5-407b-47e7-cb6b-ca9c7a206dad"
      },
      "source": [
        "import gc ; gc.collect()"
      ],
      "execution_count": null,
      "outputs": [
        {
          "output_type": "execute_result",
          "data": {
            "text/plain": [
              "543"
            ]
          },
          "metadata": {},
          "execution_count": 53
        }
      ]
    },
    {
      "cell_type": "code",
      "metadata": {
        "id": "TCHnTDzb4wJj",
        "colab": {
          "base_uri": "https://localhost:8080/"
        },
        "outputId": "e711d8ee-1695-48d4-bb03-446146b40b6f"
      },
      "source": [
        "oof_cat , predictions_cat = Run5fold(name='catboost',X=X,y=y,TEST=TEST)"
      ],
      "execution_count": null,
      "outputs": [
        {
          "output_type": "stream",
          "name": "stdout",
          "text": [
            "TRAINING catboost\n",
            "\n",
            "######### FOLD 1 / 10 \n",
            "0:\tlearn: 1.9640234\ttest: 1.9653545\tbest: 1.9653545 (0)\ttotal: 335ms\tremaining: 4h 39m 2s\n",
            "100:\tlearn: 0.9078089\ttest: 0.9484490\tbest: 0.9484490 (100)\ttotal: 21.8s\tremaining: 2h 59m 34s\n",
            "200:\tlearn: 0.8084735\ttest: 0.8768137\tbest: 0.8768137 (200)\ttotal: 41.7s\tremaining: 2h 52m 4s\n",
            "300:\tlearn: 0.7438707\ttest: 0.8368023\tbest: 0.8368023 (300)\ttotal: 1m 1s\tremaining: 2h 48m 35s\n",
            "400:\tlearn: 0.6943002\ttest: 0.8096264\tbest: 0.8096264 (400)\ttotal: 1m 20s\tremaining: 2h 46m 27s\n",
            "500:\tlearn: 0.6545159\ttest: 0.7887929\tbest: 0.7887929 (500)\ttotal: 1m 39s\tremaining: 2h 44m 25s\n",
            "600:\tlearn: 0.6199272\ttest: 0.7718962\tbest: 0.7718962 (600)\ttotal: 1m 58s\tremaining: 2h 42m 44s\n",
            "700:\tlearn: 0.5893016\ttest: 0.7566602\tbest: 0.7566602 (700)\ttotal: 2m 17s\tremaining: 2h 41m 1s\n",
            "800:\tlearn: 0.5622794\ttest: 0.7450908\tbest: 0.7450908 (800)\ttotal: 2m 36s\tremaining: 2h 39m 43s\n",
            "900:\tlearn: 0.5389318\ttest: 0.7345612\tbest: 0.7345612 (900)\ttotal: 2m 54s\tremaining: 2h 38m 18s\n",
            "1000:\tlearn: 0.5171167\ttest: 0.7252585\tbest: 0.7252585 (1000)\ttotal: 3m 12s\tremaining: 2h 37m 9s\n",
            "1100:\tlearn: 0.4960327\ttest: 0.7171503\tbest: 0.7171459 (1098)\ttotal: 3m 31s\tremaining: 2h 36m 18s\n",
            "1200:\tlearn: 0.4775248\ttest: 0.7108465\tbest: 0.7108465 (1200)\ttotal: 3m 49s\tremaining: 2h 35m 29s\n",
            "1300:\tlearn: 0.4612665\ttest: 0.7043634\tbest: 0.7043523 (1299)\ttotal: 4m 7s\tremaining: 2h 34m 17s\n",
            "1400:\tlearn: 0.4451542\ttest: 0.6978531\tbest: 0.6978531 (1400)\ttotal: 4m 25s\tremaining: 2h 33m 23s\n",
            "1500:\tlearn: 0.4287012\ttest: 0.6910362\tbest: 0.6910362 (1500)\ttotal: 4m 43s\tremaining: 2h 32m 47s\n",
            "1600:\tlearn: 0.4147630\ttest: 0.6853498\tbest: 0.6853498 (1600)\ttotal: 5m 1s\tremaining: 2h 31m 57s\n",
            "1700:\tlearn: 0.4011193\ttest: 0.6808511\tbest: 0.6808511 (1700)\ttotal: 5m 19s\tremaining: 2h 31m 18s\n",
            "1800:\tlearn: 0.3885581\ttest: 0.6766339\tbest: 0.6766339 (1800)\ttotal: 5m 37s\tremaining: 2h 30m 35s\n",
            "1900:\tlearn: 0.3767257\ttest: 0.6724938\tbest: 0.6724938 (1900)\ttotal: 5m 55s\tremaining: 2h 29m 48s\n",
            "2000:\tlearn: 0.3650609\ttest: 0.6688701\tbest: 0.6688701 (2000)\ttotal: 6m 13s\tremaining: 2h 29m 11s\n",
            "2100:\tlearn: 0.3547121\ttest: 0.6660361\tbest: 0.6660361 (2100)\ttotal: 6m 30s\tremaining: 2h 28m 30s\n",
            "2200:\tlearn: 0.3447214\ttest: 0.6626488\tbest: 0.6626267 (2199)\ttotal: 6m 48s\tremaining: 2h 27m 53s\n",
            "2300:\tlearn: 0.3349786\ttest: 0.6594642\tbest: 0.6594642 (2300)\ttotal: 7m 6s\tremaining: 2h 27m 16s\n",
            "2400:\tlearn: 0.3251226\ttest: 0.6562818\tbest: 0.6562814 (2398)\ttotal: 7m 24s\tremaining: 2h 26m 45s\n",
            "2500:\tlearn: 0.3155982\ttest: 0.6531487\tbest: 0.6531283 (2499)\ttotal: 7m 42s\tremaining: 2h 26m 21s\n",
            "2600:\tlearn: 0.3067563\ttest: 0.6504478\tbest: 0.6504478 (2600)\ttotal: 8m\tremaining: 2h 25m 52s\n",
            "2700:\tlearn: 0.2985459\ttest: 0.6481537\tbest: 0.6481537 (2700)\ttotal: 8m 18s\tremaining: 2h 25m 20s\n",
            "2800:\tlearn: 0.2904134\ttest: 0.6455494\tbest: 0.6455494 (2800)\ttotal: 8m 35s\tremaining: 2h 24m 52s\n",
            "2900:\tlearn: 0.2829422\ttest: 0.6428912\tbest: 0.6428912 (2900)\ttotal: 8m 53s\tremaining: 2h 24m 17s\n",
            "3000:\tlearn: 0.2754938\ttest: 0.6405501\tbest: 0.6405466 (2998)\ttotal: 9m 11s\tremaining: 2h 23m 49s\n",
            "3100:\tlearn: 0.2680240\ttest: 0.6378039\tbest: 0.6378039 (3100)\ttotal: 9m 29s\tremaining: 2h 23m 25s\n",
            "3200:\tlearn: 0.2610871\ttest: 0.6357491\tbest: 0.6356894 (3198)\ttotal: 9m 46s\tremaining: 2h 22m 58s\n",
            "3300:\tlearn: 0.2541097\ttest: 0.6335737\tbest: 0.6335627 (3299)\ttotal: 10m 4s\tremaining: 2h 22m 34s\n",
            "3400:\tlearn: 0.2482585\ttest: 0.6318257\tbest: 0.6318257 (3400)\ttotal: 10m 22s\tremaining: 2h 22m 2s\n",
            "3500:\tlearn: 0.2414390\ttest: 0.6290164\tbest: 0.6290164 (3500)\ttotal: 10m 40s\tremaining: 2h 21m 40s\n",
            "3600:\tlearn: 0.2352781\ttest: 0.6276724\tbest: 0.6276724 (3600)\ttotal: 10m 57s\tremaining: 2h 21m 15s\n",
            "3700:\tlearn: 0.2292790\ttest: 0.6262450\tbest: 0.6262450 (3700)\ttotal: 11m 15s\tremaining: 2h 20m 53s\n",
            "3800:\tlearn: 0.2237585\ttest: 0.6248469\tbest: 0.6248469 (3800)\ttotal: 11m 33s\tremaining: 2h 20m 29s\n",
            "3900:\tlearn: 0.2182493\ttest: 0.6231197\tbest: 0.6231197 (3900)\ttotal: 11m 51s\tremaining: 2h 20m 7s\n",
            "4000:\tlearn: 0.2128843\ttest: 0.6214952\tbest: 0.6214587 (3996)\ttotal: 12m 9s\tremaining: 2h 19m 43s\n",
            "4100:\tlearn: 0.2081281\ttest: 0.6202687\tbest: 0.6202687 (4100)\ttotal: 12m 26s\tremaining: 2h 19m 17s\n",
            "4200:\tlearn: 0.2032183\ttest: 0.6192724\tbest: 0.6192472 (4188)\ttotal: 12m 44s\tremaining: 2h 18m 55s\n",
            "4300:\tlearn: 0.1985868\ttest: 0.6178802\tbest: 0.6178369 (4297)\ttotal: 13m 2s\tremaining: 2h 18m 32s\n",
            "4400:\tlearn: 0.1940157\ttest: 0.6168506\tbest: 0.6167931 (4392)\ttotal: 13m 20s\tremaining: 2h 18m 9s\n",
            "4500:\tlearn: 0.1898434\ttest: 0.6158978\tbest: 0.6158863 (4497)\ttotal: 13m 37s\tremaining: 2h 17m 45s\n",
            "4600:\tlearn: 0.1855866\ttest: 0.6150018\tbest: 0.6150018 (4600)\ttotal: 13m 55s\tremaining: 2h 17m 21s\n",
            "4700:\tlearn: 0.1814734\ttest: 0.6134280\tbest: 0.6134280 (4700)\ttotal: 14m 12s\tremaining: 2h 16m 56s\n",
            "4800:\tlearn: 0.1772333\ttest: 0.6121288\tbest: 0.6121058 (4799)\ttotal: 14m 30s\tremaining: 2h 16m 37s\n",
            "4900:\tlearn: 0.1735339\ttest: 0.6110697\tbest: 0.6110646 (4898)\ttotal: 14m 48s\tremaining: 2h 16m 14s\n",
            "5000:\tlearn: 0.1698981\ttest: 0.6099295\tbest: 0.6099295 (5000)\ttotal: 15m 5s\tremaining: 2h 15m 51s\n",
            "5100:\tlearn: 0.1662373\ttest: 0.6089736\tbest: 0.6089629 (5099)\ttotal: 15m 23s\tremaining: 2h 15m 28s\n",
            "5200:\tlearn: 0.1628128\ttest: 0.6081008\tbest: 0.6081008 (5200)\ttotal: 15m 41s\tremaining: 2h 15m 5s\n",
            "5300:\tlearn: 0.1591122\ttest: 0.6073189\tbest: 0.6072760 (5296)\ttotal: 15m 58s\tremaining: 2h 14m 46s\n",
            "5400:\tlearn: 0.1558369\ttest: 0.6064462\tbest: 0.6064462 (5400)\ttotal: 16m 16s\tremaining: 2h 14m 25s\n",
            "5500:\tlearn: 0.1524490\ttest: 0.6058653\tbest: 0.6058653 (5500)\ttotal: 16m 34s\tremaining: 2h 14m 5s\n",
            "5600:\tlearn: 0.1491108\ttest: 0.6056707\tbest: 0.6055963 (5595)\ttotal: 16m 52s\tremaining: 2h 13m 44s\n",
            "5700:\tlearn: 0.1460908\ttest: 0.6049944\tbest: 0.6049620 (5697)\ttotal: 17m 10s\tremaining: 2h 13m 23s\n",
            "5800:\tlearn: 0.1429648\ttest: 0.6043935\tbest: 0.6043790 (5797)\ttotal: 17m 27s\tremaining: 2h 13m 4s\n",
            "5900:\tlearn: 0.1399038\ttest: 0.6034114\tbest: 0.6033881 (5899)\ttotal: 17m 45s\tremaining: 2h 12m 44s\n",
            "6000:\tlearn: 0.1368564\ttest: 0.6032324\tbest: 0.6031073 (5990)\ttotal: 18m 3s\tremaining: 2h 12m 26s\n",
            "6100:\tlearn: 0.1340585\ttest: 0.6023002\tbest: 0.6023002 (6100)\ttotal: 18m 21s\tremaining: 2h 12m 5s\n",
            "6200:\tlearn: 0.1312884\ttest: 0.6020588\tbest: 0.6020438 (6197)\ttotal: 18m 39s\tremaining: 2h 11m 44s\n",
            "6300:\tlearn: 0.1286659\ttest: 0.6013288\tbest: 0.6013288 (6300)\ttotal: 18m 56s\tremaining: 2h 11m 22s\n",
            "6400:\tlearn: 0.1258654\ttest: 0.6010722\tbest: 0.6010429 (6389)\ttotal: 19m 14s\tremaining: 2h 11m 4s\n",
            "6500:\tlearn: 0.1232821\ttest: 0.6006217\tbest: 0.6005367 (6496)\ttotal: 19m 32s\tremaining: 2h 10m 45s\n",
            "6600:\tlearn: 0.1208952\ttest: 0.6000982\tbest: 0.6000815 (6582)\ttotal: 19m 50s\tremaining: 2h 10m 24s\n",
            "6700:\tlearn: 0.1183797\ttest: 0.5996660\tbest: 0.5996660 (6700)\ttotal: 20m 8s\tremaining: 2h 10m 7s\n",
            "6800:\tlearn: 0.1160927\ttest: 0.5992615\tbest: 0.5992572 (6798)\ttotal: 20m 25s\tremaining: 2h 9m 45s\n",
            "6900:\tlearn: 0.1137700\ttest: 0.5986703\tbest: 0.5985703 (6887)\ttotal: 20m 43s\tremaining: 2h 9m 25s\n",
            "7000:\tlearn: 0.1115138\ttest: 0.5977280\tbest: 0.5977280 (7000)\ttotal: 21m 1s\tremaining: 2h 9m 6s\n",
            "7100:\tlearn: 0.1093044\ttest: 0.5975085\tbest: 0.5975085 (7100)\ttotal: 21m 19s\tremaining: 2h 8m 47s\n",
            "7200:\tlearn: 0.1072084\ttest: 0.5973130\tbest: 0.5973057 (7199)\ttotal: 21m 36s\tremaining: 2h 8m 27s\n",
            "7300:\tlearn: 0.1051663\ttest: 0.5966910\tbest: 0.5965967 (7273)\ttotal: 21m 54s\tremaining: 2h 8m 9s\n",
            "7400:\tlearn: 0.1029400\ttest: 0.5966800\tbest: 0.5965098 (7354)\ttotal: 22m 12s\tremaining: 2h 7m 51s\n",
            "bestTest = 0.5965097531\n",
            "bestIteration = 7354\n",
            "Shrink model to first 7355 iterations.\n",
            "Log Loss Fold 0 : 0.5965098489059177\n",
            "\n",
            "######### FOLD 2 / 10 \n",
            "0:\tlearn: 1.9648875\ttest: 1.9642887\tbest: 1.9642887 (0)\ttotal: 359ms\tremaining: 4h 58m 55s\n",
            "100:\tlearn: 0.9088235\ttest: 0.9419464\tbest: 0.9419464 (100)\ttotal: 21.9s\tremaining: 3h 30s\n",
            "200:\tlearn: 0.8072907\ttest: 0.8689955\tbest: 0.8689955 (200)\ttotal: 41.6s\tremaining: 2h 51m 56s\n",
            "300:\tlearn: 0.7425828\ttest: 0.8282204\tbest: 0.8282204 (300)\ttotal: 1m 1s\tremaining: 2h 47m 52s\n",
            "400:\tlearn: 0.6952976\ttest: 0.8012324\tbest: 0.8012324 (400)\ttotal: 1m 20s\tremaining: 2h 44m 59s\n",
            "500:\tlearn: 0.6560992\ttest: 0.7800985\tbest: 0.7800985 (500)\ttotal: 1m 38s\tremaining: 2h 42m 45s\n",
            "600:\tlearn: 0.6220107\ttest: 0.7643101\tbest: 0.7643101 (600)\ttotal: 1m 57s\tremaining: 2h 41m\n",
            "700:\tlearn: 0.5926666\ttest: 0.7504947\tbest: 0.7504947 (700)\ttotal: 2m 16s\tremaining: 2h 39m 34s\n",
            "800:\tlearn: 0.5664737\ttest: 0.7384310\tbest: 0.7384310 (800)\ttotal: 2m 34s\tremaining: 2h 38m 2s\n",
            "900:\tlearn: 0.5418938\ttest: 0.7283280\tbest: 0.7283280 (900)\ttotal: 2m 52s\tremaining: 2h 37m 4s\n",
            "1000:\tlearn: 0.5198951\ttest: 0.7193009\tbest: 0.7193009 (1000)\ttotal: 3m 11s\tremaining: 2h 36m 4s\n",
            "1100:\tlearn: 0.4991324\ttest: 0.7110022\tbest: 0.7110022 (1100)\ttotal: 3m 29s\tremaining: 2h 35m 13s\n",
            "1200:\tlearn: 0.4805824\ttest: 0.7037083\tbest: 0.7037083 (1200)\ttotal: 3m 47s\tremaining: 2h 34m 20s\n",
            "1300:\tlearn: 0.4627978\ttest: 0.6965154\tbest: 0.6965154 (1300)\ttotal: 4m 5s\tremaining: 2h 33m 26s\n",
            "1400:\tlearn: 0.4462882\ttest: 0.6908869\tbest: 0.6908869 (1400)\ttotal: 4m 24s\tremaining: 2h 32m 47s\n",
            "1500:\tlearn: 0.4301986\ttest: 0.6849966\tbest: 0.6849823 (1499)\ttotal: 4m 42s\tremaining: 2h 32m 5s\n",
            "1600:\tlearn: 0.4164423\ttest: 0.6795900\tbest: 0.6795900 (1600)\ttotal: 5m\tremaining: 2h 31m 19s\n",
            "1700:\tlearn: 0.4027883\ttest: 0.6745853\tbest: 0.6745853 (1700)\ttotal: 5m 18s\tremaining: 2h 30m 40s\n",
            "1800:\tlearn: 0.3900221\ttest: 0.6701277\tbest: 0.6701277 (1800)\ttotal: 5m 36s\tremaining: 2h 30m\n",
            "1900:\tlearn: 0.3775374\ttest: 0.6658127\tbest: 0.6658127 (1900)\ttotal: 5m 54s\tremaining: 2h 29m 21s\n",
            "2000:\tlearn: 0.3658972\ttest: 0.6612943\tbest: 0.6612943 (2000)\ttotal: 6m 12s\tremaining: 2h 28m 50s\n",
            "2100:\tlearn: 0.3548070\ttest: 0.6575427\tbest: 0.6575427 (2100)\ttotal: 6m 30s\tremaining: 2h 28m 19s\n",
            "2200:\tlearn: 0.3440466\ttest: 0.6541915\tbest: 0.6541915 (2200)\ttotal: 6m 48s\tremaining: 2h 27m 46s\n",
            "2300:\tlearn: 0.3344146\ttest: 0.6504647\tbest: 0.6504647 (2300)\ttotal: 7m 6s\tremaining: 2h 27m 11s\n",
            "2400:\tlearn: 0.3252115\ttest: 0.6477297\tbest: 0.6477297 (2400)\ttotal: 7m 23s\tremaining: 2h 26m 39s\n",
            "2500:\tlearn: 0.3158762\ttest: 0.6445492\tbest: 0.6445492 (2500)\ttotal: 7m 41s\tremaining: 2h 26m 12s\n",
            "2600:\tlearn: 0.3069850\ttest: 0.6418541\tbest: 0.6418541 (2600)\ttotal: 7m 59s\tremaining: 2h 25m 41s\n",
            "2700:\tlearn: 0.2986900\ttest: 0.6393728\tbest: 0.6393352 (2696)\ttotal: 8m 17s\tremaining: 2h 25m 14s\n",
            "2800:\tlearn: 0.2901817\ttest: 0.6368117\tbest: 0.6368117 (2800)\ttotal: 8m 35s\tremaining: 2h 24m 49s\n",
            "2900:\tlearn: 0.2827870\ttest: 0.6346106\tbest: 0.6346106 (2900)\ttotal: 8m 53s\tremaining: 2h 24m 15s\n",
            "3000:\tlearn: 0.2753565\ttest: 0.6326485\tbest: 0.6326485 (3000)\ttotal: 9m 10s\tremaining: 2h 23m 48s\n",
            "3100:\tlearn: 0.2683836\ttest: 0.6309214\tbest: 0.6309195 (3099)\ttotal: 9m 28s\tremaining: 2h 23m 19s\n",
            "3200:\tlearn: 0.2614505\ttest: 0.6288787\tbest: 0.6288787 (3200)\ttotal: 9m 46s\tremaining: 2h 22m 52s\n",
            "3300:\tlearn: 0.2547467\ttest: 0.6268857\tbest: 0.6268369 (3298)\ttotal: 10m 4s\tremaining: 2h 22m 27s\n",
            "3400:\tlearn: 0.2478127\ttest: 0.6248330\tbest: 0.6248330 (3400)\ttotal: 10m 22s\tremaining: 2h 22m 6s\n",
            "3500:\tlearn: 0.2418912\ttest: 0.6233403\tbest: 0.6233403 (3500)\ttotal: 10m 39s\tremaining: 2h 21m 39s\n",
            "3600:\tlearn: 0.2355423\ttest: 0.6213364\tbest: 0.6213364 (3600)\ttotal: 10m 57s\tremaining: 2h 21m 17s\n",
            "3700:\tlearn: 0.2297822\ttest: 0.6197139\tbest: 0.6197139 (3700)\ttotal: 11m 15s\tremaining: 2h 20m 55s\n",
            "3800:\tlearn: 0.2245587\ttest: 0.6184968\tbest: 0.6184968 (3800)\ttotal: 11m 33s\tremaining: 2h 20m 27s\n",
            "3900:\tlearn: 0.2191006\ttest: 0.6166642\tbest: 0.6166455 (3898)\ttotal: 11m 51s\tremaining: 2h 20m 2s\n",
            "4000:\tlearn: 0.2138353\ttest: 0.6152410\tbest: 0.6152410 (4000)\ttotal: 12m 8s\tremaining: 2h 19m 38s\n",
            "4100:\tlearn: 0.2085575\ttest: 0.6139963\tbest: 0.6139963 (4100)\ttotal: 12m 26s\tremaining: 2h 19m 16s\n",
            "4200:\tlearn: 0.2032603\ttest: 0.6125623\tbest: 0.6125568 (4198)\ttotal: 12m 44s\tremaining: 2h 18m 55s\n",
            "4300:\tlearn: 0.1986165\ttest: 0.6112938\tbest: 0.6112750 (4297)\ttotal: 13m 2s\tremaining: 2h 18m 30s\n",
            "4400:\tlearn: 0.1936999\ttest: 0.6100132\tbest: 0.6100132 (4400)\ttotal: 13m 20s\tremaining: 2h 18m 12s\n",
            "4500:\tlearn: 0.1892361\ttest: 0.6090346\tbest: 0.6090346 (4500)\ttotal: 13m 38s\tremaining: 2h 17m 50s\n",
            "4600:\tlearn: 0.1847927\ttest: 0.6074516\tbest: 0.6074488 (4599)\ttotal: 13m 56s\tremaining: 2h 17m 29s\n",
            "4700:\tlearn: 0.1804140\ttest: 0.6063879\tbest: 0.6063797 (4693)\ttotal: 14m 13s\tremaining: 2h 17m 9s\n",
            "4800:\tlearn: 0.1762171\ttest: 0.6050871\tbest: 0.6050871 (4800)\ttotal: 14m 32s\tremaining: 2h 16m 49s\n",
            "4900:\tlearn: 0.1723979\ttest: 0.6036472\tbest: 0.6036228 (4898)\ttotal: 14m 49s\tremaining: 2h 16m 26s\n",
            "5000:\tlearn: 0.1686839\ttest: 0.6026244\tbest: 0.6026244 (5000)\ttotal: 15m 7s\tremaining: 2h 16m 3s\n",
            "5100:\tlearn: 0.1651719\ttest: 0.6018426\tbest: 0.6018309 (5097)\ttotal: 15m 24s\tremaining: 2h 15m 40s\n",
            "5200:\tlearn: 0.1615608\ttest: 0.6011026\tbest: 0.6010891 (5199)\ttotal: 15m 42s\tremaining: 2h 15m 19s\n",
            "5300:\tlearn: 0.1580742\ttest: 0.6000145\tbest: 0.6000145 (5300)\ttotal: 16m\tremaining: 2h 15m\n",
            "5400:\tlearn: 0.1544380\ttest: 0.5991597\tbest: 0.5991553 (5396)\ttotal: 16m 18s\tremaining: 2h 14m 41s\n",
            "5500:\tlearn: 0.1511442\ttest: 0.5983361\tbest: 0.5983272 (5499)\ttotal: 16m 36s\tremaining: 2h 14m 20s\n",
            "5600:\tlearn: 0.1477081\ttest: 0.5976010\tbest: 0.5975672 (5593)\ttotal: 16m 54s\tremaining: 2h 14m 1s\n",
            "5700:\tlearn: 0.1445999\ttest: 0.5968525\tbest: 0.5968525 (5700)\ttotal: 17m 12s\tremaining: 2h 13m 40s\n",
            "5800:\tlearn: 0.1416563\ttest: 0.5962979\tbest: 0.5962958 (5796)\ttotal: 17m 30s\tremaining: 2h 13m 21s\n",
            "5900:\tlearn: 0.1387575\ttest: 0.5956882\tbest: 0.5956222 (5898)\ttotal: 17m 48s\tremaining: 2h 13m 3s\n",
            "6000:\tlearn: 0.1359262\ttest: 0.5946491\tbest: 0.5946309 (5998)\ttotal: 18m 5s\tremaining: 2h 12m 42s\n",
            "6100:\tlearn: 0.1330560\ttest: 0.5943633\tbest: 0.5941396 (6057)\ttotal: 18m 23s\tremaining: 2h 12m 22s\n",
            "6200:\tlearn: 0.1301840\ttest: 0.5939447\tbest: 0.5938851 (6189)\ttotal: 18m 41s\tremaining: 2h 12m 4s\n",
            "6300:\tlearn: 0.1275015\ttest: 0.5933690\tbest: 0.5933690 (6300)\ttotal: 18m 59s\tremaining: 2h 11m 42s\n",
            "6400:\tlearn: 0.1248623\ttest: 0.5928321\tbest: 0.5927900 (6392)\ttotal: 19m 17s\tremaining: 2h 11m 25s\n",
            "6500:\tlearn: 0.1223086\ttest: 0.5922886\tbest: 0.5922336 (6493)\ttotal: 19m 35s\tremaining: 2h 11m 5s\n",
            "6600:\tlearn: 0.1197704\ttest: 0.5918386\tbest: 0.5918168 (6599)\ttotal: 19m 53s\tremaining: 2h 10m 46s\n",
            "6700:\tlearn: 0.1173058\ttest: 0.5915155\tbest: 0.5914749 (6681)\ttotal: 20m 11s\tremaining: 2h 10m 27s\n",
            "6800:\tlearn: 0.1148297\ttest: 0.5911391\tbest: 0.5911047 (6761)\ttotal: 20m 29s\tremaining: 2h 10m 9s\n",
            "6900:\tlearn: 0.1125830\ttest: 0.5906999\tbest: 0.5906702 (6895)\ttotal: 20m 47s\tremaining: 2h 9m 49s\n",
            "7000:\tlearn: 0.1103430\ttest: 0.5904954\tbest: 0.5904253 (6983)\ttotal: 21m 5s\tremaining: 2h 9m 31s\n",
            "7100:\tlearn: 0.1081539\ttest: 0.5899900\tbest: 0.5899864 (7098)\ttotal: 21m 22s\tremaining: 2h 9m 10s\n",
            "7200:\tlearn: 0.1058835\ttest: 0.5895922\tbest: 0.5895474 (7182)\ttotal: 21m 40s\tremaining: 2h 8m 52s\n",
            "7300:\tlearn: 0.1037931\ttest: 0.5888912\tbest: 0.5888881 (7298)\ttotal: 21m 58s\tremaining: 2h 8m 31s\n",
            "7400:\tlearn: 0.1019081\ttest: 0.5884654\tbest: 0.5884521 (7393)\ttotal: 22m 16s\tremaining: 2h 8m 11s\n",
            "7500:\tlearn: 0.0998545\ttest: 0.5880048\tbest: 0.5880048 (7500)\ttotal: 22m 34s\tremaining: 2h 7m 52s\n",
            "7600:\tlearn: 0.0979053\ttest: 0.5877633\tbest: 0.5877550 (7595)\ttotal: 22m 52s\tremaining: 2h 7m 33s\n",
            "7700:\tlearn: 0.0959392\ttest: 0.5872908\tbest: 0.5872725 (7699)\ttotal: 23m 9s\tremaining: 2h 7m 14s\n",
            "7800:\tlearn: 0.0939353\ttest: 0.5871185\tbest: 0.5870994 (7799)\ttotal: 23m 28s\tremaining: 2h 6m 57s\n",
            "7900:\tlearn: 0.0920737\ttest: 0.5867460\tbest: 0.5865854 (7876)\ttotal: 23m 46s\tremaining: 2h 6m 40s\n",
            "8000:\tlearn: 0.0902760\ttest: 0.5861722\tbest: 0.5861349 (7996)\ttotal: 24m 4s\tremaining: 2h 6m 21s\n",
            "8100:\tlearn: 0.0884892\ttest: 0.5856524\tbest: 0.5856403 (8094)\ttotal: 24m 22s\tremaining: 2h 6m 3s\n",
            "8200:\tlearn: 0.0866970\ttest: 0.5855695\tbest: 0.5854779 (8125)\ttotal: 24m 40s\tremaining: 2h 5m 46s\n",
            "bestTest = 0.5854779148\n",
            "bestIteration = 8125\n",
            "Shrink model to first 8126 iterations.\n",
            "Log Loss Fold 1 : 0.5854780120444556\n",
            "\n",
            "######### FOLD 3 / 10 \n",
            "0:\tlearn: 1.9653570\ttest: 1.9619123\tbest: 1.9619123 (0)\ttotal: 312ms\tremaining: 4h 20m 21s\n",
            "100:\tlearn: 0.9083559\ttest: 0.9287450\tbest: 0.9287450 (100)\ttotal: 22s\tremaining: 3h 1m 30s\n",
            "200:\tlearn: 0.8091244\ttest: 0.8581013\tbest: 0.8581013 (200)\ttotal: 41.7s\tremaining: 2h 52m 17s\n",
            "300:\tlearn: 0.7448977\ttest: 0.8185429\tbest: 0.8185429 (300)\ttotal: 1m 1s\tremaining: 2h 47m 57s\n",
            "400:\tlearn: 0.6958293\ttest: 0.7906436\tbest: 0.7906436 (400)\ttotal: 1m 20s\tremaining: 2h 45m 41s\n",
            "500:\tlearn: 0.6566872\ttest: 0.7709814\tbest: 0.7709814 (500)\ttotal: 1m 39s\tremaining: 2h 43m 14s\n",
            "600:\tlearn: 0.6237773\ttest: 0.7539964\tbest: 0.7539964 (600)\ttotal: 1m 57s\tremaining: 2h 41m 22s\n",
            "700:\tlearn: 0.5940804\ttest: 0.7409731\tbest: 0.7409731 (700)\ttotal: 2m 16s\tremaining: 2h 40m 1s\n",
            "800:\tlearn: 0.5674991\ttest: 0.7288699\tbest: 0.7288699 (800)\ttotal: 2m 35s\tremaining: 2h 38m 57s\n",
            "900:\tlearn: 0.5421300\ttest: 0.7184116\tbest: 0.7184116 (900)\ttotal: 2m 54s\tremaining: 2h 38m 7s\n",
            "1000:\tlearn: 0.5204164\ttest: 0.7088393\tbest: 0.7088393 (1000)\ttotal: 3m 12s\tremaining: 2h 36m 57s\n",
            "1100:\tlearn: 0.5000760\ttest: 0.7013819\tbest: 0.7013819 (1100)\ttotal: 3m 30s\tremaining: 2h 35m 55s\n",
            "1200:\tlearn: 0.4819503\ttest: 0.6944426\tbest: 0.6944202 (1199)\ttotal: 3m 48s\tremaining: 2h 34m 47s\n",
            "1300:\tlearn: 0.4646512\ttest: 0.6874806\tbest: 0.6874806 (1300)\ttotal: 4m 6s\tremaining: 2h 33m 53s\n",
            "1400:\tlearn: 0.4476689\ttest: 0.6817003\tbest: 0.6817003 (1400)\ttotal: 4m 24s\tremaining: 2h 33m 12s\n",
            "1500:\tlearn: 0.4322033\ttest: 0.6754538\tbest: 0.6754538 (1500)\ttotal: 4m 43s\tremaining: 2h 32m 31s\n",
            "1600:\tlearn: 0.4175062\ttest: 0.6703982\tbest: 0.6703942 (1598)\ttotal: 5m 1s\tremaining: 2h 31m 44s\n",
            "1700:\tlearn: 0.4036695\ttest: 0.6656390\tbest: 0.6656390 (1700)\ttotal: 5m 19s\tremaining: 2h 31m 2s\n",
            "1800:\tlearn: 0.3906629\ttest: 0.6610824\tbest: 0.6610824 (1800)\ttotal: 5m 37s\tremaining: 2h 30m 19s\n",
            "1900:\tlearn: 0.3785738\ttest: 0.6567354\tbest: 0.6567354 (1900)\ttotal: 5m 54s\tremaining: 2h 29m 41s\n",
            "2000:\tlearn: 0.3677640\ttest: 0.6530204\tbest: 0.6529928 (1998)\ttotal: 6m 12s\tremaining: 2h 28m 58s\n",
            "2100:\tlearn: 0.3571255\ttest: 0.6494559\tbest: 0.6494559 (2100)\ttotal: 6m 30s\tremaining: 2h 28m 18s\n",
            "2200:\tlearn: 0.3466385\ttest: 0.6461858\tbest: 0.6461858 (2200)\ttotal: 6m 48s\tremaining: 2h 27m 46s\n",
            "2300:\tlearn: 0.3369043\ttest: 0.6428691\tbest: 0.6428691 (2300)\ttotal: 7m 5s\tremaining: 2h 27m 8s\n",
            "2400:\tlearn: 0.3276080\ttest: 0.6398613\tbest: 0.6398613 (2400)\ttotal: 7m 23s\tremaining: 2h 26m 35s\n",
            "2500:\tlearn: 0.3181391\ttest: 0.6363390\tbest: 0.6363390 (2500)\ttotal: 7m 41s\tremaining: 2h 26m 5s\n",
            "2600:\tlearn: 0.3091458\ttest: 0.6332873\tbest: 0.6332873 (2600)\ttotal: 7m 59s\tremaining: 2h 25m 37s\n",
            "2700:\tlearn: 0.3003324\ttest: 0.6306950\tbest: 0.6306950 (2700)\ttotal: 8m 17s\tremaining: 2h 25m 10s\n",
            "2800:\tlearn: 0.2926289\ttest: 0.6285054\tbest: 0.6285054 (2800)\ttotal: 8m 34s\tremaining: 2h 24m 37s\n",
            "2900:\tlearn: 0.2852804\ttest: 0.6261302\tbest: 0.6261302 (2900)\ttotal: 8m 52s\tremaining: 2h 24m 5s\n",
            "3000:\tlearn: 0.2773996\ttest: 0.6234979\tbest: 0.6234564 (2994)\ttotal: 9m 10s\tremaining: 2h 23m 36s\n",
            "3100:\tlearn: 0.2704416\ttest: 0.6216003\tbest: 0.6216003 (3100)\ttotal: 9m 27s\tremaining: 2h 23m 5s\n",
            "3200:\tlearn: 0.2635391\ttest: 0.6199397\tbest: 0.6199397 (3200)\ttotal: 9m 45s\tremaining: 2h 22m 38s\n",
            "3300:\tlearn: 0.2566519\ttest: 0.6176984\tbest: 0.6176984 (3300)\ttotal: 10m 3s\tremaining: 2h 22m 14s\n",
            "3400:\tlearn: 0.2503385\ttest: 0.6158984\tbest: 0.6158984 (3400)\ttotal: 10m 21s\tremaining: 2h 21m 48s\n",
            "3500:\tlearn: 0.2444526\ttest: 0.6141272\tbest: 0.6141272 (3500)\ttotal: 10m 38s\tremaining: 2h 21m 20s\n",
            "3600:\tlearn: 0.2383027\ttest: 0.6122870\tbest: 0.6122870 (3600)\ttotal: 10m 56s\tremaining: 2h 20m 59s\n",
            "3700:\tlearn: 0.2327681\ttest: 0.6106697\tbest: 0.6106697 (3700)\ttotal: 11m 14s\tremaining: 2h 20m 32s\n",
            "3800:\tlearn: 0.2269357\ttest: 0.6091339\tbest: 0.6091032 (3797)\ttotal: 11m 31s\tremaining: 2h 20m 9s\n",
            "3900:\tlearn: 0.2213393\ttest: 0.6072651\tbest: 0.6072629 (3899)\ttotal: 11m 49s\tremaining: 2h 19m 46s\n",
            "4000:\tlearn: 0.2160013\ttest: 0.6056862\tbest: 0.6056862 (4000)\ttotal: 12m 7s\tremaining: 2h 19m 22s\n",
            "4100:\tlearn: 0.2110055\ttest: 0.6039349\tbest: 0.6039236 (4099)\ttotal: 12m 25s\tremaining: 2h 19m 1s\n",
            "4200:\tlearn: 0.2060100\ttest: 0.6022734\tbest: 0.6022734 (4200)\ttotal: 12m 42s\tremaining: 2h 18m 36s\n",
            "4300:\tlearn: 0.2008305\ttest: 0.6006902\tbest: 0.6006902 (4300)\ttotal: 13m 1s\tremaining: 2h 18m 19s\n",
            "4400:\tlearn: 0.1960455\ttest: 0.5994953\tbest: 0.5994844 (4394)\ttotal: 13m 18s\tremaining: 2h 17m 57s\n",
            "4500:\tlearn: 0.1914619\ttest: 0.5980591\tbest: 0.5980591 (4500)\ttotal: 13m 36s\tremaining: 2h 17m 34s\n",
            "4600:\tlearn: 0.1868801\ttest: 0.5968333\tbest: 0.5967559 (4590)\ttotal: 13m 54s\tremaining: 2h 17m 15s\n",
            "4700:\tlearn: 0.1825617\ttest: 0.5950911\tbest: 0.5950911 (4700)\ttotal: 14m 12s\tremaining: 2h 16m 53s\n",
            "4800:\tlearn: 0.1784325\ttest: 0.5939749\tbest: 0.5939749 (4800)\ttotal: 14m 29s\tremaining: 2h 16m 30s\n",
            "4900:\tlearn: 0.1743244\ttest: 0.5930829\tbest: 0.5930829 (4900)\ttotal: 14m 47s\tremaining: 2h 16m 10s\n",
            "5000:\tlearn: 0.1705859\ttest: 0.5925694\tbest: 0.5925694 (5000)\ttotal: 15m 5s\tremaining: 2h 15m 47s\n",
            "5100:\tlearn: 0.1669221\ttest: 0.5921091\tbest: 0.5921065 (5099)\ttotal: 15m 22s\tremaining: 2h 15m 24s\n",
            "5200:\tlearn: 0.1630253\ttest: 0.5908980\tbest: 0.5908980 (5200)\ttotal: 15m 40s\tremaining: 2h 15m 3s\n",
            "5300:\tlearn: 0.1596818\ttest: 0.5902632\tbest: 0.5902632 (5300)\ttotal: 15m 58s\tremaining: 2h 14m 40s\n",
            "5400:\tlearn: 0.1560790\ttest: 0.5893272\tbest: 0.5893193 (5397)\ttotal: 16m 16s\tremaining: 2h 14m 21s\n",
            "5500:\tlearn: 0.1527778\ttest: 0.5889043\tbest: 0.5888979 (5497)\ttotal: 16m 33s\tremaining: 2h 13m 59s\n",
            "5600:\tlearn: 0.1497196\ttest: 0.5883536\tbest: 0.5883536 (5600)\ttotal: 16m 51s\tremaining: 2h 13m 38s\n",
            "5700:\tlearn: 0.1464435\ttest: 0.5875703\tbest: 0.5875703 (5700)\ttotal: 17m 9s\tremaining: 2h 13m 18s\n",
            "5800:\tlearn: 0.1433053\ttest: 0.5869259\tbest: 0.5868965 (5793)\ttotal: 17m 27s\tremaining: 2h 12m 59s\n",
            "5900:\tlearn: 0.1401339\ttest: 0.5860433\tbest: 0.5860358 (5899)\ttotal: 17m 45s\tremaining: 2h 12m 40s\n",
            "6000:\tlearn: 0.1372407\ttest: 0.5856374\tbest: 0.5855601 (5994)\ttotal: 18m 2s\tremaining: 2h 12m 19s\n",
            "6100:\tlearn: 0.1343199\ttest: 0.5851353\tbest: 0.5851152 (6079)\ttotal: 18m 20s\tremaining: 2h 12m 1s\n",
            "6200:\tlearn: 0.1316304\ttest: 0.5845022\tbest: 0.5844875 (6194)\ttotal: 18m 38s\tremaining: 2h 11m 40s\n",
            "6300:\tlearn: 0.1289074\ttest: 0.5841703\tbest: 0.5841352 (6255)\ttotal: 18m 56s\tremaining: 2h 11m 19s\n",
            "6400:\tlearn: 0.1263213\ttest: 0.5832894\tbest: 0.5832588 (6398)\ttotal: 19m 13s\tremaining: 2h 10m 59s\n",
            "6500:\tlearn: 0.1236928\ttest: 0.5825101\tbest: 0.5825101 (6500)\ttotal: 19m 31s\tremaining: 2h 10m 40s\n",
            "6600:\tlearn: 0.1211183\ttest: 0.5821246\tbest: 0.5820682 (6595)\ttotal: 19m 49s\tremaining: 2h 10m 21s\n",
            "6700:\tlearn: 0.1186964\ttest: 0.5814217\tbest: 0.5814217 (6700)\ttotal: 20m 7s\tremaining: 2h 10m 2s\n",
            "6800:\tlearn: 0.1161154\ttest: 0.5810040\tbest: 0.5809495 (6794)\ttotal: 20m 25s\tremaining: 2h 9m 45s\n",
            "6900:\tlearn: 0.1136264\ttest: 0.5803094\tbest: 0.5802930 (6897)\ttotal: 20m 43s\tremaining: 2h 9m 26s\n",
            "7000:\tlearn: 0.1113171\ttest: 0.5797596\tbest: 0.5797596 (7000)\ttotal: 21m 1s\tremaining: 2h 9m 8s\n",
            "7100:\tlearn: 0.1091619\ttest: 0.5796341\tbest: 0.5796124 (7096)\ttotal: 21m 19s\tremaining: 2h 8m 49s\n",
            "7200:\tlearn: 0.1070084\ttest: 0.5794110\tbest: 0.5794110 (7200)\ttotal: 21m 37s\tremaining: 2h 8m 32s\n",
            "7300:\tlearn: 0.1048805\ttest: 0.5792560\tbest: 0.5791954 (7290)\ttotal: 21m 55s\tremaining: 2h 8m 13s\n",
            "7400:\tlearn: 0.1028236\ttest: 0.5790878\tbest: 0.5790878 (7400)\ttotal: 22m 13s\tremaining: 2h 7m 55s\n",
            "7500:\tlearn: 0.1007145\ttest: 0.5783016\tbest: 0.5782851 (7499)\ttotal: 22m 31s\tremaining: 2h 7m 38s\n",
            "7600:\tlearn: 0.0986876\ttest: 0.5779925\tbest: 0.5779761 (7579)\ttotal: 22m 49s\tremaining: 2h 7m 19s\n",
            "7700:\tlearn: 0.0966365\ttest: 0.5776819\tbest: 0.5776265 (7686)\ttotal: 23m 7s\tremaining: 2h 7m 3s\n",
            "7800:\tlearn: 0.0945959\ttest: 0.5777198\tbest: 0.5775884 (7710)\ttotal: 23m 26s\tremaining: 2h 6m 47s\n",
            "bestTest = 0.5775883502\n",
            "bestIteration = 7710\n",
            "Shrink model to first 7711 iterations.\n",
            "Log Loss Fold 2 : 0.577588351281047\n",
            "\n",
            "######### FOLD 4 / 10 \n",
            "0:\tlearn: 1.9643552\ttest: 1.9667395\tbest: 1.9667395 (0)\ttotal: 333ms\tremaining: 4h 37m 44s\n",
            "100:\tlearn: 0.9074950\ttest: 0.9440145\tbest: 0.9440145 (100)\ttotal: 21.9s\tremaining: 3h 21s\n",
            "200:\tlearn: 0.8047843\ttest: 0.8719198\tbest: 0.8719198 (200)\ttotal: 41.8s\tremaining: 2h 52m 31s\n",
            "300:\tlearn: 0.7403100\ttest: 0.8309375\tbest: 0.8309375 (300)\ttotal: 1m 1s\tremaining: 2h 48m 53s\n",
            "400:\tlearn: 0.6937072\ttest: 0.8056476\tbest: 0.8056476 (400)\ttotal: 1m 20s\tremaining: 2h 45m 24s\n",
            "500:\tlearn: 0.6539010\ttest: 0.7840675\tbest: 0.7840675 (500)\ttotal: 1m 39s\tremaining: 2h 43m 2s\n",
            "600:\tlearn: 0.6197785\ttest: 0.7682119\tbest: 0.7682119 (600)\ttotal: 1m 57s\tremaining: 2h 41m 19s\n",
            "700:\tlearn: 0.5899479\ttest: 0.7546393\tbest: 0.7546393 (700)\ttotal: 2m 16s\tremaining: 2h 39m 51s\n",
            "800:\tlearn: 0.5632885\ttest: 0.7436877\tbest: 0.7436877 (800)\ttotal: 2m 35s\tremaining: 2h 38m 40s\n",
            "900:\tlearn: 0.5403007\ttest: 0.7330962\tbest: 0.7330962 (900)\ttotal: 2m 53s\tremaining: 2h 37m 10s\n",
            "1000:\tlearn: 0.5186834\ttest: 0.7242524\tbest: 0.7242524 (1000)\ttotal: 3m 11s\tremaining: 2h 36m 8s\n",
            "1100:\tlearn: 0.4988622\ttest: 0.7169170\tbest: 0.7169170 (1100)\ttotal: 3m 29s\tremaining: 2h 35m 12s\n",
            "1200:\tlearn: 0.4793187\ttest: 0.7093154\tbest: 0.7093154 (1200)\ttotal: 3m 48s\tremaining: 2h 34m 27s\n",
            "1300:\tlearn: 0.4623711\ttest: 0.7029639\tbest: 0.7029639 (1300)\ttotal: 4m 6s\tremaining: 2h 33m 29s\n",
            "1400:\tlearn: 0.4460557\ttest: 0.6964904\tbest: 0.6964904 (1400)\ttotal: 4m 24s\tremaining: 2h 32m 39s\n",
            "1500:\tlearn: 0.4305788\ttest: 0.6906163\tbest: 0.6906163 (1500)\ttotal: 4m 42s\tremaining: 2h 31m 54s\n",
            "1600:\tlearn: 0.4172110\ttest: 0.6860274\tbest: 0.6860274 (1600)\ttotal: 4m 59s\tremaining: 2h 31m 7s\n",
            "1700:\tlearn: 0.4034192\ttest: 0.6815763\tbest: 0.6815586 (1699)\ttotal: 5m 18s\tremaining: 2h 30m 36s\n",
            "1800:\tlearn: 0.3905363\ttest: 0.6772836\tbest: 0.6772836 (1800)\ttotal: 5m 36s\tremaining: 2h 29m 58s\n",
            "1900:\tlearn: 0.3776653\ttest: 0.6729027\tbest: 0.6729027 (1900)\ttotal: 5m 54s\tremaining: 2h 29m 23s\n",
            "2000:\tlearn: 0.3657519\ttest: 0.6683758\tbest: 0.6683758 (2000)\ttotal: 6m 12s\tremaining: 2h 28m 48s\n",
            "2100:\tlearn: 0.3547694\ttest: 0.6641862\tbest: 0.6641688 (2097)\ttotal: 6m 30s\tremaining: 2h 28m 11s\n",
            "2200:\tlearn: 0.3443054\ttest: 0.6611435\tbest: 0.6611382 (2199)\ttotal: 6m 47s\tremaining: 2h 27m 39s\n",
            "2300:\tlearn: 0.3348071\ttest: 0.6582688\tbest: 0.6582317 (2299)\ttotal: 7m 5s\tremaining: 2h 26m 58s\n",
            "2400:\tlearn: 0.3251013\ttest: 0.6555712\tbest: 0.6555712 (2400)\ttotal: 7m 23s\tremaining: 2h 26m 29s\n",
            "2500:\tlearn: 0.3158050\ttest: 0.6530858\tbest: 0.6529839 (2496)\ttotal: 7m 41s\tremaining: 2h 26m 1s\n",
            "2600:\tlearn: 0.3071268\ttest: 0.6498361\tbest: 0.6498361 (2600)\ttotal: 7m 59s\tremaining: 2h 25m 30s\n",
            "2700:\tlearn: 0.2989876\ttest: 0.6474651\tbest: 0.6474651 (2700)\ttotal: 8m 16s\tremaining: 2h 24m 56s\n",
            "2800:\tlearn: 0.2910150\ttest: 0.6452443\tbest: 0.6452443 (2800)\ttotal: 8m 34s\tremaining: 2h 24m 26s\n",
            "2900:\tlearn: 0.2831297\ttest: 0.6426338\tbest: 0.6426129 (2899)\ttotal: 8m 51s\tremaining: 2h 23m 56s\n",
            "3000:\tlearn: 0.2758623\ttest: 0.6407059\tbest: 0.6407059 (3000)\ttotal: 9m 9s\tremaining: 2h 23m 25s\n",
            "3100:\tlearn: 0.2686970\ttest: 0.6384341\tbest: 0.6384341 (3100)\ttotal: 9m 27s\tremaining: 2h 22m 59s\n",
            "3200:\tlearn: 0.2620523\ttest: 0.6366775\tbest: 0.6366423 (3197)\ttotal: 9m 44s\tremaining: 2h 22m 30s\n",
            "3300:\tlearn: 0.2551232\ttest: 0.6345331\tbest: 0.6344888 (3299)\ttotal: 10m 2s\tremaining: 2h 22m 5s\n",
            "3400:\tlearn: 0.2482886\ttest: 0.6324725\tbest: 0.6324553 (3390)\ttotal: 10m 20s\tremaining: 2h 21m 43s\n",
            "3500:\tlearn: 0.2416874\ttest: 0.6305022\tbest: 0.6305022 (3500)\ttotal: 10m 38s\tremaining: 2h 21m 20s\n",
            "3600:\tlearn: 0.2359077\ttest: 0.6286079\tbest: 0.6286026 (3597)\ttotal: 10m 56s\tremaining: 2h 20m 55s\n",
            "3700:\tlearn: 0.2300784\ttest: 0.6270432\tbest: 0.6269808 (3697)\ttotal: 11m 13s\tremaining: 2h 20m 29s\n",
            "3800:\tlearn: 0.2245929\ttest: 0.6253305\tbest: 0.6253305 (3800)\ttotal: 11m 31s\tremaining: 2h 20m 5s\n",
            "3900:\tlearn: 0.2192413\ttest: 0.6238444\tbest: 0.6238444 (3900)\ttotal: 11m 49s\tremaining: 2h 19m 43s\n",
            "4000:\tlearn: 0.2139634\ttest: 0.6221205\tbest: 0.6221205 (4000)\ttotal: 12m 7s\tremaining: 2h 19m 21s\n",
            "4100:\tlearn: 0.2088184\ttest: 0.6204666\tbest: 0.6204666 (4100)\ttotal: 12m 25s\tremaining: 2h 19m\n",
            "4200:\tlearn: 0.2037824\ttest: 0.6192974\tbest: 0.6192974 (4200)\ttotal: 12m 43s\tremaining: 2h 18m 38s\n",
            "4300:\tlearn: 0.1989664\ttest: 0.6179617\tbest: 0.6179330 (4299)\ttotal: 13m\tremaining: 2h 18m 16s\n",
            "4400:\tlearn: 0.1945028\ttest: 0.6166462\tbest: 0.6166462 (4400)\ttotal: 13m 18s\tremaining: 2h 17m 54s\n",
            "4500:\tlearn: 0.1900133\ttest: 0.6156171\tbest: 0.6155996 (4499)\ttotal: 13m 36s\tremaining: 2h 17m 32s\n",
            "4600:\tlearn: 0.1855066\ttest: 0.6147690\tbest: 0.6147634 (4599)\ttotal: 13m 54s\tremaining: 2h 17m 13s\n",
            "4700:\tlearn: 0.1813558\ttest: 0.6135525\tbest: 0.6135462 (4696)\ttotal: 14m 12s\tremaining: 2h 16m 49s\n",
            "4800:\tlearn: 0.1772691\ttest: 0.6121836\tbest: 0.6121698 (4799)\ttotal: 14m 29s\tremaining: 2h 16m 26s\n",
            "4900:\tlearn: 0.1733737\ttest: 0.6111074\tbest: 0.6111074 (4900)\ttotal: 14m 47s\tremaining: 2h 16m 3s\n",
            "5000:\tlearn: 0.1696019\ttest: 0.6107241\tbest: 0.6107089 (4998)\ttotal: 15m 4s\tremaining: 2h 15m 40s\n",
            "5100:\tlearn: 0.1657734\ttest: 0.6097311\tbest: 0.6097311 (5100)\ttotal: 15m 22s\tremaining: 2h 15m 21s\n",
            "5200:\tlearn: 0.1617339\ttest: 0.6092596\tbest: 0.6092018 (5196)\ttotal: 15m 40s\tremaining: 2h 15m 5s\n",
            "5300:\tlearn: 0.1583112\ttest: 0.6085517\tbest: 0.6085204 (5297)\ttotal: 15m 58s\tremaining: 2h 14m 42s\n",
            "5400:\tlearn: 0.1550124\ttest: 0.6079303\tbest: 0.6079303 (5400)\ttotal: 16m 16s\tremaining: 2h 14m 19s\n",
            "5500:\tlearn: 0.1516288\ttest: 0.6070934\tbest: 0.6070890 (5495)\ttotal: 16m 33s\tremaining: 2h 13m 58s\n",
            "5600:\tlearn: 0.1484128\ttest: 0.6062425\tbest: 0.6062234 (5598)\ttotal: 16m 51s\tremaining: 2h 13m 37s\n",
            "5700:\tlearn: 0.1450448\ttest: 0.6055658\tbest: 0.6055649 (5699)\ttotal: 17m 9s\tremaining: 2h 13m 19s\n",
            "5800:\tlearn: 0.1419892\ttest: 0.6049800\tbest: 0.6049403 (5796)\ttotal: 17m 27s\tremaining: 2h 12m 58s\n",
            "5900:\tlearn: 0.1389879\ttest: 0.6041467\tbest: 0.6041467 (5900)\ttotal: 17m 44s\tremaining: 2h 12m 37s\n",
            "6000:\tlearn: 0.1357925\ttest: 0.6036476\tbest: 0.6035626 (5988)\ttotal: 18m 3s\tremaining: 2h 12m 21s\n",
            "6100:\tlearn: 0.1328718\ttest: 0.6027097\tbest: 0.6026941 (6099)\ttotal: 18m 20s\tremaining: 2h 12m 1s\n",
            "6200:\tlearn: 0.1301500\ttest: 0.6022321\tbest: 0.6022320 (6194)\ttotal: 18m 38s\tremaining: 2h 11m 43s\n",
            "6300:\tlearn: 0.1273986\ttest: 0.6016131\tbest: 0.6016020 (6295)\ttotal: 18m 57s\tremaining: 2h 11m 25s\n",
            "6400:\tlearn: 0.1247982\ttest: 0.6012933\tbest: 0.6012359 (6377)\ttotal: 19m 15s\tremaining: 2h 11m 7s\n",
            "6500:\tlearn: 0.1220566\ttest: 0.6004414\tbest: 0.6004236 (6498)\ttotal: 19m 32s\tremaining: 2h 10m 48s\n",
            "6600:\tlearn: 0.1196938\ttest: 0.5998020\tbest: 0.5997878 (6599)\ttotal: 19m 50s\tremaining: 2h 10m 27s\n",
            "6700:\tlearn: 0.1172614\ttest: 0.5993282\tbest: 0.5993228 (6699)\ttotal: 20m 8s\tremaining: 2h 10m 7s\n",
            "6800:\tlearn: 0.1149012\ttest: 0.5992291\tbest: 0.5990443 (6761)\ttotal: 20m 26s\tremaining: 2h 9m 48s\n",
            "bestTest = 0.5990443094\n",
            "bestIteration = 6761\n",
            "Shrink model to first 6762 iterations.\n",
            "Log Loss Fold 3 : 0.5990439806271114\n",
            "\n",
            "######### FOLD 5 / 10 \n",
            "0:\tlearn: 1.9631653\ttest: 1.9687368\tbest: 1.9687368 (0)\ttotal: 333ms\tremaining: 4h 37m 16s\n",
            "100:\tlearn: 0.9045348\ttest: 0.9548998\tbest: 0.9548998 (100)\ttotal: 22.1s\tremaining: 3h 1m 33s\n",
            "200:\tlearn: 0.8043740\ttest: 0.8815798\tbest: 0.8815798 (200)\ttotal: 41.9s\tremaining: 2h 52m 49s\n",
            "300:\tlearn: 0.7420661\ttest: 0.8416266\tbest: 0.8416266 (300)\ttotal: 1m 1s\tremaining: 2h 48m 27s\n",
            "400:\tlearn: 0.6947288\ttest: 0.8155982\tbest: 0.8155982 (400)\ttotal: 1m 20s\tremaining: 2h 45m 22s\n",
            "500:\tlearn: 0.6552665\ttest: 0.7952823\tbest: 0.7952823 (500)\ttotal: 1m 39s\tremaining: 2h 43m 5s\n",
            "600:\tlearn: 0.6204671\ttest: 0.7781630\tbest: 0.7781630 (600)\ttotal: 1m 58s\tremaining: 2h 41m 52s\n",
            "700:\tlearn: 0.5920201\ttest: 0.7639302\tbest: 0.7639302 (700)\ttotal: 2m 16s\tremaining: 2h 40m 1s\n",
            "800:\tlearn: 0.5660457\ttest: 0.7510629\tbest: 0.7510629 (800)\ttotal: 2m 34s\tremaining: 2h 38m 32s\n",
            "900:\tlearn: 0.5408923\ttest: 0.7400883\tbest: 0.7400883 (900)\ttotal: 2m 53s\tremaining: 2h 37m 39s\n",
            "1000:\tlearn: 0.5197450\ttest: 0.7312142\tbest: 0.7312142 (1000)\ttotal: 3m 11s\tremaining: 2h 36m 27s\n",
            "1100:\tlearn: 0.4993561\ttest: 0.7217889\tbest: 0.7217889 (1100)\ttotal: 3m 30s\tremaining: 2h 35m 40s\n",
            "1200:\tlearn: 0.4802640\ttest: 0.7141878\tbest: 0.7141878 (1200)\ttotal: 3m 48s\tremaining: 2h 34m 50s\n",
            "1300:\tlearn: 0.4632687\ttest: 0.7075400\tbest: 0.7075400 (1300)\ttotal: 4m 6s\tremaining: 2h 33m 54s\n",
            "1400:\tlearn: 0.4477585\ttest: 0.7014557\tbest: 0.7014480 (1399)\ttotal: 4m 24s\tremaining: 2h 32m 48s\n",
            "1500:\tlearn: 0.4330242\ttest: 0.6961975\tbest: 0.6961975 (1500)\ttotal: 4m 42s\tremaining: 2h 31m 54s\n",
            "1600:\tlearn: 0.4179098\ttest: 0.6902863\tbest: 0.6902476 (1599)\ttotal: 5m\tremaining: 2h 31m 26s\n",
            "1700:\tlearn: 0.4038412\ttest: 0.6848755\tbest: 0.6848755 (1700)\ttotal: 5m 18s\tremaining: 2h 30m 50s\n",
            "1800:\tlearn: 0.3918391\ttest: 0.6804217\tbest: 0.6804217 (1800)\ttotal: 5m 36s\tremaining: 2h 30m 1s\n",
            "1900:\tlearn: 0.3801045\ttest: 0.6761482\tbest: 0.6761468 (1899)\ttotal: 5m 54s\tremaining: 2h 29m 18s\n",
            "2000:\tlearn: 0.3682777\ttest: 0.6714633\tbest: 0.6714633 (2000)\ttotal: 6m 12s\tremaining: 2h 28m 43s\n",
            "2100:\tlearn: 0.3576245\ttest: 0.6668132\tbest: 0.6668115 (2099)\ttotal: 6m 29s\tremaining: 2h 28m 4s\n",
            "2200:\tlearn: 0.3472004\ttest: 0.6627933\tbest: 0.6627933 (2200)\ttotal: 6m 47s\tremaining: 2h 27m 30s\n",
            "2300:\tlearn: 0.3368393\ttest: 0.6601603\tbest: 0.6601603 (2300)\ttotal: 7m 5s\tremaining: 2h 26m 56s\n",
            "2400:\tlearn: 0.3266067\ttest: 0.6573707\tbest: 0.6573707 (2400)\ttotal: 7m 23s\tremaining: 2h 26m 29s\n",
            "2500:\tlearn: 0.3172812\ttest: 0.6539700\tbest: 0.6539700 (2500)\ttotal: 7m 41s\tremaining: 2h 26m 5s\n",
            "2600:\tlearn: 0.3089934\ttest: 0.6513186\tbest: 0.6513186 (2600)\ttotal: 7m 58s\tremaining: 2h 25m 28s\n",
            "2700:\tlearn: 0.2999827\ttest: 0.6478246\tbest: 0.6478246 (2700)\ttotal: 8m 17s\tremaining: 2h 25m 6s\n",
            "2800:\tlearn: 0.2920719\ttest: 0.6450779\tbest: 0.6450747 (2799)\ttotal: 8m 34s\tremaining: 2h 24m 36s\n",
            "2900:\tlearn: 0.2842632\ttest: 0.6423100\tbest: 0.6423002 (2899)\ttotal: 8m 52s\tremaining: 2h 24m 6s\n",
            "3000:\tlearn: 0.2768706\ttest: 0.6402383\tbest: 0.6402383 (3000)\ttotal: 9m 10s\tremaining: 2h 23m 34s\n",
            "3100:\tlearn: 0.2693302\ttest: 0.6379763\tbest: 0.6379565 (3098)\ttotal: 9m 27s\tremaining: 2h 23m 7s\n",
            "3200:\tlearn: 0.2623489\ttest: 0.6353822\tbest: 0.6353822 (3200)\ttotal: 9m 45s\tremaining: 2h 22m 39s\n",
            "3300:\tlearn: 0.2555411\ttest: 0.6333466\tbest: 0.6333466 (3300)\ttotal: 10m 3s\tremaining: 2h 22m 13s\n",
            "3400:\tlearn: 0.2491975\ttest: 0.6315327\tbest: 0.6315264 (3398)\ttotal: 10m 20s\tremaining: 2h 21m 44s\n",
            "3500:\tlearn: 0.2423274\ttest: 0.6294943\tbest: 0.6294943 (3500)\ttotal: 10m 39s\tremaining: 2h 21m 27s\n",
            "3600:\tlearn: 0.2364480\ttest: 0.6274470\tbest: 0.6274470 (3600)\ttotal: 10m 56s\tremaining: 2h 21m 3s\n",
            "3700:\tlearn: 0.2307483\ttest: 0.6255424\tbest: 0.6255424 (3700)\ttotal: 11m 14s\tremaining: 2h 20m 38s\n",
            "3800:\tlearn: 0.2253856\ttest: 0.6238339\tbest: 0.6238218 (3798)\ttotal: 11m 32s\tremaining: 2h 20m 13s\n",
            "3900:\tlearn: 0.2199483\ttest: 0.6227050\tbest: 0.6226760 (3869)\ttotal: 11m 50s\tremaining: 2h 19m 52s\n",
            "4000:\tlearn: 0.2145146\ttest: 0.6208921\tbest: 0.6208921 (4000)\ttotal: 12m 8s\tremaining: 2h 19m 32s\n",
            "4100:\tlearn: 0.2095797\ttest: 0.6197262\tbest: 0.6197262 (4100)\ttotal: 12m 25s\tremaining: 2h 19m 6s\n",
            "4200:\tlearn: 0.2045107\ttest: 0.6182270\tbest: 0.6182270 (4200)\ttotal: 12m 43s\tremaining: 2h 18m 45s\n",
            "4300:\tlearn: 0.2000027\ttest: 0.6166653\tbest: 0.6166653 (4300)\ttotal: 13m 1s\tremaining: 2h 18m 19s\n",
            "4400:\tlearn: 0.1951524\ttest: 0.6152992\tbest: 0.6152992 (4400)\ttotal: 13m 19s\tremaining: 2h 17m 59s\n",
            "4500:\tlearn: 0.1907050\ttest: 0.6142268\tbest: 0.6141938 (4498)\ttotal: 13m 36s\tremaining: 2h 17m 35s\n",
            "4600:\tlearn: 0.1861206\ttest: 0.6123637\tbest: 0.6123637 (4600)\ttotal: 13m 54s\tremaining: 2h 17m 14s\n",
            "4700:\tlearn: 0.1818769\ttest: 0.6114407\tbest: 0.6114407 (4700)\ttotal: 14m 12s\tremaining: 2h 16m 51s\n",
            "4800:\tlearn: 0.1779068\ttest: 0.6101009\tbest: 0.6100305 (4798)\ttotal: 14m 29s\tremaining: 2h 16m 28s\n",
            "4900:\tlearn: 0.1739479\ttest: 0.6085820\tbest: 0.6085508 (4897)\ttotal: 14m 47s\tremaining: 2h 16m 8s\n",
            "5000:\tlearn: 0.1700109\ttest: 0.6075838\tbest: 0.6075838 (5000)\ttotal: 15m 5s\tremaining: 2h 15m 47s\n",
            "5100:\tlearn: 0.1662375\ttest: 0.6061442\tbest: 0.6061442 (5100)\ttotal: 15m 23s\tremaining: 2h 15m 24s\n",
            "5200:\tlearn: 0.1625551\ttest: 0.6052167\tbest: 0.6052167 (5200)\ttotal: 15m 40s\tremaining: 2h 15m 2s\n",
            "5300:\tlearn: 0.1589199\ttest: 0.6044876\tbest: 0.6044588 (5298)\ttotal: 15m 58s\tremaining: 2h 14m 42s\n",
            "5400:\tlearn: 0.1552991\ttest: 0.6035462\tbest: 0.6035462 (5400)\ttotal: 16m 16s\tremaining: 2h 14m 24s\n",
            "5500:\tlearn: 0.1519680\ttest: 0.6027101\tbest: 0.6027101 (5500)\ttotal: 16m 34s\tremaining: 2h 14m 5s\n",
            "5600:\tlearn: 0.1485864\ttest: 0.6013235\tbest: 0.6013235 (5600)\ttotal: 16m 52s\tremaining: 2h 13m 45s\n",
            "5700:\tlearn: 0.1454702\ttest: 0.6004551\tbest: 0.6004551 (5700)\ttotal: 17m 10s\tremaining: 2h 13m 26s\n",
            "5800:\tlearn: 0.1423236\ttest: 0.5996062\tbest: 0.5995595 (5786)\ttotal: 17m 28s\tremaining: 2h 13m 6s\n",
            "5900:\tlearn: 0.1392757\ttest: 0.5988542\tbest: 0.5988473 (5890)\ttotal: 17m 46s\tremaining: 2h 12m 47s\n",
            "6000:\tlearn: 0.1361936\ttest: 0.5981786\tbest: 0.5981267 (5995)\ttotal: 18m 4s\tremaining: 2h 12m 30s\n",
            "6100:\tlearn: 0.1335542\ttest: 0.5973973\tbest: 0.5973973 (6100)\ttotal: 18m 21s\tremaining: 2h 12m 6s\n",
            "6200:\tlearn: 0.1307583\ttest: 0.5966127\tbest: 0.5965895 (6195)\ttotal: 18m 39s\tremaining: 2h 11m 46s\n",
            "6300:\tlearn: 0.1280717\ttest: 0.5958328\tbest: 0.5957963 (6291)\ttotal: 18m 57s\tremaining: 2h 11m 28s\n",
            "6400:\tlearn: 0.1255567\ttest: 0.5949738\tbest: 0.5948990 (6394)\ttotal: 19m 14s\tremaining: 2h 11m 5s\n",
            "6500:\tlearn: 0.1231122\ttest: 0.5945410\tbest: 0.5945154 (6470)\ttotal: 19m 32s\tremaining: 2h 10m 44s\n",
            "6600:\tlearn: 0.1205494\ttest: 0.5941103\tbest: 0.5941103 (6600)\ttotal: 19m 50s\tremaining: 2h 10m 25s\n",
            "6700:\tlearn: 0.1182050\ttest: 0.5930735\tbest: 0.5930674 (6698)\ttotal: 20m 8s\tremaining: 2h 10m 6s\n",
            "6800:\tlearn: 0.1156890\ttest: 0.5925900\tbest: 0.5924757 (6771)\ttotal: 20m 26s\tremaining: 2h 9m 48s\n",
            "6900:\tlearn: 0.1131656\ttest: 0.5921846\tbest: 0.5921794 (6899)\ttotal: 20m 44s\tremaining: 2h 9m 32s\n",
            "7000:\tlearn: 0.1108493\ttest: 0.5917135\tbest: 0.5917135 (7000)\ttotal: 21m 2s\tremaining: 2h 9m 12s\n",
            "7100:\tlearn: 0.1085793\ttest: 0.5909627\tbest: 0.5909427 (7098)\ttotal: 21m 20s\tremaining: 2h 8m 54s\n",
            "7200:\tlearn: 0.1063385\ttest: 0.5902647\tbest: 0.5902007 (7193)\ttotal: 21m 38s\tremaining: 2h 8m 35s\n",
            "7300:\tlearn: 0.1041081\ttest: 0.5896436\tbest: 0.5896036 (7285)\ttotal: 21m 56s\tremaining: 2h 8m 17s\n",
            "7400:\tlearn: 0.1018887\ttest: 0.5892281\tbest: 0.5892281 (7400)\ttotal: 22m 14s\tremaining: 2h 7m 59s\n",
            "7500:\tlearn: 0.0998633\ttest: 0.5885268\tbest: 0.5885268 (7500)\ttotal: 22m 31s\tremaining: 2h 7m 39s\n",
            "7600:\tlearn: 0.0978791\ttest: 0.5879459\tbest: 0.5879459 (7600)\ttotal: 22m 49s\tremaining: 2h 7m 20s\n",
            "7700:\tlearn: 0.0958602\ttest: 0.5876844\tbest: 0.5876666 (7699)\ttotal: 23m 7s\tremaining: 2h 7m 3s\n",
            "7800:\tlearn: 0.0940286\ttest: 0.5874153\tbest: 0.5873687 (7769)\ttotal: 23m 25s\tremaining: 2h 6m 43s\n",
            "7900:\tlearn: 0.0922718\ttest: 0.5870639\tbest: 0.5870218 (7891)\ttotal: 23m 43s\tremaining: 2h 6m 25s\n",
            "8000:\tlearn: 0.0906160\ttest: 0.5869828\tbest: 0.5867605 (7965)\ttotal: 24m 1s\tremaining: 2h 6m 4s\n",
            "8100:\tlearn: 0.0888823\ttest: 0.5864036\tbest: 0.5864036 (8100)\ttotal: 24m 18s\tremaining: 2h 5m 45s\n",
            "8200:\tlearn: 0.0871048\ttest: 0.5861952\tbest: 0.5861702 (8193)\ttotal: 24m 36s\tremaining: 2h 5m 26s\n",
            "8300:\tlearn: 0.0854851\ttest: 0.5858606\tbest: 0.5858606 (8300)\ttotal: 24m 54s\tremaining: 2h 5m 7s\n",
            "8400:\tlearn: 0.0837948\ttest: 0.5856071\tbest: 0.5856071 (8400)\ttotal: 25m 12s\tremaining: 2h 4m 50s\n",
            "8500:\tlearn: 0.0821125\ttest: 0.5853444\tbest: 0.5852136 (8473)\ttotal: 25m 30s\tremaining: 2h 4m 33s\n",
            "bestTest = 0.5852136263\n",
            "bestIteration = 8473\n",
            "Shrink model to first 8474 iterations.\n",
            "Log Loss Fold 4 : 0.585213558855636\n",
            "\n",
            "######### FOLD 6 / 10 \n",
            "0:\tlearn: 1.9634062\ttest: 1.9664648\tbest: 1.9664648 (0)\ttotal: 334ms\tremaining: 4h 38m 43s\n",
            "100:\tlearn: 0.9083507\ttest: 0.9393087\tbest: 0.9393087 (100)\ttotal: 21.8s\tremaining: 2h 59m 46s\n",
            "200:\tlearn: 0.8064950\ttest: 0.8634360\tbest: 0.8634360 (200)\ttotal: 41.6s\tremaining: 2h 51m 58s\n",
            "300:\tlearn: 0.7424117\ttest: 0.8246707\tbest: 0.8246707 (300)\ttotal: 1m 1s\tremaining: 2h 48m 11s\n",
            "400:\tlearn: 0.6951071\ttest: 0.7983434\tbest: 0.7983434 (400)\ttotal: 1m 20s\tremaining: 2h 45m 15s\n",
            "500:\tlearn: 0.6561050\ttest: 0.7770245\tbest: 0.7770245 (500)\ttotal: 1m 39s\tremaining: 2h 43m 7s\n",
            "600:\tlearn: 0.6227784\ttest: 0.7603934\tbest: 0.7603934 (600)\ttotal: 1m 57s\tremaining: 2h 41m 16s\n",
            "700:\tlearn: 0.5920126\ttest: 0.7457639\tbest: 0.7457639 (700)\ttotal: 2m 16s\tremaining: 2h 40m 6s\n",
            "800:\tlearn: 0.5652119\ttest: 0.7336697\tbest: 0.7336697 (800)\ttotal: 2m 35s\tremaining: 2h 38m 51s\n",
            "900:\tlearn: 0.5411599\ttest: 0.7236036\tbest: 0.7236036 (900)\ttotal: 2m 53s\tremaining: 2h 37m 37s\n",
            "1000:\tlearn: 0.5186413\ttest: 0.7144332\tbest: 0.7144332 (1000)\ttotal: 3m 11s\tremaining: 2h 36m 28s\n",
            "1100:\tlearn: 0.4990345\ttest: 0.7067637\tbest: 0.7067637 (1100)\ttotal: 3m 30s\tremaining: 2h 35m 27s\n",
            "1200:\tlearn: 0.4791347\ttest: 0.6986374\tbest: 0.6986374 (1200)\ttotal: 3m 48s\tremaining: 2h 34m 49s\n",
            "1300:\tlearn: 0.4616407\ttest: 0.6917889\tbest: 0.6917889 (1300)\ttotal: 4m 6s\tremaining: 2h 33m 56s\n",
            "1400:\tlearn: 0.4453745\ttest: 0.6853541\tbest: 0.6853541 (1400)\ttotal: 4m 24s\tremaining: 2h 33m 4s\n",
            "1500:\tlearn: 0.4302215\ttest: 0.6788249\tbest: 0.6788249 (1500)\ttotal: 4m 42s\tremaining: 2h 32m 14s\n",
            "1600:\tlearn: 0.4166244\ttest: 0.6738970\tbest: 0.6738970 (1600)\ttotal: 5m\tremaining: 2h 31m 28s\n",
            "1700:\tlearn: 0.4030393\ttest: 0.6696701\tbest: 0.6696701 (1700)\ttotal: 5m 18s\tremaining: 2h 30m 49s\n",
            "1800:\tlearn: 0.3903438\ttest: 0.6656730\tbest: 0.6656730 (1800)\ttotal: 5m 36s\tremaining: 2h 30m 11s\n",
            "1900:\tlearn: 0.3782614\ttest: 0.6614574\tbest: 0.6614574 (1900)\ttotal: 5m 54s\tremaining: 2h 29m 32s\n",
            "2000:\tlearn: 0.3666859\ttest: 0.6569974\tbest: 0.6569974 (2000)\ttotal: 6m 12s\tremaining: 2h 28m 58s\n",
            "2100:\tlearn: 0.3555550\ttest: 0.6533587\tbest: 0.6533587 (2100)\ttotal: 6m 30s\tremaining: 2h 28m 22s\n",
            "2200:\tlearn: 0.3454009\ttest: 0.6498628\tbest: 0.6498628 (2200)\ttotal: 6m 48s\tremaining: 2h 27m 47s\n",
            "2300:\tlearn: 0.3351233\ttest: 0.6465748\tbest: 0.6465672 (2298)\ttotal: 7m 6s\tremaining: 2h 27m 17s\n",
            "2400:\tlearn: 0.3259612\ttest: 0.6437123\tbest: 0.6436782 (2399)\ttotal: 7m 24s\tremaining: 2h 26m 43s\n",
            "2500:\tlearn: 0.3164733\ttest: 0.6410307\tbest: 0.6410307 (2500)\ttotal: 7m 42s\tremaining: 2h 26m 17s\n",
            "2600:\tlearn: 0.3077720\ttest: 0.6380382\tbest: 0.6380237 (2599)\ttotal: 7m 59s\tremaining: 2h 25m 46s\n",
            "2700:\tlearn: 0.2995188\ttest: 0.6354962\tbest: 0.6354962 (2700)\ttotal: 8m 17s\tremaining: 2h 25m 17s\n",
            "2800:\tlearn: 0.2914229\ttest: 0.6323737\tbest: 0.6323737 (2800)\ttotal: 8m 35s\tremaining: 2h 24m 47s\n",
            "2900:\tlearn: 0.2833819\ttest: 0.6302196\tbest: 0.6302196 (2900)\ttotal: 8m 53s\tremaining: 2h 24m 23s\n",
            "3000:\tlearn: 0.2757657\ttest: 0.6274004\tbest: 0.6274004 (3000)\ttotal: 9m 11s\tremaining: 2h 23m 57s\n",
            "3100:\tlearn: 0.2684695\ttest: 0.6248869\tbest: 0.6248869 (3100)\ttotal: 9m 29s\tremaining: 2h 23m 34s\n",
            "3200:\tlearn: 0.2615470\ttest: 0.6227024\tbest: 0.6227024 (3200)\ttotal: 9m 47s\tremaining: 2h 23m 7s\n",
            "3300:\tlearn: 0.2547923\ttest: 0.6203838\tbest: 0.6203838 (3300)\ttotal: 10m 5s\tremaining: 2h 22m 40s\n",
            "3400:\tlearn: 0.2486905\ttest: 0.6188803\tbest: 0.6188769 (3396)\ttotal: 10m 22s\tremaining: 2h 22m 12s\n",
            "3500:\tlearn: 0.2424637\ttest: 0.6167406\tbest: 0.6167303 (3498)\ttotal: 10m 40s\tremaining: 2h 21m 45s\n",
            "3600:\tlearn: 0.2364736\ttest: 0.6149581\tbest: 0.6149581 (3600)\ttotal: 10m 58s\tremaining: 2h 21m 22s\n",
            "3700:\tlearn: 0.2309823\ttest: 0.6135877\tbest: 0.6135872 (3699)\ttotal: 11m 15s\tremaining: 2h 20m 55s\n",
            "3800:\tlearn: 0.2250220\ttest: 0.6114300\tbest: 0.6114300 (3800)\ttotal: 11m 34s\tremaining: 2h 20m 35s\n",
            "3900:\tlearn: 0.2198050\ttest: 0.6100341\tbest: 0.6100341 (3900)\ttotal: 11m 51s\tremaining: 2h 20m 11s\n",
            "4000:\tlearn: 0.2144773\ttest: 0.6084017\tbest: 0.6084017 (4000)\ttotal: 12m 9s\tremaining: 2h 19m 47s\n",
            "4100:\tlearn: 0.2093462\ttest: 0.6070594\tbest: 0.6070275 (4094)\ttotal: 12m 27s\tremaining: 2h 19m 25s\n",
            "4200:\tlearn: 0.2046528\ttest: 0.6056601\tbest: 0.6056601 (4200)\ttotal: 12m 45s\tremaining: 2h 19m 1s\n",
            "4300:\tlearn: 0.2000273\ttest: 0.6041594\tbest: 0.6041441 (4297)\ttotal: 13m 2s\tremaining: 2h 18m 38s\n",
            "4400:\tlearn: 0.1954066\ttest: 0.6024766\tbest: 0.6024766 (4400)\ttotal: 13m 20s\tremaining: 2h 18m 18s\n",
            "4500:\tlearn: 0.1907309\ttest: 0.6009360\tbest: 0.6009360 (4500)\ttotal: 13m 38s\tremaining: 2h 17m 56s\n",
            "4600:\tlearn: 0.1863136\ttest: 0.5999755\tbest: 0.5999460 (4599)\ttotal: 13m 56s\tremaining: 2h 17m 36s\n",
            "4700:\tlearn: 0.1820785\ttest: 0.5988315\tbest: 0.5987696 (4692)\ttotal: 14m 14s\tremaining: 2h 17m 13s\n",
            "4800:\tlearn: 0.1779080\ttest: 0.5978253\tbest: 0.5978253 (4800)\ttotal: 14m 32s\tremaining: 2h 16m 52s\n",
            "4900:\tlearn: 0.1738911\ttest: 0.5964684\tbest: 0.5964684 (4900)\ttotal: 14m 50s\tremaining: 2h 16m 32s\n",
            "5000:\tlearn: 0.1697660\ttest: 0.5952049\tbest: 0.5952049 (5000)\ttotal: 15m 8s\tremaining: 2h 16m 12s\n",
            "5100:\tlearn: 0.1659684\ttest: 0.5941159\tbest: 0.5940974 (5098)\ttotal: 15m 26s\tremaining: 2h 15m 50s\n",
            "5200:\tlearn: 0.1623054\ttest: 0.5928957\tbest: 0.5928787 (5199)\ttotal: 15m 43s\tremaining: 2h 15m 29s\n",
            "5300:\tlearn: 0.1586598\ttest: 0.5919944\tbest: 0.5919944 (5300)\ttotal: 16m 1s\tremaining: 2h 15m 9s\n",
            "5400:\tlearn: 0.1551153\ttest: 0.5914849\tbest: 0.5914849 (5400)\ttotal: 16m 19s\tremaining: 2h 14m 49s\n",
            "5500:\tlearn: 0.1518040\ttest: 0.5906454\tbest: 0.5906286 (5485)\ttotal: 16m 37s\tremaining: 2h 14m 28s\n",
            "5600:\tlearn: 0.1484338\ttest: 0.5894336\tbest: 0.5894096 (5598)\ttotal: 16m 55s\tremaining: 2h 14m 9s\n",
            "5700:\tlearn: 0.1453728\ttest: 0.5888135\tbest: 0.5888135 (5700)\ttotal: 17m 13s\tremaining: 2h 13m 46s\n",
            "5800:\tlearn: 0.1424303\ttest: 0.5881206\tbest: 0.5879724 (5785)\ttotal: 17m 30s\tremaining: 2h 13m 26s\n",
            "5900:\tlearn: 0.1393372\ttest: 0.5873570\tbest: 0.5873570 (5900)\ttotal: 17m 48s\tremaining: 2h 13m 7s\n",
            "6000:\tlearn: 0.1363911\ttest: 0.5870558\tbest: 0.5869892 (5997)\ttotal: 18m 6s\tremaining: 2h 12m 49s\n",
            "6100:\tlearn: 0.1336558\ttest: 0.5865135\tbest: 0.5865135 (6100)\ttotal: 18m 24s\tremaining: 2h 12m 28s\n",
            "6200:\tlearn: 0.1309180\ttest: 0.5860892\tbest: 0.5860892 (6200)\ttotal: 18m 42s\tremaining: 2h 12m 8s\n",
            "6300:\tlearn: 0.1281675\ttest: 0.5852021\tbest: 0.5850821 (6286)\ttotal: 19m\tremaining: 2h 11m 49s\n",
            "6400:\tlearn: 0.1254121\ttest: 0.5843766\tbest: 0.5843402 (6398)\ttotal: 19m 18s\tremaining: 2h 11m 30s\n",
            "6500:\tlearn: 0.1227156\ttest: 0.5839530\tbest: 0.5839530 (6500)\ttotal: 19m 36s\tremaining: 2h 11m 11s\n",
            "6600:\tlearn: 0.1201348\ttest: 0.5832960\tbest: 0.5832959 (6588)\ttotal: 19m 54s\tremaining: 2h 10m 52s\n",
            "6700:\tlearn: 0.1176797\ttest: 0.5830398\tbest: 0.5830384 (6698)\ttotal: 20m 12s\tremaining: 2h 10m 33s\n",
            "6800:\tlearn: 0.1152717\ttest: 0.5824210\tbest: 0.5824210 (6800)\ttotal: 20m 30s\tremaining: 2h 10m 14s\n",
            "6900:\tlearn: 0.1128619\ttest: 0.5820522\tbest: 0.5820156 (6859)\ttotal: 20m 48s\tremaining: 2h 9m 56s\n",
            "7000:\tlearn: 0.1106482\ttest: 0.5818199\tbest: 0.5817793 (6996)\ttotal: 21m 6s\tremaining: 2h 9m 37s\n",
            "7100:\tlearn: 0.1081657\ttest: 0.5813675\tbest: 0.5813507 (7098)\ttotal: 21m 24s\tremaining: 2h 9m 20s\n",
            "7200:\tlearn: 0.1060102\ttest: 0.5813279\tbest: 0.5811806 (7156)\ttotal: 21m 42s\tremaining: 2h 9m 2s\n",
            "7300:\tlearn: 0.1039560\ttest: 0.5806736\tbest: 0.5806056 (7292)\ttotal: 22m\tremaining: 2h 8m 43s\n",
            "7400:\tlearn: 0.1020300\ttest: 0.5804484\tbest: 0.5804311 (7397)\ttotal: 22m 18s\tremaining: 2h 8m 23s\n",
            "7500:\tlearn: 0.1000582\ttest: 0.5802795\tbest: 0.5801919 (7486)\ttotal: 22m 36s\tremaining: 2h 8m 4s\n",
            "7600:\tlearn: 0.0981390\ttest: 0.5799088\tbest: 0.5798921 (7598)\ttotal: 22m 54s\tremaining: 2h 7m 45s\n",
            "7700:\tlearn: 0.0961487\ttest: 0.5793214\tbest: 0.5793097 (7690)\ttotal: 23m 12s\tremaining: 2h 7m 27s\n",
            "7800:\tlearn: 0.0943040\ttest: 0.5791412\tbest: 0.5790911 (7792)\ttotal: 23m 30s\tremaining: 2h 7m 8s\n",
            "7900:\tlearn: 0.0923582\ttest: 0.5786845\tbest: 0.5786753 (7895)\ttotal: 23m 48s\tremaining: 2h 6m 51s\n",
            "8000:\tlearn: 0.0905225\ttest: 0.5783361\tbest: 0.5782319 (7979)\ttotal: 24m 6s\tremaining: 2h 6m 34s\n",
            "8100:\tlearn: 0.0887706\ttest: 0.5779585\tbest: 0.5779585 (8100)\ttotal: 24m 24s\tremaining: 2h 6m 15s\n",
            "8200:\tlearn: 0.0869765\ttest: 0.5775828\tbest: 0.5775381 (8171)\ttotal: 24m 42s\tremaining: 2h 5m 57s\n",
            "8300:\tlearn: 0.0852082\ttest: 0.5773212\tbest: 0.5773029 (8259)\ttotal: 25m\tremaining: 2h 5m 39s\n",
            "8400:\tlearn: 0.0837052\ttest: 0.5771928\tbest: 0.5770551 (8337)\ttotal: 25m 18s\tremaining: 2h 5m 19s\n",
            "8500:\tlearn: 0.0820896\ttest: 0.5767502\tbest: 0.5766765 (8478)\ttotal: 25m 36s\tremaining: 2h 5m\n",
            "8600:\tlearn: 0.0805587\ttest: 0.5762575\tbest: 0.5762498 (8582)\ttotal: 25m 54s\tremaining: 2h 4m 41s\n",
            "8700:\tlearn: 0.0790778\ttest: 0.5759128\tbest: 0.5759128 (8700)\ttotal: 26m 12s\tremaining: 2h 4m 23s\n",
            "8800:\tlearn: 0.0776672\ttest: 0.5756204\tbest: 0.5756204 (8800)\ttotal: 26m 30s\tremaining: 2h 4m 5s\n",
            "8900:\tlearn: 0.0761173\ttest: 0.5754116\tbest: 0.5754116 (8900)\ttotal: 26m 48s\tremaining: 2h 3m 48s\n",
            "9000:\tlearn: 0.0747317\ttest: 0.5756240\tbest: 0.5753061 (8949)\ttotal: 27m 6s\tremaining: 2h 3m 29s\n",
            "bestTest = 0.5753061301\n",
            "bestIteration = 8949\n",
            "Shrink model to first 8950 iterations.\n",
            "Log Loss Fold 5 : 0.5753060311338509\n",
            "\n",
            "######### FOLD 7 / 10 \n",
            "0:\tlearn: 1.9635868\ttest: 1.9653173\tbest: 1.9653173 (0)\ttotal: 338ms\tremaining: 4h 41m 57s\n",
            "100:\tlearn: 0.9025275\ttest: 0.9506861\tbest: 0.9506861 (100)\ttotal: 22.3s\tremaining: 3h 3m 24s\n",
            "200:\tlearn: 0.8023753\ttest: 0.8788591\tbest: 0.8788591 (200)\ttotal: 42.3s\tremaining: 2h 54m 34s\n",
            "300:\tlearn: 0.7397624\ttest: 0.8396443\tbest: 0.8396443 (300)\ttotal: 1m 1s\tremaining: 2h 50m 20s\n",
            "400:\tlearn: 0.6933705\ttest: 0.8132376\tbest: 0.8132376 (400)\ttotal: 1m 21s\tremaining: 2h 47m 3s\n",
            "500:\tlearn: 0.6520838\ttest: 0.7909080\tbest: 0.7909080 (500)\ttotal: 1m 40s\tremaining: 2h 45m 8s\n",
            "600:\tlearn: 0.6195357\ttest: 0.7739242\tbest: 0.7739242 (600)\ttotal: 1m 58s\tremaining: 2h 42m 43s\n",
            "700:\tlearn: 0.5903033\ttest: 0.7601481\tbest: 0.7601481 (700)\ttotal: 2m 17s\tremaining: 2h 40m 53s\n",
            "800:\tlearn: 0.5637515\ttest: 0.7486176\tbest: 0.7486176 (800)\ttotal: 2m 35s\tremaining: 2h 39m 36s\n",
            "900:\tlearn: 0.5397808\ttest: 0.7380826\tbest: 0.7380826 (900)\ttotal: 2m 54s\tremaining: 2h 38m 18s\n",
            "1000:\tlearn: 0.5181244\ttest: 0.7294128\tbest: 0.7294128 (1000)\ttotal: 3m 12s\tremaining: 2h 37m 8s\n",
            "1100:\tlearn: 0.4985400\ttest: 0.7210029\tbest: 0.7210029 (1100)\ttotal: 3m 30s\tremaining: 2h 35m 58s\n",
            "1200:\tlearn: 0.4795439\ttest: 0.7146773\tbest: 0.7146773 (1200)\ttotal: 3m 49s\tremaining: 2h 35m 13s\n",
            "1300:\tlearn: 0.4625944\ttest: 0.7076916\tbest: 0.7076916 (1300)\ttotal: 4m 7s\tremaining: 2h 34m 15s\n",
            "1400:\tlearn: 0.4468001\ttest: 0.7015938\tbest: 0.7015938 (1400)\ttotal: 4m 25s\tremaining: 2h 33m 16s\n",
            "1500:\tlearn: 0.4314905\ttest: 0.6964449\tbest: 0.6964449 (1500)\ttotal: 4m 43s\tremaining: 2h 32m 31s\n",
            "1600:\tlearn: 0.4174588\ttest: 0.6910254\tbest: 0.6910254 (1600)\ttotal: 5m 1s\tremaining: 2h 31m 42s\n",
            "1700:\tlearn: 0.4044234\ttest: 0.6860403\tbest: 0.6860403 (1700)\ttotal: 5m 18s\tremaining: 2h 30m 57s\n",
            "1800:\tlearn: 0.3913253\ttest: 0.6814518\tbest: 0.6814518 (1800)\ttotal: 5m 37s\tremaining: 2h 30m 19s\n",
            "1900:\tlearn: 0.3794121\ttest: 0.6769930\tbest: 0.6769930 (1900)\ttotal: 5m 54s\tremaining: 2h 29m 38s\n",
            "2000:\tlearn: 0.3674651\ttest: 0.6725060\tbest: 0.6725060 (2000)\ttotal: 6m 12s\tremaining: 2h 29m 5s\n",
            "2100:\tlearn: 0.3568354\ttest: 0.6690544\tbest: 0.6690544 (2100)\ttotal: 6m 30s\tremaining: 2h 28m 26s\n",
            "2200:\tlearn: 0.3466690\ttest: 0.6658573\tbest: 0.6658573 (2200)\ttotal: 6m 48s\tremaining: 2h 27m 47s\n",
            "2300:\tlearn: 0.3364875\ttest: 0.6618850\tbest: 0.6618850 (2300)\ttotal: 7m 6s\tremaining: 2h 27m 13s\n",
            "2400:\tlearn: 0.3265639\ttest: 0.6588112\tbest: 0.6587832 (2399)\ttotal: 7m 24s\tremaining: 2h 26m 44s\n",
            "2500:\tlearn: 0.3174441\ttest: 0.6557753\tbest: 0.6557753 (2500)\ttotal: 7m 41s\tremaining: 2h 26m 9s\n",
            "2600:\tlearn: 0.3090440\ttest: 0.6533529\tbest: 0.6533529 (2600)\ttotal: 7m 59s\tremaining: 2h 25m 39s\n",
            "2700:\tlearn: 0.3010525\ttest: 0.6498960\tbest: 0.6498960 (2700)\ttotal: 8m 17s\tremaining: 2h 25m 9s\n",
            "2800:\tlearn: 0.2926963\ttest: 0.6473144\tbest: 0.6473144 (2800)\ttotal: 8m 35s\tremaining: 2h 24m 44s\n",
            "2900:\tlearn: 0.2848293\ttest: 0.6450235\tbest: 0.6449825 (2896)\ttotal: 8m 53s\tremaining: 2h 24m 14s\n",
            "3000:\tlearn: 0.2771513\ttest: 0.6430827\tbest: 0.6430656 (2999)\ttotal: 9m 10s\tremaining: 2h 23m 48s\n",
            "3100:\tlearn: 0.2694370\ttest: 0.6408202\tbest: 0.6408202 (3100)\ttotal: 9m 28s\tremaining: 2h 23m 24s\n",
            "3200:\tlearn: 0.2625916\ttest: 0.6389154\tbest: 0.6389154 (3200)\ttotal: 9m 46s\tremaining: 2h 22m 55s\n",
            "3300:\tlearn: 0.2558072\ttest: 0.6370008\tbest: 0.6370008 (3300)\ttotal: 10m 4s\tremaining: 2h 22m 27s\n",
            "3400:\tlearn: 0.2495252\ttest: 0.6350479\tbest: 0.6350479 (3400)\ttotal: 10m 21s\tremaining: 2h 21m 59s\n",
            "3500:\tlearn: 0.2434440\ttest: 0.6333613\tbest: 0.6333613 (3500)\ttotal: 10m 39s\tremaining: 2h 21m 32s\n",
            "3600:\tlearn: 0.2377958\ttest: 0.6311497\tbest: 0.6311497 (3600)\ttotal: 10m 56s\tremaining: 2h 21m 3s\n",
            "3700:\tlearn: 0.2319740\ttest: 0.6295072\tbest: 0.6295072 (3700)\ttotal: 11m 14s\tremaining: 2h 20m 37s\n",
            "3800:\tlearn: 0.2259890\ttest: 0.6274845\tbest: 0.6274845 (3800)\ttotal: 11m 32s\tremaining: 2h 20m 16s\n",
            "3900:\tlearn: 0.2204534\ttest: 0.6259168\tbest: 0.6259168 (3900)\ttotal: 11m 50s\tremaining: 2h 19m 56s\n",
            "4000:\tlearn: 0.2153608\ttest: 0.6245513\tbest: 0.6245121 (3997)\ttotal: 12m 8s\tremaining: 2h 19m 30s\n",
            "4100:\tlearn: 0.2101635\ttest: 0.6229469\tbest: 0.6229469 (4100)\ttotal: 12m 25s\tremaining: 2h 19m 7s\n",
            "4200:\tlearn: 0.2052364\ttest: 0.6215533\tbest: 0.6215462 (4199)\ttotal: 12m 43s\tremaining: 2h 18m 42s\n",
            "4300:\tlearn: 0.2005395\ttest: 0.6203603\tbest: 0.6203603 (4300)\ttotal: 13m 1s\tremaining: 2h 18m 19s\n",
            "4400:\tlearn: 0.1959750\ttest: 0.6191109\tbest: 0.6191109 (4400)\ttotal: 13m 18s\tremaining: 2h 17m 54s\n",
            "4500:\tlearn: 0.1914716\ttest: 0.6174907\tbest: 0.6174907 (4500)\ttotal: 13m 36s\tremaining: 2h 17m 34s\n",
            "4600:\tlearn: 0.1869891\ttest: 0.6163086\tbest: 0.6163086 (4600)\ttotal: 13m 54s\tremaining: 2h 17m 13s\n",
            "4700:\tlearn: 0.1826063\ttest: 0.6154674\tbest: 0.6154656 (4699)\ttotal: 14m 12s\tremaining: 2h 16m 53s\n",
            "4800:\tlearn: 0.1785164\ttest: 0.6143660\tbest: 0.6143461 (4799)\ttotal: 14m 30s\tremaining: 2h 16m 32s\n",
            "4900:\tlearn: 0.1744308\ttest: 0.6130063\tbest: 0.6129799 (4897)\ttotal: 14m 48s\tremaining: 2h 16m 14s\n",
            "5000:\tlearn: 0.1705223\ttest: 0.6120557\tbest: 0.6120060 (4997)\ttotal: 15m 6s\tremaining: 2h 15m 53s\n",
            "5100:\tlearn: 0.1670197\ttest: 0.6111750\tbest: 0.6111658 (5098)\ttotal: 15m 23s\tremaining: 2h 15m 31s\n",
            "5200:\tlearn: 0.1633449\ttest: 0.6101269\tbest: 0.6101269 (5200)\ttotal: 15m 41s\tremaining: 2h 15m 12s\n",
            "5300:\tlearn: 0.1597263\ttest: 0.6090204\tbest: 0.6090204 (5300)\ttotal: 15m 59s\tremaining: 2h 14m 51s\n",
            "5400:\tlearn: 0.1562627\ttest: 0.6084171\tbest: 0.6083908 (5396)\ttotal: 16m 17s\tremaining: 2h 14m 29s\n",
            "5500:\tlearn: 0.1527906\ttest: 0.6077931\tbest: 0.6077931 (5500)\ttotal: 16m 35s\tremaining: 2h 14m 10s\n",
            "5600:\tlearn: 0.1496034\ttest: 0.6072334\tbest: 0.6072266 (5561)\ttotal: 16m 52s\tremaining: 2h 13m 48s\n",
            "5700:\tlearn: 0.1462158\ttest: 0.6068413\tbest: 0.6068413 (5700)\ttotal: 17m 10s\tremaining: 2h 13m 29s\n",
            "5800:\tlearn: 0.1429486\ttest: 0.6064157\tbest: 0.6063792 (5798)\ttotal: 17m 28s\tremaining: 2h 13m 11s\n",
            "5900:\tlearn: 0.1399345\ttest: 0.6055658\tbest: 0.6055171 (5896)\ttotal: 17m 46s\tremaining: 2h 12m 51s\n",
            "6000:\tlearn: 0.1371644\ttest: 0.6048302\tbest: 0.6048000 (5997)\ttotal: 18m 4s\tremaining: 2h 12m 31s\n",
            "6100:\tlearn: 0.1343498\ttest: 0.6040909\tbest: 0.6040909 (6100)\ttotal: 18m 22s\tremaining: 2h 12m 11s\n",
            "6200:\tlearn: 0.1315805\ttest: 0.6038384\tbest: 0.6038329 (6199)\ttotal: 18m 39s\tremaining: 2h 11m 50s\n",
            "6300:\tlearn: 0.1287918\ttest: 0.6031514\tbest: 0.6030681 (6284)\ttotal: 18m 58s\tremaining: 2h 11m 33s\n",
            "6400:\tlearn: 0.1261552\ttest: 0.6026165\tbest: 0.6025150 (6389)\ttotal: 19m 15s\tremaining: 2h 11m 13s\n",
            "6500:\tlearn: 0.1237817\ttest: 0.6019404\tbest: 0.6019404 (6500)\ttotal: 19m 33s\tremaining: 2h 10m 52s\n",
            "6600:\tlearn: 0.1212637\ttest: 0.6016580\tbest: 0.6016256 (6598)\ttotal: 19m 51s\tremaining: 2h 10m 34s\n",
            "6700:\tlearn: 0.1190137\ttest: 0.6013479\tbest: 0.6013058 (6673)\ttotal: 20m 9s\tremaining: 2h 10m 12s\n",
            "6800:\tlearn: 0.1166466\ttest: 0.6009749\tbest: 0.6009749 (6800)\ttotal: 20m 26s\tremaining: 2h 9m 53s\n",
            "6900:\tlearn: 0.1144026\ttest: 0.6001909\tbest: 0.6001753 (6898)\ttotal: 20m 44s\tremaining: 2h 9m 34s\n",
            "7000:\tlearn: 0.1119890\ttest: 0.5998063\tbest: 0.5998063 (7000)\ttotal: 21m 2s\tremaining: 2h 9m 15s\n",
            "7100:\tlearn: 0.1095570\ttest: 0.5993242\tbest: 0.5992750 (7063)\ttotal: 21m 20s\tremaining: 2h 8m 58s\n",
            "7200:\tlearn: 0.1074086\ttest: 0.5991421\tbest: 0.5991081 (7189)\ttotal: 21m 38s\tremaining: 2h 8m 39s\n",
            "7300:\tlearn: 0.1051446\ttest: 0.5985190\tbest: 0.5985037 (7298)\ttotal: 21m 56s\tremaining: 2h 8m 21s\n",
            "7400:\tlearn: 0.1029732\ttest: 0.5980103\tbest: 0.5979936 (7394)\ttotal: 22m 14s\tremaining: 2h 8m 3s\n",
            "7500:\tlearn: 0.1009483\ttest: 0.5978224\tbest: 0.5978193 (7451)\ttotal: 22m 32s\tremaining: 2h 7m 45s\n",
            "7600:\tlearn: 0.0990206\ttest: 0.5975450\tbest: 0.5975325 (7598)\ttotal: 22m 50s\tremaining: 2h 7m 27s\n",
            "7700:\tlearn: 0.0969899\ttest: 0.5972613\tbest: 0.5971945 (7692)\ttotal: 23m 9s\tremaining: 2h 7m 9s\n",
            "7800:\tlearn: 0.0949475\ttest: 0.5969054\tbest: 0.5969054 (7800)\ttotal: 23m 27s\tremaining: 2h 6m 53s\n",
            "7900:\tlearn: 0.0931632\ttest: 0.5967366\tbest: 0.5967366 (7900)\ttotal: 23m 45s\tremaining: 2h 6m 35s\n",
            "8000:\tlearn: 0.0915430\ttest: 0.5966574\tbest: 0.5966274 (7999)\ttotal: 24m 3s\tremaining: 2h 6m 14s\n",
            "8100:\tlearn: 0.0896880\ttest: 0.5961453\tbest: 0.5961453 (8100)\ttotal: 24m 21s\tremaining: 2h 5m 57s\n",
            "8200:\tlearn: 0.0879578\ttest: 0.5960782\tbest: 0.5960297 (8165)\ttotal: 24m 39s\tremaining: 2h 5m 39s\n",
            "8300:\tlearn: 0.0861651\ttest: 0.5958434\tbest: 0.5958139 (8260)\ttotal: 24m 57s\tremaining: 2h 5m 22s\n",
            "8400:\tlearn: 0.0844716\ttest: 0.5956601\tbest: 0.5956208 (8336)\ttotal: 25m 15s\tremaining: 2h 5m 5s\n",
            "8500:\tlearn: 0.0828141\ttest: 0.5955461\tbest: 0.5954686 (8428)\ttotal: 25m 33s\tremaining: 2h 4m 48s\n",
            "bestTest = 0.5954685975\n",
            "bestIteration = 8428\n",
            "Shrink model to first 8429 iterations.\n",
            "Log Loss Fold 6 : 0.5954686000359973\n",
            "\n",
            "######### FOLD 8 / 10 \n",
            "0:\tlearn: 1.9632502\ttest: 1.9627595\tbest: 1.9627595 (0)\ttotal: 335ms\tremaining: 4h 38m 55s\n",
            "100:\tlearn: 0.9081109\ttest: 0.9357075\tbest: 0.9357075 (100)\ttotal: 22.1s\tremaining: 3h 2m 7s\n",
            "200:\tlearn: 0.8060944\ttest: 0.8614309\tbest: 0.8614309 (200)\ttotal: 41.9s\tremaining: 2h 53m 4s\n",
            "300:\tlearn: 0.7445219\ttest: 0.8237333\tbest: 0.8237333 (300)\ttotal: 1m 1s\tremaining: 2h 48m 50s\n",
            "400:\tlearn: 0.6948442\ttest: 0.7958647\tbest: 0.7958647 (400)\ttotal: 1m 20s\tremaining: 2h 46m 17s\n",
            "500:\tlearn: 0.6561965\ttest: 0.7758250\tbest: 0.7758250 (500)\ttotal: 1m 39s\tremaining: 2h 44m 2s\n",
            "600:\tlearn: 0.6223994\ttest: 0.7600052\tbest: 0.7600052 (600)\ttotal: 1m 58s\tremaining: 2h 42m 17s\n",
            "700:\tlearn: 0.5918687\ttest: 0.7462214\tbest: 0.7462214 (700)\ttotal: 2m 17s\tremaining: 2h 40m 49s\n",
            "800:\tlearn: 0.5655977\ttest: 0.7353018\tbest: 0.7353018 (800)\ttotal: 2m 35s\tremaining: 2h 39m 26s\n",
            "900:\tlearn: 0.5417138\ttest: 0.7255849\tbest: 0.7255849 (900)\ttotal: 2m 54s\tremaining: 2h 38m 16s\n",
            "1000:\tlearn: 0.5197531\ttest: 0.7171642\tbest: 0.7171642 (1000)\ttotal: 3m 12s\tremaining: 2h 37m 1s\n",
            "1100:\tlearn: 0.5002075\ttest: 0.7102059\tbest: 0.7102043 (1099)\ttotal: 3m 30s\tremaining: 2h 35m 48s\n",
            "1200:\tlearn: 0.4808071\ttest: 0.7031382\tbest: 0.7031382 (1200)\ttotal: 3m 48s\tremaining: 2h 34m 55s\n",
            "1300:\tlearn: 0.4637589\ttest: 0.6969157\tbest: 0.6969157 (1300)\ttotal: 4m 6s\tremaining: 2h 34m 4s\n",
            "1400:\tlearn: 0.4463187\ttest: 0.6908072\tbest: 0.6908072 (1400)\ttotal: 4m 25s\tremaining: 2h 33m 27s\n",
            "1500:\tlearn: 0.4310415\ttest: 0.6851219\tbest: 0.6851219 (1500)\ttotal: 4m 43s\tremaining: 2h 32m 44s\n",
            "1600:\tlearn: 0.4166865\ttest: 0.6796933\tbest: 0.6796933 (1600)\ttotal: 5m 1s\tremaining: 2h 32m 4s\n",
            "1700:\tlearn: 0.4019669\ttest: 0.6748370\tbest: 0.6748370 (1700)\ttotal: 5m 20s\tremaining: 2h 31m 36s\n",
            "1800:\tlearn: 0.3889386\ttest: 0.6710267\tbest: 0.6710267 (1800)\ttotal: 5m 38s\tremaining: 2h 30m 58s\n",
            "1900:\tlearn: 0.3763536\ttest: 0.6663794\tbest: 0.6663794 (1900)\ttotal: 5m 56s\tremaining: 2h 30m 25s\n",
            "2000:\tlearn: 0.3650563\ttest: 0.6625818\tbest: 0.6625793 (1999)\ttotal: 6m 14s\tremaining: 2h 29m 42s\n",
            "2100:\tlearn: 0.3543023\ttest: 0.6585375\tbest: 0.6585375 (2100)\ttotal: 6m 32s\tremaining: 2h 28m 58s\n",
            "2200:\tlearn: 0.3438256\ttest: 0.6551281\tbest: 0.6551281 (2200)\ttotal: 6m 50s\tremaining: 2h 28m 27s\n",
            "2300:\tlearn: 0.3348918\ttest: 0.6513169\tbest: 0.6513169 (2300)\ttotal: 7m 7s\tremaining: 2h 27m 42s\n",
            "2400:\tlearn: 0.3254005\ttest: 0.6488950\tbest: 0.6488950 (2400)\ttotal: 7m 25s\tremaining: 2h 27m 10s\n",
            "2500:\tlearn: 0.3165370\ttest: 0.6461473\tbest: 0.6461473 (2500)\ttotal: 7m 43s\tremaining: 2h 26m 33s\n",
            "2600:\tlearn: 0.3080060\ttest: 0.6435340\tbest: 0.6435075 (2599)\ttotal: 8m\tremaining: 2h 26m\n",
            "2700:\tlearn: 0.2996859\ttest: 0.6410720\tbest: 0.6409844 (2697)\ttotal: 8m 18s\tremaining: 2h 25m 31s\n",
            "2800:\tlearn: 0.2915296\ttest: 0.6383377\tbest: 0.6383377 (2800)\ttotal: 8m 36s\tremaining: 2h 25m 1s\n",
            "2900:\tlearn: 0.2839488\ttest: 0.6359176\tbest: 0.6359176 (2900)\ttotal: 8m 54s\tremaining: 2h 24m 31s\n",
            "3000:\tlearn: 0.2764136\ttest: 0.6337194\tbest: 0.6337194 (3000)\ttotal: 9m 11s\tremaining: 2h 24m 4s\n",
            "3100:\tlearn: 0.2692054\ttest: 0.6317995\tbest: 0.6317995 (3100)\ttotal: 9m 29s\tremaining: 2h 23m 38s\n",
            "3200:\tlearn: 0.2622482\ttest: 0.6293431\tbest: 0.6293413 (3199)\ttotal: 9m 47s\tremaining: 2h 23m 10s\n",
            "3300:\tlearn: 0.2552974\ttest: 0.6270110\tbest: 0.6270110 (3300)\ttotal: 10m 5s\tremaining: 2h 22m 46s\n",
            "3400:\tlearn: 0.2484966\ttest: 0.6251969\tbest: 0.6251969 (3400)\ttotal: 10m 23s\tremaining: 2h 22m 20s\n",
            "3500:\tlearn: 0.2419066\ttest: 0.6234328\tbest: 0.6234086 (3499)\ttotal: 10m 41s\tremaining: 2h 21m 56s\n",
            "3600:\tlearn: 0.2359122\ttest: 0.6217653\tbest: 0.6217653 (3600)\ttotal: 10m 58s\tremaining: 2h 21m 30s\n",
            "3700:\tlearn: 0.2300688\ttest: 0.6201735\tbest: 0.6201735 (3700)\ttotal: 11m 16s\tremaining: 2h 21m 7s\n",
            "3800:\tlearn: 0.2248507\ttest: 0.6183336\tbest: 0.6183002 (3799)\ttotal: 11m 34s\tremaining: 2h 20m 38s\n",
            "3900:\tlearn: 0.2195954\ttest: 0.6170469\tbest: 0.6170469 (3900)\ttotal: 11m 51s\tremaining: 2h 20m 12s\n",
            "4000:\tlearn: 0.2142663\ttest: 0.6158887\tbest: 0.6158641 (3998)\ttotal: 12m 9s\tremaining: 2h 19m 50s\n",
            "4100:\tlearn: 0.2089968\ttest: 0.6148803\tbest: 0.6148273 (4089)\ttotal: 12m 27s\tremaining: 2h 19m 29s\n",
            "4200:\tlearn: 0.2042535\ttest: 0.6136522\tbest: 0.6136522 (4200)\ttotal: 12m 45s\tremaining: 2h 19m 3s\n",
            "4300:\tlearn: 0.1994611\ttest: 0.6120995\tbest: 0.6120995 (4300)\ttotal: 13m 3s\tremaining: 2h 18m 40s\n",
            "4400:\tlearn: 0.1946820\ttest: 0.6110768\tbest: 0.6110768 (4400)\ttotal: 13m 20s\tremaining: 2h 18m 18s\n",
            "4500:\tlearn: 0.1901674\ttest: 0.6097355\tbest: 0.6097355 (4500)\ttotal: 13m 38s\tremaining: 2h 17m 56s\n",
            "4600:\tlearn: 0.1861309\ttest: 0.6083662\tbest: 0.6083639 (4599)\ttotal: 13m 56s\tremaining: 2h 17m 32s\n",
            "4700:\tlearn: 0.1820607\ttest: 0.6072049\tbest: 0.6072049 (4700)\ttotal: 14m 14s\tremaining: 2h 17m 10s\n",
            "4800:\tlearn: 0.1782761\ttest: 0.6061681\tbest: 0.6061681 (4800)\ttotal: 14m 31s\tremaining: 2h 16m 46s\n",
            "4900:\tlearn: 0.1743600\ttest: 0.6049878\tbest: 0.6049878 (4900)\ttotal: 14m 49s\tremaining: 2h 16m 23s\n",
            "5000:\tlearn: 0.1702810\ttest: 0.6038022\tbest: 0.6037749 (4993)\ttotal: 15m 7s\tremaining: 2h 16m 5s\n",
            "5100:\tlearn: 0.1665693\ttest: 0.6023893\tbest: 0.6023893 (5100)\ttotal: 15m 25s\tremaining: 2h 15m 44s\n",
            "5200:\tlearn: 0.1630939\ttest: 0.6019861\tbest: 0.6019779 (5185)\ttotal: 15m 42s\tremaining: 2h 15m 20s\n",
            "5300:\tlearn: 0.1595974\ttest: 0.6014943\tbest: 0.6014943 (5300)\ttotal: 16m\tremaining: 2h 15m\n",
            "5400:\tlearn: 0.1562195\ttest: 0.6007166\tbest: 0.6006547 (5397)\ttotal: 16m 18s\tremaining: 2h 14m 39s\n",
            "5500:\tlearn: 0.1526889\ttest: 0.5995517\tbest: 0.5995109 (5499)\ttotal: 16m 36s\tremaining: 2h 14m 20s\n",
            "5600:\tlearn: 0.1495748\ttest: 0.5990875\tbest: 0.5989307 (5575)\ttotal: 16m 54s\tremaining: 2h 14m\n",
            "5700:\tlearn: 0.1462684\ttest: 0.5983343\tbest: 0.5983343 (5700)\ttotal: 17m 12s\tremaining: 2h 13m 39s\n",
            "5800:\tlearn: 0.1431218\ttest: 0.5979964\tbest: 0.5979777 (5777)\ttotal: 17m 30s\tremaining: 2h 13m 20s\n",
            "5900:\tlearn: 0.1400287\ttest: 0.5970982\tbest: 0.5970855 (5878)\ttotal: 17m 48s\tremaining: 2h 13m 1s\n",
            "6000:\tlearn: 0.1369931\ttest: 0.5964077\tbest: 0.5963994 (5999)\ttotal: 18m 6s\tremaining: 2h 12m 42s\n",
            "6100:\tlearn: 0.1340965\ttest: 0.5954639\tbest: 0.5954067 (6096)\ttotal: 18m 24s\tremaining: 2h 12m 24s\n",
            "6200:\tlearn: 0.1312788\ttest: 0.5945780\tbest: 0.5945780 (6200)\ttotal: 18m 41s\tremaining: 2h 12m 4s\n",
            "6300:\tlearn: 0.1286004\ttest: 0.5939569\tbest: 0.5939569 (6300)\ttotal: 19m\tremaining: 2h 11m 47s\n",
            "6400:\tlearn: 0.1260025\ttest: 0.5933548\tbest: 0.5933548 (6400)\ttotal: 19m 17s\tremaining: 2h 11m 26s\n",
            "6500:\tlearn: 0.1233929\ttest: 0.5925930\tbest: 0.5925920 (6499)\ttotal: 19m 35s\tremaining: 2h 11m 8s\n",
            "6600:\tlearn: 0.1209903\ttest: 0.5922586\tbest: 0.5922511 (6598)\ttotal: 19m 53s\tremaining: 2h 10m 47s\n",
            "6700:\tlearn: 0.1185770\ttest: 0.5919955\tbest: 0.5919955 (6700)\ttotal: 20m 11s\tremaining: 2h 10m 26s\n",
            "6800:\tlearn: 0.1162465\ttest: 0.5917103\tbest: 0.5916831 (6799)\ttotal: 20m 28s\tremaining: 2h 10m 5s\n",
            "6900:\tlearn: 0.1138760\ttest: 0.5911949\tbest: 0.5911774 (6899)\ttotal: 20m 46s\tremaining: 2h 9m 45s\n",
            "7000:\tlearn: 0.1114489\ttest: 0.5905426\tbest: 0.5904986 (6987)\ttotal: 21m 4s\tremaining: 2h 9m 27s\n",
            "7100:\tlearn: 0.1092556\ttest: 0.5898977\tbest: 0.5898977 (7100)\ttotal: 21m 22s\tremaining: 2h 9m 7s\n",
            "7200:\tlearn: 0.1069649\ttest: 0.5893309\tbest: 0.5893138 (7197)\ttotal: 21m 40s\tremaining: 2h 8m 48s\n",
            "7300:\tlearn: 0.1049327\ttest: 0.5885708\tbest: 0.5885708 (7300)\ttotal: 21m 57s\tremaining: 2h 8m 28s\n",
            "7400:\tlearn: 0.1028570\ttest: 0.5881180\tbest: 0.5880814 (7393)\ttotal: 22m 15s\tremaining: 2h 8m 9s\n",
            "7500:\tlearn: 0.1008979\ttest: 0.5879605\tbest: 0.5879357 (7441)\ttotal: 22m 33s\tremaining: 2h 7m 50s\n",
            "7600:\tlearn: 0.0990113\ttest: 0.5877877\tbest: 0.5877758 (7567)\ttotal: 22m 51s\tremaining: 2h 7m 30s\n",
            "7700:\tlearn: 0.0969702\ttest: 0.5879061\tbest: 0.5877396 (7611)\ttotal: 23m 9s\tremaining: 2h 7m 12s\n",
            "bestTest = 0.5877395611\n",
            "bestIteration = 7611\n",
            "Shrink model to first 7612 iterations.\n",
            "Log Loss Fold 7 : 0.587739864708613\n",
            "\n",
            "######### FOLD 9 / 10 \n",
            "0:\tlearn: 1.9637444\ttest: 1.9624323\tbest: 1.9624323 (0)\ttotal: 325ms\tremaining: 4h 30m 49s\n",
            "100:\tlearn: 0.9052920\ttest: 0.9336640\tbest: 0.9336640 (100)\ttotal: 22s\tremaining: 3h 1m 23s\n",
            "200:\tlearn: 0.8059366\ttest: 0.8609947\tbest: 0.8609947 (200)\ttotal: 41.8s\tremaining: 2h 52m 40s\n",
            "300:\tlearn: 0.7435647\ttest: 0.8209566\tbest: 0.8209566 (300)\ttotal: 1m 1s\tremaining: 2h 48m 4s\n",
            "400:\tlearn: 0.6952819\ttest: 0.7930051\tbest: 0.7930051 (400)\ttotal: 1m 20s\tremaining: 2h 45m 33s\n",
            "500:\tlearn: 0.6550928\ttest: 0.7711469\tbest: 0.7711469 (500)\ttotal: 1m 39s\tremaining: 2h 43m 15s\n",
            "600:\tlearn: 0.6224393\ttest: 0.7550420\tbest: 0.7550420 (600)\ttotal: 1m 57s\tremaining: 2h 41m 14s\n",
            "700:\tlearn: 0.5921919\ttest: 0.7407563\tbest: 0.7407563 (700)\ttotal: 2m 16s\tremaining: 2h 39m 59s\n",
            "800:\tlearn: 0.5662266\ttest: 0.7288264\tbest: 0.7288264 (800)\ttotal: 2m 34s\tremaining: 2h 38m 29s\n",
            "900:\tlearn: 0.5411750\ttest: 0.7188549\tbest: 0.7188549 (900)\ttotal: 2m 53s\tremaining: 2h 37m 34s\n",
            "1000:\tlearn: 0.5204183\ttest: 0.7099952\tbest: 0.7099952 (1000)\ttotal: 3m 11s\tremaining: 2h 36m 4s\n",
            "1100:\tlearn: 0.5002821\ttest: 0.7021982\tbest: 0.7021982 (1100)\ttotal: 3m 29s\tremaining: 2h 35m 13s\n",
            "1200:\tlearn: 0.4811575\ttest: 0.6946937\tbest: 0.6946937 (1200)\ttotal: 3m 47s\tremaining: 2h 34m 18s\n",
            "1300:\tlearn: 0.4633608\ttest: 0.6876451\tbest: 0.6876451 (1300)\ttotal: 4m 6s\tremaining: 2h 33m 31s\n",
            "1400:\tlearn: 0.4472344\ttest: 0.6818531\tbest: 0.6818531 (1400)\ttotal: 4m 24s\tremaining: 2h 32m 44s\n",
            "1500:\tlearn: 0.4318721\ttest: 0.6767315\tbest: 0.6767315 (1500)\ttotal: 4m 42s\tremaining: 2h 31m 59s\n",
            "1600:\tlearn: 0.4178557\ttest: 0.6709952\tbest: 0.6709952 (1600)\ttotal: 4m 59s\tremaining: 2h 31m 7s\n",
            "1700:\tlearn: 0.4041446\ttest: 0.6666889\tbest: 0.6666889 (1700)\ttotal: 5m 17s\tremaining: 2h 30m 27s\n",
            "1800:\tlearn: 0.3912432\ttest: 0.6622963\tbest: 0.6622963 (1800)\ttotal: 5m 36s\tremaining: 2h 29m 54s\n",
            "1900:\tlearn: 0.3787796\ttest: 0.6580524\tbest: 0.6580524 (1900)\ttotal: 5m 54s\tremaining: 2h 29m 25s\n",
            "2000:\tlearn: 0.3674351\ttest: 0.6541557\tbest: 0.6541557 (2000)\ttotal: 6m 12s\tremaining: 2h 28m 45s\n",
            "2100:\tlearn: 0.3562989\ttest: 0.6503086\tbest: 0.6503086 (2100)\ttotal: 6m 30s\tremaining: 2h 28m 11s\n",
            "2200:\tlearn: 0.3460308\ttest: 0.6469720\tbest: 0.6469720 (2200)\ttotal: 6m 47s\tremaining: 2h 27m 37s\n",
            "2300:\tlearn: 0.3360472\ttest: 0.6435387\tbest: 0.6435387 (2300)\ttotal: 7m 5s\tremaining: 2h 27m 9s\n",
            "2400:\tlearn: 0.3258848\ttest: 0.6402365\tbest: 0.6402365 (2400)\ttotal: 7m 24s\tremaining: 2h 26m 43s\n",
            "2500:\tlearn: 0.3166406\ttest: 0.6372869\tbest: 0.6372869 (2500)\ttotal: 7m 42s\tremaining: 2h 26m 16s\n",
            "2600:\tlearn: 0.3071052\ttest: 0.6342213\tbest: 0.6342213 (2600)\ttotal: 8m\tremaining: 2h 25m 51s\n",
            "2700:\tlearn: 0.2990084\ttest: 0.6317914\tbest: 0.6317889 (2698)\ttotal: 8m 17s\tremaining: 2h 25m 17s\n",
            "2800:\tlearn: 0.2911913\ttest: 0.6293611\tbest: 0.6293597 (2799)\ttotal: 8m 35s\tremaining: 2h 24m 46s\n",
            "2900:\tlearn: 0.2836909\ttest: 0.6266698\tbest: 0.6266698 (2900)\ttotal: 8m 53s\tremaining: 2h 24m 14s\n",
            "3000:\tlearn: 0.2759052\ttest: 0.6242031\tbest: 0.6242031 (3000)\ttotal: 9m 11s\tremaining: 2h 23m 50s\n",
            "3100:\tlearn: 0.2685159\ttest: 0.6216843\tbest: 0.6216843 (3100)\ttotal: 9m 28s\tremaining: 2h 23m 23s\n",
            "3200:\tlearn: 0.2612918\ttest: 0.6193370\tbest: 0.6193370 (3200)\ttotal: 9m 46s\tremaining: 2h 22m 56s\n",
            "3300:\tlearn: 0.2544917\ttest: 0.6173546\tbest: 0.6173546 (3300)\ttotal: 10m 4s\tremaining: 2h 22m 32s\n",
            "3400:\tlearn: 0.2479783\ttest: 0.6149740\tbest: 0.6149740 (3400)\ttotal: 10m 22s\tremaining: 2h 22m 6s\n",
            "3500:\tlearn: 0.2417530\ttest: 0.6131547\tbest: 0.6131547 (3500)\ttotal: 10m 39s\tremaining: 2h 21m 40s\n",
            "3600:\tlearn: 0.2363251\ttest: 0.6118341\tbest: 0.6117613 (3585)\ttotal: 10m 57s\tremaining: 2h 21m 10s\n",
            "3700:\tlearn: 0.2301353\ttest: 0.6098756\tbest: 0.6098756 (3700)\ttotal: 11m 15s\tremaining: 2h 20m 52s\n",
            "3800:\tlearn: 0.2242211\ttest: 0.6084355\tbest: 0.6084355 (3800)\ttotal: 11m 33s\tremaining: 2h 20m 29s\n",
            "3900:\tlearn: 0.2188592\ttest: 0.6068376\tbest: 0.6068368 (3899)\ttotal: 11m 51s\tremaining: 2h 20m 3s\n",
            "4000:\tlearn: 0.2133976\ttest: 0.6057115\tbest: 0.6056923 (3999)\ttotal: 12m 9s\tremaining: 2h 19m 41s\n",
            "4100:\tlearn: 0.2084271\ttest: 0.6043853\tbest: 0.6043818 (4095)\ttotal: 12m 26s\tremaining: 2h 19m 17s\n",
            "4200:\tlearn: 0.2034106\ttest: 0.6031143\tbest: 0.6030401 (4197)\ttotal: 12m 44s\tremaining: 2h 18m 57s\n",
            "4300:\tlearn: 0.1986052\ttest: 0.6016949\tbest: 0.6016693 (4299)\ttotal: 13m 2s\tremaining: 2h 18m 35s\n",
            "4400:\tlearn: 0.1940637\ttest: 0.6005424\tbest: 0.6005074 (4397)\ttotal: 13m 20s\tremaining: 2h 18m 11s\n",
            "4500:\tlearn: 0.1893922\ttest: 0.5991280\tbest: 0.5991280 (4500)\ttotal: 13m 38s\tremaining: 2h 17m 51s\n",
            "4600:\tlearn: 0.1852493\ttest: 0.5983198\tbest: 0.5983198 (4600)\ttotal: 13m 55s\tremaining: 2h 17m 28s\n",
            "4700:\tlearn: 0.1811178\ttest: 0.5978043\tbest: 0.5977811 (4694)\ttotal: 14m 13s\tremaining: 2h 17m 6s\n",
            "4800:\tlearn: 0.1770633\ttest: 0.5966800\tbest: 0.5966800 (4800)\ttotal: 14m 31s\tremaining: 2h 16m 42s\n",
            "4900:\tlearn: 0.1730073\ttest: 0.5953712\tbest: 0.5953712 (4900)\ttotal: 14m 49s\tremaining: 2h 16m 22s\n",
            "5000:\tlearn: 0.1691162\ttest: 0.5940756\tbest: 0.5940756 (5000)\ttotal: 15m 6s\tremaining: 2h 15m 59s\n",
            "5100:\tlearn: 0.1653248\ttest: 0.5930719\tbest: 0.5930719 (5100)\ttotal: 15m 24s\tremaining: 2h 15m 38s\n",
            "5200:\tlearn: 0.1614498\ttest: 0.5921325\tbest: 0.5921261 (5197)\ttotal: 15m 42s\tremaining: 2h 15m 19s\n",
            "5300:\tlearn: 0.1579461\ttest: 0.5912620\tbest: 0.5912434 (5298)\ttotal: 16m\tremaining: 2h 14m 58s\n",
            "5400:\tlearn: 0.1544353\ttest: 0.5903330\tbest: 0.5903330 (5400)\ttotal: 16m 18s\tremaining: 2h 14m 39s\n",
            "5500:\tlearn: 0.1511676\ttest: 0.5895826\tbest: 0.5895719 (5499)\ttotal: 16m 36s\tremaining: 2h 14m 18s\n",
            "5600:\tlearn: 0.1480021\ttest: 0.5892155\tbest: 0.5891935 (5593)\ttotal: 16m 53s\tremaining: 2h 13m 54s\n",
            "5700:\tlearn: 0.1446329\ttest: 0.5884649\tbest: 0.5884530 (5699)\ttotal: 17m 11s\tremaining: 2h 13m 36s\n",
            "5800:\tlearn: 0.1416554\ttest: 0.5879914\tbest: 0.5878481 (5784)\ttotal: 17m 29s\tremaining: 2h 13m 14s\n",
            "5900:\tlearn: 0.1386937\ttest: 0.5871522\tbest: 0.5871469 (5897)\ttotal: 17m 46s\tremaining: 2h 12m 53s\n",
            "6000:\tlearn: 0.1357147\ttest: 0.5865099\tbest: 0.5864920 (5996)\ttotal: 18m 4s\tremaining: 2h 12m 35s\n",
            "6100:\tlearn: 0.1329395\ttest: 0.5860700\tbest: 0.5859876 (6083)\ttotal: 18m 22s\tremaining: 2h 12m 15s\n",
            "6200:\tlearn: 0.1301415\ttest: 0.5854362\tbest: 0.5854236 (6194)\ttotal: 18m 40s\tremaining: 2h 11m 55s\n",
            "6300:\tlearn: 0.1274450\ttest: 0.5846818\tbest: 0.5846592 (6296)\ttotal: 18m 58s\tremaining: 2h 11m 36s\n",
            "6400:\tlearn: 0.1246581\ttest: 0.5838860\tbest: 0.5838442 (6392)\ttotal: 19m 16s\tremaining: 2h 11m 17s\n",
            "6500:\tlearn: 0.1220879\ttest: 0.5835754\tbest: 0.5835754 (6500)\ttotal: 19m 34s\tremaining: 2h 10m 58s\n",
            "6600:\tlearn: 0.1195314\ttest: 0.5829464\tbest: 0.5829464 (6600)\ttotal: 19m 52s\tremaining: 2h 10m 40s\n",
            "6700:\tlearn: 0.1170641\ttest: 0.5823418\tbest: 0.5823334 (6695)\ttotal: 20m 10s\tremaining: 2h 10m 20s\n",
            "6800:\tlearn: 0.1147320\ttest: 0.5819687\tbest: 0.5819360 (6796)\ttotal: 20m 28s\tremaining: 2h 10m 1s\n",
            "6900:\tlearn: 0.1124309\ttest: 0.5815623\tbest: 0.5815623 (6900)\ttotal: 20m 45s\tremaining: 2h 9m 40s\n",
            "7000:\tlearn: 0.1102883\ttest: 0.5813947\tbest: 0.5812641 (6975)\ttotal: 21m 3s\tremaining: 2h 9m 19s\n",
            "7100:\tlearn: 0.1080957\ttest: 0.5809471\tbest: 0.5807550 (7072)\ttotal: 21m 21s\tremaining: 2h 8m 59s\n",
            "7200:\tlearn: 0.1058427\ttest: 0.5806553\tbest: 0.5806553 (7200)\ttotal: 21m 39s\tremaining: 2h 8m 42s\n",
            "7300:\tlearn: 0.1037654\ttest: 0.5803511\tbest: 0.5803091 (7294)\ttotal: 21m 57s\tremaining: 2h 8m 23s\n",
            "7400:\tlearn: 0.1018539\ttest: 0.5796167\tbest: 0.5796167 (7400)\ttotal: 22m 14s\tremaining: 2h 8m 2s\n",
            "7500:\tlearn: 0.0997316\ttest: 0.5792092\tbest: 0.5792092 (7500)\ttotal: 22m 32s\tremaining: 2h 7m 45s\n",
            "7600:\tlearn: 0.0977355\ttest: 0.5791279\tbest: 0.5789958 (7567)\ttotal: 22m 50s\tremaining: 2h 7m 26s\n",
            "7700:\tlearn: 0.0958300\ttest: 0.5787164\tbest: 0.5787164 (7700)\ttotal: 23m 8s\tremaining: 2h 7m 7s\n",
            "7800:\tlearn: 0.0940131\ttest: 0.5782656\tbest: 0.5782656 (7800)\ttotal: 23m 26s\tremaining: 2h 6m 49s\n",
            "7900:\tlearn: 0.0921345\ttest: 0.5780005\tbest: 0.5779526 (7884)\ttotal: 23m 44s\tremaining: 2h 6m 31s\n",
            "8000:\tlearn: 0.0902930\ttest: 0.5779853\tbest: 0.5779355 (7919)\ttotal: 24m 2s\tremaining: 2h 6m 13s\n",
            "8100:\tlearn: 0.0884713\ttest: 0.5779371\tbest: 0.5778703 (8080)\ttotal: 24m 20s\tremaining: 2h 5m 54s\n",
            "bestTest = 0.5778703494\n",
            "bestIteration = 8080\n",
            "Shrink model to first 8081 iterations.\n",
            "Log Loss Fold 8 : 0.5778702564455268\n",
            "\n",
            "######### FOLD 10 / 10 \n",
            "0:\tlearn: 1.9644916\ttest: 1.9641570\tbest: 1.9641570 (0)\ttotal: 327ms\tremaining: 4h 32m 27s\n",
            "100:\tlearn: 0.9050976\ttest: 0.9422852\tbest: 0.9422852 (100)\ttotal: 22.1s\tremaining: 3h 1m 58s\n",
            "200:\tlearn: 0.8034830\ttest: 0.8685032\tbest: 0.8685032 (200)\ttotal: 42s\tremaining: 2h 53m 16s\n",
            "300:\tlearn: 0.7411465\ttest: 0.8315254\tbest: 0.8315254 (300)\ttotal: 1m 1s\tremaining: 2h 48m 18s\n",
            "400:\tlearn: 0.6936419\ttest: 0.8054941\tbest: 0.8054941 (400)\ttotal: 1m 20s\tremaining: 2h 45m 18s\n",
            "500:\tlearn: 0.6541318\ttest: 0.7852015\tbest: 0.7852015 (500)\ttotal: 1m 39s\tremaining: 2h 43m 21s\n",
            "600:\tlearn: 0.6200393\ttest: 0.7688960\tbest: 0.7688960 (600)\ttotal: 1m 57s\tremaining: 2h 41m 38s\n",
            "700:\tlearn: 0.5902559\ttest: 0.7546904\tbest: 0.7546904 (700)\ttotal: 2m 16s\tremaining: 2h 40m 21s\n",
            "800:\tlearn: 0.5633153\ttest: 0.7437285\tbest: 0.7437285 (800)\ttotal: 2m 35s\tremaining: 2h 39m 4s\n",
            "900:\tlearn: 0.5391008\ttest: 0.7331686\tbest: 0.7331686 (900)\ttotal: 2m 53s\tremaining: 2h 38m 1s\n",
            "1000:\tlearn: 0.5168728\ttest: 0.7248474\tbest: 0.7248474 (1000)\ttotal: 3m 12s\tremaining: 2h 37m 1s\n",
            "1100:\tlearn: 0.4969952\ttest: 0.7171542\tbest: 0.7171542 (1100)\ttotal: 3m 30s\tremaining: 2h 35m 51s\n",
            "1200:\tlearn: 0.4786732\ttest: 0.7097287\tbest: 0.7097287 (1200)\ttotal: 3m 48s\tremaining: 2h 34m 52s\n",
            "1300:\tlearn: 0.4621476\ttest: 0.7034513\tbest: 0.7034513 (1300)\ttotal: 4m 6s\tremaining: 2h 33m 47s\n",
            "1400:\tlearn: 0.4449282\ttest: 0.6970807\tbest: 0.6970807 (1400)\ttotal: 4m 24s\tremaining: 2h 33m 4s\n",
            "1500:\tlearn: 0.4293741\ttest: 0.6913550\tbest: 0.6913550 (1500)\ttotal: 4m 42s\tremaining: 2h 32m 14s\n",
            "1600:\tlearn: 0.4152640\ttest: 0.6862221\tbest: 0.6862221 (1600)\ttotal: 5m\tremaining: 2h 31m 24s\n",
            "1700:\tlearn: 0.4019899\ttest: 0.6818397\tbest: 0.6818397 (1700)\ttotal: 5m 18s\tremaining: 2h 30m 41s\n",
            "1800:\tlearn: 0.3885841\ttest: 0.6769941\tbest: 0.6769941 (1800)\ttotal: 5m 36s\tremaining: 2h 30m 8s\n",
            "1900:\tlearn: 0.3764051\ttest: 0.6728617\tbest: 0.6728617 (1900)\ttotal: 5m 54s\tremaining: 2h 29m 29s\n",
            "2000:\tlearn: 0.3655716\ttest: 0.6691115\tbest: 0.6691115 (2000)\ttotal: 6m 12s\tremaining: 2h 28m 47s\n",
            "2100:\tlearn: 0.3547638\ttest: 0.6650753\tbest: 0.6650753 (2100)\ttotal: 6m 29s\tremaining: 2h 28m 10s\n",
            "2200:\tlearn: 0.3446247\ttest: 0.6621937\tbest: 0.6621454 (2199)\ttotal: 6m 47s\tremaining: 2h 27m 34s\n",
            "2300:\tlearn: 0.3344684\ttest: 0.6592827\tbest: 0.6592740 (2298)\ttotal: 7m 5s\tremaining: 2h 27m 4s\n",
            "2400:\tlearn: 0.3247971\ttest: 0.6565855\tbest: 0.6565855 (2400)\ttotal: 7m 23s\tremaining: 2h 26m 34s\n",
            "2500:\tlearn: 0.3159544\ttest: 0.6540546\tbest: 0.6540546 (2500)\ttotal: 7m 41s\tremaining: 2h 26m 1s\n",
            "2600:\tlearn: 0.3074033\ttest: 0.6516822\tbest: 0.6516822 (2600)\ttotal: 7m 58s\tremaining: 2h 25m 26s\n",
            "2700:\tlearn: 0.2989950\ttest: 0.6488619\tbest: 0.6488505 (2698)\ttotal: 8m 16s\tremaining: 2h 24m 56s\n",
            "2800:\tlearn: 0.2908507\ttest: 0.6463700\tbest: 0.6463700 (2800)\ttotal: 8m 34s\tremaining: 2h 24m 27s\n",
            "2900:\tlearn: 0.2828763\ttest: 0.6442496\tbest: 0.6442496 (2900)\ttotal: 8m 52s\tremaining: 2h 23m 58s\n",
            "3000:\tlearn: 0.2759580\ttest: 0.6418921\tbest: 0.6418199 (2997)\ttotal: 9m 9s\tremaining: 2h 23m 27s\n",
            "3100:\tlearn: 0.2684094\ttest: 0.6391263\tbest: 0.6391263 (3100)\ttotal: 9m 27s\tremaining: 2h 23m 1s\n",
            "3200:\tlearn: 0.2615276\ttest: 0.6369744\tbest: 0.6369744 (3200)\ttotal: 9m 45s\tremaining: 2h 22m 33s\n",
            "3300:\tlearn: 0.2550374\ttest: 0.6355702\tbest: 0.6355362 (3292)\ttotal: 10m 2s\tremaining: 2h 22m 3s\n",
            "3400:\tlearn: 0.2487162\ttest: 0.6342449\tbest: 0.6342449 (3400)\ttotal: 10m 19s\tremaining: 2h 21m 34s\n",
            "3500:\tlearn: 0.2427463\ttest: 0.6323335\tbest: 0.6323335 (3500)\ttotal: 10m 37s\tremaining: 2h 21m 4s\n",
            "3600:\tlearn: 0.2367249\ttest: 0.6307684\tbest: 0.6307547 (3598)\ttotal: 10m 55s\tremaining: 2h 20m 41s\n",
            "3700:\tlearn: 0.2313960\ttest: 0.6285517\tbest: 0.6285517 (3700)\ttotal: 11m 12s\tremaining: 2h 20m 16s\n",
            "3800:\tlearn: 0.2259188\ttest: 0.6267391\tbest: 0.6267378 (3799)\ttotal: 11m 30s\tremaining: 2h 19m 51s\n",
            "3900:\tlearn: 0.2205255\ttest: 0.6252758\tbest: 0.6252758 (3900)\ttotal: 11m 48s\tremaining: 2h 19m 28s\n",
            "4000:\tlearn: 0.2154196\ttest: 0.6241756\tbest: 0.6241038 (3986)\ttotal: 12m 5s\tremaining: 2h 19m 3s\n",
            "4100:\tlearn: 0.2104001\ttest: 0.6228865\tbest: 0.6228451 (4093)\ttotal: 12m 23s\tremaining: 2h 18m 40s\n",
            "4200:\tlearn: 0.2055194\ttest: 0.6215885\tbest: 0.6215702 (4199)\ttotal: 12m 40s\tremaining: 2h 18m 15s\n",
            "4300:\tlearn: 0.2006976\ttest: 0.6204284\tbest: 0.6204263 (4299)\ttotal: 12m 58s\tremaining: 2h 17m 55s\n",
            "4400:\tlearn: 0.1959068\ttest: 0.6192820\tbest: 0.6192820 (4400)\ttotal: 13m 16s\tremaining: 2h 17m 33s\n",
            "4500:\tlearn: 0.1913087\ttest: 0.6179383\tbest: 0.6179383 (4500)\ttotal: 13m 34s\tremaining: 2h 17m 13s\n",
            "4600:\tlearn: 0.1867726\ttest: 0.6162390\tbest: 0.6162390 (4600)\ttotal: 13m 52s\tremaining: 2h 16m 53s\n",
            "4700:\tlearn: 0.1821384\ttest: 0.6147830\tbest: 0.6147830 (4700)\ttotal: 14m 10s\tremaining: 2h 16m 34s\n",
            "4800:\tlearn: 0.1778736\ttest: 0.6132219\tbest: 0.6132219 (4800)\ttotal: 14m 28s\tremaining: 2h 16m 14s\n",
            "4900:\tlearn: 0.1738573\ttest: 0.6123101\tbest: 0.6123015 (4897)\ttotal: 14m 46s\tremaining: 2h 15m 53s\n",
            "5000:\tlearn: 0.1700193\ttest: 0.6114130\tbest: 0.6114130 (5000)\ttotal: 15m 3s\tremaining: 2h 15m 32s\n",
            "5100:\tlearn: 0.1659524\ttest: 0.6102499\tbest: 0.6102499 (5100)\ttotal: 15m 21s\tremaining: 2h 15m 13s\n",
            "5200:\tlearn: 0.1623547\ttest: 0.6096413\tbest: 0.6096413 (5200)\ttotal: 15m 39s\tremaining: 2h 14m 51s\n",
            "5300:\tlearn: 0.1588738\ttest: 0.6085403\tbest: 0.6085403 (5300)\ttotal: 15m 57s\tremaining: 2h 14m 29s\n",
            "5400:\tlearn: 0.1556496\ttest: 0.6075526\tbest: 0.6074915 (5391)\ttotal: 16m 14s\tremaining: 2h 14m 8s\n",
            "5500:\tlearn: 0.1523838\ttest: 0.6071368\tbest: 0.6071308 (5498)\ttotal: 16m 32s\tremaining: 2h 13m 48s\n",
            "5600:\tlearn: 0.1492786\ttest: 0.6064966\tbest: 0.6064966 (5600)\ttotal: 16m 50s\tremaining: 2h 13m 26s\n",
            "5700:\tlearn: 0.1463125\ttest: 0.6058902\tbest: 0.6058307 (5698)\ttotal: 17m 7s\tremaining: 2h 13m 5s\n",
            "5800:\tlearn: 0.1429405\ttest: 0.6055667\tbest: 0.6055423 (5794)\ttotal: 17m 25s\tremaining: 2h 12m 47s\n",
            "5900:\tlearn: 0.1397502\ttest: 0.6046490\tbest: 0.6046357 (5899)\ttotal: 17m 43s\tremaining: 2h 12m 29s\n",
            "6000:\tlearn: 0.1366656\ttest: 0.6040064\tbest: 0.6039920 (5991)\ttotal: 18m 1s\tremaining: 2h 12m 10s\n",
            "6100:\tlearn: 0.1337192\ttest: 0.6032604\tbest: 0.6032380 (6097)\ttotal: 18m 19s\tremaining: 2h 11m 51s\n",
            "6200:\tlearn: 0.1309358\ttest: 0.6032865\tbest: 0.6031593 (6191)\ttotal: 18m 37s\tremaining: 2h 11m 31s\n",
            "6300:\tlearn: 0.1281462\ttest: 0.6026321\tbest: 0.6026207 (6299)\ttotal: 18m 55s\tremaining: 2h 11m 13s\n",
            "6400:\tlearn: 0.1256275\ttest: 0.6023652\tbest: 0.6022171 (6367)\ttotal: 19m 12s\tremaining: 2h 10m 51s\n",
            "6500:\tlearn: 0.1229864\ttest: 0.6017458\tbest: 0.6017298 (6499)\ttotal: 19m 30s\tremaining: 2h 10m 33s\n",
            "6600:\tlearn: 0.1204050\ttest: 0.6014086\tbest: 0.6013766 (6596)\ttotal: 19m 48s\tremaining: 2h 10m 14s\n",
            "6700:\tlearn: 0.1180740\ttest: 0.6012072\tbest: 0.6011970 (6685)\ttotal: 20m 6s\tremaining: 2h 9m 53s\n",
            "6800:\tlearn: 0.1157762\ttest: 0.6007688\tbest: 0.6007483 (6788)\ttotal: 20m 23s\tremaining: 2h 9m 33s\n",
            "6900:\tlearn: 0.1133680\ttest: 0.6005795\tbest: 0.6005752 (6893)\ttotal: 20m 41s\tremaining: 2h 9m 15s\n",
            "7000:\tlearn: 0.1111922\ttest: 0.5999057\tbest: 0.5998992 (6995)\ttotal: 20m 59s\tremaining: 2h 8m 55s\n",
            "7100:\tlearn: 0.1089890\ttest: 0.5995986\tbest: 0.5995722 (7099)\ttotal: 21m 17s\tremaining: 2h 8m 35s\n",
            "7200:\tlearn: 0.1067804\ttest: 0.5991594\tbest: 0.5990467 (7194)\ttotal: 21m 35s\tremaining: 2h 8m 17s\n",
            "7300:\tlearn: 0.1047996\ttest: 0.5989884\tbest: 0.5989311 (7288)\ttotal: 21m 52s\tremaining: 2h 7m 58s\n",
            "7400:\tlearn: 0.1026467\ttest: 0.5986064\tbest: 0.5985796 (7384)\ttotal: 22m 10s\tremaining: 2h 7m 39s\n",
            "7500:\tlearn: 0.1005993\ttest: 0.5981097\tbest: 0.5981097 (7500)\ttotal: 22m 28s\tremaining: 2h 7m 21s\n",
            "7600:\tlearn: 0.0987071\ttest: 0.5979903\tbest: 0.5979622 (7588)\ttotal: 22m 46s\tremaining: 2h 7m 1s\n",
            "7700:\tlearn: 0.0967000\ttest: 0.5976033\tbest: 0.5975375 (7683)\ttotal: 23m 4s\tremaining: 2h 6m 44s\n",
            "7800:\tlearn: 0.0948280\ttest: 0.5972609\tbest: 0.5972609 (7800)\ttotal: 23m 22s\tremaining: 2h 6m 26s\n",
            "7900:\tlearn: 0.0929312\ttest: 0.5971608\tbest: 0.5971190 (7882)\ttotal: 23m 40s\tremaining: 2h 6m 8s\n",
            "8000:\tlearn: 0.0910652\ttest: 0.5970351\tbest: 0.5969645 (7950)\ttotal: 23m 58s\tremaining: 2h 5m 50s\n",
            "8100:\tlearn: 0.0893247\ttest: 0.5969600\tbest: 0.5968659 (8017)\ttotal: 24m 16s\tremaining: 2h 5m 30s\n",
            "bestTest = 0.5968658969\n",
            "bestIteration = 8017\n",
            "Shrink model to first 8018 iterations.\n",
            "Log Loss Fold 9 : 0.5968658146513306\n"
          ]
        }
      ]
    },
    {
      "cell_type": "code",
      "metadata": {
        "id": "bV7LaYiyDM-n",
        "colab": {
          "base_uri": "https://localhost:8080/"
        },
        "outputId": "8896a5e5-b31e-43f7-f852-48f24006cb29"
      },
      "source": [
        "print('CATBOOST LOG LOSS :',log_loss(y,oof_cat)) "
      ],
      "execution_count": null,
      "outputs": [
        {
          "output_type": "stream",
          "name": "stdout",
          "text": [
            "CATBOOST LOG LOSS : 0.5877085212514289\n"
          ]
        }
      ]
    },
    {
      "cell_type": "code",
      "metadata": {
        "id": "yOeRPa0xFbB4",
        "colab": {
          "base_uri": "https://localhost:8080/",
          "height": 206
        },
        "outputId": "6e3e0ff2-6653-4da5-dfab-0eef31a12a2f"
      },
      "source": [
        "# In this part we format the DataFrame to have column names and order similar to the sample submission file. \n",
        "pred_df = pd.DataFrame(predictions_cat)\n",
        "pred_df = pred_df.rename(columns={\n",
        "    0:'Crop_ID_1',\n",
        "    1:'Crop_ID_2', \n",
        "    2:'Crop_ID_3',\n",
        "    3:'Crop_ID_4',\n",
        "    4:'Crop_ID_5',\n",
        "    5:'Crop_ID_6',\n",
        "    6:'Crop_ID_7',\n",
        "    7:'Crop_ID_8',\n",
        "    8:'Crop_ID_9'\n",
        "})\n",
        "pred_df['field_id'] = Test['field_id'].astype('int').values\n",
        "pred_df = pred_df[['field_id', 'Crop_ID_1', 'Crop_ID_2', 'Crop_ID_3', 'Crop_ID_4', 'Crop_ID_5', 'Crop_ID_6', 'Crop_ID_7', 'Crop_ID_8', 'Crop_ID_9']]\n",
        "pred_df.head()"
      ],
      "execution_count": null,
      "outputs": [
        {
          "output_type": "execute_result",
          "data": {
            "text/html": [
              "<div>\n",
              "<style scoped>\n",
              "    .dataframe tbody tr th:only-of-type {\n",
              "        vertical-align: middle;\n",
              "    }\n",
              "\n",
              "    .dataframe tbody tr th {\n",
              "        vertical-align: top;\n",
              "    }\n",
              "\n",
              "    .dataframe thead th {\n",
              "        text-align: right;\n",
              "    }\n",
              "</style>\n",
              "<table border=\"1\" class=\"dataframe\">\n",
              "  <thead>\n",
              "    <tr style=\"text-align: right;\">\n",
              "      <th></th>\n",
              "      <th>field_id</th>\n",
              "      <th>Crop_ID_1</th>\n",
              "      <th>Crop_ID_2</th>\n",
              "      <th>Crop_ID_3</th>\n",
              "      <th>Crop_ID_4</th>\n",
              "      <th>Crop_ID_5</th>\n",
              "      <th>Crop_ID_6</th>\n",
              "      <th>Crop_ID_7</th>\n",
              "      <th>Crop_ID_8</th>\n",
              "      <th>Crop_ID_9</th>\n",
              "    </tr>\n",
              "  </thead>\n",
              "  <tbody>\n",
              "    <tr>\n",
              "      <th>0</th>\n",
              "      <td>30</td>\n",
              "      <td>0.099415</td>\n",
              "      <td>0.191492</td>\n",
              "      <td>0.008146</td>\n",
              "      <td>0.000002</td>\n",
              "      <td>0.265454</td>\n",
              "      <td>2.954184e-01</td>\n",
              "      <td>1.377500e-01</td>\n",
              "      <td>1.703509e-03</td>\n",
              "      <td>6.185369e-04</td>\n",
              "    </tr>\n",
              "    <tr>\n",
              "      <th>1</th>\n",
              "      <td>39</td>\n",
              "      <td>0.859933</td>\n",
              "      <td>0.077197</td>\n",
              "      <td>0.030461</td>\n",
              "      <td>0.018503</td>\n",
              "      <td>0.012923</td>\n",
              "      <td>9.373837e-04</td>\n",
              "      <td>1.386322e-05</td>\n",
              "      <td>3.270161e-05</td>\n",
              "      <td>1.548373e-08</td>\n",
              "    </tr>\n",
              "    <tr>\n",
              "      <th>2</th>\n",
              "      <td>49</td>\n",
              "      <td>0.054238</td>\n",
              "      <td>0.406445</td>\n",
              "      <td>0.002309</td>\n",
              "      <td>0.000810</td>\n",
              "      <td>0.002537</td>\n",
              "      <td>4.616461e-01</td>\n",
              "      <td>6.756595e-02</td>\n",
              "      <td>3.637855e-03</td>\n",
              "      <td>8.122070e-04</td>\n",
              "    </tr>\n",
              "    <tr>\n",
              "      <th>3</th>\n",
              "      <td>54</td>\n",
              "      <td>0.000006</td>\n",
              "      <td>0.000005</td>\n",
              "      <td>0.000056</td>\n",
              "      <td>0.999865</td>\n",
              "      <td>0.000066</td>\n",
              "      <td>7.809341e-07</td>\n",
              "      <td>2.470965e-08</td>\n",
              "      <td>4.544660e-09</td>\n",
              "      <td>7.148709e-07</td>\n",
              "    </tr>\n",
              "    <tr>\n",
              "      <th>4</th>\n",
              "      <td>56</td>\n",
              "      <td>0.659646</td>\n",
              "      <td>0.061991</td>\n",
              "      <td>0.001754</td>\n",
              "      <td>0.000951</td>\n",
              "      <td>0.002519</td>\n",
              "      <td>1.109664e-01</td>\n",
              "      <td>1.573993e-01</td>\n",
              "      <td>4.767294e-03</td>\n",
              "      <td>6.040271e-06</td>\n",
              "    </tr>\n",
              "  </tbody>\n",
              "</table>\n",
              "</div>"
            ],
            "text/plain": [
              "   field_id  Crop_ID_1  Crop_ID_2  ...     Crop_ID_7     Crop_ID_8     Crop_ID_9\n",
              "0        30   0.099415   0.191492  ...  1.377500e-01  1.703509e-03  6.185369e-04\n",
              "1        39   0.859933   0.077197  ...  1.386322e-05  3.270161e-05  1.548373e-08\n",
              "2        49   0.054238   0.406445  ...  6.756595e-02  3.637855e-03  8.122070e-04\n",
              "3        54   0.000006   0.000005  ...  2.470965e-08  4.544660e-09  7.148709e-07\n",
              "4        56   0.659646   0.061991  ...  1.573993e-01  4.767294e-03  6.040271e-06\n",
              "\n",
              "[5 rows x 10 columns]"
            ]
          },
          "metadata": {},
          "execution_count": 56
        }
      ]
    },
    {
      "cell_type": "code",
      "metadata": {
        "id": "5dCoOoIWeuME"
      },
      "source": [
        "# Write the predicted probabilites to a csv for submission\n",
        "pred_df.to_csv('S2_Catboost.csv', index=False)"
      ],
      "execution_count": null,
      "outputs": []
    },
    {
      "cell_type": "code",
      "metadata": {
        "id": "QrAnoPRTdfip"
      },
      "source": [
        "np.save('S2_oof_cat.npy',oof_cat)"
      ],
      "execution_count": null,
      "outputs": []
    }
  ]
}